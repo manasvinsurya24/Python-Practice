{
 "cells": [
  {
   "cell_type": "code",
   "execution_count": 2,
   "id": "e50416bc",
   "metadata": {},
   "outputs": [],
   "source": [
    "age = 20\n",
    "name = 'Hick'"
   ]
  },
  {
   "cell_type": "code",
   "execution_count": 4,
   "id": "de7d21b9",
   "metadata": {},
   "outputs": [],
   "source": [
    "x = (f\"{name} is {age} years old\")"
   ]
  },
  {
   "cell_type": "code",
   "execution_count": 5,
   "id": "4ea49df5",
   "metadata": {},
   "outputs": [
    {
     "data": {
      "text/plain": [
       "'Hick is 20 years old'"
      ]
     },
     "execution_count": 5,
     "metadata": {},
     "output_type": "execute_result"
    }
   ],
   "source": [
    "x"
   ]
  },
  {
   "cell_type": "code",
   "execution_count": 10,
   "id": "072ee2f2",
   "metadata": {},
   "outputs": [
    {
     "data": {
      "text/plain": [
       "'Hc s2 er l'"
      ]
     },
     "execution_count": 10,
     "metadata": {},
     "output_type": "execute_result"
    }
   ],
   "source": [
    "x[:len(x):2]"
   ]
  },
  {
   "cell_type": "code",
   "execution_count": 21,
   "id": "484d5ef3",
   "metadata": {},
   "outputs": [],
   "source": [
    "l = [[\"a\",1],[\"b\",2]]"
   ]
  },
  {
   "cell_type": "code",
   "execution_count": 22,
   "id": "723d1d3d",
   "metadata": {},
   "outputs": [],
   "source": [
    "l.append([\"c\",3])"
   ]
  },
  {
   "cell_type": "code",
   "execution_count": 23,
   "id": "00d78826",
   "metadata": {},
   "outputs": [
    {
     "data": {
      "text/plain": [
       "[['a', 1], ['b', 2], ['c', 3]]"
      ]
     },
     "execution_count": 23,
     "metadata": {},
     "output_type": "execute_result"
    }
   ],
   "source": [
    "l"
   ]
  },
  {
   "cell_type": "code",
   "execution_count": 28,
   "id": "53e75067",
   "metadata": {},
   "outputs": [
    {
     "data": {
      "text/plain": [
       "3"
      ]
     },
     "execution_count": 28,
     "metadata": {},
     "output_type": "execute_result"
    }
   ],
   "source": [
    "l[2][1]"
   ]
  },
  {
   "cell_type": "code",
   "execution_count": null,
   "id": "d62676bf",
   "metadata": {},
   "outputs": [],
   "source": []
  }
 ],
 "metadata": {
  "kernelspec": {
   "display_name": "Python 3",
   "language": "python",
   "name": "python3"
  },
  "language_info": {
   "codemirror_mode": {
    "name": "ipython",
    "version": 3
   },
   "file_extension": ".py",
   "mimetype": "text/x-python",
   "name": "python",
   "nbconvert_exporter": "python",
   "pygments_lexer": "ipython3",
   "version": "3.8.8"
  }
 },
 "nbformat": 4,
 "nbformat_minor": 5
}
