{
 "cells": [
  {
   "cell_type": "code",
   "execution_count": 1,
   "id": "cef6fa73",
   "metadata": {},
   "outputs": [],
   "source": [
    "import numpy as np"
   ]
  },
  {
   "cell_type": "code",
   "execution_count": 2,
   "id": "0149a628",
   "metadata": {},
   "outputs": [
    {
     "data": {
      "text/plain": [
       "array([[88, 72, 98, 72, 61],\n",
       "       [93, 46, 63,  3, 53],\n",
       "       [30, 63,  8, 21, 21],\n",
       "       [67, 13, 63, 55, 29],\n",
       "       [26,  8, 78, 83, 61]])"
      ]
     },
     "execution_count": 2,
     "metadata": {},
     "output_type": "execute_result"
    }
   ],
   "source": [
    "arr = np.random.randint(0,100,(5,5))\n",
    "arr"
   ]
  },
  {
   "cell_type": "code",
   "execution_count": 10,
   "id": "c14c9595",
   "metadata": {},
   "outputs": [
    {
     "data": {
      "text/plain": [
       "array([[72, 61],\n",
       "       [ 3, 53]])"
      ]
     },
     "execution_count": 10,
     "metadata": {},
     "output_type": "execute_result"
    }
   ],
   "source": [
    "arr[:2,3:]"
   ]
  },
  {
   "cell_type": "code",
   "execution_count": 15,
   "id": "53904c3c",
   "metadata": {},
   "outputs": [],
   "source": [
    "even_arr = arr%2 == 0"
   ]
  },
  {
   "cell_type": "code",
   "execution_count": 16,
   "id": "0c66913e",
   "metadata": {},
   "outputs": [
    {
     "data": {
      "text/plain": [
       "array([88, 72, 98, 72, 46, 30,  8, 26,  8, 78])"
      ]
     },
     "execution_count": 16,
     "metadata": {},
     "output_type": "execute_result"
    }
   ],
   "source": [
    "arr[even_arr]"
   ]
  },
  {
   "cell_type": "code",
   "execution_count": 17,
   "id": "83099f55",
   "metadata": {},
   "outputs": [
    {
     "data": {
      "text/plain": [
       "array([72, 72, 93, 63,  3, 30, 63, 21, 21, 63, 78])"
      ]
     },
     "execution_count": 17,
     "metadata": {},
     "output_type": "execute_result"
    }
   ],
   "source": [
    "arr[arr%3 == 0]"
   ]
  },
  {
   "cell_type": "code",
   "execution_count": 18,
   "id": "5f28b5bd",
   "metadata": {},
   "outputs": [
    {
     "data": {
      "text/plain": [
       "array([[7744, 5184, 9604, 5184, 3721],\n",
       "       [8649, 2116, 3969,    9, 2809],\n",
       "       [ 900, 3969,   64,  441,  441],\n",
       "       [4489,  169, 3969, 3025,  841],\n",
       "       [ 676,   64, 6084, 6889, 3721]])"
      ]
     },
     "execution_count": 18,
     "metadata": {},
     "output_type": "execute_result"
    }
   ],
   "source": [
    "arr*arr"
   ]
  },
  {
   "cell_type": "code",
   "execution_count": 19,
   "id": "cd49647c",
   "metadata": {},
   "outputs": [
    {
     "data": {
      "text/plain": [
       "array([[0, 0, 0, 0, 0],\n",
       "       [0, 0, 0, 0, 0],\n",
       "       [0, 0, 0, 0, 0],\n",
       "       [0, 0, 0, 0, 0],\n",
       "       [0, 0, 0, 0, 0]])"
      ]
     },
     "execution_count": 19,
     "metadata": {},
     "output_type": "execute_result"
    }
   ],
   "source": [
    "arr - arr"
   ]
  },
  {
   "cell_type": "code",
   "execution_count": 21,
   "id": "f074773a",
   "metadata": {},
   "outputs": [
    {
     "data": {
      "text/plain": [
       "array([[ 38,  22,  48,  22,  11],\n",
       "       [ 43,  -4,  13, -47,   3],\n",
       "       [-20,  13, -42, -29, -29],\n",
       "       [ 17, -37,  13,   5, -21],\n",
       "       [-24, -42,  28,  33,  11]])"
      ]
     },
     "execution_count": 21,
     "metadata": {},
     "output_type": "execute_result"
    }
   ],
   "source": [
    "arr - 50"
   ]
  },
  {
   "cell_type": "code",
   "execution_count": 22,
   "id": "09622a90",
   "metadata": {},
   "outputs": [
    {
     "data": {
      "text/plain": [
       "array([[ 0.0353983 ,  0.25382336, -0.57338187,  0.25382336, -0.96611777],\n",
       "       [-0.94828214,  0.90178835,  0.1673557 ,  0.14112001,  0.39592515],\n",
       "       [-0.98803162,  0.1673557 ,  0.98935825,  0.83665564,  0.83665564],\n",
       "       [-0.85551998,  0.42016704,  0.1673557 , -0.99975517, -0.66363388],\n",
       "       [ 0.76255845,  0.98935825,  0.51397846,  0.96836446, -0.96611777]])"
      ]
     },
     "execution_count": 22,
     "metadata": {},
     "output_type": "execute_result"
    }
   ],
   "source": [
    "np.sin(arr)"
   ]
  },
  {
   "cell_type": "code",
   "execution_count": 23,
   "id": "2a0c3ffc",
   "metadata": {},
   "outputs": [
    {
     "data": {
      "text/plain": [
       "array([[4.47733681, 4.27666612, 4.58496748, 4.27666612, 4.11087386],\n",
       "       [4.53259949, 3.8286414 , 4.14313473, 1.09861229, 3.97029191],\n",
       "       [3.40119738, 4.14313473, 2.07944154, 3.04452244, 3.04452244],\n",
       "       [4.20469262, 2.56494936, 4.14313473, 4.00733319, 3.36729583],\n",
       "       [3.25809654, 2.07944154, 4.35670883, 4.41884061, 4.11087386]])"
      ]
     },
     "execution_count": 23,
     "metadata": {},
     "output_type": "execute_result"
    }
   ],
   "source": [
    "np.log(arr)"
   ]
  },
  {
   "cell_type": "code",
   "execution_count": null,
   "id": "37a5ccd0",
   "metadata": {},
   "outputs": [],
   "source": []
  },
  {
   "cell_type": "code",
   "execution_count": null,
   "id": "d554b5ee",
   "metadata": {},
   "outputs": [],
   "source": []
  }
 ],
 "metadata": {
  "kernelspec": {
   "display_name": "Python 3",
   "language": "python",
   "name": "python3"
  },
  "language_info": {
   "codemirror_mode": {
    "name": "ipython",
    "version": 3
   },
   "file_extension": ".py",
   "mimetype": "text/x-python",
   "name": "python",
   "nbconvert_exporter": "python",
   "pygments_lexer": "ipython3",
   "version": "3.8.8"
  }
 },
 "nbformat": 4,
 "nbformat_minor": 5
}
