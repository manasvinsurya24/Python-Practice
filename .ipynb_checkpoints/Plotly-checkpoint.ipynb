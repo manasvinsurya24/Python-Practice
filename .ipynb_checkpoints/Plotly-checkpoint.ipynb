{
 "cells": [
  {
   "cell_type": "code",
   "execution_count": 13,
   "id": "99b7b15f",
   "metadata": {},
   "outputs": [],
   "source": [
    "import numpy as np\n",
    "import pandas as pd\n",
    "from plotly import __version__\n",
    "%matplotlib inline"
   ]
  },
  {
   "cell_type": "code",
   "execution_count": 2,
   "id": "12a14069",
   "metadata": {},
   "outputs": [
    {
     "name": "stdout",
     "output_type": "stream",
     "text": [
      "5.6.0\n"
     ]
    }
   ],
   "source": [
    "print(__version__)"
   ]
  },
  {
   "cell_type": "code",
   "execution_count": 3,
   "id": "7d8b32e8",
   "metadata": {},
   "outputs": [],
   "source": [
    "import cufflinks as cf"
   ]
  },
  {
   "cell_type": "code",
   "execution_count": 4,
   "id": "a242a14c",
   "metadata": {},
   "outputs": [],
   "source": [
    "from plotly.offline import download_plotlyjs,init_notebook_mode,plot,iplot"
   ]
  },
  {
   "cell_type": "code",
   "execution_count": 5,
   "id": "0a81b67f",
   "metadata": {},
   "outputs": [
    {
     "data": {
      "text/html": [
       "        <script type=\"text/javascript\">\n",
       "        window.PlotlyConfig = {MathJaxConfig: 'local'};\n",
       "        if (window.MathJax) {MathJax.Hub.Config({SVG: {font: \"STIX-Web\"}});}\n",
       "        if (typeof require !== 'undefined') {\n",
       "        require.undef(\"plotly\");\n",
       "        requirejs.config({\n",
       "            paths: {\n",
       "                'plotly': ['https://cdn.plot.ly/plotly-2.9.0.min']\n",
       "            }\n",
       "        });\n",
       "        require(['plotly'], function(Plotly) {\n",
       "            window._Plotly = Plotly;\n",
       "        });\n",
       "        }\n",
       "        </script>\n",
       "        "
      ]
     },
     "metadata": {},
     "output_type": "display_data"
    }
   ],
   "source": [
    "init_notebook_mode(connected = True)"
   ]
  },
  {
   "cell_type": "code",
   "execution_count": 6,
   "id": "e262b616",
   "metadata": {},
   "outputs": [
    {
     "data": {
      "text/html": [
       "        <script type=\"text/javascript\">\n",
       "        window.PlotlyConfig = {MathJaxConfig: 'local'};\n",
       "        if (window.MathJax) {MathJax.Hub.Config({SVG: {font: \"STIX-Web\"}});}\n",
       "        if (typeof require !== 'undefined') {\n",
       "        require.undef(\"plotly\");\n",
       "        requirejs.config({\n",
       "            paths: {\n",
       "                'plotly': ['https://cdn.plot.ly/plotly-2.9.0.min']\n",
       "            }\n",
       "        });\n",
       "        require(['plotly'], function(Plotly) {\n",
       "            window._Plotly = Plotly;\n",
       "        });\n",
       "        }\n",
       "        </script>\n",
       "        "
      ]
     },
     "metadata": {},
     "output_type": "display_data"
    }
   ],
   "source": [
    "cf.go_offline()"
   ]
  },
  {
   "cell_type": "code",
   "execution_count": 9,
   "id": "6c8ae520",
   "metadata": {},
   "outputs": [
    {
     "data": {
      "text/html": [
       "<div>\n",
       "<style scoped>\n",
       "    .dataframe tbody tr th:only-of-type {\n",
       "        vertical-align: middle;\n",
       "    }\n",
       "\n",
       "    .dataframe tbody tr th {\n",
       "        vertical-align: top;\n",
       "    }\n",
       "\n",
       "    .dataframe thead th {\n",
       "        text-align: right;\n",
       "    }\n",
       "</style>\n",
       "<table border=\"1\" class=\"dataframe\">\n",
       "  <thead>\n",
       "    <tr style=\"text-align: right;\">\n",
       "      <th></th>\n",
       "      <th>A</th>\n",
       "      <th>B</th>\n",
       "      <th>C</th>\n",
       "      <th>D</th>\n",
       "      <th>E</th>\n",
       "    </tr>\n",
       "  </thead>\n",
       "  <tbody>\n",
       "    <tr>\n",
       "      <th>0</th>\n",
       "      <td>1.415636</td>\n",
       "      <td>0.706258</td>\n",
       "      <td>1.549901</td>\n",
       "      <td>0.129556</td>\n",
       "      <td>0.601932</td>\n",
       "    </tr>\n",
       "    <tr>\n",
       "      <th>1</th>\n",
       "      <td>-0.748609</td>\n",
       "      <td>-1.171091</td>\n",
       "      <td>-0.426196</td>\n",
       "      <td>0.760415</td>\n",
       "      <td>0.775710</td>\n",
       "    </tr>\n",
       "    <tr>\n",
       "      <th>2</th>\n",
       "      <td>0.495505</td>\n",
       "      <td>1.740347</td>\n",
       "      <td>0.374956</td>\n",
       "      <td>-1.204578</td>\n",
       "      <td>-0.092691</td>\n",
       "    </tr>\n",
       "    <tr>\n",
       "      <th>3</th>\n",
       "      <td>0.087579</td>\n",
       "      <td>-0.278670</td>\n",
       "      <td>-0.133689</td>\n",
       "      <td>1.917676</td>\n",
       "      <td>0.073624</td>\n",
       "    </tr>\n",
       "    <tr>\n",
       "      <th>4</th>\n",
       "      <td>-0.826219</td>\n",
       "      <td>0.528984</td>\n",
       "      <td>1.124771</td>\n",
       "      <td>0.294639</td>\n",
       "      <td>-1.649050</td>\n",
       "    </tr>\n",
       "  </tbody>\n",
       "</table>\n",
       "</div>"
      ],
      "text/plain": [
       "          A         B         C         D         E\n",
       "0  1.415636  0.706258  1.549901  0.129556  0.601932\n",
       "1 -0.748609 -1.171091 -0.426196  0.760415  0.775710\n",
       "2  0.495505  1.740347  0.374956 -1.204578 -0.092691\n",
       "3  0.087579 -0.278670 -0.133689  1.917676  0.073624\n",
       "4 -0.826219  0.528984  1.124771  0.294639 -1.649050"
      ]
     },
     "execution_count": 9,
     "metadata": {},
     "output_type": "execute_result"
    }
   ],
   "source": [
    "df = pd.DataFrame(np.random.randn(100,5), columns = \"A B C D E\".split())\n",
    "df.head()"
   ]
  },
  {
   "cell_type": "markdown",
   "id": "57beca04",
   "metadata": {},
   "source": []
  },
  {
   "cell_type": "code",
   "execution_count": 11,
   "id": "7c367046",
   "metadata": {},
   "outputs": [
    {
     "data": {
      "text/html": [
       "<div>\n",
       "<style scoped>\n",
       "    .dataframe tbody tr th:only-of-type {\n",
       "        vertical-align: middle;\n",
       "    }\n",
       "\n",
       "    .dataframe tbody tr th {\n",
       "        vertical-align: top;\n",
       "    }\n",
       "\n",
       "    .dataframe thead th {\n",
       "        text-align: right;\n",
       "    }\n",
       "</style>\n",
       "<table border=\"1\" class=\"dataframe\">\n",
       "  <thead>\n",
       "    <tr style=\"text-align: right;\">\n",
       "      <th></th>\n",
       "      <th>Category</th>\n",
       "      <th>Values</th>\n",
       "    </tr>\n",
       "  </thead>\n",
       "  <tbody>\n",
       "    <tr>\n",
       "      <th>0</th>\n",
       "      <td>A</td>\n",
       "      <td>12</td>\n",
       "    </tr>\n",
       "    <tr>\n",
       "      <th>1</th>\n",
       "      <td>B</td>\n",
       "      <td>23</td>\n",
       "    </tr>\n",
       "    <tr>\n",
       "      <th>2</th>\n",
       "      <td>C</td>\n",
       "      <td>34</td>\n",
       "    </tr>\n",
       "  </tbody>\n",
       "</table>\n",
       "</div>"
      ],
      "text/plain": [
       "  Category  Values\n",
       "0        A      12\n",
       "1        B      23\n",
       "2        C      34"
      ]
     },
     "execution_count": 11,
     "metadata": {},
     "output_type": "execute_result"
    }
   ],
   "source": [
    "df1 = pd.DataFrame({\"Category\" : [\"A\",\"B\",\"C\"],\"Values\" : [12,23,34]})\n",
    "df1"
   ]
  },
  {
   "cell_type": "code",
   "execution_count": 14,
   "id": "ca64a79b",
   "metadata": {},
   "outputs": [
    {
     "data": {
      "text/plain": [
       "<AxesSubplot:>"
      ]
     },
     "execution_count": 14,
     "metadata": {},
     "output_type": "execute_result"
    },
    {
     "data": {
      "image/png": "[encoded data removed]",
      "text/plain": [
       "<Figure size 432x288 with 1 Axes>"
      ]
     },
     "metadata": {
      "needs_background": "light"
     },
     "output_type": "display_data"
    }
   ],
   "source": [
    "df.plot()"
   ]
  },
  {
   "cell_type": "code",
   "execution_count": 15,
   "id": "60be0580",
   "metadata": {},
   "outputs": [
    {
     "data": {
      "application/vnd.plotly.v1+json": {
       "config": {
        "linkText": "Export to plot.ly",
        "plotlyServerURL": "https://plot.ly",
        "showLink": true
       },
       "data": [
        {
         "line": {
          "color": "rgba(255, 153, 51, 1.0)",
          "dash": "solid",
          "shape": "linear",
          "width": 1.3
         },
         "mode": "lines",
         "name": "A",
         "text": "",
         "type": "scatter",
         "x": [
          0,
          1,
          2,
          3,
          4,
          5,
          6,
          7,
          8,
          9,
          10,
          11,
          12,
          13,
          14,
          15,
          16,
          17,
          18,
          19,
          20,
          21,
          22,
          23,
          24,
          25,
          26,
          27,
          28,
          29,
          30,
          31,
          32,
          33,
          34,
          35,
          36,
          37,
          38,
          39,
          40,
          41,
          42,
          43,
          44,
          45,
          46,
          47,
          48,
          49,
          50,
          51,
          52,
          53,
          54,
          55,
          56,
          57,
          58,
          59,
          60,
          61,
          62,
          63,
          64,
          65,
          66,
          67,
          68,
          69,
          70,
          71,
          72,
          73,
          74,
          75,
          76,
          77,
          78,
          79,
          80,
          81,
          82,
          83,
          84,
          85,
          86,
          87,
          88,
          89,
          90,
          91,
          92,
          93,
          94,
          95,
          96,
          97,
          98,
          99
         ],
         "y": [
          1.4156358936695956,
          -0.7486088378843425,
          0.4955050996849973,
          0.0875785017678611,
          -0.826218807836546,
          -0.47780865783597365,
          0.6371806083430593,
          -0.7862798967147497,
          2.1114851603190483,
          -1.2324994349183411,
          0.1691566162217476,
          -0.6301298927330321,
          0.49786627088299,
          0.49011146626932406,
          -0.2723726811039073,
          -1.2224214956031332,
          -0.020378126111556896,
          1.665415912074953,
          -1.8969961234292025,
          -0.42966872521473776,
          0.05764098447428437,
          0.7590117363436478,
          -1.3286958126006447,
          -1.1606123221990714,
          0.13921065376826422,
          1.0854844964786545,
          -1.104309169567345,
          0.6994799631154538,
          0.8742108609821494,
          0.2257180731978571,
          -1.5171414152618152,
          -0.25644652475948193,
          0.18749692837930554,
          -0.6801926984548232,
          -0.18303574689457183,
          0.03718946653466111,
          -1.073457770498543,
          -0.15671529263355505,
          0.44549454959724333,
          -0.3510063000141201,
          -2.149535432281797,
          1.1408309726951107,
          -0.4106121412032327,
          -0.9711252878091771,
          -0.7144961357779486,
          2.128623477880922,
          -1.2805192296083925,
          0.5017711749949958,
          1.5889495288058462,
          2.301798936419069,
          -0.4038058997708527,
          2.083876183434349,
          -1.6919099735875882,
          -0.4604950389910235,
          0.44468667813470586,
          0.3837181925082112,
          -2.7186889584621365,
          1.6946586670767712,
          -1.5908409061921487,
          0.9916203882779985,
          -0.373584193784145,
          -0.37853000119167124,
          -0.03949696766638036,
          0.6116075103301817,
          0.7066339437665027,
          -0.18362101057989413,
          -0.19126910937529207,
          -0.5942646384168769,
          -0.9939326859755566,
          -0.21782966355238653,
          -2.1427933202436424,
          1.1820416482811897,
          -0.1832952178723742,
          1.303974123810601,
          0.16854111860298743,
          0.07689777318716676,
          -1.3606153114019126,
          -0.40256301529248495,
          0.3522047698292674,
          1.3874784565490599,
          0.5644646020721652,
          0.25993646056156505,
          0.727304145289929,
          1.1188690480615626,
          -0.5326278977863839,
          0.5649152222277095,
          1.8842363452638666,
          -0.3148006308495593,
          0.16962586904042973,
          -0.7724391372975189,
          1.1812131708118059,
          1.8094910892179872,
          1.339874266589562,
          0.0808352432941568,
          -0.9666664192169856,
          -1.1982532515293602,
          -0.24590540357908927,
          1.2863581521970273,
          -1.1458829130853836,
          -0.41864958520433504
         ]
        },
        {
         "line": {
          "color": "rgba(55, 128, 191, 1.0)",
          "dash": "solid",
          "shape": "linear",
          "width": 1.3
         },
         "mode": "lines",
         "name": "B",
         "text": "",
         "type": "scatter",
         "x": [
          0,
          1,
          2,
          3,
          4,
          5,
          6,
          7,
          8,
          9,
          10,
          11,
          12,
          13,
          14,
          15,
          16,
          17,
          18,
          19,
          20,
          21,
          22,
          23,
          24,
          25,
          26,
          27,
          28,
          29,
          30,
          31,
          32,
          33,
          34,
          35,
          36,
          37,
          38,
          39,
          40,
          41,
          42,
          43,
          44,
          45,
          46,
          47,
          48,
          49,
          50,
          51,
          52,
          53,
          54,
          55,
          56,
          57,
          58,
          59,
          60,
          61,
          62,
          63,
          64,
          65,
          66,
          67,
          68,
          69,
          70,
          71,
          72,
          73,
          74,
          75,
          76,
          77,
          78,
          79,
          80,
          81,
          82,
          83,
          84,
          85,
          86,
          87,
          88,
          89,
          90,
          91,
          92,
          93,
          94,
          95,
          96,
          97,
          98,
          99
         ],
         "y": [
          0.7062581476995701,
          -1.1710913339176028,
          1.7403465938914462,
          -0.278669933207016,
          0.5289837227499957,
          -0.5204208476320185,
          0.820349091795676,
          -2.5721814068096687,
          -0.1622269597246676,
          0.24048767125338333,
          -0.07666820067898973,
          1.6967460410727122,
          -0.06991286363178612,
          1.3581372047706672,
          -0.7307973344214783,
          1.5138821342258184,
          -0.621027024043218,
          1.3088421656914941,
          -1.4817004302025731,
          -1.105579049921459,
          1.808244351365949,
          1.7814240534761128,
          -1.2849968926336421,
          0.7235419170090094,
          1.058536572130399,
          -1.1048671870589075,
          0.5266596654819395,
          -0.8769589435617031,
          -0.30534849033916944,
          -1.352162767596701,
          0.16922062850592987,
          0.7628457417150688,
          1.5445728618409094,
          -0.6867771252144196,
          1.6962340533283917,
          -0.06598647451729873,
          -0.3439382299071361,
          -1.2794338468476885,
          1.519574703411229,
          0.9133174061492851,
          1.6125385717433276,
          0.43280634762158154,
          -0.9039640060890394,
          0.7359377797913865,
          -1.3326526464564628,
          -1.4966814512041033,
          0.8404794247435162,
          0.2075619795873575,
          0.31146161039254616,
          -0.6819626630511477,
          0.48568395389333435,
          0.07611136799710402,
          -0.14418157848227106,
          0.9843015427342142,
          -0.7544519367543739,
          -2.1915351810117656,
          0.7472183071202954,
          0.07654779306342142,
          0.03717360203194623,
          0.011294036564791296,
          -0.7911437191385242,
          0.21319662109144594,
          2.6641889764107707,
          -0.1062777249978354,
          -0.13731998485911284,
          -0.4162558199342141,
          -1.5498377968411983,
          0.7335258612076875,
          1.0417190913106185,
          -0.028494621882404477,
          2.020747748419635,
          -1.088687317098657,
          -1.0520940799094736,
          -0.9301608812535455,
          0.3756738820184492,
          -1.0850500239522738,
          -1.7067802558636007,
          -0.44014575633396863,
          0.5246300696972056,
          -1.259468621738041,
          -0.3071423443341209,
          -1.118902094299359,
          -2.8256467329121366,
          -0.8868220385029365,
          0.10427311227907055,
          -0.11837011857590833,
          -0.14146329337330818,
          0.8647897922587614,
          -0.4726942358018606,
          0.6772634832759559,
          -0.09297918886954187,
          0.2872666418985008,
          -0.5702877461493379,
          -0.4626469928567091,
          0.32094161556974915,
          -0.05514093237471859,
          -0.6304223605436565,
          -0.10290863068832364,
          0.8161740895582345,
          1.6797723943033382
         ]
        },
        {
         "line": {
          "color": "rgba(50, 171, 96, 1.0)",
          "dash": "solid",
          "shape": "linear",
          "width": 1.3
         },
         "mode": "lines",
         "name": "C",
         "text": "",
         "type": "scatter",
         "x": [
          0,
          1,
          2,
          3,
          4,
          5,
          6,
          7,
          8,
          9,
          10,
          11,
          12,
          13,
          14,
          15,
          16,
          17,
          18,
          19,
          20,
          21,
          22,
          23,
          24,
          25,
          26,
          27,
          28,
          29,
          30,
          31,
          32,
          33,
          34,
          35,
          36,
          37,
          38,
          39,
          40,
          41,
          42,
          43,
          44,
          45,
          46,
          47,
          48,
          49,
          50,
          51,
          52,
          53,
          54,
          55,
          56,
          57,
          58,
          59,
          60,
          61,
          62,
          63,
          64,
          65,
          66,
          67,
          68,
          69,
          70,
          71,
          72,
          73,
          74,
          75,
          76,
          77,
          78,
          79,
          80,
          81,
          82,
          83,
          84,
          85,
          86,
          87,
          88,
          89,
          90,
          91,
          92,
          93,
          94,
          95,
          96,
          97,
          98,
          99
         ],
         "y": [
          1.5499007333526247,
          -0.426196296811759,
          0.37495612585605337,
          -0.1336889363052779,
          1.124770842851406,
          1.4803699233545966,
          -0.6913548860620014,
          0.4530846133240014,
          0.29625556671890596,
          2.1392925123134354,
          0.24267259322727006,
          -0.5912929335678633,
          1.076613747733806,
          -1.156428688302867,
          -1.361704854446854,
          -1.5901515424577273,
          -0.8052314305134672,
          1.0339252683482132,
          -1.1343511158123745,
          -0.43036028633421336,
          0.5963820862936385,
          -1.0310122434153828,
          -0.6874335453969067,
          -1.621650128651768,
          0.6073315143194891,
          1.0070892732439969,
          1.6077219588646128,
          -0.17734895812291784,
          -0.9469102539155999,
          -0.11564308399434055,
          -1.5771428692861236,
          0.38955482579939316,
          0.3487278769428918,
          -1.8249887232803101,
          -0.4444523588309359,
          1.0238853246466337,
          0.6667274197816324,
          -0.592098717424933,
          -0.046679766440859,
          0.38322700481864364,
          0.9879496031684146,
          0.5023797159654563,
          -0.05931628734162812,
          -0.3829196092787056,
          2.5088960126271633,
          -0.14933906983556622,
          0.7064774753092996,
          -0.07197208057269007,
          1.3225685292105969,
          -0.5750408230285969,
          -0.6091743639150502,
          0.7085474851277107,
          0.8975997945112504,
          1.9084417878905442,
          -0.521338021933896,
          -1.4485492999011722,
          0.16299417795293486,
          -0.1866718510800261,
          -1.3317720125027332,
          1.2878803953991451,
          0.04170166057725168,
          -0.7677567980366121,
          -0.16550003663731286,
          -1.2521323815543866,
          -0.8913585151318264,
          0.31563780106852624,
          0.2608034524962743,
          0.9056065015019831,
          -2.0452160103151678,
          -1.3091827440595243,
          -0.0012249881482702207,
          -1.1462646754780625,
          -2.0180115831993803,
          0.690117417760465,
          1.4661048584907461,
          -0.044809359760745446,
          0.6711649827345268,
          -0.8998777560052286,
          0.1195515193916954,
          -0.1601594377668466,
          -0.05950824566685734,
          -0.1717728420019799,
          1.5209540077798478,
          -0.5132722332286485,
          -0.9212387828904061,
          1.1414634700954014,
          0.9936694880655823,
          -1.358791600204876,
          -0.07179118478643616,
          -0.41436449362850447,
          -1.5239282783018193,
          0.4906643802015708,
          -1.1856787969293885,
          2.776526862058707,
          0.2870067040464905,
          1.3707149588138539,
          -0.5215968825329502,
          -1.047051604087512,
          1.6233558034971234,
          -1.4415356137188111
         ]
        },
        {
         "line": {
          "color": "rgba(128, 0, 128, 1.0)",
          "dash": "solid",
          "shape": "linear",
          "width": 1.3
         },
         "mode": "lines",
         "name": "D",
         "text": "",
         "type": "scatter",
         "x": [
          0,
          1,
          2,
          3,
          4,
          5,
          6,
          7,
          8,
          9,
          10,
          11,
          12,
          13,
          14,
          15,
          16,
          17,
          18,
          19,
          20,
          21,
          22,
          23,
          24,
          25,
          26,
          27,
          28,
          29,
          30,
          31,
          32,
          33,
          34,
          35,
          36,
          37,
          38,
          39,
          40,
          41,
          42,
          43,
          44,
          45,
          46,
          47,
          48,
          49,
          50,
          51,
          52,
          53,
          54,
          55,
          56,
          57,
          58,
          59,
          60,
          61,
          62,
          63,
          64,
          65,
          66,
          67,
          68,
          69,
          70,
          71,
          72,
          73,
          74,
          75,
          76,
          77,
          78,
          79,
          80,
          81,
          82,
          83,
          84,
          85,
          86,
          87,
          88,
          89,
          90,
          91,
          92,
          93,
          94,
          95,
          96,
          97,
          98,
          99
         ],
         "y": [
          0.12955630777878926,
          0.7604145971356845,
          -1.2045784380447713,
          1.917675966562483,
          0.29463895926258893,
          -0.9464359788243719,
          -1.9743923185423387,
          -1.090200508419864,
          -0.6537860886418702,
          -1.6900748835323505,
          0.9560642590841237,
          -1.6882799084757145,
          0.7375744100532009,
          1.1195528650686848,
          -0.37128350416116823,
          0.023969551457540293,
          -0.5431314927858206,
          -1.1023820841410457,
          -0.40007890308387023,
          -0.934323378972884,
          1.9351962764042818,
          0.9151583018418837,
          0.646138654596641,
          -0.4151190527899096,
          -2.4369509639947116,
          -0.7621464858688528,
          -1.235104713665192,
          0.801505849211162,
          0.20021371182195458,
          -0.761116838192273,
          -1.386288670481089,
          -1.105065235430969,
          -3.290269773602219,
          -1.6648733726990381,
          1.865557211015783,
          -0.7273444064480094,
          -1.1477942586726233,
          -0.13057957481201085,
          -0.3682283221653446,
          0.31287956215888735,
          -0.7117466624851111,
          -1.1999906025160019,
          0.6634672518360509,
          0.17669380568498563,
          -0.26738868384158143,
          -0.796271992339394,
          -0.7626665373747872,
          -0.5016363832753867,
          -1.130751686427838,
          0.10773715683904422,
          0.7455490999237923,
          -0.23876288418707056,
          -2.6257576586398717,
          1.3772743435575447,
          1.3046039520601658,
          -1.0213326591903462,
          0.2778963785150497,
          1.6729475614611091,
          1.1910742826813256,
          0.10024631032737884,
          0.4025160865685234,
          0.8833463783062594,
          -0.5201448026334445,
          0.6608035653686412,
          -0.7299610652938594,
          0.8320928519979393,
          0.32834247832769176,
          -1.0915799970579458,
          0.45742096190071907,
          -0.4610177452478262,
          -0.23888484265146886,
          -0.07629868213180137,
          0.051750630643244526,
          0.9576730290121173,
          -2.196006681226583,
          1.2969432038162436,
          0.18047325353238816,
          0.5922433132055498,
          0.05885073989012512,
          -0.28449684210233467,
          -1.9072287405115684,
          -0.45255772109622,
          0.1787901922735105,
          -1.493085001346657,
          -0.6652674271205405,
          1.6157483678382576,
          0.7937464687746136,
          -0.8371647361154547,
          -1.3172757840253866,
          -1.0167299675735864,
          0.9870695561696492,
          -0.6855480740995116,
          1.0219213557275488,
          0.8091890008260322,
          1.119587923068023,
          -0.6140243726310259,
          2.975157466010432,
          0.25089008886979375,
          -0.9101205664114322,
          -1.5014026804688845
         ]
        },
        {
         "line": {
          "color": "rgba(219, 64, 82, 1.0)",
          "dash": "solid",
          "shape": "linear",
          "width": 1.3
         },
         "mode": "lines",
         "name": "E",
         "text": "",
         "type": "scatter",
         "x": [
          0,
          1,
          2,
          3,
          4,
          5,
          6,
          7,
          8,
          9,
          10,
          11,
          12,
          13,
          14,
          15,
          16,
          17,
          18,
          19,
          20,
          21,
          22,
          23,
          24,
          25,
          26,
          27,
          28,
          29,
          30,
          31,
          32,
          33,
          34,
          35,
          36,
          37,
          38,
          39,
          40,
          41,
          42,
          43,
          44,
          45,
          46,
          47,
          48,
          49,
          50,
          51,
          52,
          53,
          54,
          55,
          56,
          57,
          58,
          59,
          60,
          61,
          62,
          63,
          64,
          65,
          66,
          67,
          68,
          69,
          70,
          71,
          72,
          73,
          74,
          75,
          76,
          77,
          78,
          79,
          80,
          81,
          82,
          83,
          84,
          85,
          86,
          87,
          88,
          89,
          90,
          91,
          92,
          93,
          94,
          95,
          96,
          97,
          98,
          99
         ],
         "y": [
          0.6019315115579517,
          0.7757097712782659,
          -0.09269061328673495,
          0.07362399949468768,
          -1.6490500950133706,
          -0.3673196474548039,
          -0.8136397678967872,
          -1.7629786295322996,
          0.36445985357316774,
          2.253346516631644,
          0.48151797390507356,
          0.4384838418002106,
          -0.7553537245928833,
          0.05634775556725741,
          0.38024599030903733,
          -0.07642558857726198,
          1.569730122662999,
          -1.0656999485565524,
          -1.0942623346288112,
          -0.5833328752367328,
          -0.39026358011348045,
          -0.033645367785843996,
          -0.8288070160035422,
          -0.224842733722281,
          -0.7938770400897642,
          -0.601013637613153,
          -0.07383813819140272,
          0.027432359120694822,
          0.6804699489000555,
          1.730941839989778,
          0.5590944673549689,
          0.18170904956827238,
          0.6280229122015368,
          0.48939130932799,
          -0.357683562990978,
          1.0912319012928966,
          -0.6935954882830229,
          -0.6134865876246812,
          -1.17800243573494,
          -0.5945321367267138,
          0.7552495359669781,
          -0.6977715891470061,
          1.2369469802288617,
          2.1857028631511137,
          -1.4682810321475195,
          -0.48142756273156345,
          1.9569745370170109,
          0.8601369810450683,
          1.8543988418277013,
          -1.1461369672463904,
          0.35771878161032633,
          -0.4256943864570583,
          -0.13591528515801526,
          0.5934803609837643,
          -0.7597378802970451,
          0.17844815269397957,
          -1.2575572670619646,
          0.8711279151014655,
          0.38882904087411113,
          0.37329684071352565,
          -0.19667160931324254,
          0.4855395374174117,
          0.4630447730351342,
          1.3570337203935345,
          -0.09523453846013402,
          0.5443003499943089,
          -0.06982203992232405,
          -0.5121216464590715,
          -0.27189995573917913,
          0.006623541867965086,
          -0.4552987608630462,
          0.1814273021264075,
          0.2167050769382245,
          0.7636650872857829,
          1.2364431692438171,
          1.6031361007181466,
          0.46845385782853227,
          0.6900190038562005,
          -1.1666245315120376,
          -0.5659139214525217,
          0.40785698840184115,
          -1.5415852973049644,
          0.793548323760602,
          0.6946420126758375,
          0.7400577327458684,
          0.4336538124099455,
          0.8556283748721737,
          -0.7121498780599496,
          -1.6920628446134767,
          -0.6532050341614064,
          1.591924604897572,
          -0.646440599385416,
          -0.23200193495923746,
          -1.2599302333037088,
          -0.5272194320133379,
          -0.2551713907648001,
          -0.427599138730128,
          -0.36254347695641126,
          -1.5506859127688113,
          0.9619778026612145
         ]
        }
       ],
       "layout": {
        "legend": {
         "bgcolor": "#F5F6F9",
         "font": {
          "color": "#4D5663"
         }
        },
        "paper_bgcolor": "#F5F6F9",
        "plot_bgcolor": "#F5F6F9",
        "template": {
         "data": {
          "bar": [
           {
            "error_x": {
             "color": "#2a3f5f"
            },
            "error_y": {
             "color": "#2a3f5f"
            },
            "marker": {
             "line": {
              "color": "#E5ECF6",
              "width": 0.5
             },
             "pattern": {
              "fillmode": "overlay",
              "size": 10,
              "solidity": 0.2
             }
            },
            "type": "bar"
           }
          ],
          "barpolar": [
           {
            "marker": {
             "line": {
              "color": "#E5ECF6",
              "width": 0.5
             },
             "pattern": {
              "fillmode": "overlay",
              "size": 10,
              "solidity": 0.2
             }
            },
            "type": "barpolar"
           }
          ],
          "carpet": [
           {
            "aaxis": {
             "endlinecolor": "#2a3f5f",
             "gridcolor": "white",
             "linecolor": "white",
             "minorgridcolor": "white",
             "startlinecolor": "#2a3f5f"
            },
            "baxis": {
             "endlinecolor": "#2a3f5f",
             "gridcolor": "white",
             "linecolor": "white",
             "minorgridcolor": "white",
             "startlinecolor": "#2a3f5f"
            },
            "type": "carpet"
           }
          ],
          "choropleth": [
           {
            "colorbar": {
             "outlinewidth": 0,
             "ticks": ""
            },
            "type": "choropleth"
           }
          ],
          "contour": [
           {
            "colorbar": {
             "outlinewidth": 0,
             "ticks": ""
            },
            "colorscale": [
             [
              0,
              "#0d0887"
             ],
             [
              0.1111111111111111,
              "#46039f"
             ],
             [
              0.2222222222222222,
              "#7201a8"
             ],
             [
              0.3333333333333333,
              "#9c179e"
             ],
             [
              0.4444444444444444,
              "#bd3786"
             ],
             [
              0.5555555555555556,
              "#d8576b"
             ],
             [
              0.6666666666666666,
              "#ed7953"
             ],
             [
              0.7777777777777778,
              "#fb9f3a"
             ],
             [
              0.8888888888888888,
              "#fdca26"
             ],
             [
              1,
              "#f0f921"
             ]
            ],
            "type": "contour"
           }
          ],
          "contourcarpet": [
           {
            "colorbar": {
             "outlinewidth": 0,
             "ticks": ""
            },
            "type": "contourcarpet"
           }
          ],
          "heatmap": [
           {
            "colorbar": {
             "outlinewidth": 0,
             "ticks": ""
            },
            "colorscale": [
             [
              0,
              "#0d0887"
             ],
             [
              0.1111111111111111,
              "#46039f"
             ],
             [
              0.2222222222222222,
              "#7201a8"
             ],
             [
              0.3333333333333333,
              "#9c179e"
             ],
             [
              0.4444444444444444,
              "#bd3786"
             ],
             [
              0.5555555555555556,
              "#d8576b"
             ],
             [
              0.6666666666666666,
              "#ed7953"
             ],
             [
              0.7777777777777778,
              "#fb9f3a"
             ],
             [
              0.8888888888888888,
              "#fdca26"
             ],
             [
              1,
              "#f0f921"
             ]
            ],
            "type": "heatmap"
           }
          ],
          "heatmapgl": [
           {
            "colorbar": {
             "outlinewidth": 0,
             "ticks": ""
            },
            "colorscale": [
             [
              0,
              "#0d0887"
             ],
             [
              0.1111111111111111,
              "#46039f"
             ],
             [
              0.2222222222222222,
              "#7201a8"
             ],
             [
              0.3333333333333333,
              "#9c179e"
             ],
             [
              0.4444444444444444,
              "#bd3786"
             ],
             [
              0.5555555555555556,
              "#d8576b"
             ],
             [
              0.6666666666666666,
              "#ed7953"
             ],
             [
              0.7777777777777778,
              "#fb9f3a"
             ],
             [
              0.8888888888888888,
              "#fdca26"
             ],
             [
              1,
              "#f0f921"
             ]
            ],
            "type": "heatmapgl"
           }
          ],
          "histogram": [
           {
            "marker": {
             "pattern": {
              "fillmode": "overlay",
              "size": 10,
              "solidity": 0.2
             }
            },
            "type": "histogram"
           }
          ],
          "histogram2d": [
           {
            "colorbar": {
             "outlinewidth": 0,
             "ticks": ""
            },
            "colorscale": [
             [
              0,
              "#0d0887"
             ],
             [
              0.1111111111111111,
              "#46039f"
             ],
             [
              0.2222222222222222,
              "#7201a8"
             ],
             [
              0.3333333333333333,
              "#9c179e"
             ],
             [
              0.4444444444444444,
              "#bd3786"
             ],
             [
              0.5555555555555556,
              "#d8576b"
             ],
             [
              0.6666666666666666,
              "#ed7953"
             ],
             [
              0.7777777777777778,
              "#fb9f3a"
             ],
             [
              0.8888888888888888,
              "#fdca26"
             ],
             [
              1,
              "#f0f921"
             ]
            ],
            "type": "histogram2d"
           }
          ],
          "histogram2dcontour": [
           {
            "colorbar": {
             "outlinewidth": 0,
             "ticks": ""
            },
            "colorscale": [
             [
              0,
              "#0d0887"
             ],
             [
              0.1111111111111111,
              "#46039f"
             ],
             [
              0.2222222222222222,
              "#7201a8"
             ],
             [
              0.3333333333333333,
              "#9c179e"
             ],
             [
              0.4444444444444444,
              "#bd3786"
             ],
             [
              0.5555555555555556,
              "#d8576b"
             ],
             [
              0.6666666666666666,
              "#ed7953"
             ],
             [
              0.7777777777777778,
              "#fb9f3a"
             ],
             [
              0.8888888888888888,
              "#fdca26"
             ],
             [
              1,
              "#f0f921"
             ]
            ],
            "type": "histogram2dcontour"
           }
          ],
          "mesh3d": [
           {
            "colorbar": {
             "outlinewidth": 0,
             "ticks": ""
            },
            "type": "mesh3d"
           }
          ],
          "parcoords": [
           {
            "line": {
             "colorbar": {
              "outlinewidth": 0,
              "ticks": ""
             }
            },
            "type": "parcoords"
           }
          ],
          "pie": [
           {
            "automargin": true,
            "type": "pie"
           }
          ],
          "scatter": [
           {
            "marker": {
             "colorbar": {
              "outlinewidth": 0,
              "ticks": ""
             }
            },
            "type": "scatter"
           }
          ],
          "scatter3d": [
           {
            "line": {
             "colorbar": {
              "outlinewidth": 0,
              "ticks": ""
             }
            },
            "marker": {
             "colorbar": {
              "outlinewidth": 0,
              "ticks": ""
             }
            },
            "type": "scatter3d"
           }
          ],
          "scattercarpet": [
           {
            "marker": {
             "colorbar": {
              "outlinewidth": 0,
              "ticks": ""
             }
            },
            "type": "scattercarpet"
           }
          ],
          "scattergeo": [
           {
            "marker": {
             "colorbar": {
              "outlinewidth": 0,
              "ticks": ""
             }
            },
            "type": "scattergeo"
           }
          ],
          "scattergl": [
           {
            "marker": {
             "colorbar": {
              "outlinewidth": 0,
              "ticks": ""
             }
            },
            "type": "scattergl"
           }
          ],
          "scattermapbox": [
           {
            "marker": {
             "colorbar": {
              "outlinewidth": 0,
              "ticks": ""
             }
            },
            "type": "scattermapbox"
           }
          ],
          "scatterpolar": [
           {
            "marker": {
             "colorbar": {
              "outlinewidth": 0,
              "ticks": ""
             }
            },
            "type": "scatterpolar"
           }
          ],
          "scatterpolargl": [
           {
            "marker": {
             "colorbar": {
              "outlinewidth": 0,
              "ticks": ""
             }
            },
            "type": "scatterpolargl"
           }
          ],
          "scatterternary": [
           {
            "marker": {
             "colorbar": {
              "outlinewidth": 0,
              "ticks": ""
             }
            },
            "type": "scatterternary"
           }
          ],
          "surface": [
           {
            "colorbar": {
             "outlinewidth": 0,
             "ticks": ""
            },
            "colorscale": [
             [
              0,
              "#0d0887"
             ],
             [
              0.1111111111111111,
              "#46039f"
             ],
             [
              0.2222222222222222,
              "#7201a8"
             ],
             [
              0.3333333333333333,
              "#9c179e"
             ],
             [
              0.4444444444444444,
              "#bd3786"
             ],
             [
              0.5555555555555556,
              "#d8576b"
             ],
             [
              0.6666666666666666,
              "#ed7953"
             ],
             [
              0.7777777777777778,
              "#fb9f3a"
             ],
             [
              0.8888888888888888,
              "#fdca26"
             ],
             [
              1,
              "#f0f921"
             ]
            ],
            "type": "surface"
           }
          ],
          "table": [
           {
            "cells": {
             "fill": {
              "color": "#EBF0F8"
             },
             "line": {
              "color": "white"
             }
            },
            "header": {
             "fill": {
              "color": "#C8D4E3"
             },
             "line": {
              "color": "white"
             }
            },
            "type": "table"
           }
          ]
         },
         "layout": {
          "annotationdefaults": {
           "arrowcolor": "#2a3f5f",
           "arrowhead": 0,
           "arrowwidth": 1
          },
          "autotypenumbers": "strict",
          "coloraxis": {
           "colorbar": {
            "outlinewidth": 0,
            "ticks": ""
           }
          },
          "colorscale": {
           "diverging": [
            [
             0,
             "#8e0152"
            ],
            [
             0.1,
             "#c51b7d"
            ],
            [
             0.2,
             "#de77ae"
            ],
            [
             0.3,
             "#f1b6da"
            ],
            [
             0.4,
             "#fde0ef"
            ],
            [
             0.5,
             "#f7f7f7"
            ],
            [
             0.6,
             "#e6f5d0"
            ],
            [
             0.7,
             "#b8e186"
            ],
            [
             0.8,
             "#7fbc41"
            ],
            [
             0.9,
             "#4d9221"
            ],
            [
             1,
             "#276419"
            ]
           ],
           "sequential": [
            [
             0,
             "#0d0887"
            ],
            [
             0.1111111111111111,
             "#46039f"
            ],
            [
             0.2222222222222222,
             "#7201a8"
            ],
            [
             0.3333333333333333,
             "#9c179e"
            ],
            [
             0.4444444444444444,
             "#bd3786"
            ],
            [
             0.5555555555555556,
             "#d8576b"
            ],
            [
             0.6666666666666666,
             "#ed7953"
            ],
            [
             0.7777777777777778,
             "#fb9f3a"
            ],
            [
             0.8888888888888888,
             "#fdca26"
            ],
            [
             1,
             "#f0f921"
            ]
           ],
           "sequentialminus": [
            [
             0,
             "#0d0887"
            ],
            [
             0.1111111111111111,
             "#46039f"
            ],
            [
             0.2222222222222222,
             "#7201a8"
            ],
            [
             0.3333333333333333,
             "#9c179e"
            ],
            [
             0.4444444444444444,
             "#bd3786"
            ],
            [
             0.5555555555555556,
             "#d8576b"
            ],
            [
             0.6666666666666666,
             "#ed7953"
            ],
            [
             0.7777777777777778,
             "#fb9f3a"
            ],
            [
             0.8888888888888888,
             "#fdca26"
            ],
            [
             1,
             "#f0f921"
            ]
           ]
          },
          "colorway": [
           "#636efa",
           "#EF553B",
           "#00cc96",
           "#ab63fa",
           "#FFA15A",
           "#19d3f3",
           "#FF6692",
           "#B6E880",
           "#FF97FF",
           "#FECB52"
          ],
          "font": {
           "color": "#2a3f5f"
          },
          "geo": {
           "bgcolor": "white",
           "lakecolor": "white",
           "landcolor": "#E5ECF6",
           "showlakes": true,
           "showland": true,
           "subunitcolor": "white"
          },
          "hoverlabel": {
           "align": "left"
          },
          "hovermode": "closest",
          "mapbox": {
           "style": "light"
          },
          "paper_bgcolor": "white",
          "plot_bgcolor": "#E5ECF6",
          "polar": {
           "angularaxis": {
            "gridcolor": "white",
            "linecolor": "white",
            "ticks": ""
           },
           "bgcolor": "#E5ECF6",
           "radialaxis": {
            "gridcolor": "white",
            "linecolor": "white",
            "ticks": ""
           }
          },
          "scene": {
           "xaxis": {
            "backgroundcolor": "#E5ECF6",
            "gridcolor": "white",
            "gridwidth": 2,
            "linecolor": "white",
            "showbackground": true,
            "ticks": "",
            "zerolinecolor": "white"
           },
           "yaxis": {
            "backgroundcolor": "#E5ECF6",
            "gridcolor": "white",
            "gridwidth": 2,
            "linecolor": "white",
            "showbackground": true,
            "ticks": "",
            "zerolinecolor": "white"
           },
           "zaxis": {
            "backgroundcolor": "#E5ECF6",
            "gridcolor": "white",
            "gridwidth": 2,
            "linecolor": "white",
            "showbackground": true,
            "ticks": "",
            "zerolinecolor": "white"
           }
          },
          "shapedefaults": {
           "line": {
            "color": "#2a3f5f"
           }
          },
          "ternary": {
           "aaxis": {
            "gridcolor": "white",
            "linecolor": "white",
            "ticks": ""
           },
           "baxis": {
            "gridcolor": "white",
            "linecolor": "white",
            "ticks": ""
           },
           "bgcolor": "#E5ECF6",
           "caxis": {
            "gridcolor": "white",
            "linecolor": "white",
            "ticks": ""
           }
          },
          "title": {
           "x": 0.05
          },
          "xaxis": {
           "automargin": true,
           "gridcolor": "white",
           "linecolor": "white",
           "ticks": "",
           "title": {
            "standoff": 15
           },
           "zerolinecolor": "white",
           "zerolinewidth": 2
          },
          "yaxis": {
           "automargin": true,
           "gridcolor": "white",
           "linecolor": "white",
           "ticks": "",
           "title": {
            "standoff": 15
           },
           "zerolinecolor": "white",
           "zerolinewidth": 2
          }
         }
        },
        "title": {
         "font": {
          "color": "#4D5663"
         }
        },
        "xaxis": {
         "gridcolor": "#E1E5ED",
         "showgrid": true,
         "tickfont": {
          "color": "#4D5663"
         },
         "title": {
          "font": {
           "color": "#4D5663"
          },
          "text": ""
         },
         "zerolinecolor": "#E1E5ED"
        },
        "yaxis": {
         "gridcolor": "#E1E5ED",
         "showgrid": true,
         "tickfont": {
          "color": "#4D5663"
         },
         "title": {
          "font": {
           "color": "#4D5663"
          },
          "text": ""
         },
         "zerolinecolor": "#E1E5ED"
        }
       }
      },
      "text/html": [
       "<div>                            <div id=\"e6739d58-2fcd-4dfb-9274-b6ce3268237b\" class=\"plotly-graph-div\" style=\"height:525px; width:100%;\"></div>            <script type=\"text/javascript\">                require([\"plotly\"], function(Plotly) {                    window.PLOTLYENV=window.PLOTLYENV || {};\n",
       "                    window.PLOTLYENV.BASE_URL='https://plot.ly';                                    if (document.getElementById(\"e6739d58-2fcd-4dfb-9274-b6ce3268237b\")) {                    Plotly.newPlot(                        \"e6739d58-2fcd-4dfb-9274-b6ce3268237b\",                        [{\"line\":{\"color\":\"rgba(255, 153, 51, 1.0)\",\"dash\":\"solid\",\"shape\":\"linear\",\"width\":1.3},\"mode\":\"lines\",\"name\":\"A\",\"text\":\"\",\"x\":[0,1,2,3,4,5,6,7,8,9,10,11,12,13,14,15,16,17,18,19,20,21,22,23,24,25,26,27,28,29,30,31,32,33,34,35,36,37,38,39,40,41,42,43,44,45,46,47,48,49,50,51,52,53,54,55,56,57,58,59,60,61,62,63,64,65,66,67,68,69,70,71,72,73,74,75,76,77,78,79,80,81,82,83,84,85,86,87,88,89,90,91,92,93,94,95,96,97,98,99],\"y\":[1.4156358936695956,-0.7486088378843425,0.4955050996849973,0.0875785017678611,-0.826218807836546,-0.47780865783597365,0.6371806083430593,-0.7862798967147497,2.1114851603190483,-1.2324994349183411,0.1691566162217476,-0.6301298927330321,0.49786627088299,0.49011146626932406,-0.2723726811039073,-1.2224214956031332,-0.020378126111556896,1.665415912074953,-1.8969961234292025,-0.42966872521473776,0.05764098447428437,0.7590117363436478,-1.3286958126006447,-1.1606123221990714,0.13921065376826422,1.0854844964786545,-1.104309169567345,0.6994799631154538,0.8742108609821494,0.2257180731978571,-1.5171414152618152,-0.25644652475948193,0.18749692837930554,-0.6801926984548232,-0.18303574689457183,0.03718946653466111,-1.073457770498543,-0.15671529263355505,0.44549454959724333,-0.3510063000141201,-2.149535432281797,1.1408309726951107,-0.4106121412032327,-0.9711252878091771,-0.7144961357779486,2.128623477880922,-1.2805192296083925,0.5017711749949958,1.5889495288058462,2.301798936419069,-0.4038058997708527,2.083876183434349,-1.6919099735875882,-0.4604950389910235,0.44468667813470586,0.3837181925082112,-2.7186889584621365,1.6946586670767712,-1.5908409061921487,0.9916203882779985,-0.373584193784145,-0.37853000119167124,-0.03949696766638036,0.6116075103301817,0.7066339437665027,-0.18362101057989413,-0.19126910937529207,-0.5942646384168769,-0.9939326859755566,-0.21782966355238653,-2.1427933202436424,1.1820416482811897,-0.1832952178723742,1.303974123810601,0.16854111860298743,0.07689777318716676,-1.3606153114019126,-0.40256301529248495,0.3522047698292674,1.3874784565490599,0.5644646020721652,0.25993646056156505,0.727304145289929,1.1188690480615626,-0.5326278977863839,0.5649152222277095,1.8842363452638666,-0.3148006308495593,0.16962586904042973,-0.7724391372975189,1.1812131708118059,1.8094910892179872,1.339874266589562,0.0808352432941568,-0.9666664192169856,-1.1982532515293602,-0.24590540357908927,1.2863581521970273,-1.1458829130853836,-0.41864958520433504],\"type\":\"scatter\"},{\"line\":{\"color\":\"rgba(55, 128, 191, 1.0)\",\"dash\":\"solid\",\"shape\":\"linear\",\"width\":1.3},\"mode\":\"lines\",\"name\":\"B\",\"text\":\"\",\"x\":[0,1,2,3,4,5,6,7,8,9,10,11,12,13,14,15,16,17,18,19,20,21,22,23,24,25,26,27,28,29,30,31,32,33,34,35,36,37,38,39,40,41,42,43,44,45,46,47,48,49,50,51,52,53,54,55,56,57,58,59,60,61,62,63,64,65,66,67,68,69,70,71,72,73,74,75,76,77,78,79,80,81,82,83,84,85,86,87,88,89,90,91,92,93,94,95,96,97,98,99],\"y\":[0.7062581476995701,-1.1710913339176028,1.7403465938914462,-0.278669933207016,0.5289837227499957,-0.5204208476320185,0.820349091795676,-2.5721814068096687,-0.1622269597246676,0.24048767125338333,-0.07666820067898973,1.6967460410727122,-0.06991286363178612,1.3581372047706672,-0.7307973344214783,1.5138821342258184,-0.621027024043218,1.3088421656914941,-1.4817004302025731,-1.105579049921459,1.808244351365949,1.7814240534761128,-1.2849968926336421,0.7235419170090094,1.058536572130399,-1.1048671870589075,0.5266596654819395,-0.8769589435617031,-0.30534849033916944,-1.352162767596701,0.16922062850592987,0.7628457417150688,1.5445728618409094,-0.6867771252144196,1.6962340533283917,-0.06598647451729873,-0.3439382299071361,-1.2794338468476885,1.519574703411229,0.9133174061492851,1.6125385717433276,0.43280634762158154,-0.9039640060890394,0.7359377797913865,-1.3326526464564628,-1.4966814512041033,0.8404794247435162,0.2075619795873575,0.31146161039254616,-0.6819626630511477,0.48568395389333435,0.07611136799710402,-0.14418157848227106,0.9843015427342142,-0.7544519367543739,-2.1915351810117656,0.7472183071202954,0.07654779306342142,0.03717360203194623,0.011294036564791296,-0.7911437191385242,0.21319662109144594,2.6641889764107707,-0.1062777249978354,-0.13731998485911284,-0.4162558199342141,-1.5498377968411983,0.7335258612076875,1.0417190913106185,-0.028494621882404477,2.020747748419635,-1.088687317098657,-1.0520940799094736,-0.9301608812535455,0.3756738820184492,-1.0850500239522738,-1.7067802558636007,-0.44014575633396863,0.5246300696972056,-1.259468621738041,-0.3071423443341209,-1.118902094299359,-2.8256467329121366,-0.8868220385029365,0.10427311227907055,-0.11837011857590833,-0.14146329337330818,0.8647897922587614,-0.4726942358018606,0.6772634832759559,-0.09297918886954187,0.2872666418985008,-0.5702877461493379,-0.4626469928567091,0.32094161556974915,-0.05514093237471859,-0.6304223605436565,-0.10290863068832364,0.8161740895582345,1.6797723943033382],\"type\":\"scatter\"},{\"line\":{\"color\":\"rgba(50, 171, 96, 1.0)\",\"dash\":\"solid\",\"shape\":\"linear\",\"width\":1.3},\"mode\":\"lines\",\"name\":\"C\",\"text\":\"\",\"x\":[0,1,2,3,4,5,6,7,8,9,10,11,12,13,14,15,16,17,18,19,20,21,22,23,24,25,26,27,28,29,30,31,32,33,34,35,36,37,38,39,40,41,42,43,44,45,46,47,48,49,50,51,52,53,54,55,56,57,58,59,60,61,62,63,64,65,66,67,68,69,70,71,72,73,74,75,76,77,78,79,80,81,82,83,84,85,86,87,88,89,90,91,92,93,94,95,96,97,98,99],\"y\":[1.5499007333526247,-0.426196296811759,0.37495612585605337,-0.1336889363052779,1.124770842851406,1.4803699233545966,-0.6913548860620014,0.4530846133240014,0.29625556671890596,2.1392925123134354,0.24267259322727006,-0.5912929335678633,1.076613747733806,-1.156428688302867,-1.361704854446854,-1.5901515424577273,-0.8052314305134672,1.0339252683482132,-1.1343511158123745,-0.43036028633421336,0.5963820862936385,-1.0310122434153828,-0.6874335453969067,-1.621650128651768,0.6073315143194891,1.0070892732439969,1.6077219588646128,-0.17734895812291784,-0.9469102539155999,-0.11564308399434055,-1.5771428692861236,0.38955482579939316,0.3487278769428918,-1.8249887232803101,-0.4444523588309359,1.0238853246466337,0.6667274197816324,-0.592098717424933,-0.046679766440859,0.38322700481864364,0.9879496031684146,0.5023797159654563,-0.05931628734162812,-0.3829196092787056,2.5088960126271633,-0.14933906983556622,0.7064774753092996,-0.07197208057269007,1.3225685292105969,-0.5750408230285969,-0.6091743639150502,0.7085474851277107,0.8975997945112504,1.9084417878905442,-0.521338021933896,-1.4485492999011722,0.16299417795293486,-0.1866718510800261,-1.3317720125027332,1.2878803953991451,0.04170166057725168,-0.7677567980366121,-0.16550003663731286,-1.2521323815543866,-0.8913585151318264,0.31563780106852624,0.2608034524962743,0.9056065015019831,-2.0452160103151678,-1.3091827440595243,-0.0012249881482702207,-1.1462646754780625,-2.0180115831993803,0.690117417760465,1.4661048584907461,-0.044809359760745446,0.6711649827345268,-0.8998777560052286,0.1195515193916954,-0.1601594377668466,-0.05950824566685734,-0.1717728420019799,1.5209540077798478,-0.5132722332286485,-0.9212387828904061,1.1414634700954014,0.9936694880655823,-1.358791600204876,-0.07179118478643616,-0.41436449362850447,-1.5239282783018193,0.4906643802015708,-1.1856787969293885,2.776526862058707,0.2870067040464905,1.3707149588138539,-0.5215968825329502,-1.047051604087512,1.6233558034971234,-1.4415356137188111],\"type\":\"scatter\"},{\"line\":{\"color\":\"rgba(128, 0, 128, 1.0)\",\"dash\":\"solid\",\"shape\":\"linear\",\"width\":1.3},\"mode\":\"lines\",\"name\":\"D\",\"text\":\"\",\"x\":[0,1,2,3,4,5,6,7,8,9,10,11,12,13,14,15,16,17,18,19,20,21,22,23,24,25,26,27,28,29,30,31,32,33,34,35,36,37,38,39,40,41,42,43,44,45,46,47,48,49,50,51,52,53,54,55,56,57,58,59,60,61,62,63,64,65,66,67,68,69,70,71,72,73,74,75,76,77,78,79,80,81,82,83,84,85,86,87,88,89,90,91,92,93,94,95,96,97,98,99],\"y\":[0.12955630777878926,0.7604145971356845,-1.2045784380447713,1.917675966562483,0.29463895926258893,-0.9464359788243719,-1.9743923185423387,-1.090200508419864,-0.6537860886418702,-1.6900748835323505,0.9560642590841237,-1.6882799084757145,0.7375744100532009,1.1195528650686848,-0.37128350416116823,0.023969551457540293,-0.5431314927858206,-1.1023820841410457,-0.40007890308387023,-0.934323378972884,1.9351962764042818,0.9151583018418837,0.646138654596641,-0.4151190527899096,-2.4369509639947116,-0.7621464858688528,-1.235104713665192,0.801505849211162,0.20021371182195458,-0.761116838192273,-1.386288670481089,-1.105065235430969,-3.290269773602219,-1.6648733726990381,1.865557211015783,-0.7273444064480094,-1.1477942586726233,-0.13057957481201085,-0.3682283221653446,0.31287956215888735,-0.7117466624851111,-1.1999906025160019,0.6634672518360509,0.17669380568498563,-0.26738868384158143,-0.796271992339394,-0.7626665373747872,-0.5016363832753867,-1.130751686427838,0.10773715683904422,0.7455490999237923,-0.23876288418707056,-2.6257576586398717,1.3772743435575447,1.3046039520601658,-1.0213326591903462,0.2778963785150497,1.6729475614611091,1.1910742826813256,0.10024631032737884,0.4025160865685234,0.8833463783062594,-0.5201448026334445,0.6608035653686412,-0.7299610652938594,0.8320928519979393,0.32834247832769176,-1.0915799970579458,0.45742096190071907,-0.4610177452478262,-0.23888484265146886,-0.07629868213180137,0.051750630643244526,0.9576730290121173,-2.196006681226583,1.2969432038162436,0.18047325353238816,0.5922433132055498,0.05885073989012512,-0.28449684210233467,-1.9072287405115684,-0.45255772109622,0.1787901922735105,-1.493085001346657,-0.6652674271205405,1.6157483678382576,0.7937464687746136,-0.8371647361154547,-1.3172757840253866,-1.0167299675735864,0.9870695561696492,-0.6855480740995116,1.0219213557275488,0.8091890008260322,1.119587923068023,-0.6140243726310259,2.975157466010432,0.25089008886979375,-0.9101205664114322,-1.5014026804688845],\"type\":\"scatter\"},{\"line\":{\"color\":\"rgba(219, 64, 82, 1.0)\",\"dash\":\"solid\",\"shape\":\"linear\",\"width\":1.3},\"mode\":\"lines\",\"name\":\"E\",\"text\":\"\",\"x\":[0,1,2,3,4,5,6,7,8,9,10,11,12,13,14,15,16,17,18,19,20,21,22,23,24,25,26,27,28,29,30,31,32,33,34,35,36,37,38,39,40,41,42,43,44,45,46,47,48,49,50,51,52,53,54,55,56,57,58,59,60,61,62,63,64,65,66,67,68,69,70,71,72,73,74,75,76,77,78,79,80,81,82,83,84,85,86,87,88,89,90,91,92,93,94,95,96,97,98,99],\"y\":[0.6019315115579517,0.7757097712782659,-0.09269061328673495,0.07362399949468768,-1.6490500950133706,-0.3673196474548039,-0.8136397678967872,-1.7629786295322996,0.36445985357316774,2.253346516631644,0.48151797390507356,0.4384838418002106,-0.7553537245928833,0.05634775556725741,0.38024599030903733,-0.07642558857726198,1.569730122662999,-1.0656999485565524,-1.0942623346288112,-0.5833328752367328,-0.39026358011348045,-0.033645367785843996,-0.8288070160035422,-0.224842733722281,-0.7938770400897642,-0.601013637613153,-0.07383813819140272,0.027432359120694822,0.6804699489000555,1.730941839989778,0.5590944673549689,0.18170904956827238,0.6280229122015368,0.48939130932799,-0.357683562990978,1.0912319012928966,-0.6935954882830229,-0.6134865876246812,-1.17800243573494,-0.5945321367267138,0.7552495359669781,-0.6977715891470061,1.2369469802288617,2.1857028631511137,-1.4682810321475195,-0.48142756273156345,1.9569745370170109,0.8601369810450683,1.8543988418277013,-1.1461369672463904,0.35771878161032633,-0.4256943864570583,-0.13591528515801526,0.5934803609837643,-0.7597378802970451,0.17844815269397957,-1.2575572670619646,0.8711279151014655,0.38882904087411113,0.37329684071352565,-0.19667160931324254,0.4855395374174117,0.4630447730351342,1.3570337203935345,-0.09523453846013402,0.5443003499943089,-0.06982203992232405,-0.5121216464590715,-0.27189995573917913,0.006623541867965086,-0.4552987608630462,0.1814273021264075,0.2167050769382245,0.7636650872857829,1.2364431692438171,1.6031361007181466,0.46845385782853227,0.6900190038562005,-1.1666245315120376,-0.5659139214525217,0.40785698840184115,-1.5415852973049644,0.793548323760602,0.6946420126758375,0.7400577327458684,0.4336538124099455,0.8556283748721737,-0.7121498780599496,-1.6920628446134767,-0.6532050341614064,1.591924604897572,-0.646440599385416,-0.23200193495923746,-1.2599302333037088,-0.5272194320133379,-0.2551713907648001,-0.427599138730128,-0.36254347695641126,-1.5506859127688113,0.9619778026612145],\"type\":\"scatter\"}],                        {\"legend\":{\"bgcolor\":\"#F5F6F9\",\"font\":{\"color\":\"#4D5663\"}},\"paper_bgcolor\":\"#F5F6F9\",\"plot_bgcolor\":\"#F5F6F9\",\"template\":{\"data\":{\"barpolar\":[{\"marker\":{\"line\":{\"color\":\"#E5ECF6\",\"width\":0.5},\"pattern\":{\"fillmode\":\"overlay\",\"size\":10,\"solidity\":0.2}},\"type\":\"barpolar\"}],\"bar\":[{\"error_x\":{\"color\":\"#2a3f5f\"},\"error_y\":{\"color\":\"#2a3f5f\"},\"marker\":{\"line\":{\"color\":\"#E5ECF6\",\"width\":0.5},\"pattern\":{\"fillmode\":\"overlay\",\"size\":10,\"solidity\":0.2}},\"type\":\"bar\"}],\"carpet\":[{\"aaxis\":{\"endlinecolor\":\"#2a3f5f\",\"gridcolor\":\"white\",\"linecolor\":\"white\",\"minorgridcolor\":\"white\",\"startlinecolor\":\"#2a3f5f\"},\"baxis\":{\"endlinecolor\":\"#2a3f5f\",\"gridcolor\":\"white\",\"linecolor\":\"white\",\"minorgridcolor\":\"white\",\"startlinecolor\":\"#2a3f5f\"},\"type\":\"carpet\"}],\"choropleth\":[{\"colorbar\":{\"outlinewidth\":0,\"ticks\":\"\"},\"type\":\"choropleth\"}],\"contourcarpet\":[{\"colorbar\":{\"outlinewidth\":0,\"ticks\":\"\"},\"type\":\"contourcarpet\"}],\"contour\":[{\"colorbar\":{\"outlinewidth\":0,\"ticks\":\"\"},\"colorscale\":[[0.0,\"#0d0887\"],[0.1111111111111111,\"#46039f\"],[0.2222222222222222,\"#7201a8\"],[0.3333333333333333,\"#9c179e\"],[0.4444444444444444,\"#bd3786\"],[0.5555555555555556,\"#d8576b\"],[0.6666666666666666,\"#ed7953\"],[0.7777777777777778,\"#fb9f3a\"],[0.8888888888888888,\"#fdca26\"],[1.0,\"#f0f921\"]],\"type\":\"contour\"}],\"heatmapgl\":[{\"colorbar\":{\"outlinewidth\":0,\"ticks\":\"\"},\"colorscale\":[[0.0,\"#0d0887\"],[0.1111111111111111,\"#46039f\"],[0.2222222222222222,\"#7201a8\"],[0.3333333333333333,\"#9c179e\"],[0.4444444444444444,\"#bd3786\"],[0.5555555555555556,\"#d8576b\"],[0.6666666666666666,\"#ed7953\"],[0.7777777777777778,\"#fb9f3a\"],[0.8888888888888888,\"#fdca26\"],[1.0,\"#f0f921\"]],\"type\":\"heatmapgl\"}],\"heatmap\":[{\"colorbar\":{\"outlinewidth\":0,\"ticks\":\"\"},\"colorscale\":[[0.0,\"#0d0887\"],[0.1111111111111111,\"#46039f\"],[0.2222222222222222,\"#7201a8\"],[0.3333333333333333,\"#9c179e\"],[0.4444444444444444,\"#bd3786\"],[0.5555555555555556,\"#d8576b\"],[0.6666666666666666,\"#ed7953\"],[0.7777777777777778,\"#fb9f3a\"],[0.8888888888888888,\"#fdca26\"],[1.0,\"#f0f921\"]],\"type\":\"heatmap\"}],\"histogram2dcontour\":[{\"colorbar\":{\"outlinewidth\":0,\"ticks\":\"\"},\"colorscale\":[[0.0,\"#0d0887\"],[0.1111111111111111,\"#46039f\"],[0.2222222222222222,\"#7201a8\"],[0.3333333333333333,\"#9c179e\"],[0.4444444444444444,\"#bd3786\"],[0.5555555555555556,\"#d8576b\"],[0.6666666666666666,\"#ed7953\"],[0.7777777777777778,\"#fb9f3a\"],[0.8888888888888888,\"#fdca26\"],[1.0,\"#f0f921\"]],\"type\":\"histogram2dcontour\"}],\"histogram2d\":[{\"colorbar\":{\"outlinewidth\":0,\"ticks\":\"\"},\"colorscale\":[[0.0,\"#0d0887\"],[0.1111111111111111,\"#46039f\"],[0.2222222222222222,\"#7201a8\"],[0.3333333333333333,\"#9c179e\"],[0.4444444444444444,\"#bd3786\"],[0.5555555555555556,\"#d8576b\"],[0.6666666666666666,\"#ed7953\"],[0.7777777777777778,\"#fb9f3a\"],[0.8888888888888888,\"#fdca26\"],[1.0,\"#f0f921\"]],\"type\":\"histogram2d\"}],\"histogram\":[{\"marker\":{\"pattern\":{\"fillmode\":\"overlay\",\"size\":10,\"solidity\":0.2}},\"type\":\"histogram\"}],\"mesh3d\":[{\"colorbar\":{\"outlinewidth\":0,\"ticks\":\"\"},\"type\":\"mesh3d\"}],\"parcoords\":[{\"line\":{\"colorbar\":{\"outlinewidth\":0,\"ticks\":\"\"}},\"type\":\"parcoords\"}],\"pie\":[{\"automargin\":true,\"type\":\"pie\"}],\"scatter3d\":[{\"line\":{\"colorbar\":{\"outlinewidth\":0,\"ticks\":\"\"}},\"marker\":{\"colorbar\":{\"outlinewidth\":0,\"ticks\":\"\"}},\"type\":\"scatter3d\"}],\"scattercarpet\":[{\"marker\":{\"colorbar\":{\"outlinewidth\":0,\"ticks\":\"\"}},\"type\":\"scattercarpet\"}],\"scattergeo\":[{\"marker\":{\"colorbar\":{\"outlinewidth\":0,\"ticks\":\"\"}},\"type\":\"scattergeo\"}],\"scattergl\":[{\"marker\":{\"colorbar\":{\"outlinewidth\":0,\"ticks\":\"\"}},\"type\":\"scattergl\"}],\"scattermapbox\":[{\"marker\":{\"colorbar\":{\"outlinewidth\":0,\"ticks\":\"\"}},\"type\":\"scattermapbox\"}],\"scatterpolargl\":[{\"marker\":{\"colorbar\":{\"outlinewidth\":0,\"ticks\":\"\"}},\"type\":\"scatterpolargl\"}],\"scatterpolar\":[{\"marker\":{\"colorbar\":{\"outlinewidth\":0,\"ticks\":\"\"}},\"type\":\"scatterpolar\"}],\"scatter\":[{\"marker\":{\"colorbar\":{\"outlinewidth\":0,\"ticks\":\"\"}},\"type\":\"scatter\"}],\"scatterternary\":[{\"marker\":{\"colorbar\":{\"outlinewidth\":0,\"ticks\":\"\"}},\"type\":\"scatterternary\"}],\"surface\":[{\"colorbar\":{\"outlinewidth\":0,\"ticks\":\"\"},\"colorscale\":[[0.0,\"#0d0887\"],[0.1111111111111111,\"#46039f\"],[0.2222222222222222,\"#7201a8\"],[0.3333333333333333,\"#9c179e\"],[0.4444444444444444,\"#bd3786\"],[0.5555555555555556,\"#d8576b\"],[0.6666666666666666,\"#ed7953\"],[0.7777777777777778,\"#fb9f3a\"],[0.8888888888888888,\"#fdca26\"],[1.0,\"#f0f921\"]],\"type\":\"surface\"}],\"table\":[{\"cells\":{\"fill\":{\"color\":\"#EBF0F8\"},\"line\":{\"color\":\"white\"}},\"header\":{\"fill\":{\"color\":\"#C8D4E3\"},\"line\":{\"color\":\"white\"}},\"type\":\"table\"}]},\"layout\":{\"annotationdefaults\":{\"arrowcolor\":\"#2a3f5f\",\"arrowhead\":0,\"arrowwidth\":1},\"autotypenumbers\":\"strict\",\"coloraxis\":{\"colorbar\":{\"outlinewidth\":0,\"ticks\":\"\"}},\"colorscale\":{\"diverging\":[[0,\"#8e0152\"],[0.1,\"#c51b7d\"],[0.2,\"#de77ae\"],[0.3,\"#f1b6da\"],[0.4,\"#fde0ef\"],[0.5,\"#f7f7f7\"],[0.6,\"#e6f5d0\"],[0.7,\"#b8e186\"],[0.8,\"#7fbc41\"],[0.9,\"#4d9221\"],[1,\"#276419\"]],\"sequential\":[[0.0,\"#0d0887\"],[0.1111111111111111,\"#46039f\"],[0.2222222222222222,\"#7201a8\"],[0.3333333333333333,\"#9c179e\"],[0.4444444444444444,\"#bd3786\"],[0.5555555555555556,\"#d8576b\"],[0.6666666666666666,\"#ed7953\"],[0.7777777777777778,\"#fb9f3a\"],[0.8888888888888888,\"#fdca26\"],[1.0,\"#f0f921\"]],\"sequentialminus\":[[0.0,\"#0d0887\"],[0.1111111111111111,\"#46039f\"],[0.2222222222222222,\"#7201a8\"],[0.3333333333333333,\"#9c179e\"],[0.4444444444444444,\"#bd3786\"],[0.5555555555555556,\"#d8576b\"],[0.6666666666666666,\"#ed7953\"],[0.7777777777777778,\"#fb9f3a\"],[0.8888888888888888,\"#fdca26\"],[1.0,\"#f0f921\"]]},\"colorway\":[\"#636efa\",\"#EF553B\",\"#00cc96\",\"#ab63fa\",\"#FFA15A\",\"#19d3f3\",\"#FF6692\",\"#B6E880\",\"#FF97FF\",\"#FECB52\"],\"font\":{\"color\":\"#2a3f5f\"},\"geo\":{\"bgcolor\":\"white\",\"lakecolor\":\"white\",\"landcolor\":\"#E5ECF6\",\"showlakes\":true,\"showland\":true,\"subunitcolor\":\"white\"},\"hoverlabel\":{\"align\":\"left\"},\"hovermode\":\"closest\",\"mapbox\":{\"style\":\"light\"},\"paper_bgcolor\":\"white\",\"plot_bgcolor\":\"#E5ECF6\",\"polar\":{\"angularaxis\":{\"gridcolor\":\"white\",\"linecolor\":\"white\",\"ticks\":\"\"},\"bgcolor\":\"#E5ECF6\",\"radialaxis\":{\"gridcolor\":\"white\",\"linecolor\":\"white\",\"ticks\":\"\"}},\"scene\":{\"xaxis\":{\"backgroundcolor\":\"#E5ECF6\",\"gridcolor\":\"white\",\"gridwidth\":2,\"linecolor\":\"white\",\"showbackground\":true,\"ticks\":\"\",\"zerolinecolor\":\"white\"},\"yaxis\":{\"backgroundcolor\":\"#E5ECF6\",\"gridcolor\":\"white\",\"gridwidth\":2,\"linecolor\":\"white\",\"showbackground\":true,\"ticks\":\"\",\"zerolinecolor\":\"white\"},\"zaxis\":{\"backgroundcolor\":\"#E5ECF6\",\"gridcolor\":\"white\",\"gridwidth\":2,\"linecolor\":\"white\",\"showbackground\":true,\"ticks\":\"\",\"zerolinecolor\":\"white\"}},\"shapedefaults\":{\"line\":{\"color\":\"#2a3f5f\"}},\"ternary\":{\"aaxis\":{\"gridcolor\":\"white\",\"linecolor\":\"white\",\"ticks\":\"\"},\"baxis\":{\"gridcolor\":\"white\",\"linecolor\":\"white\",\"ticks\":\"\"},\"bgcolor\":\"#E5ECF6\",\"caxis\":{\"gridcolor\":\"white\",\"linecolor\":\"white\",\"ticks\":\"\"}},\"title\":{\"x\":0.05},\"xaxis\":{\"automargin\":true,\"gridcolor\":\"white\",\"linecolor\":\"white\",\"ticks\":\"\",\"title\":{\"standoff\":15},\"zerolinecolor\":\"white\",\"zerolinewidth\":2},\"yaxis\":{\"automargin\":true,\"gridcolor\":\"white\",\"linecolor\":\"white\",\"ticks\":\"\",\"title\":{\"standoff\":15},\"zerolinecolor\":\"white\",\"zerolinewidth\":2}}},\"title\":{\"font\":{\"color\":\"#4D5663\"}},\"xaxis\":{\"gridcolor\":\"#E1E5ED\",\"showgrid\":true,\"tickfont\":{\"color\":\"#4D5663\"},\"title\":{\"font\":{\"color\":\"#4D5663\"},\"text\":\"\"},\"zerolinecolor\":\"#E1E5ED\"},\"yaxis\":{\"gridcolor\":\"#E1E5ED\",\"showgrid\":true,\"tickfont\":{\"color\":\"#4D5663\"},\"title\":{\"font\":{\"color\":\"#4D5663\"},\"text\":\"\"},\"zerolinecolor\":\"#E1E5ED\"}},                        {\"showLink\": true, \"linkText\": \"Export to plot.ly\", \"plotlyServerURL\": \"https://plot.ly\", \"responsive\": true}                    ).then(function(){\n",
       "                            \n",
       "var gd = document.getElementById('e6739d58-2fcd-4dfb-9274-b6ce3268237b');\n",
       "var x = new MutationObserver(function (mutations, observer) {{\n",
       "        var display = window.getComputedStyle(gd).display;\n",
       "        if (!display || display === 'none') {{\n",
       "            console.log([gd, 'removed!']);\n",
       "            Plotly.purge(gd);\n",
       "            observer.disconnect();\n",
       "        }}\n",
       "}});\n",
       "\n",
       "// Listen for the removal of the full notebook cells\n",
       "var notebookContainer = gd.closest('#notebook-container');\n",
       "if (notebookContainer) {{\n",
       "    x.observe(notebookContainer, {childList: true});\n",
       "}}\n",
       "\n",
       "// Listen for the clearing of the current output cell\n",
       "var outputEl = gd.closest('.output');\n",
       "if (outputEl) {{\n",
       "    x.observe(outputEl, {childList: true});\n",
       "}}\n",
       "\n",
       "                        })                };                });            </script>        </div>"
      ]
     },
     "metadata": {},
     "output_type": "display_data"
    }
   ],
   "source": [
    "df.iplot()"
   ]
  },
  {
   "cell_type": "code",
   "execution_count": 19,
   "id": "732ed033",
   "metadata": {},
   "outputs": [
    {
     "data": {
      "application/vnd.plotly.v1+json": {
       "config": {
        "linkText": "Export to plot.ly",
        "plotlyServerURL": "https://plot.ly",
        "showLink": true
       },
       "data": [
        {
         "line": {
          "color": "rgba(255, 153, 51, 1.0)",
          "dash": "solid",
          "shape": "linear",
          "width": 1.3
         },
         "marker": {
          "size": 12,
          "symbol": "circle"
         },
         "mode": "markers",
         "name": "B",
         "text": "",
         "type": "scatter",
         "x": [
          1.4156358936695956,
          -0.7486088378843425,
          0.4955050996849973,
          0.0875785017678611,
          -0.826218807836546,
          -0.47780865783597365,
          0.6371806083430593,
          -0.7862798967147497,
          2.1114851603190483,
          -1.2324994349183411,
          0.1691566162217476,
          -0.6301298927330321,
          0.49786627088299,
          0.49011146626932406,
          -0.2723726811039073,
          -1.2224214956031332,
          -0.020378126111556896,
          1.665415912074953,
          -1.8969961234292025,
          -0.42966872521473776,
          0.05764098447428437,
          0.7590117363436478,
          -1.3286958126006447,
          -1.1606123221990714,
          0.13921065376826422,
          1.0854844964786545,
          -1.104309169567345,
          0.6994799631154538,
          0.8742108609821494,
          0.2257180731978571,
          -1.5171414152618152,
          -0.25644652475948193,
          0.18749692837930554,
          -0.6801926984548232,
          -0.18303574689457183,
          0.03718946653466111,
          -1.073457770498543,
          -0.15671529263355505,
          0.44549454959724333,
          -0.3510063000141201,
          -2.149535432281797,
          1.1408309726951107,
          -0.4106121412032327,
          -0.9711252878091771,
          -0.7144961357779486,
          2.128623477880922,
          -1.2805192296083925,
          0.5017711749949958,
          1.5889495288058462,
          2.301798936419069,
          -0.4038058997708527,
          2.083876183434349,
          -1.6919099735875882,
          -0.4604950389910235,
          0.44468667813470586,
          0.3837181925082112,
          -2.7186889584621365,
          1.6946586670767712,
          -1.5908409061921487,
          0.9916203882779985,
          -0.373584193784145,
          -0.37853000119167124,
          -0.03949696766638036,
          0.6116075103301817,
          0.7066339437665027,
          -0.18362101057989413,
          -0.19126910937529207,
          -0.5942646384168769,
          -0.9939326859755566,
          -0.21782966355238653,
          -2.1427933202436424,
          1.1820416482811897,
          -0.1832952178723742,
          1.303974123810601,
          0.16854111860298743,
          0.07689777318716676,
          -1.3606153114019126,
          -0.40256301529248495,
          0.3522047698292674,
          1.3874784565490599,
          0.5644646020721652,
          0.25993646056156505,
          0.727304145289929,
          1.1188690480615626,
          -0.5326278977863839,
          0.5649152222277095,
          1.8842363452638666,
          -0.3148006308495593,
          0.16962586904042973,
          -0.7724391372975189,
          1.1812131708118059,
          1.8094910892179872,
          1.339874266589562,
          0.0808352432941568,
          -0.9666664192169856,
          -1.1982532515293602,
          -0.24590540357908927,
          1.2863581521970273,
          -1.1458829130853836,
          -0.41864958520433504
         ],
         "y": [
          0.7062581476995701,
          -1.1710913339176028,
          1.7403465938914462,
          -0.278669933207016,
          0.5289837227499957,
          -0.5204208476320185,
          0.820349091795676,
          -2.5721814068096687,
          -0.1622269597246676,
          0.24048767125338333,
          -0.07666820067898973,
          1.6967460410727122,
          -0.06991286363178612,
          1.3581372047706672,
          -0.7307973344214783,
          1.5138821342258184,
          -0.621027024043218,
          1.3088421656914941,
          -1.4817004302025731,
          -1.105579049921459,
          1.808244351365949,
          1.7814240534761128,
          -1.2849968926336421,
          0.7235419170090094,
          1.058536572130399,
          -1.1048671870589075,
          0.5266596654819395,
          -0.8769589435617031,
          -0.30534849033916944,
          -1.352162767596701,
          0.16922062850592987,
          0.7628457417150688,
          1.5445728618409094,
          -0.6867771252144196,
          1.6962340533283917,
          -0.06598647451729873,
          -0.3439382299071361,
          -1.2794338468476885,
          1.519574703411229,
          0.9133174061492851,
          1.6125385717433276,
          0.43280634762158154,
          -0.9039640060890394,
          0.7359377797913865,
          -1.3326526464564628,
          -1.4966814512041033,
          0.8404794247435162,
          0.2075619795873575,
          0.31146161039254616,
          -0.6819626630511477,
          0.48568395389333435,
          0.07611136799710402,
          -0.14418157848227106,
          0.9843015427342142,
          -0.7544519367543739,
          -2.1915351810117656,
          0.7472183071202954,
          0.07654779306342142,
          0.03717360203194623,
          0.011294036564791296,
          -0.7911437191385242,
          0.21319662109144594,
          2.6641889764107707,
          -0.1062777249978354,
          -0.13731998485911284,
          -0.4162558199342141,
          -1.5498377968411983,
          0.7335258612076875,
          1.0417190913106185,
          -0.028494621882404477,
          2.020747748419635,
          -1.088687317098657,
          -1.0520940799094736,
          -0.9301608812535455,
          0.3756738820184492,
          -1.0850500239522738,
          -1.7067802558636007,
          -0.44014575633396863,
          0.5246300696972056,
          -1.259468621738041,
          -0.3071423443341209,
          -1.118902094299359,
          -2.8256467329121366,
          -0.8868220385029365,
          0.10427311227907055,
          -0.11837011857590833,
          -0.14146329337330818,
          0.8647897922587614,
          -0.4726942358018606,
          0.6772634832759559,
          -0.09297918886954187,
          0.2872666418985008,
          -0.5702877461493379,
          -0.4626469928567091,
          0.32094161556974915,
          -0.05514093237471859,
          -0.6304223605436565,
          -0.10290863068832364,
          0.8161740895582345,
          1.6797723943033382
         ]
        }
       ],
       "layout": {
        "legend": {
         "bgcolor": "#F5F6F9",
         "font": {
          "color": "#4D5663"
         }
        },
        "paper_bgcolor": "#F5F6F9",
        "plot_bgcolor": "#F5F6F9",
        "template": {
         "data": {
          "bar": [
           {
            "error_x": {
             "color": "#2a3f5f"
            },
            "error_y": {
             "color": "#2a3f5f"
            },
            "marker": {
             "line": {
              "color": "#E5ECF6",
              "width": 0.5
             },
             "pattern": {
              "fillmode": "overlay",
              "size": 10,
              "solidity": 0.2
             }
            },
            "type": "bar"
           }
          ],
          "barpolar": [
           {
            "marker": {
             "line": {
              "color": "#E5ECF6",
              "width": 0.5
             },
             "pattern": {
              "fillmode": "overlay",
              "size": 10,
              "solidity": 0.2
             }
            },
            "type": "barpolar"
           }
          ],
          "carpet": [
           {
            "aaxis": {
             "endlinecolor": "#2a3f5f",
             "gridcolor": "white",
             "linecolor": "white",
             "minorgridcolor": "white",
             "startlinecolor": "#2a3f5f"
            },
            "baxis": {
             "endlinecolor": "#2a3f5f",
             "gridcolor": "white",
             "linecolor": "white",
             "minorgridcolor": "white",
             "startlinecolor": "#2a3f5f"
            },
            "type": "carpet"
           }
          ],
          "choropleth": [
           {
            "colorbar": {
             "outlinewidth": 0,
             "ticks": ""
            },
            "type": "choropleth"
           }
          ],
          "contour": [
           {
            "colorbar": {
             "outlinewidth": 0,
             "ticks": ""
            },
            "colorscale": [
             [
              0,
              "#0d0887"
             ],
             [
              0.1111111111111111,
              "#46039f"
             ],
             [
              0.2222222222222222,
              "#7201a8"
             ],
             [
              0.3333333333333333,
              "#9c179e"
             ],
             [
              0.4444444444444444,
              "#bd3786"
             ],
             [
              0.5555555555555556,
              "#d8576b"
             ],
             [
              0.6666666666666666,
              "#ed7953"
             ],
             [
              0.7777777777777778,
              "#fb9f3a"
             ],
             [
              0.8888888888888888,
              "#fdca26"
             ],
             [
              1,
              "#f0f921"
             ]
            ],
            "type": "contour"
           }
          ],
          "contourcarpet": [
           {
            "colorbar": {
             "outlinewidth": 0,
             "ticks": ""
            },
            "type": "contourcarpet"
           }
          ],
          "heatmap": [
           {
            "colorbar": {
             "outlinewidth": 0,
             "ticks": ""
            },
            "colorscale": [
             [
              0,
              "#0d0887"
             ],
             [
              0.1111111111111111,
              "#46039f"
             ],
             [
              0.2222222222222222,
              "#7201a8"
             ],
             [
              0.3333333333333333,
              "#9c179e"
             ],
             [
              0.4444444444444444,
              "#bd3786"
             ],
             [
              0.5555555555555556,
              "#d8576b"
             ],
             [
              0.6666666666666666,
              "#ed7953"
             ],
             [
              0.7777777777777778,
              "#fb9f3a"
             ],
             [
              0.8888888888888888,
              "#fdca26"
             ],
             [
              1,
              "#f0f921"
             ]
            ],
            "type": "heatmap"
           }
          ],
          "heatmapgl": [
           {
            "colorbar": {
             "outlinewidth": 0,
             "ticks": ""
            },
            "colorscale": [
             [
              0,
              "#0d0887"
             ],
             [
              0.1111111111111111,
              "#46039f"
             ],
             [
              0.2222222222222222,
              "#7201a8"
             ],
             [
              0.3333333333333333,
              "#9c179e"
             ],
             [
              0.4444444444444444,
              "#bd3786"
             ],
             [
              0.5555555555555556,
              "#d8576b"
             ],
             [
              0.6666666666666666,
              "#ed7953"
             ],
             [
              0.7777777777777778,
              "#fb9f3a"
             ],
             [
              0.8888888888888888,
              "#fdca26"
             ],
             [
              1,
              "#f0f921"
             ]
            ],
            "type": "heatmapgl"
           }
          ],
          "histogram": [
           {
            "marker": {
             "pattern": {
              "fillmode": "overlay",
              "size": 10,
              "solidity": 0.2
             }
            },
            "type": "histogram"
           }
          ],
          "histogram2d": [
           {
            "colorbar": {
             "outlinewidth": 0,
             "ticks": ""
            },
            "colorscale": [
             [
              0,
              "#0d0887"
             ],
             [
              0.1111111111111111,
              "#46039f"
             ],
             [
              0.2222222222222222,
              "#7201a8"
             ],
             [
              0.3333333333333333,
              "#9c179e"
             ],
             [
              0.4444444444444444,
              "#bd3786"
             ],
             [
              0.5555555555555556,
              "#d8576b"
             ],
             [
              0.6666666666666666,
              "#ed7953"
             ],
             [
              0.7777777777777778,
              "#fb9f3a"
             ],
             [
              0.8888888888888888,
              "#fdca26"
             ],
             [
              1,
              "#f0f921"
             ]
            ],
            "type": "histogram2d"
           }
          ],
          "histogram2dcontour": [
           {
            "colorbar": {
             "outlinewidth": 0,
             "ticks": ""
            },
            "colorscale": [
             [
              0,
              "#0d0887"
             ],
             [
              0.1111111111111111,
              "#46039f"
             ],
             [
              0.2222222222222222,
              "#7201a8"
             ],
             [
              0.3333333333333333,
              "#9c179e"
             ],
             [
              0.4444444444444444,
              "#bd3786"
             ],
             [
              0.5555555555555556,
              "#d8576b"
             ],
             [
              0.6666666666666666,
              "#ed7953"
             ],
             [
              0.7777777777777778,
              "#fb9f3a"
             ],
             [
              0.8888888888888888,
              "#fdca26"
             ],
             [
              1,
              "#f0f921"
             ]
            ],
            "type": "histogram2dcontour"
           }
          ],
          "mesh3d": [
           {
            "colorbar": {
             "outlinewidth": 0,
             "ticks": ""
            },
            "type": "mesh3d"
           }
          ],
          "parcoords": [
           {
            "line": {
             "colorbar": {
              "outlinewidth": 0,
              "ticks": ""
             }
            },
            "type": "parcoords"
           }
          ],
          "pie": [
           {
            "automargin": true,
            "type": "pie"
           }
          ],
          "scatter": [
           {
            "marker": {
             "colorbar": {
              "outlinewidth": 0,
              "ticks": ""
             }
            },
            "type": "scatter"
           }
          ],
          "scatter3d": [
           {
            "line": {
             "colorbar": {
              "outlinewidth": 0,
              "ticks": ""
             }
            },
            "marker": {
             "colorbar": {
              "outlinewidth": 0,
              "ticks": ""
             }
            },
            "type": "scatter3d"
           }
          ],
          "scattercarpet": [
           {
            "marker": {
             "colorbar": {
              "outlinewidth": 0,
              "ticks": ""
             }
            },
            "type": "scattercarpet"
           }
          ],
          "scattergeo": [
           {
            "marker": {
             "colorbar": {
              "outlinewidth": 0,
              "ticks": ""
             }
            },
            "type": "scattergeo"
           }
          ],
          "scattergl": [
           {
            "marker": {
             "colorbar": {
              "outlinewidth": 0,
              "ticks": ""
             }
            },
            "type": "scattergl"
           }
          ],
          "scattermapbox": [
           {
            "marker": {
             "colorbar": {
              "outlinewidth": 0,
              "ticks": ""
             }
            },
            "type": "scattermapbox"
           }
          ],
          "scatterpolar": [
           {
            "marker": {
             "colorbar": {
              "outlinewidth": 0,
              "ticks": ""
             }
            },
            "type": "scatterpolar"
           }
          ],
          "scatterpolargl": [
           {
            "marker": {
             "colorbar": {
              "outlinewidth": 0,
              "ticks": ""
             }
            },
            "type": "scatterpolargl"
           }
          ],
          "scatterternary": [
           {
            "marker": {
             "colorbar": {
              "outlinewidth": 0,
              "ticks": ""
             }
            },
            "type": "scatterternary"
           }
          ],
          "surface": [
           {
            "colorbar": {
             "outlinewidth": 0,
             "ticks": ""
            },
            "colorscale": [
             [
              0,
              "#0d0887"
             ],
             [
              0.1111111111111111,
              "#46039f"
             ],
             [
              0.2222222222222222,
              "#7201a8"
             ],
             [
              0.3333333333333333,
              "#9c179e"
             ],
             [
              0.4444444444444444,
              "#bd3786"
             ],
             [
              0.5555555555555556,
              "#d8576b"
             ],
             [
              0.6666666666666666,
              "#ed7953"
             ],
             [
              0.7777777777777778,
              "#fb9f3a"
             ],
             [
              0.8888888888888888,
              "#fdca26"
             ],
             [
              1,
              "#f0f921"
             ]
            ],
            "type": "surface"
           }
          ],
          "table": [
           {
            "cells": {
             "fill": {
              "color": "#EBF0F8"
             },
             "line": {
              "color": "white"
             }
            },
            "header": {
             "fill": {
              "color": "#C8D4E3"
             },
             "line": {
              "color": "white"
             }
            },
            "type": "table"
           }
          ]
         },
         "layout": {
          "annotationdefaults": {
           "arrowcolor": "#2a3f5f",
           "arrowhead": 0,
           "arrowwidth": 1
          },
          "autotypenumbers": "strict",
          "coloraxis": {
           "colorbar": {
            "outlinewidth": 0,
            "ticks": ""
           }
          },
          "colorscale": {
           "diverging": [
            [
             0,
             "#8e0152"
            ],
            [
             0.1,
             "#c51b7d"
            ],
            [
             0.2,
             "#de77ae"
            ],
            [
             0.3,
             "#f1b6da"
            ],
            [
             0.4,
             "#fde0ef"
            ],
            [
             0.5,
             "#f7f7f7"
            ],
            [
             0.6,
             "#e6f5d0"
            ],
            [
             0.7,
             "#b8e186"
            ],
            [
             0.8,
             "#7fbc41"
            ],
            [
             0.9,
             "#4d9221"
            ],
            [
             1,
             "#276419"
            ]
           ],
           "sequential": [
            [
             0,
             "#0d0887"
            ],
            [
             0.1111111111111111,
             "#46039f"
            ],
            [
             0.2222222222222222,
             "#7201a8"
            ],
            [
             0.3333333333333333,
             "#9c179e"
            ],
            [
             0.4444444444444444,
             "#bd3786"
            ],
            [
             0.5555555555555556,
             "#d8576b"
            ],
            [
             0.6666666666666666,
             "#ed7953"
            ],
            [
             0.7777777777777778,
             "#fb9f3a"
            ],
            [
             0.8888888888888888,
             "#fdca26"
            ],
            [
             1,
             "#f0f921"
            ]
           ],
           "sequentialminus": [
            [
             0,
             "#0d0887"
            ],
            [
             0.1111111111111111,
             "#46039f"
            ],
            [
             0.2222222222222222,
             "#7201a8"
            ],
            [
             0.3333333333333333,
             "#9c179e"
            ],
            [
             0.4444444444444444,
             "#bd3786"
            ],
            [
             0.5555555555555556,
             "#d8576b"
            ],
            [
             0.6666666666666666,
             "#ed7953"
            ],
            [
             0.7777777777777778,
             "#fb9f3a"
            ],
            [
             0.8888888888888888,
             "#fdca26"
            ],
            [
             1,
             "#f0f921"
            ]
           ]
          },
          "colorway": [
           "#636efa",
           "#EF553B",
           "#00cc96",
           "#ab63fa",
           "#FFA15A",
           "#19d3f3",
           "#FF6692",
           "#B6E880",
           "#FF97FF",
           "#FECB52"
          ],
          "font": {
           "color": "#2a3f5f"
          },
          "geo": {
           "bgcolor": "white",
           "lakecolor": "white",
           "landcolor": "#E5ECF6",
           "showlakes": true,
           "showland": true,
           "subunitcolor": "white"
          },
          "hoverlabel": {
           "align": "left"
          },
          "hovermode": "closest",
          "mapbox": {
           "style": "light"
          },
          "paper_bgcolor": "white",
          "plot_bgcolor": "#E5ECF6",
          "polar": {
           "angularaxis": {
            "gridcolor": "white",
            "linecolor": "white",
            "ticks": ""
           },
           "bgcolor": "#E5ECF6",
           "radialaxis": {
            "gridcolor": "white",
            "linecolor": "white",
            "ticks": ""
           }
          },
          "scene": {
           "xaxis": {
            "backgroundcolor": "#E5ECF6",
            "gridcolor": "white",
            "gridwidth": 2,
            "linecolor": "white",
            "showbackground": true,
            "ticks": "",
            "zerolinecolor": "white"
           },
           "yaxis": {
            "backgroundcolor": "#E5ECF6",
            "gridcolor": "white",
            "gridwidth": 2,
            "linecolor": "white",
            "showbackground": true,
            "ticks": "",
            "zerolinecolor": "white"
           },
           "zaxis": {
            "backgroundcolor": "#E5ECF6",
            "gridcolor": "white",
            "gridwidth": 2,
            "linecolor": "white",
            "showbackground": true,
            "ticks": "",
            "zerolinecolor": "white"
           }
          },
          "shapedefaults": {
           "line": {
            "color": "#2a3f5f"
           }
          },
          "ternary": {
           "aaxis": {
            "gridcolor": "white",
            "linecolor": "white",
            "ticks": ""
           },
           "baxis": {
            "gridcolor": "white",
            "linecolor": "white",
            "ticks": ""
           },
           "bgcolor": "#E5ECF6",
           "caxis": {
            "gridcolor": "white",
            "linecolor": "white",
            "ticks": ""
           }
          },
          "title": {
           "x": 0.05
          },
          "xaxis": {
           "automargin": true,
           "gridcolor": "white",
           "linecolor": "white",
           "ticks": "",
           "title": {
            "standoff": 15
           },
           "zerolinecolor": "white",
           "zerolinewidth": 2
          },
          "yaxis": {
           "automargin": true,
           "gridcolor": "white",
           "linecolor": "white",
           "ticks": "",
           "title": {
            "standoff": 15
           },
           "zerolinecolor": "white",
           "zerolinewidth": 2
          }
         }
        },
        "title": {
         "font": {
          "color": "#4D5663"
         }
        },
        "xaxis": {
         "gridcolor": "#E1E5ED",
         "showgrid": true,
         "tickfont": {
          "color": "#4D5663"
         },
         "title": {
          "font": {
           "color": "#4D5663"
          },
          "text": ""
         },
         "zerolinecolor": "#E1E5ED"
        },
        "yaxis": {
         "gridcolor": "#E1E5ED",
         "showgrid": true,
         "tickfont": {
          "color": "#4D5663"
         },
         "title": {
          "font": {
           "color": "#4D5663"
          },
          "text": ""
         },
         "zerolinecolor": "#E1E5ED"
        }
       }
      },
      "text/html": [
       "<div>                            <div id=\"01744894-b29f-4cfb-b729-59477cff7609\" class=\"plotly-graph-div\" style=\"height:525px; width:100%;\"></div>            <script type=\"text/javascript\">                require([\"plotly\"], function(Plotly) {                    window.PLOTLYENV=window.PLOTLYENV || {};\n",
       "                    window.PLOTLYENV.BASE_URL='https://plot.ly';                                    if (document.getElementById(\"01744894-b29f-4cfb-b729-59477cff7609\")) {                    Plotly.newPlot(                        \"01744894-b29f-4cfb-b729-59477cff7609\",                        [{\"line\":{\"color\":\"rgba(255, 153, 51, 1.0)\",\"dash\":\"solid\",\"shape\":\"linear\",\"width\":1.3},\"marker\":{\"size\":12,\"symbol\":\"circle\"},\"mode\":\"markers\",\"name\":\"B\",\"text\":\"\",\"x\":[1.4156358936695956,-0.7486088378843425,0.4955050996849973,0.0875785017678611,-0.826218807836546,-0.47780865783597365,0.6371806083430593,-0.7862798967147497,2.1114851603190483,-1.2324994349183411,0.1691566162217476,-0.6301298927330321,0.49786627088299,0.49011146626932406,-0.2723726811039073,-1.2224214956031332,-0.020378126111556896,1.665415912074953,-1.8969961234292025,-0.42966872521473776,0.05764098447428437,0.7590117363436478,-1.3286958126006447,-1.1606123221990714,0.13921065376826422,1.0854844964786545,-1.104309169567345,0.6994799631154538,0.8742108609821494,0.2257180731978571,-1.5171414152618152,-0.25644652475948193,0.18749692837930554,-0.6801926984548232,-0.18303574689457183,0.03718946653466111,-1.073457770498543,-0.15671529263355505,0.44549454959724333,-0.3510063000141201,-2.149535432281797,1.1408309726951107,-0.4106121412032327,-0.9711252878091771,-0.7144961357779486,2.128623477880922,-1.2805192296083925,0.5017711749949958,1.5889495288058462,2.301798936419069,-0.4038058997708527,2.083876183434349,-1.6919099735875882,-0.4604950389910235,0.44468667813470586,0.3837181925082112,-2.7186889584621365,1.6946586670767712,-1.5908409061921487,0.9916203882779985,-0.373584193784145,-0.37853000119167124,-0.03949696766638036,0.6116075103301817,0.7066339437665027,-0.18362101057989413,-0.19126910937529207,-0.5942646384168769,-0.9939326859755566,-0.21782966355238653,-2.1427933202436424,1.1820416482811897,-0.1832952178723742,1.303974123810601,0.16854111860298743,0.07689777318716676,-1.3606153114019126,-0.40256301529248495,0.3522047698292674,1.3874784565490599,0.5644646020721652,0.25993646056156505,0.727304145289929,1.1188690480615626,-0.5326278977863839,0.5649152222277095,1.8842363452638666,-0.3148006308495593,0.16962586904042973,-0.7724391372975189,1.1812131708118059,1.8094910892179872,1.339874266589562,0.0808352432941568,-0.9666664192169856,-1.1982532515293602,-0.24590540357908927,1.2863581521970273,-1.1458829130853836,-0.41864958520433504],\"y\":[0.7062581476995701,-1.1710913339176028,1.7403465938914462,-0.278669933207016,0.5289837227499957,-0.5204208476320185,0.820349091795676,-2.5721814068096687,-0.1622269597246676,0.24048767125338333,-0.07666820067898973,1.6967460410727122,-0.06991286363178612,1.3581372047706672,-0.7307973344214783,1.5138821342258184,-0.621027024043218,1.3088421656914941,-1.4817004302025731,-1.105579049921459,1.808244351365949,1.7814240534761128,-1.2849968926336421,0.7235419170090094,1.058536572130399,-1.1048671870589075,0.5266596654819395,-0.8769589435617031,-0.30534849033916944,-1.352162767596701,0.16922062850592987,0.7628457417150688,1.5445728618409094,-0.6867771252144196,1.6962340533283917,-0.06598647451729873,-0.3439382299071361,-1.2794338468476885,1.519574703411229,0.9133174061492851,1.6125385717433276,0.43280634762158154,-0.9039640060890394,0.7359377797913865,-1.3326526464564628,-1.4966814512041033,0.8404794247435162,0.2075619795873575,0.31146161039254616,-0.6819626630511477,0.48568395389333435,0.07611136799710402,-0.14418157848227106,0.9843015427342142,-0.7544519367543739,-2.1915351810117656,0.7472183071202954,0.07654779306342142,0.03717360203194623,0.011294036564791296,-0.7911437191385242,0.21319662109144594,2.6641889764107707,-0.1062777249978354,-0.13731998485911284,-0.4162558199342141,-1.5498377968411983,0.7335258612076875,1.0417190913106185,-0.028494621882404477,2.020747748419635,-1.088687317098657,-1.0520940799094736,-0.9301608812535455,0.3756738820184492,-1.0850500239522738,-1.7067802558636007,-0.44014575633396863,0.5246300696972056,-1.259468621738041,-0.3071423443341209,-1.118902094299359,-2.8256467329121366,-0.8868220385029365,0.10427311227907055,-0.11837011857590833,-0.14146329337330818,0.8647897922587614,-0.4726942358018606,0.6772634832759559,-0.09297918886954187,0.2872666418985008,-0.5702877461493379,-0.4626469928567091,0.32094161556974915,-0.05514093237471859,-0.6304223605436565,-0.10290863068832364,0.8161740895582345,1.6797723943033382],\"type\":\"scatter\"}],                        {\"legend\":{\"bgcolor\":\"#F5F6F9\",\"font\":{\"color\":\"#4D5663\"}},\"paper_bgcolor\":\"#F5F6F9\",\"plot_bgcolor\":\"#F5F6F9\",\"template\":{\"data\":{\"barpolar\":[{\"marker\":{\"line\":{\"color\":\"#E5ECF6\",\"width\":0.5},\"pattern\":{\"fillmode\":\"overlay\",\"size\":10,\"solidity\":0.2}},\"type\":\"barpolar\"}],\"bar\":[{\"error_x\":{\"color\":\"#2a3f5f\"},\"error_y\":{\"color\":\"#2a3f5f\"},\"marker\":{\"line\":{\"color\":\"#E5ECF6\",\"width\":0.5},\"pattern\":{\"fillmode\":\"overlay\",\"size\":10,\"solidity\":0.2}},\"type\":\"bar\"}],\"carpet\":[{\"aaxis\":{\"endlinecolor\":\"#2a3f5f\",\"gridcolor\":\"white\",\"linecolor\":\"white\",\"minorgridcolor\":\"white\",\"startlinecolor\":\"#2a3f5f\"},\"baxis\":{\"endlinecolor\":\"#2a3f5f\",\"gridcolor\":\"white\",\"linecolor\":\"white\",\"minorgridcolor\":\"white\",\"startlinecolor\":\"#2a3f5f\"},\"type\":\"carpet\"}],\"choropleth\":[{\"colorbar\":{\"outlinewidth\":0,\"ticks\":\"\"},\"type\":\"choropleth\"}],\"contourcarpet\":[{\"colorbar\":{\"outlinewidth\":0,\"ticks\":\"\"},\"type\":\"contourcarpet\"}],\"contour\":[{\"colorbar\":{\"outlinewidth\":0,\"ticks\":\"\"},\"colorscale\":[[0.0,\"#0d0887\"],[0.1111111111111111,\"#46039f\"],[0.2222222222222222,\"#7201a8\"],[0.3333333333333333,\"#9c179e\"],[0.4444444444444444,\"#bd3786\"],[0.5555555555555556,\"#d8576b\"],[0.6666666666666666,\"#ed7953\"],[0.7777777777777778,\"#fb9f3a\"],[0.8888888888888888,\"#fdca26\"],[1.0,\"#f0f921\"]],\"type\":\"contour\"}],\"heatmapgl\":[{\"colorbar\":{\"outlinewidth\":0,\"ticks\":\"\"},\"colorscale\":[[0.0,\"#0d0887\"],[0.1111111111111111,\"#46039f\"],[0.2222222222222222,\"#7201a8\"],[0.3333333333333333,\"#9c179e\"],[0.4444444444444444,\"#bd3786\"],[0.5555555555555556,\"#d8576b\"],[0.6666666666666666,\"#ed7953\"],[0.7777777777777778,\"#fb9f3a\"],[0.8888888888888888,\"#fdca26\"],[1.0,\"#f0f921\"]],\"type\":\"heatmapgl\"}],\"heatmap\":[{\"colorbar\":{\"outlinewidth\":0,\"ticks\":\"\"},\"colorscale\":[[0.0,\"#0d0887\"],[0.1111111111111111,\"#46039f\"],[0.2222222222222222,\"#7201a8\"],[0.3333333333333333,\"#9c179e\"],[0.4444444444444444,\"#bd3786\"],[0.5555555555555556,\"#d8576b\"],[0.6666666666666666,\"#ed7953\"],[0.7777777777777778,\"#fb9f3a\"],[0.8888888888888888,\"#fdca26\"],[1.0,\"#f0f921\"]],\"type\":\"heatmap\"}],\"histogram2dcontour\":[{\"colorbar\":{\"outlinewidth\":0,\"ticks\":\"\"},\"colorscale\":[[0.0,\"#0d0887\"],[0.1111111111111111,\"#46039f\"],[0.2222222222222222,\"#7201a8\"],[0.3333333333333333,\"#9c179e\"],[0.4444444444444444,\"#bd3786\"],[0.5555555555555556,\"#d8576b\"],[0.6666666666666666,\"#ed7953\"],[0.7777777777777778,\"#fb9f3a\"],[0.8888888888888888,\"#fdca26\"],[1.0,\"#f0f921\"]],\"type\":\"histogram2dcontour\"}],\"histogram2d\":[{\"colorbar\":{\"outlinewidth\":0,\"ticks\":\"\"},\"colorscale\":[[0.0,\"#0d0887\"],[0.1111111111111111,\"#46039f\"],[0.2222222222222222,\"#7201a8\"],[0.3333333333333333,\"#9c179e\"],[0.4444444444444444,\"#bd3786\"],[0.5555555555555556,\"#d8576b\"],[0.6666666666666666,\"#ed7953\"],[0.7777777777777778,\"#fb9f3a\"],[0.8888888888888888,\"#fdca26\"],[1.0,\"#f0f921\"]],\"type\":\"histogram2d\"}],\"histogram\":[{\"marker\":{\"pattern\":{\"fillmode\":\"overlay\",\"size\":10,\"solidity\":0.2}},\"type\":\"histogram\"}],\"mesh3d\":[{\"colorbar\":{\"outlinewidth\":0,\"ticks\":\"\"},\"type\":\"mesh3d\"}],\"parcoords\":[{\"line\":{\"colorbar\":{\"outlinewidth\":0,\"ticks\":\"\"}},\"type\":\"parcoords\"}],\"pie\":[{\"automargin\":true,\"type\":\"pie\"}],\"scatter3d\":[{\"line\":{\"colorbar\":{\"outlinewidth\":0,\"ticks\":\"\"}},\"marker\":{\"colorbar\":{\"outlinewidth\":0,\"ticks\":\"\"}},\"type\":\"scatter3d\"}],\"scattercarpet\":[{\"marker\":{\"colorbar\":{\"outlinewidth\":0,\"ticks\":\"\"}},\"type\":\"scattercarpet\"}],\"scattergeo\":[{\"marker\":{\"colorbar\":{\"outlinewidth\":0,\"ticks\":\"\"}},\"type\":\"scattergeo\"}],\"scattergl\":[{\"marker\":{\"colorbar\":{\"outlinewidth\":0,\"ticks\":\"\"}},\"type\":\"scattergl\"}],\"scattermapbox\":[{\"marker\":{\"colorbar\":{\"outlinewidth\":0,\"ticks\":\"\"}},\"type\":\"scattermapbox\"}],\"scatterpolargl\":[{\"marker\":{\"colorbar\":{\"outlinewidth\":0,\"ticks\":\"\"}},\"type\":\"scatterpolargl\"}],\"scatterpolar\":[{\"marker\":{\"colorbar\":{\"outlinewidth\":0,\"ticks\":\"\"}},\"type\":\"scatterpolar\"}],\"scatter\":[{\"marker\":{\"colorbar\":{\"outlinewidth\":0,\"ticks\":\"\"}},\"type\":\"scatter\"}],\"scatterternary\":[{\"marker\":{\"colorbar\":{\"outlinewidth\":0,\"ticks\":\"\"}},\"type\":\"scatterternary\"}],\"surface\":[{\"colorbar\":{\"outlinewidth\":0,\"ticks\":\"\"},\"colorscale\":[[0.0,\"#0d0887\"],[0.1111111111111111,\"#46039f\"],[0.2222222222222222,\"#7201a8\"],[0.3333333333333333,\"#9c179e\"],[0.4444444444444444,\"#bd3786\"],[0.5555555555555556,\"#d8576b\"],[0.6666666666666666,\"#ed7953\"],[0.7777777777777778,\"#fb9f3a\"],[0.8888888888888888,\"#fdca26\"],[1.0,\"#f0f921\"]],\"type\":\"surface\"}],\"table\":[{\"cells\":{\"fill\":{\"color\":\"#EBF0F8\"},\"line\":{\"color\":\"white\"}},\"header\":{\"fill\":{\"color\":\"#C8D4E3\"},\"line\":{\"color\":\"white\"}},\"type\":\"table\"}]},\"layout\":{\"annotationdefaults\":{\"arrowcolor\":\"#2a3f5f\",\"arrowhead\":0,\"arrowwidth\":1},\"autotypenumbers\":\"strict\",\"coloraxis\":{\"colorbar\":{\"outlinewidth\":0,\"ticks\":\"\"}},\"colorscale\":{\"diverging\":[[0,\"#8e0152\"],[0.1,\"#c51b7d\"],[0.2,\"#de77ae\"],[0.3,\"#f1b6da\"],[0.4,\"#fde0ef\"],[0.5,\"#f7f7f7\"],[0.6,\"#e6f5d0\"],[0.7,\"#b8e186\"],[0.8,\"#7fbc41\"],[0.9,\"#4d9221\"],[1,\"#276419\"]],\"sequential\":[[0.0,\"#0d0887\"],[0.1111111111111111,\"#46039f\"],[0.2222222222222222,\"#7201a8\"],[0.3333333333333333,\"#9c179e\"],[0.4444444444444444,\"#bd3786\"],[0.5555555555555556,\"#d8576b\"],[0.6666666666666666,\"#ed7953\"],[0.7777777777777778,\"#fb9f3a\"],[0.8888888888888888,\"#fdca26\"],[1.0,\"#f0f921\"]],\"sequentialminus\":[[0.0,\"#0d0887\"],[0.1111111111111111,\"#46039f\"],[0.2222222222222222,\"#7201a8\"],[0.3333333333333333,\"#9c179e\"],[0.4444444444444444,\"#bd3786\"],[0.5555555555555556,\"#d8576b\"],[0.6666666666666666,\"#ed7953\"],[0.7777777777777778,\"#fb9f3a\"],[0.8888888888888888,\"#fdca26\"],[1.0,\"#f0f921\"]]},\"colorway\":[\"#636efa\",\"#EF553B\",\"#00cc96\",\"#ab63fa\",\"#FFA15A\",\"#19d3f3\",\"#FF6692\",\"#B6E880\",\"#FF97FF\",\"#FECB52\"],\"font\":{\"color\":\"#2a3f5f\"},\"geo\":{\"bgcolor\":\"white\",\"lakecolor\":\"white\",\"landcolor\":\"#E5ECF6\",\"showlakes\":true,\"showland\":true,\"subunitcolor\":\"white\"},\"hoverlabel\":{\"align\":\"left\"},\"hovermode\":\"closest\",\"mapbox\":{\"style\":\"light\"},\"paper_bgcolor\":\"white\",\"plot_bgcolor\":\"#E5ECF6\",\"polar\":{\"angularaxis\":{\"gridcolor\":\"white\",\"linecolor\":\"white\",\"ticks\":\"\"},\"bgcolor\":\"#E5ECF6\",\"radialaxis\":{\"gridcolor\":\"white\",\"linecolor\":\"white\",\"ticks\":\"\"}},\"scene\":{\"xaxis\":{\"backgroundcolor\":\"#E5ECF6\",\"gridcolor\":\"white\",\"gridwidth\":2,\"linecolor\":\"white\",\"showbackground\":true,\"ticks\":\"\",\"zerolinecolor\":\"white\"},\"yaxis\":{\"backgroundcolor\":\"#E5ECF6\",\"gridcolor\":\"white\",\"gridwidth\":2,\"linecolor\":\"white\",\"showbackground\":true,\"ticks\":\"\",\"zerolinecolor\":\"white\"},\"zaxis\":{\"backgroundcolor\":\"#E5ECF6\",\"gridcolor\":\"white\",\"gridwidth\":2,\"linecolor\":\"white\",\"showbackground\":true,\"ticks\":\"\",\"zerolinecolor\":\"white\"}},\"shapedefaults\":{\"line\":{\"color\":\"#2a3f5f\"}},\"ternary\":{\"aaxis\":{\"gridcolor\":\"white\",\"linecolor\":\"white\",\"ticks\":\"\"},\"baxis\":{\"gridcolor\":\"white\",\"linecolor\":\"white\",\"ticks\":\"\"},\"bgcolor\":\"#E5ECF6\",\"caxis\":{\"gridcolor\":\"white\",\"linecolor\":\"white\",\"ticks\":\"\"}},\"title\":{\"x\":0.05},\"xaxis\":{\"automargin\":true,\"gridcolor\":\"white\",\"linecolor\":\"white\",\"ticks\":\"\",\"title\":{\"standoff\":15},\"zerolinecolor\":\"white\",\"zerolinewidth\":2},\"yaxis\":{\"automargin\":true,\"gridcolor\":\"white\",\"linecolor\":\"white\",\"ticks\":\"\",\"title\":{\"standoff\":15},\"zerolinecolor\":\"white\",\"zerolinewidth\":2}}},\"title\":{\"font\":{\"color\":\"#4D5663\"}},\"xaxis\":{\"gridcolor\":\"#E1E5ED\",\"showgrid\":true,\"tickfont\":{\"color\":\"#4D5663\"},\"title\":{\"font\":{\"color\":\"#4D5663\"},\"text\":\"\"},\"zerolinecolor\":\"#E1E5ED\"},\"yaxis\":{\"gridcolor\":\"#E1E5ED\",\"showgrid\":true,\"tickfont\":{\"color\":\"#4D5663\"},\"title\":{\"font\":{\"color\":\"#4D5663\"},\"text\":\"\"},\"zerolinecolor\":\"#E1E5ED\"}},                        {\"showLink\": true, \"linkText\": \"Export to plot.ly\", \"plotlyServerURL\": \"https://plot.ly\", \"responsive\": true}                    ).then(function(){\n",
       "                            \n",
       "var gd = document.getElementById('01744894-b29f-4cfb-b729-59477cff7609');\n",
       "var x = new MutationObserver(function (mutations, observer) {{\n",
       "        var display = window.getComputedStyle(gd).display;\n",
       "        if (!display || display === 'none') {{\n",
       "            console.log([gd, 'removed!']);\n",
       "            Plotly.purge(gd);\n",
       "            observer.disconnect();\n",
       "        }}\n",
       "}});\n",
       "\n",
       "// Listen for the removal of the full notebook cells\n",
       "var notebookContainer = gd.closest('#notebook-container');\n",
       "if (notebookContainer) {{\n",
       "    x.observe(notebookContainer, {childList: true});\n",
       "}}\n",
       "\n",
       "// Listen for the clearing of the current output cell\n",
       "var outputEl = gd.closest('.output');\n",
       "if (outputEl) {{\n",
       "    x.observe(outputEl, {childList: true});\n",
       "}}\n",
       "\n",
       "                        })                };                });            </script>        </div>"
      ]
     },
     "metadata": {},
     "output_type": "display_data"
    }
   ],
   "source": [
    "df.iplot(kind = \"scatter\" , x = \"A\", y = \"B\" , mode = \"markers\")"
   ]
  },
  {
   "cell_type": "code",
   "execution_count": 21,
   "id": "a8d52768",
   "metadata": {},
   "outputs": [
    {
     "data": {
      "application/vnd.plotly.v1+json": {
       "config": {
        "linkText": "Export to plot.ly",
        "plotlyServerURL": "https://plot.ly",
        "showLink": true
       },
       "data": [
        {
         "marker": {
          "color": "rgba(255, 153, 51, 0.6)",
          "line": {
           "color": "rgba(255, 153, 51, 1.0)",
           "width": 1
          }
         },
         "name": "B",
         "orientation": "v",
         "text": "",
         "type": "bar",
         "x": [
          1.4156358936695956,
          -0.7486088378843425,
          0.4955050996849973,
          0.0875785017678611,
          -0.826218807836546,
          -0.47780865783597365,
          0.6371806083430593,
          -0.7862798967147497,
          2.1114851603190483,
          -1.2324994349183411,
          0.1691566162217476,
          -0.6301298927330321,
          0.49786627088299,
          0.49011146626932406,
          -0.2723726811039073,
          -1.2224214956031332,
          -0.020378126111556896,
          1.665415912074953,
          -1.8969961234292025,
          -0.42966872521473776,
          0.05764098447428437,
          0.7590117363436478,
          -1.3286958126006447,
          -1.1606123221990714,
          0.13921065376826422,
          1.0854844964786545,
          -1.104309169567345,
          0.6994799631154538,
          0.8742108609821494,
          0.2257180731978571,
          -1.5171414152618152,
          -0.25644652475948193,
          0.18749692837930554,
          -0.6801926984548232,
          -0.18303574689457183,
          0.03718946653466111,
          -1.073457770498543,
          -0.15671529263355505,
          0.44549454959724333,
          -0.3510063000141201,
          -2.149535432281797,
          1.1408309726951107,
          -0.4106121412032327,
          -0.9711252878091771,
          -0.7144961357779486,
          2.128623477880922,
          -1.2805192296083925,
          0.5017711749949958,
          1.5889495288058462,
          2.301798936419069,
          -0.4038058997708527,
          2.083876183434349,
          -1.6919099735875882,
          -0.4604950389910235,
          0.44468667813470586,
          0.3837181925082112,
          -2.7186889584621365,
          1.6946586670767712,
          -1.5908409061921487,
          0.9916203882779985,
          -0.373584193784145,
          -0.37853000119167124,
          -0.03949696766638036,
          0.6116075103301817,
          0.7066339437665027,
          -0.18362101057989413,
          -0.19126910937529207,
          -0.5942646384168769,
          -0.9939326859755566,
          -0.21782966355238653,
          -2.1427933202436424,
          1.1820416482811897,
          -0.1832952178723742,
          1.303974123810601,
          0.16854111860298743,
          0.07689777318716676,
          -1.3606153114019126,
          -0.40256301529248495,
          0.3522047698292674,
          1.3874784565490599,
          0.5644646020721652,
          0.25993646056156505,
          0.727304145289929,
          1.1188690480615626,
          -0.5326278977863839,
          0.5649152222277095,
          1.8842363452638666,
          -0.3148006308495593,
          0.16962586904042973,
          -0.7724391372975189,
          1.1812131708118059,
          1.8094910892179872,
          1.339874266589562,
          0.0808352432941568,
          -0.9666664192169856,
          -1.1982532515293602,
          -0.24590540357908927,
          1.2863581521970273,
          -1.1458829130853836,
          -0.41864958520433504
         ],
         "y": [
          0.7062581476995701,
          -1.1710913339176028,
          1.7403465938914462,
          -0.278669933207016,
          0.5289837227499957,
          -0.5204208476320185,
          0.820349091795676,
          -2.5721814068096687,
          -0.1622269597246676,
          0.24048767125338333,
          -0.07666820067898973,
          1.6967460410727122,
          -0.06991286363178612,
          1.3581372047706672,
          -0.7307973344214783,
          1.5138821342258184,
          -0.621027024043218,
          1.3088421656914941,
          -1.4817004302025731,
          -1.105579049921459,
          1.808244351365949,
          1.7814240534761128,
          -1.2849968926336421,
          0.7235419170090094,
          1.058536572130399,
          -1.1048671870589075,
          0.5266596654819395,
          -0.8769589435617031,
          -0.30534849033916944,
          -1.352162767596701,
          0.16922062850592987,
          0.7628457417150688,
          1.5445728618409094,
          -0.6867771252144196,
          1.6962340533283917,
          -0.06598647451729873,
          -0.3439382299071361,
          -1.2794338468476885,
          1.519574703411229,
          0.9133174061492851,
          1.6125385717433276,
          0.43280634762158154,
          -0.9039640060890394,
          0.7359377797913865,
          -1.3326526464564628,
          -1.4966814512041033,
          0.8404794247435162,
          0.2075619795873575,
          0.31146161039254616,
          -0.6819626630511477,
          0.48568395389333435,
          0.07611136799710402,
          -0.14418157848227106,
          0.9843015427342142,
          -0.7544519367543739,
          -2.1915351810117656,
          0.7472183071202954,
          0.07654779306342142,
          0.03717360203194623,
          0.011294036564791296,
          -0.7911437191385242,
          0.21319662109144594,
          2.6641889764107707,
          -0.1062777249978354,
          -0.13731998485911284,
          -0.4162558199342141,
          -1.5498377968411983,
          0.7335258612076875,
          1.0417190913106185,
          -0.028494621882404477,
          2.020747748419635,
          -1.088687317098657,
          -1.0520940799094736,
          -0.9301608812535455,
          0.3756738820184492,
          -1.0850500239522738,
          -1.7067802558636007,
          -0.44014575633396863,
          0.5246300696972056,
          -1.259468621738041,
          -0.3071423443341209,
          -1.118902094299359,
          -2.8256467329121366,
          -0.8868220385029365,
          0.10427311227907055,
          -0.11837011857590833,
          -0.14146329337330818,
          0.8647897922587614,
          -0.4726942358018606,
          0.6772634832759559,
          -0.09297918886954187,
          0.2872666418985008,
          -0.5702877461493379,
          -0.4626469928567091,
          0.32094161556974915,
          -0.05514093237471859,
          -0.6304223605436565,
          -0.10290863068832364,
          0.8161740895582345,
          1.6797723943033382
         ]
        }
       ],
       "layout": {
        "legend": {
         "bgcolor": "#F5F6F9",
         "font": {
          "color": "#4D5663"
         }
        },
        "paper_bgcolor": "#F5F6F9",
        "plot_bgcolor": "#F5F6F9",
        "template": {
         "data": {
          "bar": [
           {
            "error_x": {
             "color": "#2a3f5f"
            },
            "error_y": {
             "color": "#2a3f5f"
            },
            "marker": {
             "line": {
              "color": "#E5ECF6",
              "width": 0.5
             },
             "pattern": {
              "fillmode": "overlay",
              "size": 10,
              "solidity": 0.2
             }
            },
            "type": "bar"
           }
          ],
          "barpolar": [
           {
            "marker": {
             "line": {
              "color": "#E5ECF6",
              "width": 0.5
             },
             "pattern": {
              "fillmode": "overlay",
              "size": 10,
              "solidity": 0.2
             }
            },
            "type": "barpolar"
           }
          ],
          "carpet": [
           {
            "aaxis": {
             "endlinecolor": "#2a3f5f",
             "gridcolor": "white",
             "linecolor": "white",
             "minorgridcolor": "white",
             "startlinecolor": "#2a3f5f"
            },
            "baxis": {
             "endlinecolor": "#2a3f5f",
             "gridcolor": "white",
             "linecolor": "white",
             "minorgridcolor": "white",
             "startlinecolor": "#2a3f5f"
            },
            "type": "carpet"
           }
          ],
          "choropleth": [
           {
            "colorbar": {
             "outlinewidth": 0,
             "ticks": ""
            },
            "type": "choropleth"
           }
          ],
          "contour": [
           {
            "colorbar": {
             "outlinewidth": 0,
             "ticks": ""
            },
            "colorscale": [
             [
              0,
              "#0d0887"
             ],
             [
              0.1111111111111111,
              "#46039f"
             ],
             [
              0.2222222222222222,
              "#7201a8"
             ],
             [
              0.3333333333333333,
              "#9c179e"
             ],
             [
              0.4444444444444444,
              "#bd3786"
             ],
             [
              0.5555555555555556,
              "#d8576b"
             ],
             [
              0.6666666666666666,
              "#ed7953"
             ],
             [
              0.7777777777777778,
              "#fb9f3a"
             ],
             [
              0.8888888888888888,
              "#fdca26"
             ],
             [
              1,
              "#f0f921"
             ]
            ],
            "type": "contour"
           }
          ],
          "contourcarpet": [
           {
            "colorbar": {
             "outlinewidth": 0,
             "ticks": ""
            },
            "type": "contourcarpet"
           }
          ],
          "heatmap": [
           {
            "colorbar": {
             "outlinewidth": 0,
             "ticks": ""
            },
            "colorscale": [
             [
              0,
              "#0d0887"
             ],
             [
              0.1111111111111111,
              "#46039f"
             ],
             [
              0.2222222222222222,
              "#7201a8"
             ],
             [
              0.3333333333333333,
              "#9c179e"
             ],
             [
              0.4444444444444444,
              "#bd3786"
             ],
             [
              0.5555555555555556,
              "#d8576b"
             ],
             [
              0.6666666666666666,
              "#ed7953"
             ],
             [
              0.7777777777777778,
              "#fb9f3a"
             ],
             [
              0.8888888888888888,
              "#fdca26"
             ],
             [
              1,
              "#f0f921"
             ]
            ],
            "type": "heatmap"
           }
          ],
          "heatmapgl": [
           {
            "colorbar": {
             "outlinewidth": 0,
             "ticks": ""
            },
            "colorscale": [
             [
              0,
              "#0d0887"
             ],
             [
              0.1111111111111111,
              "#46039f"
             ],
             [
              0.2222222222222222,
              "#7201a8"
             ],
             [
              0.3333333333333333,
              "#9c179e"
             ],
             [
              0.4444444444444444,
              "#bd3786"
             ],
             [
              0.5555555555555556,
              "#d8576b"
             ],
             [
              0.6666666666666666,
              "#ed7953"
             ],
             [
              0.7777777777777778,
              "#fb9f3a"
             ],
             [
              0.8888888888888888,
              "#fdca26"
             ],
             [
              1,
              "#f0f921"
             ]
            ],
            "type": "heatmapgl"
           }
          ],
          "histogram": [
           {
            "marker": {
             "pattern": {
              "fillmode": "overlay",
              "size": 10,
              "solidity": 0.2
             }
            },
            "type": "histogram"
           }
          ],
          "histogram2d": [
           {
            "colorbar": {
             "outlinewidth": 0,
             "ticks": ""
            },
            "colorscale": [
             [
              0,
              "#0d0887"
             ],
             [
              0.1111111111111111,
              "#46039f"
             ],
             [
              0.2222222222222222,
              "#7201a8"
             ],
             [
              0.3333333333333333,
              "#9c179e"
             ],
             [
              0.4444444444444444,
              "#bd3786"
             ],
             [
              0.5555555555555556,
              "#d8576b"
             ],
             [
              0.6666666666666666,
              "#ed7953"
             ],
             [
              0.7777777777777778,
              "#fb9f3a"
             ],
             [
              0.8888888888888888,
              "#fdca26"
             ],
             [
              1,
              "#f0f921"
             ]
            ],
            "type": "histogram2d"
           }
          ],
          "histogram2dcontour": [
           {
            "colorbar": {
             "outlinewidth": 0,
             "ticks": ""
            },
            "colorscale": [
             [
              0,
              "#0d0887"
             ],
             [
              0.1111111111111111,
              "#46039f"
             ],
             [
              0.2222222222222222,
              "#7201a8"
             ],
             [
              0.3333333333333333,
              "#9c179e"
             ],
             [
              0.4444444444444444,
              "#bd3786"
             ],
             [
              0.5555555555555556,
              "#d8576b"
             ],
             [
              0.6666666666666666,
              "#ed7953"
             ],
             [
              0.7777777777777778,
              "#fb9f3a"
             ],
             [
              0.8888888888888888,
              "#fdca26"
             ],
             [
              1,
              "#f0f921"
             ]
            ],
            "type": "histogram2dcontour"
           }
          ],
          "mesh3d": [
           {
            "colorbar": {
             "outlinewidth": 0,
             "ticks": ""
            },
            "type": "mesh3d"
           }
          ],
          "parcoords": [
           {
            "line": {
             "colorbar": {
              "outlinewidth": 0,
              "ticks": ""
             }
            },
            "type": "parcoords"
           }
          ],
          "pie": [
           {
            "automargin": true,
            "type": "pie"
           }
          ],
          "scatter": [
           {
            "marker": {
             "colorbar": {
              "outlinewidth": 0,
              "ticks": ""
             }
            },
            "type": "scatter"
           }
          ],
          "scatter3d": [
           {
            "line": {
             "colorbar": {
              "outlinewidth": 0,
              "ticks": ""
             }
            },
            "marker": {
             "colorbar": {
              "outlinewidth": 0,
              "ticks": ""
             }
            },
            "type": "scatter3d"
           }
          ],
          "scattercarpet": [
           {
            "marker": {
             "colorbar": {
              "outlinewidth": 0,
              "ticks": ""
             }
            },
            "type": "scattercarpet"
           }
          ],
          "scattergeo": [
           {
            "marker": {
             "colorbar": {
              "outlinewidth": 0,
              "ticks": ""
             }
            },
            "type": "scattergeo"
           }
          ],
          "scattergl": [
           {
            "marker": {
             "colorbar": {
              "outlinewidth": 0,
              "ticks": ""
             }
            },
            "type": "scattergl"
           }
          ],
          "scattermapbox": [
           {
            "marker": {
             "colorbar": {
              "outlinewidth": 0,
              "ticks": ""
             }
            },
            "type": "scattermapbox"
           }
          ],
          "scatterpolar": [
           {
            "marker": {
             "colorbar": {
              "outlinewidth": 0,
              "ticks": ""
             }
            },
            "type": "scatterpolar"
           }
          ],
          "scatterpolargl": [
           {
            "marker": {
             "colorbar": {
              "outlinewidth": 0,
              "ticks": ""
             }
            },
            "type": "scatterpolargl"
           }
          ],
          "scatterternary": [
           {
            "marker": {
             "colorbar": {
              "outlinewidth": 0,
              "ticks": ""
             }
            },
            "type": "scatterternary"
           }
          ],
          "surface": [
           {
            "colorbar": {
             "outlinewidth": 0,
             "ticks": ""
            },
            "colorscale": [
             [
              0,
              "#0d0887"
             ],
             [
              0.1111111111111111,
              "#46039f"
             ],
             [
              0.2222222222222222,
              "#7201a8"
             ],
             [
              0.3333333333333333,
              "#9c179e"
             ],
             [
              0.4444444444444444,
              "#bd3786"
             ],
             [
              0.5555555555555556,
              "#d8576b"
             ],
             [
              0.6666666666666666,
              "#ed7953"
             ],
             [
              0.7777777777777778,
              "#fb9f3a"
             ],
             [
              0.8888888888888888,
              "#fdca26"
             ],
             [
              1,
              "#f0f921"
             ]
            ],
            "type": "surface"
           }
          ],
          "table": [
           {
            "cells": {
             "fill": {
              "color": "#EBF0F8"
             },
             "line": {
              "color": "white"
             }
            },
            "header": {
             "fill": {
              "color": "#C8D4E3"
             },
             "line": {
              "color": "white"
             }
            },
            "type": "table"
           }
          ]
         },
         "layout": {
          "annotationdefaults": {
           "arrowcolor": "#2a3f5f",
           "arrowhead": 0,
           "arrowwidth": 1
          },
          "autotypenumbers": "strict",
          "coloraxis": {
           "colorbar": {
            "outlinewidth": 0,
            "ticks": ""
           }
          },
          "colorscale": {
           "diverging": [
            [
             0,
             "#8e0152"
            ],
            [
             0.1,
             "#c51b7d"
            ],
            [
             0.2,
             "#de77ae"
            ],
            [
             0.3,
             "#f1b6da"
            ],
            [
             0.4,
             "#fde0ef"
            ],
            [
             0.5,
             "#f7f7f7"
            ],
            [
             0.6,
             "#e6f5d0"
            ],
            [
             0.7,
             "#b8e186"
            ],
            [
             0.8,
             "#7fbc41"
            ],
            [
             0.9,
             "#4d9221"
            ],
            [
             1,
             "#276419"
            ]
           ],
           "sequential": [
            [
             0,
             "#0d0887"
            ],
            [
             0.1111111111111111,
             "#46039f"
            ],
            [
             0.2222222222222222,
             "#7201a8"
            ],
            [
             0.3333333333333333,
             "#9c179e"
            ],
            [
             0.4444444444444444,
             "#bd3786"
            ],
            [
             0.5555555555555556,
             "#d8576b"
            ],
            [
             0.6666666666666666,
             "#ed7953"
            ],
            [
             0.7777777777777778,
             "#fb9f3a"
            ],
            [
             0.8888888888888888,
             "#fdca26"
            ],
            [
             1,
             "#f0f921"
            ]
           ],
           "sequentialminus": [
            [
             0,
             "#0d0887"
            ],
            [
             0.1111111111111111,
             "#46039f"
            ],
            [
             0.2222222222222222,
             "#7201a8"
            ],
            [
             0.3333333333333333,
             "#9c179e"
            ],
            [
             0.4444444444444444,
             "#bd3786"
            ],
            [
             0.5555555555555556,
             "#d8576b"
            ],
            [
             0.6666666666666666,
             "#ed7953"
            ],
            [
             0.7777777777777778,
             "#fb9f3a"
            ],
            [
             0.8888888888888888,
             "#fdca26"
            ],
            [
             1,
             "#f0f921"
            ]
           ]
          },
          "colorway": [
           "#636efa",
           "#EF553B",
           "#00cc96",
           "#ab63fa",
           "#FFA15A",
           "#19d3f3",
           "#FF6692",
           "#B6E880",
           "#FF97FF",
           "#FECB52"
          ],
          "font": {
           "color": "#2a3f5f"
          },
          "geo": {
           "bgcolor": "white",
           "lakecolor": "white",
           "landcolor": "#E5ECF6",
           "showlakes": true,
           "showland": true,
           "subunitcolor": "white"
          },
          "hoverlabel": {
           "align": "left"
          },
          "hovermode": "closest",
          "mapbox": {
           "style": "light"
          },
          "paper_bgcolor": "white",
          "plot_bgcolor": "#E5ECF6",
          "polar": {
           "angularaxis": {
            "gridcolor": "white",
            "linecolor": "white",
            "ticks": ""
           },
           "bgcolor": "#E5ECF6",
           "radialaxis": {
            "gridcolor": "white",
            "linecolor": "white",
            "ticks": ""
           }
          },
          "scene": {
           "xaxis": {
            "backgroundcolor": "#E5ECF6",
            "gridcolor": "white",
            "gridwidth": 2,
            "linecolor": "white",
            "showbackground": true,
            "ticks": "",
            "zerolinecolor": "white"
           },
           "yaxis": {
            "backgroundcolor": "#E5ECF6",
            "gridcolor": "white",
            "gridwidth": 2,
            "linecolor": "white",
            "showbackground": true,
            "ticks": "",
            "zerolinecolor": "white"
           },
           "zaxis": {
            "backgroundcolor": "#E5ECF6",
            "gridcolor": "white",
            "gridwidth": 2,
            "linecolor": "white",
            "showbackground": true,
            "ticks": "",
            "zerolinecolor": "white"
           }
          },
          "shapedefaults": {
           "line": {
            "color": "#2a3f5f"
           }
          },
          "ternary": {
           "aaxis": {
            "gridcolor": "white",
            "linecolor": "white",
            "ticks": ""
           },
           "baxis": {
            "gridcolor": "white",
            "linecolor": "white",
            "ticks": ""
           },
           "bgcolor": "#E5ECF6",
           "caxis": {
            "gridcolor": "white",
            "linecolor": "white",
            "ticks": ""
           }
          },
          "title": {
           "x": 0.05
          },
          "xaxis": {
           "automargin": true,
           "gridcolor": "white",
           "linecolor": "white",
           "ticks": "",
           "title": {
            "standoff": 15
           },
           "zerolinecolor": "white",
           "zerolinewidth": 2
          },
          "yaxis": {
           "automargin": true,
           "gridcolor": "white",
           "linecolor": "white",
           "ticks": "",
           "title": {
            "standoff": 15
           },
           "zerolinecolor": "white",
           "zerolinewidth": 2
          }
         }
        },
        "title": {
         "font": {
          "color": "#4D5663"
         }
        },
        "xaxis": {
         "gridcolor": "#E1E5ED",
         "showgrid": true,
         "tickfont": {
          "color": "#4D5663"
         },
         "title": {
          "font": {
           "color": "#4D5663"
          },
          "text": ""
         },
         "zerolinecolor": "#E1E5ED"
        },
        "yaxis": {
         "gridcolor": "#E1E5ED",
         "showgrid": true,
         "tickfont": {
          "color": "#4D5663"
         },
         "title": {
          "font": {
           "color": "#4D5663"
          },
          "text": ""
         },
         "zerolinecolor": "#E1E5ED"
        }
       }
      },
      "text/html": [
       "<div>                            <div id=\"a3424f9d-dce1-4b48-bcf2-ad9a32ccf52d\" class=\"plotly-graph-div\" style=\"height:525px; width:100%;\"></div>            <script type=\"text/javascript\">                require([\"plotly\"], function(Plotly) {                    window.PLOTLYENV=window.PLOTLYENV || {};\n",
       "                    window.PLOTLYENV.BASE_URL='https://plot.ly';                                    if (document.getElementById(\"a3424f9d-dce1-4b48-bcf2-ad9a32ccf52d\")) {                    Plotly.newPlot(                        \"a3424f9d-dce1-4b48-bcf2-ad9a32ccf52d\",                        [{\"marker\":{\"color\":\"rgba(255, 153, 51, 0.6)\",\"line\":{\"color\":\"rgba(255, 153, 51, 1.0)\",\"width\":1}},\"name\":\"B\",\"orientation\":\"v\",\"text\":\"\",\"x\":[1.4156358936695956,-0.7486088378843425,0.4955050996849973,0.0875785017678611,-0.826218807836546,-0.47780865783597365,0.6371806083430593,-0.7862798967147497,2.1114851603190483,-1.2324994349183411,0.1691566162217476,-0.6301298927330321,0.49786627088299,0.49011146626932406,-0.2723726811039073,-1.2224214956031332,-0.020378126111556896,1.665415912074953,-1.8969961234292025,-0.42966872521473776,0.05764098447428437,0.7590117363436478,-1.3286958126006447,-1.1606123221990714,0.13921065376826422,1.0854844964786545,-1.104309169567345,0.6994799631154538,0.8742108609821494,0.2257180731978571,-1.5171414152618152,-0.25644652475948193,0.18749692837930554,-0.6801926984548232,-0.18303574689457183,0.03718946653466111,-1.073457770498543,-0.15671529263355505,0.44549454959724333,-0.3510063000141201,-2.149535432281797,1.1408309726951107,-0.4106121412032327,-0.9711252878091771,-0.7144961357779486,2.128623477880922,-1.2805192296083925,0.5017711749949958,1.5889495288058462,2.301798936419069,-0.4038058997708527,2.083876183434349,-1.6919099735875882,-0.4604950389910235,0.44468667813470586,0.3837181925082112,-2.7186889584621365,1.6946586670767712,-1.5908409061921487,0.9916203882779985,-0.373584193784145,-0.37853000119167124,-0.03949696766638036,0.6116075103301817,0.7066339437665027,-0.18362101057989413,-0.19126910937529207,-0.5942646384168769,-0.9939326859755566,-0.21782966355238653,-2.1427933202436424,1.1820416482811897,-0.1832952178723742,1.303974123810601,0.16854111860298743,0.07689777318716676,-1.3606153114019126,-0.40256301529248495,0.3522047698292674,1.3874784565490599,0.5644646020721652,0.25993646056156505,0.727304145289929,1.1188690480615626,-0.5326278977863839,0.5649152222277095,1.8842363452638666,-0.3148006308495593,0.16962586904042973,-0.7724391372975189,1.1812131708118059,1.8094910892179872,1.339874266589562,0.0808352432941568,-0.9666664192169856,-1.1982532515293602,-0.24590540357908927,1.2863581521970273,-1.1458829130853836,-0.41864958520433504],\"y\":[0.7062581476995701,-1.1710913339176028,1.7403465938914462,-0.278669933207016,0.5289837227499957,-0.5204208476320185,0.820349091795676,-2.5721814068096687,-0.1622269597246676,0.24048767125338333,-0.07666820067898973,1.6967460410727122,-0.06991286363178612,1.3581372047706672,-0.7307973344214783,1.5138821342258184,-0.621027024043218,1.3088421656914941,-1.4817004302025731,-1.105579049921459,1.808244351365949,1.7814240534761128,-1.2849968926336421,0.7235419170090094,1.058536572130399,-1.1048671870589075,0.5266596654819395,-0.8769589435617031,-0.30534849033916944,-1.352162767596701,0.16922062850592987,0.7628457417150688,1.5445728618409094,-0.6867771252144196,1.6962340533283917,-0.06598647451729873,-0.3439382299071361,-1.2794338468476885,1.519574703411229,0.9133174061492851,1.6125385717433276,0.43280634762158154,-0.9039640060890394,0.7359377797913865,-1.3326526464564628,-1.4966814512041033,0.8404794247435162,0.2075619795873575,0.31146161039254616,-0.6819626630511477,0.48568395389333435,0.07611136799710402,-0.14418157848227106,0.9843015427342142,-0.7544519367543739,-2.1915351810117656,0.7472183071202954,0.07654779306342142,0.03717360203194623,0.011294036564791296,-0.7911437191385242,0.21319662109144594,2.6641889764107707,-0.1062777249978354,-0.13731998485911284,-0.4162558199342141,-1.5498377968411983,0.7335258612076875,1.0417190913106185,-0.028494621882404477,2.020747748419635,-1.088687317098657,-1.0520940799094736,-0.9301608812535455,0.3756738820184492,-1.0850500239522738,-1.7067802558636007,-0.44014575633396863,0.5246300696972056,-1.259468621738041,-0.3071423443341209,-1.118902094299359,-2.8256467329121366,-0.8868220385029365,0.10427311227907055,-0.11837011857590833,-0.14146329337330818,0.8647897922587614,-0.4726942358018606,0.6772634832759559,-0.09297918886954187,0.2872666418985008,-0.5702877461493379,-0.4626469928567091,0.32094161556974915,-0.05514093237471859,-0.6304223605436565,-0.10290863068832364,0.8161740895582345,1.6797723943033382],\"type\":\"bar\"}],                        {\"legend\":{\"bgcolor\":\"#F5F6F9\",\"font\":{\"color\":\"#4D5663\"}},\"paper_bgcolor\":\"#F5F6F9\",\"plot_bgcolor\":\"#F5F6F9\",\"template\":{\"data\":{\"barpolar\":[{\"marker\":{\"line\":{\"color\":\"#E5ECF6\",\"width\":0.5},\"pattern\":{\"fillmode\":\"overlay\",\"size\":10,\"solidity\":0.2}},\"type\":\"barpolar\"}],\"bar\":[{\"error_x\":{\"color\":\"#2a3f5f\"},\"error_y\":{\"color\":\"#2a3f5f\"},\"marker\":{\"line\":{\"color\":\"#E5ECF6\",\"width\":0.5},\"pattern\":{\"fillmode\":\"overlay\",\"size\":10,\"solidity\":0.2}},\"type\":\"bar\"}],\"carpet\":[{\"aaxis\":{\"endlinecolor\":\"#2a3f5f\",\"gridcolor\":\"white\",\"linecolor\":\"white\",\"minorgridcolor\":\"white\",\"startlinecolor\":\"#2a3f5f\"},\"baxis\":{\"endlinecolor\":\"#2a3f5f\",\"gridcolor\":\"white\",\"linecolor\":\"white\",\"minorgridcolor\":\"white\",\"startlinecolor\":\"#2a3f5f\"},\"type\":\"carpet\"}],\"choropleth\":[{\"colorbar\":{\"outlinewidth\":0,\"ticks\":\"\"},\"type\":\"choropleth\"}],\"contourcarpet\":[{\"colorbar\":{\"outlinewidth\":0,\"ticks\":\"\"},\"type\":\"contourcarpet\"}],\"contour\":[{\"colorbar\":{\"outlinewidth\":0,\"ticks\":\"\"},\"colorscale\":[[0.0,\"#0d0887\"],[0.1111111111111111,\"#46039f\"],[0.2222222222222222,\"#7201a8\"],[0.3333333333333333,\"#9c179e\"],[0.4444444444444444,\"#bd3786\"],[0.5555555555555556,\"#d8576b\"],[0.6666666666666666,\"#ed7953\"],[0.7777777777777778,\"#fb9f3a\"],[0.8888888888888888,\"#fdca26\"],[1.0,\"#f0f921\"]],\"type\":\"contour\"}],\"heatmapgl\":[{\"colorbar\":{\"outlinewidth\":0,\"ticks\":\"\"},\"colorscale\":[[0.0,\"#0d0887\"],[0.1111111111111111,\"#46039f\"],[0.2222222222222222,\"#7201a8\"],[0.3333333333333333,\"#9c179e\"],[0.4444444444444444,\"#bd3786\"],[0.5555555555555556,\"#d8576b\"],[0.6666666666666666,\"#ed7953\"],[0.7777777777777778,\"#fb9f3a\"],[0.8888888888888888,\"#fdca26\"],[1.0,\"#f0f921\"]],\"type\":\"heatmapgl\"}],\"heatmap\":[{\"colorbar\":{\"outlinewidth\":0,\"ticks\":\"\"},\"colorscale\":[[0.0,\"#0d0887\"],[0.1111111111111111,\"#46039f\"],[0.2222222222222222,\"#7201a8\"],[0.3333333333333333,\"#9c179e\"],[0.4444444444444444,\"#bd3786\"],[0.5555555555555556,\"#d8576b\"],[0.6666666666666666,\"#ed7953\"],[0.7777777777777778,\"#fb9f3a\"],[0.8888888888888888,\"#fdca26\"],[1.0,\"#f0f921\"]],\"type\":\"heatmap\"}],\"histogram2dcontour\":[{\"colorbar\":{\"outlinewidth\":0,\"ticks\":\"\"},\"colorscale\":[[0.0,\"#0d0887\"],[0.1111111111111111,\"#46039f\"],[0.2222222222222222,\"#7201a8\"],[0.3333333333333333,\"#9c179e\"],[0.4444444444444444,\"#bd3786\"],[0.5555555555555556,\"#d8576b\"],[0.6666666666666666,\"#ed7953\"],[0.7777777777777778,\"#fb9f3a\"],[0.8888888888888888,\"#fdca26\"],[1.0,\"#f0f921\"]],\"type\":\"histogram2dcontour\"}],\"histogram2d\":[{\"colorbar\":{\"outlinewidth\":0,\"ticks\":\"\"},\"colorscale\":[[0.0,\"#0d0887\"],[0.1111111111111111,\"#46039f\"],[0.2222222222222222,\"#7201a8\"],[0.3333333333333333,\"#9c179e\"],[0.4444444444444444,\"#bd3786\"],[0.5555555555555556,\"#d8576b\"],[0.6666666666666666,\"#ed7953\"],[0.7777777777777778,\"#fb9f3a\"],[0.8888888888888888,\"#fdca26\"],[1.0,\"#f0f921\"]],\"type\":\"histogram2d\"}],\"histogram\":[{\"marker\":{\"pattern\":{\"fillmode\":\"overlay\",\"size\":10,\"solidity\":0.2}},\"type\":\"histogram\"}],\"mesh3d\":[{\"colorbar\":{\"outlinewidth\":0,\"ticks\":\"\"},\"type\":\"mesh3d\"}],\"parcoords\":[{\"line\":{\"colorbar\":{\"outlinewidth\":0,\"ticks\":\"\"}},\"type\":\"parcoords\"}],\"pie\":[{\"automargin\":true,\"type\":\"pie\"}],\"scatter3d\":[{\"line\":{\"colorbar\":{\"outlinewidth\":0,\"ticks\":\"\"}},\"marker\":{\"colorbar\":{\"outlinewidth\":0,\"ticks\":\"\"}},\"type\":\"scatter3d\"}],\"scattercarpet\":[{\"marker\":{\"colorbar\":{\"outlinewidth\":0,\"ticks\":\"\"}},\"type\":\"scattercarpet\"}],\"scattergeo\":[{\"marker\":{\"colorbar\":{\"outlinewidth\":0,\"ticks\":\"\"}},\"type\":\"scattergeo\"}],\"scattergl\":[{\"marker\":{\"colorbar\":{\"outlinewidth\":0,\"ticks\":\"\"}},\"type\":\"scattergl\"}],\"scattermapbox\":[{\"marker\":{\"colorbar\":{\"outlinewidth\":0,\"ticks\":\"\"}},\"type\":\"scattermapbox\"}],\"scatterpolargl\":[{\"marker\":{\"colorbar\":{\"outlinewidth\":0,\"ticks\":\"\"}},\"type\":\"scatterpolargl\"}],\"scatterpolar\":[{\"marker\":{\"colorbar\":{\"outlinewidth\":0,\"ticks\":\"\"}},\"type\":\"scatterpolar\"}],\"scatter\":[{\"marker\":{\"colorbar\":{\"outlinewidth\":0,\"ticks\":\"\"}},\"type\":\"scatter\"}],\"scatterternary\":[{\"marker\":{\"colorbar\":{\"outlinewidth\":0,\"ticks\":\"\"}},\"type\":\"scatterternary\"}],\"surface\":[{\"colorbar\":{\"outlinewidth\":0,\"ticks\":\"\"},\"colorscale\":[[0.0,\"#0d0887\"],[0.1111111111111111,\"#46039f\"],[0.2222222222222222,\"#7201a8\"],[0.3333333333333333,\"#9c179e\"],[0.4444444444444444,\"#bd3786\"],[0.5555555555555556,\"#d8576b\"],[0.6666666666666666,\"#ed7953\"],[0.7777777777777778,\"#fb9f3a\"],[0.8888888888888888,\"#fdca26\"],[1.0,\"#f0f921\"]],\"type\":\"surface\"}],\"table\":[{\"cells\":{\"fill\":{\"color\":\"#EBF0F8\"},\"line\":{\"color\":\"white\"}},\"header\":{\"fill\":{\"color\":\"#C8D4E3\"},\"line\":{\"color\":\"white\"}},\"type\":\"table\"}]},\"layout\":{\"annotationdefaults\":{\"arrowcolor\":\"#2a3f5f\",\"arrowhead\":0,\"arrowwidth\":1},\"autotypenumbers\":\"strict\",\"coloraxis\":{\"colorbar\":{\"outlinewidth\":0,\"ticks\":\"\"}},\"colorscale\":{\"diverging\":[[0,\"#8e0152\"],[0.1,\"#c51b7d\"],[0.2,\"#de77ae\"],[0.3,\"#f1b6da\"],[0.4,\"#fde0ef\"],[0.5,\"#f7f7f7\"],[0.6,\"#e6f5d0\"],[0.7,\"#b8e186\"],[0.8,\"#7fbc41\"],[0.9,\"#4d9221\"],[1,\"#276419\"]],\"sequential\":[[0.0,\"#0d0887\"],[0.1111111111111111,\"#46039f\"],[0.2222222222222222,\"#7201a8\"],[0.3333333333333333,\"#9c179e\"],[0.4444444444444444,\"#bd3786\"],[0.5555555555555556,\"#d8576b\"],[0.6666666666666666,\"#ed7953\"],[0.7777777777777778,\"#fb9f3a\"],[0.8888888888888888,\"#fdca26\"],[1.0,\"#f0f921\"]],\"sequentialminus\":[[0.0,\"#0d0887\"],[0.1111111111111111,\"#46039f\"],[0.2222222222222222,\"#7201a8\"],[0.3333333333333333,\"#9c179e\"],[0.4444444444444444,\"#bd3786\"],[0.5555555555555556,\"#d8576b\"],[0.6666666666666666,\"#ed7953\"],[0.7777777777777778,\"#fb9f3a\"],[0.8888888888888888,\"#fdca26\"],[1.0,\"#f0f921\"]]},\"colorway\":[\"#636efa\",\"#EF553B\",\"#00cc96\",\"#ab63fa\",\"#FFA15A\",\"#19d3f3\",\"#FF6692\",\"#B6E880\",\"#FF97FF\",\"#FECB52\"],\"font\":{\"color\":\"#2a3f5f\"},\"geo\":{\"bgcolor\":\"white\",\"lakecolor\":\"white\",\"landcolor\":\"#E5ECF6\",\"showlakes\":true,\"showland\":true,\"subunitcolor\":\"white\"},\"hoverlabel\":{\"align\":\"left\"},\"hovermode\":\"closest\",\"mapbox\":{\"style\":\"light\"},\"paper_bgcolor\":\"white\",\"plot_bgcolor\":\"#E5ECF6\",\"polar\":{\"angularaxis\":{\"gridcolor\":\"white\",\"linecolor\":\"white\",\"ticks\":\"\"},\"bgcolor\":\"#E5ECF6\",\"radialaxis\":{\"gridcolor\":\"white\",\"linecolor\":\"white\",\"ticks\":\"\"}},\"scene\":{\"xaxis\":{\"backgroundcolor\":\"#E5ECF6\",\"gridcolor\":\"white\",\"gridwidth\":2,\"linecolor\":\"white\",\"showbackground\":true,\"ticks\":\"\",\"zerolinecolor\":\"white\"},\"yaxis\":{\"backgroundcolor\":\"#E5ECF6\",\"gridcolor\":\"white\",\"gridwidth\":2,\"linecolor\":\"white\",\"showbackground\":true,\"ticks\":\"\",\"zerolinecolor\":\"white\"},\"zaxis\":{\"backgroundcolor\":\"#E5ECF6\",\"gridcolor\":\"white\",\"gridwidth\":2,\"linecolor\":\"white\",\"showbackground\":true,\"ticks\":\"\",\"zerolinecolor\":\"white\"}},\"shapedefaults\":{\"line\":{\"color\":\"#2a3f5f\"}},\"ternary\":{\"aaxis\":{\"gridcolor\":\"white\",\"linecolor\":\"white\",\"ticks\":\"\"},\"baxis\":{\"gridcolor\":\"white\",\"linecolor\":\"white\",\"ticks\":\"\"},\"bgcolor\":\"#E5ECF6\",\"caxis\":{\"gridcolor\":\"white\",\"linecolor\":\"white\",\"ticks\":\"\"}},\"title\":{\"x\":0.05},\"xaxis\":{\"automargin\":true,\"gridcolor\":\"white\",\"linecolor\":\"white\",\"ticks\":\"\",\"title\":{\"standoff\":15},\"zerolinecolor\":\"white\",\"zerolinewidth\":2},\"yaxis\":{\"automargin\":true,\"gridcolor\":\"white\",\"linecolor\":\"white\",\"ticks\":\"\",\"title\":{\"standoff\":15},\"zerolinecolor\":\"white\",\"zerolinewidth\":2}}},\"title\":{\"font\":{\"color\":\"#4D5663\"}},\"xaxis\":{\"gridcolor\":\"#E1E5ED\",\"showgrid\":true,\"tickfont\":{\"color\":\"#4D5663\"},\"title\":{\"font\":{\"color\":\"#4D5663\"},\"text\":\"\"},\"zerolinecolor\":\"#E1E5ED\"},\"yaxis\":{\"gridcolor\":\"#E1E5ED\",\"showgrid\":true,\"tickfont\":{\"color\":\"#4D5663\"},\"title\":{\"font\":{\"color\":\"#4D5663\"},\"text\":\"\"},\"zerolinecolor\":\"#E1E5ED\"}},                        {\"showLink\": true, \"linkText\": \"Export to plot.ly\", \"plotlyServerURL\": \"https://plot.ly\", \"responsive\": true}                    ).then(function(){\n",
       "                            \n",
       "var gd = document.getElementById('a3424f9d-dce1-4b48-bcf2-ad9a32ccf52d');\n",
       "var x = new MutationObserver(function (mutations, observer) {{\n",
       "        var display = window.getComputedStyle(gd).display;\n",
       "        if (!display || display === 'none') {{\n",
       "            console.log([gd, 'removed!']);\n",
       "            Plotly.purge(gd);\n",
       "            observer.disconnect();\n",
       "        }}\n",
       "}});\n",
       "\n",
       "// Listen for the removal of the full notebook cells\n",
       "var notebookContainer = gd.closest('#notebook-container');\n",
       "if (notebookContainer) {{\n",
       "    x.observe(notebookContainer, {childList: true});\n",
       "}}\n",
       "\n",
       "// Listen for the clearing of the current output cell\n",
       "var outputEl = gd.closest('.output');\n",
       "if (outputEl) {{\n",
       "    x.observe(outputEl, {childList: true});\n",
       "}}\n",
       "\n",
       "                        })                };                });            </script>        </div>"
      ]
     },
     "metadata": {},
     "output_type": "display_data"
    }
   ],
   "source": [
    "df.iplot(kind = \"bar\" , x = \"A\" , y = \"B\")"
   ]
  },
  {
   "cell_type": "code",
   "execution_count": 22,
   "id": "8f4f6df9",
   "metadata": {},
   "outputs": [
    {
     "data": {
      "application/vnd.plotly.v1+json": {
       "config": {
        "linkText": "Export to plot.ly",
        "plotlyServerURL": "https://plot.ly",
        "showLink": true
       },
       "data": [
        {
         "boxpoints": false,
         "line": {
          "width": 1.3
         },
         "marker": {
          "color": "rgba(255, 153, 51, 1.0)"
         },
         "name": "A",
         "orientation": "v",
         "type": "box",
         "y": [
          1.4156358936695956,
          -0.7486088378843425,
          0.4955050996849973,
          0.0875785017678611,
          -0.826218807836546,
          -0.47780865783597365,
          0.6371806083430593,
          -0.7862798967147497,
          2.1114851603190483,
          -1.2324994349183411,
          0.1691566162217476,
          -0.6301298927330321,
          0.49786627088299,
          0.49011146626932406,
          -0.2723726811039073,
          -1.2224214956031332,
          -0.020378126111556896,
          1.665415912074953,
          -1.8969961234292025,
          -0.42966872521473776,
          0.05764098447428437,
          0.7590117363436478,
          -1.3286958126006447,
          -1.1606123221990714,
          0.13921065376826422,
          1.0854844964786545,
          -1.104309169567345,
          0.6994799631154538,
          0.8742108609821494,
          0.2257180731978571,
          -1.5171414152618152,
          -0.25644652475948193,
          0.18749692837930554,
          -0.6801926984548232,
          -0.18303574689457183,
          0.03718946653466111,
          -1.073457770498543,
          -0.15671529263355505,
          0.44549454959724333,
          -0.3510063000141201,
          -2.149535432281797,
          1.1408309726951107,
          -0.4106121412032327,
          -0.9711252878091771,
          -0.7144961357779486,
          2.128623477880922,
          -1.2805192296083925,
          0.5017711749949958,
          1.5889495288058462,
          2.301798936419069,
          -0.4038058997708527,
          2.083876183434349,
          -1.6919099735875882,
          -0.4604950389910235,
          0.44468667813470586,
          0.3837181925082112,
          -2.7186889584621365,
          1.6946586670767712,
          -1.5908409061921487,
          0.9916203882779985,
          -0.373584193784145,
          -0.37853000119167124,
          -0.03949696766638036,
          0.6116075103301817,
          0.7066339437665027,
          -0.18362101057989413,
          -0.19126910937529207,
          -0.5942646384168769,
          -0.9939326859755566,
          -0.21782966355238653,
          -2.1427933202436424,
          1.1820416482811897,
          -0.1832952178723742,
          1.303974123810601,
          0.16854111860298743,
          0.07689777318716676,
          -1.3606153114019126,
          -0.40256301529248495,
          0.3522047698292674,
          1.3874784565490599,
          0.5644646020721652,
          0.25993646056156505,
          0.727304145289929,
          1.1188690480615626,
          -0.5326278977863839,
          0.5649152222277095,
          1.8842363452638666,
          -0.3148006308495593,
          0.16962586904042973,
          -0.7724391372975189,
          1.1812131708118059,
          1.8094910892179872,
          1.339874266589562,
          0.0808352432941568,
          -0.9666664192169856,
          -1.1982532515293602,
          -0.24590540357908927,
          1.2863581521970273,
          -1.1458829130853836,
          -0.41864958520433504
         ]
        },
        {
         "boxpoints": false,
         "line": {
          "width": 1.3
         },
         "marker": {
          "color": "rgba(55, 128, 191, 1.0)"
         },
         "name": "B",
         "orientation": "v",
         "type": "box",
         "y": [
          0.7062581476995701,
          -1.1710913339176028,
          1.7403465938914462,
          -0.278669933207016,
          0.5289837227499957,
          -0.5204208476320185,
          0.820349091795676,
          -2.5721814068096687,
          -0.1622269597246676,
          0.24048767125338333,
          -0.07666820067898973,
          1.6967460410727122,
          -0.06991286363178612,
          1.3581372047706672,
          -0.7307973344214783,
          1.5138821342258184,
          -0.621027024043218,
          1.3088421656914941,
          -1.4817004302025731,
          -1.105579049921459,
          1.808244351365949,
          1.7814240534761128,
          -1.2849968926336421,
          0.7235419170090094,
          1.058536572130399,
          -1.1048671870589075,
          0.5266596654819395,
          -0.8769589435617031,
          -0.30534849033916944,
          -1.352162767596701,
          0.16922062850592987,
          0.7628457417150688,
          1.5445728618409094,
          -0.6867771252144196,
          1.6962340533283917,
          -0.06598647451729873,
          -0.3439382299071361,
          -1.2794338468476885,
          1.519574703411229,
          0.9133174061492851,
          1.6125385717433276,
          0.43280634762158154,
          -0.9039640060890394,
          0.7359377797913865,
          -1.3326526464564628,
          -1.4966814512041033,
          0.8404794247435162,
          0.2075619795873575,
          0.31146161039254616,
          -0.6819626630511477,
          0.48568395389333435,
          0.07611136799710402,
          -0.14418157848227106,
          0.9843015427342142,
          -0.7544519367543739,
          -2.1915351810117656,
          0.7472183071202954,
          0.07654779306342142,
          0.03717360203194623,
          0.011294036564791296,
          -0.7911437191385242,
          0.21319662109144594,
          2.6641889764107707,
          -0.1062777249978354,
          -0.13731998485911284,
          -0.4162558199342141,
          -1.5498377968411983,
          0.7335258612076875,
          1.0417190913106185,
          -0.028494621882404477,
          2.020747748419635,
          -1.088687317098657,
          -1.0520940799094736,
          -0.9301608812535455,
          0.3756738820184492,
          -1.0850500239522738,
          -1.7067802558636007,
          -0.44014575633396863,
          0.5246300696972056,
          -1.259468621738041,
          -0.3071423443341209,
          -1.118902094299359,
          -2.8256467329121366,
          -0.8868220385029365,
          0.10427311227907055,
          -0.11837011857590833,
          -0.14146329337330818,
          0.8647897922587614,
          -0.4726942358018606,
          0.6772634832759559,
          -0.09297918886954187,
          0.2872666418985008,
          -0.5702877461493379,
          -0.4626469928567091,
          0.32094161556974915,
          -0.05514093237471859,
          -0.6304223605436565,
          -0.10290863068832364,
          0.8161740895582345,
          1.6797723943033382
         ]
        },
        {
         "boxpoints": false,
         "line": {
          "width": 1.3
         },
         "marker": {
          "color": "rgba(50, 171, 96, 1.0)"
         },
         "name": "C",
         "orientation": "v",
         "type": "box",
         "y": [
          1.5499007333526247,
          -0.426196296811759,
          0.37495612585605337,
          -0.1336889363052779,
          1.124770842851406,
          1.4803699233545966,
          -0.6913548860620014,
          0.4530846133240014,
          0.29625556671890596,
          2.1392925123134354,
          0.24267259322727006,
          -0.5912929335678633,
          1.076613747733806,
          -1.156428688302867,
          -1.361704854446854,
          -1.5901515424577273,
          -0.8052314305134672,
          1.0339252683482132,
          -1.1343511158123745,
          -0.43036028633421336,
          0.5963820862936385,
          -1.0310122434153828,
          -0.6874335453969067,
          -1.621650128651768,
          0.6073315143194891,
          1.0070892732439969,
          1.6077219588646128,
          -0.17734895812291784,
          -0.9469102539155999,
          -0.11564308399434055,
          -1.5771428692861236,
          0.38955482579939316,
          0.3487278769428918,
          -1.8249887232803101,
          -0.4444523588309359,
          1.0238853246466337,
          0.6667274197816324,
          -0.592098717424933,
          -0.046679766440859,
          0.38322700481864364,
          0.9879496031684146,
          0.5023797159654563,
          -0.05931628734162812,
          -0.3829196092787056,
          2.5088960126271633,
          -0.14933906983556622,
          0.7064774753092996,
          -0.07197208057269007,
          1.3225685292105969,
          -0.5750408230285969,
          -0.6091743639150502,
          0.7085474851277107,
          0.8975997945112504,
          1.9084417878905442,
          -0.521338021933896,
          -1.4485492999011722,
          0.16299417795293486,
          -0.1866718510800261,
          -1.3317720125027332,
          1.2878803953991451,
          0.04170166057725168,
          -0.7677567980366121,
          -0.16550003663731286,
          -1.2521323815543866,
          -0.8913585151318264,
          0.31563780106852624,
          0.2608034524962743,
          0.9056065015019831,
          -2.0452160103151678,
          -1.3091827440595243,
          -0.0012249881482702207,
          -1.1462646754780625,
          -2.0180115831993803,
          0.690117417760465,
          1.4661048584907461,
          -0.044809359760745446,
          0.6711649827345268,
          -0.8998777560052286,
          0.1195515193916954,
          -0.1601594377668466,
          -0.05950824566685734,
          -0.1717728420019799,
          1.5209540077798478,
          -0.5132722332286485,
          -0.9212387828904061,
          1.1414634700954014,
          0.9936694880655823,
          -1.358791600204876,
          -0.07179118478643616,
          -0.41436449362850447,
          -1.5239282783018193,
          0.4906643802015708,
          -1.1856787969293885,
          2.776526862058707,
          0.2870067040464905,
          1.3707149588138539,
          -0.5215968825329502,
          -1.047051604087512,
          1.6233558034971234,
          -1.4415356137188111
         ]
        },
        {
         "boxpoints": false,
         "line": {
          "width": 1.3
         },
         "marker": {
          "color": "rgba(128, 0, 128, 1.0)"
         },
         "name": "D",
         "orientation": "v",
         "type": "box",
         "y": [
          0.12955630777878926,
          0.7604145971356845,
          -1.2045784380447713,
          1.917675966562483,
          0.29463895926258893,
          -0.9464359788243719,
          -1.9743923185423387,
          -1.090200508419864,
          -0.6537860886418702,
          -1.6900748835323505,
          0.9560642590841237,
          -1.6882799084757145,
          0.7375744100532009,
          1.1195528650686848,
          -0.37128350416116823,
          0.023969551457540293,
          -0.5431314927858206,
          -1.1023820841410457,
          -0.40007890308387023,
          -0.934323378972884,
          1.9351962764042818,
          0.9151583018418837,
          0.646138654596641,
          -0.4151190527899096,
          -2.4369509639947116,
          -0.7621464858688528,
          -1.235104713665192,
          0.801505849211162,
          0.20021371182195458,
          -0.761116838192273,
          -1.386288670481089,
          -1.105065235430969,
          -3.290269773602219,
          -1.6648733726990381,
          1.865557211015783,
          -0.7273444064480094,
          -1.1477942586726233,
          -0.13057957481201085,
          -0.3682283221653446,
          0.31287956215888735,
          -0.7117466624851111,
          -1.1999906025160019,
          0.6634672518360509,
          0.17669380568498563,
          -0.26738868384158143,
          -0.796271992339394,
          -0.7626665373747872,
          -0.5016363832753867,
          -1.130751686427838,
          0.10773715683904422,
          0.7455490999237923,
          -0.23876288418707056,
          -2.6257576586398717,
          1.3772743435575447,
          1.3046039520601658,
          -1.0213326591903462,
          0.2778963785150497,
          1.6729475614611091,
          1.1910742826813256,
          0.10024631032737884,
          0.4025160865685234,
          0.8833463783062594,
          -0.5201448026334445,
          0.6608035653686412,
          -0.7299610652938594,
          0.8320928519979393,
          0.32834247832769176,
          -1.0915799970579458,
          0.45742096190071907,
          -0.4610177452478262,
          -0.23888484265146886,
          -0.07629868213180137,
          0.051750630643244526,
          0.9576730290121173,
          -2.196006681226583,
          1.2969432038162436,
          0.18047325353238816,
          0.5922433132055498,
          0.05885073989012512,
          -0.28449684210233467,
          -1.9072287405115684,
          -0.45255772109622,
          0.1787901922735105,
          -1.493085001346657,
          -0.6652674271205405,
          1.6157483678382576,
          0.7937464687746136,
          -0.8371647361154547,
          -1.3172757840253866,
          -1.0167299675735864,
          0.9870695561696492,
          -0.6855480740995116,
          1.0219213557275488,
          0.8091890008260322,
          1.119587923068023,
          -0.6140243726310259,
          2.975157466010432,
          0.25089008886979375,
          -0.9101205664114322,
          -1.5014026804688845
         ]
        },
        {
         "boxpoints": false,
         "line": {
          "width": 1.3
         },
         "marker": {
          "color": "rgba(219, 64, 82, 1.0)"
         },
         "name": "E",
         "orientation": "v",
         "type": "box",
         "y": [
          0.6019315115579517,
          0.7757097712782659,
          -0.09269061328673495,
          0.07362399949468768,
          -1.6490500950133706,
          -0.3673196474548039,
          -0.8136397678967872,
          -1.7629786295322996,
          0.36445985357316774,
          2.253346516631644,
          0.48151797390507356,
          0.4384838418002106,
          -0.7553537245928833,
          0.05634775556725741,
          0.38024599030903733,
          -0.07642558857726198,
          1.569730122662999,
          -1.0656999485565524,
          -1.0942623346288112,
          -0.5833328752367328,
          -0.39026358011348045,
          -0.033645367785843996,
          -0.8288070160035422,
          -0.224842733722281,
          -0.7938770400897642,
          -0.601013637613153,
          -0.07383813819140272,
          0.027432359120694822,
          0.6804699489000555,
          1.730941839989778,
          0.5590944673549689,
          0.18170904956827238,
          0.6280229122015368,
          0.48939130932799,
          -0.357683562990978,
          1.0912319012928966,
          -0.6935954882830229,
          -0.6134865876246812,
          -1.17800243573494,
          -0.5945321367267138,
          0.7552495359669781,
          -0.6977715891470061,
          1.2369469802288617,
          2.1857028631511137,
          -1.4682810321475195,
          -0.48142756273156345,
          1.9569745370170109,
          0.8601369810450683,
          1.8543988418277013,
          -1.1461369672463904,
          0.35771878161032633,
          -0.4256943864570583,
          -0.13591528515801526,
          0.5934803609837643,
          -0.7597378802970451,
          0.17844815269397957,
          -1.2575572670619646,
          0.8711279151014655,
          0.38882904087411113,
          0.37329684071352565,
          -0.19667160931324254,
          0.4855395374174117,
          0.4630447730351342,
          1.3570337203935345,
          -0.09523453846013402,
          0.5443003499943089,
          -0.06982203992232405,
          -0.5121216464590715,
          -0.27189995573917913,
          0.006623541867965086,
          -0.4552987608630462,
          0.1814273021264075,
          0.2167050769382245,
          0.7636650872857829,
          1.2364431692438171,
          1.6031361007181466,
          0.46845385782853227,
          0.6900190038562005,
          -1.1666245315120376,
          -0.5659139214525217,
          0.40785698840184115,
          -1.5415852973049644,
          0.793548323760602,
          0.6946420126758375,
          0.7400577327458684,
          0.4336538124099455,
          0.8556283748721737,
          -0.7121498780599496,
          -1.6920628446134767,
          -0.6532050341614064,
          1.591924604897572,
          -0.646440599385416,
          -0.23200193495923746,
          -1.2599302333037088,
          -0.5272194320133379,
          -0.2551713907648001,
          -0.427599138730128,
          -0.36254347695641126,
          -1.5506859127688113,
          0.9619778026612145
         ]
        }
       ],
       "layout": {
        "legend": {
         "bgcolor": "#F5F6F9",
         "font": {
          "color": "#4D5663"
         }
        },
        "paper_bgcolor": "#F5F6F9",
        "plot_bgcolor": "#F5F6F9",
        "template": {
         "data": {
          "bar": [
           {
            "error_x": {
             "color": "#2a3f5f"
            },
            "error_y": {
             "color": "#2a3f5f"
            },
            "marker": {
             "line": {
              "color": "#E5ECF6",
              "width": 0.5
             },
             "pattern": {
              "fillmode": "overlay",
              "size": 10,
              "solidity": 0.2
             }
            },
            "type": "bar"
           }
          ],
          "barpolar": [
           {
            "marker": {
             "line": {
              "color": "#E5ECF6",
              "width": 0.5
             },
             "pattern": {
              "fillmode": "overlay",
              "size": 10,
              "solidity": 0.2
             }
            },
            "type": "barpolar"
           }
          ],
          "carpet": [
           {
            "aaxis": {
             "endlinecolor": "#2a3f5f",
             "gridcolor": "white",
             "linecolor": "white",
             "minorgridcolor": "white",
             "startlinecolor": "#2a3f5f"
            },
            "baxis": {
             "endlinecolor": "#2a3f5f",
             "gridcolor": "white",
             "linecolor": "white",
             "minorgridcolor": "white",
             "startlinecolor": "#2a3f5f"
            },
            "type": "carpet"
           }
          ],
          "choropleth": [
           {
            "colorbar": {
             "outlinewidth": 0,
             "ticks": ""
            },
            "type": "choropleth"
           }
          ],
          "contour": [
           {
            "colorbar": {
             "outlinewidth": 0,
             "ticks": ""
            },
            "colorscale": [
             [
              0,
              "#0d0887"
             ],
             [
              0.1111111111111111,
              "#46039f"
             ],
             [
              0.2222222222222222,
              "#7201a8"
             ],
             [
              0.3333333333333333,
              "#9c179e"
             ],
             [
              0.4444444444444444,
              "#bd3786"
             ],
             [
              0.5555555555555556,
              "#d8576b"
             ],
             [
              0.6666666666666666,
              "#ed7953"
             ],
             [
              0.7777777777777778,
              "#fb9f3a"
             ],
             [
              0.8888888888888888,
              "#fdca26"
             ],
             [
              1,
              "#f0f921"
             ]
            ],
            "type": "contour"
           }
          ],
          "contourcarpet": [
           {
            "colorbar": {
             "outlinewidth": 0,
             "ticks": ""
            },
            "type": "contourcarpet"
           }
          ],
          "heatmap": [
           {
            "colorbar": {
             "outlinewidth": 0,
             "ticks": ""
            },
            "colorscale": [
             [
              0,
              "#0d0887"
             ],
             [
              0.1111111111111111,
              "#46039f"
             ],
             [
              0.2222222222222222,
              "#7201a8"
             ],
             [
              0.3333333333333333,
              "#9c179e"
             ],
             [
              0.4444444444444444,
              "#bd3786"
             ],
             [
              0.5555555555555556,
              "#d8576b"
             ],
             [
              0.6666666666666666,
              "#ed7953"
             ],
             [
              0.7777777777777778,
              "#fb9f3a"
             ],
             [
              0.8888888888888888,
              "#fdca26"
             ],
             [
              1,
              "#f0f921"
             ]
            ],
            "type": "heatmap"
           }
          ],
          "heatmapgl": [
           {
            "colorbar": {
             "outlinewidth": 0,
             "ticks": ""
            },
            "colorscale": [
             [
              0,
              "#0d0887"
             ],
             [
              0.1111111111111111,
              "#46039f"
             ],
             [
              0.2222222222222222,
              "#7201a8"
             ],
             [
              0.3333333333333333,
              "#9c179e"
             ],
             [
              0.4444444444444444,
              "#bd3786"
             ],
             [
              0.5555555555555556,
              "#d8576b"
             ],
             [
              0.6666666666666666,
              "#ed7953"
             ],
             [
              0.7777777777777778,
              "#fb9f3a"
             ],
             [
              0.8888888888888888,
              "#fdca26"
             ],
             [
              1,
              "#f0f921"
             ]
            ],
            "type": "heatmapgl"
           }
          ],
          "histogram": [
           {
            "marker": {
             "pattern": {
              "fillmode": "overlay",
              "size": 10,
              "solidity": 0.2
             }
            },
            "type": "histogram"
           }
          ],
          "histogram2d": [
           {
            "colorbar": {
             "outlinewidth": 0,
             "ticks": ""
            },
            "colorscale": [
             [
              0,
              "#0d0887"
             ],
             [
              0.1111111111111111,
              "#46039f"
             ],
             [
              0.2222222222222222,
              "#7201a8"
             ],
             [
              0.3333333333333333,
              "#9c179e"
             ],
             [
              0.4444444444444444,
              "#bd3786"
             ],
             [
              0.5555555555555556,
              "#d8576b"
             ],
             [
              0.6666666666666666,
              "#ed7953"
             ],
             [
              0.7777777777777778,
              "#fb9f3a"
             ],
             [
              0.8888888888888888,
              "#fdca26"
             ],
             [
              1,
              "#f0f921"
             ]
            ],
            "type": "histogram2d"
           }
          ],
          "histogram2dcontour": [
           {
            "colorbar": {
             "outlinewidth": 0,
             "ticks": ""
            },
            "colorscale": [
             [
              0,
              "#0d0887"
             ],
             [
              0.1111111111111111,
              "#46039f"
             ],
             [
              0.2222222222222222,
              "#7201a8"
             ],
             [
              0.3333333333333333,
              "#9c179e"
             ],
             [
              0.4444444444444444,
              "#bd3786"
             ],
             [
              0.5555555555555556,
              "#d8576b"
             ],
             [
              0.6666666666666666,
              "#ed7953"
             ],
             [
              0.7777777777777778,
              "#fb9f3a"
             ],
             [
              0.8888888888888888,
              "#fdca26"
             ],
             [
              1,
              "#f0f921"
             ]
            ],
            "type": "histogram2dcontour"
           }
          ],
          "mesh3d": [
           {
            "colorbar": {
             "outlinewidth": 0,
             "ticks": ""
            },
            "type": "mesh3d"
           }
          ],
          "parcoords": [
           {
            "line": {
             "colorbar": {
              "outlinewidth": 0,
              "ticks": ""
             }
            },
            "type": "parcoords"
           }
          ],
          "pie": [
           {
            "automargin": true,
            "type": "pie"
           }
          ],
          "scatter": [
           {
            "marker": {
             "colorbar": {
              "outlinewidth": 0,
              "ticks": ""
             }
            },
            "type": "scatter"
           }
          ],
          "scatter3d": [
           {
            "line": {
             "colorbar": {
              "outlinewidth": 0,
              "ticks": ""
             }
            },
            "marker": {
             "colorbar": {
              "outlinewidth": 0,
              "ticks": ""
             }
            },
            "type": "scatter3d"
           }
          ],
          "scattercarpet": [
           {
            "marker": {
             "colorbar": {
              "outlinewidth": 0,
              "ticks": ""
             }
            },
            "type": "scattercarpet"
           }
          ],
          "scattergeo": [
           {
            "marker": {
             "colorbar": {
              "outlinewidth": 0,
              "ticks": ""
             }
            },
            "type": "scattergeo"
           }
          ],
          "scattergl": [
           {
            "marker": {
             "colorbar": {
              "outlinewidth": 0,
              "ticks": ""
             }
            },
            "type": "scattergl"
           }
          ],
          "scattermapbox": [
           {
            "marker": {
             "colorbar": {
              "outlinewidth": 0,
              "ticks": ""
             }
            },
            "type": "scattermapbox"
           }
          ],
          "scatterpolar": [
           {
            "marker": {
             "colorbar": {
              "outlinewidth": 0,
              "ticks": ""
             }
            },
            "type": "scatterpolar"
           }
          ],
          "scatterpolargl": [
           {
            "marker": {
             "colorbar": {
              "outlinewidth": 0,
              "ticks": ""
             }
            },
            "type": "scatterpolargl"
           }
          ],
          "scatterternary": [
           {
            "marker": {
             "colorbar": {
              "outlinewidth": 0,
              "ticks": ""
             }
            },
            "type": "scatterternary"
           }
          ],
          "surface": [
           {
            "colorbar": {
             "outlinewidth": 0,
             "ticks": ""
            },
            "colorscale": [
             [
              0,
              "#0d0887"
             ],
             [
              0.1111111111111111,
              "#46039f"
             ],
             [
              0.2222222222222222,
              "#7201a8"
             ],
             [
              0.3333333333333333,
              "#9c179e"
             ],
             [
              0.4444444444444444,
              "#bd3786"
             ],
             [
              0.5555555555555556,
              "#d8576b"
             ],
             [
              0.6666666666666666,
              "#ed7953"
             ],
             [
              0.7777777777777778,
              "#fb9f3a"
             ],
             [
              0.8888888888888888,
              "#fdca26"
             ],
             [
              1,
              "#f0f921"
             ]
            ],
            "type": "surface"
           }
          ],
          "table": [
           {
            "cells": {
             "fill": {
              "color": "#EBF0F8"
             },
             "line": {
              "color": "white"
             }
            },
            "header": {
             "fill": {
              "color": "#C8D4E3"
             },
             "line": {
              "color": "white"
             }
            },
            "type": "table"
           }
          ]
         },
         "layout": {
          "annotationdefaults": {
           "arrowcolor": "#2a3f5f",
           "arrowhead": 0,
           "arrowwidth": 1
          },
          "autotypenumbers": "strict",
          "coloraxis": {
           "colorbar": {
            "outlinewidth": 0,
            "ticks": ""
           }
          },
          "colorscale": {
           "diverging": [
            [
             0,
             "#8e0152"
            ],
            [
             0.1,
             "#c51b7d"
            ],
            [
             0.2,
             "#de77ae"
            ],
            [
             0.3,
             "#f1b6da"
            ],
            [
             0.4,
             "#fde0ef"
            ],
            [
             0.5,
             "#f7f7f7"
            ],
            [
             0.6,
             "#e6f5d0"
            ],
            [
             0.7,
             "#b8e186"
            ],
            [
             0.8,
             "#7fbc41"
            ],
            [
             0.9,
             "#4d9221"
            ],
            [
             1,
             "#276419"
            ]
           ],
           "sequential": [
            [
             0,
             "#0d0887"
            ],
            [
             0.1111111111111111,
             "#46039f"
            ],
            [
             0.2222222222222222,
             "#7201a8"
            ],
            [
             0.3333333333333333,
             "#9c179e"
            ],
            [
             0.4444444444444444,
             "#bd3786"
            ],
            [
             0.5555555555555556,
             "#d8576b"
            ],
            [
             0.6666666666666666,
             "#ed7953"
            ],
            [
             0.7777777777777778,
             "#fb9f3a"
            ],
            [
             0.8888888888888888,
             "#fdca26"
            ],
            [
             1,
             "#f0f921"
            ]
           ],
           "sequentialminus": [
            [
             0,
             "#0d0887"
            ],
            [
             0.1111111111111111,
             "#46039f"
            ],
            [
             0.2222222222222222,
             "#7201a8"
            ],
            [
             0.3333333333333333,
             "#9c179e"
            ],
            [
             0.4444444444444444,
             "#bd3786"
            ],
            [
             0.5555555555555556,
             "#d8576b"
            ],
            [
             0.6666666666666666,
             "#ed7953"
            ],
            [
             0.7777777777777778,
             "#fb9f3a"
            ],
            [
             0.8888888888888888,
             "#fdca26"
            ],
            [
             1,
             "#f0f921"
            ]
           ]
          },
          "colorway": [
           "#636efa",
           "#EF553B",
           "#00cc96",
           "#ab63fa",
           "#FFA15A",
           "#19d3f3",
           "#FF6692",
           "#B6E880",
           "#FF97FF",
           "#FECB52"
          ],
          "font": {
           "color": "#2a3f5f"
          },
          "geo": {
           "bgcolor": "white",
           "lakecolor": "white",
           "landcolor": "#E5ECF6",
           "showlakes": true,
           "showland": true,
           "subunitcolor": "white"
          },
          "hoverlabel": {
           "align": "left"
          },
          "hovermode": "closest",
          "mapbox": {
           "style": "light"
          },
          "paper_bgcolor": "white",
          "plot_bgcolor": "#E5ECF6",
          "polar": {
           "angularaxis": {
            "gridcolor": "white",
            "linecolor": "white",
            "ticks": ""
           },
           "bgcolor": "#E5ECF6",
           "radialaxis": {
            "gridcolor": "white",
            "linecolor": "white",
            "ticks": ""
           }
          },
          "scene": {
           "xaxis": {
            "backgroundcolor": "#E5ECF6",
            "gridcolor": "white",
            "gridwidth": 2,
            "linecolor": "white",
            "showbackground": true,
            "ticks": "",
            "zerolinecolor": "white"
           },
           "yaxis": {
            "backgroundcolor": "#E5ECF6",
            "gridcolor": "white",
            "gridwidth": 2,
            "linecolor": "white",
            "showbackground": true,
            "ticks": "",
            "zerolinecolor": "white"
           },
           "zaxis": {
            "backgroundcolor": "#E5ECF6",
            "gridcolor": "white",
            "gridwidth": 2,
            "linecolor": "white",
            "showbackground": true,
            "ticks": "",
            "zerolinecolor": "white"
           }
          },
          "shapedefaults": {
           "line": {
            "color": "#2a3f5f"
           }
          },
          "ternary": {
           "aaxis": {
            "gridcolor": "white",
            "linecolor": "white",
            "ticks": ""
           },
           "baxis": {
            "gridcolor": "white",
            "linecolor": "white",
            "ticks": ""
           },
           "bgcolor": "#E5ECF6",
           "caxis": {
            "gridcolor": "white",
            "linecolor": "white",
            "ticks": ""
           }
          },
          "title": {
           "x": 0.05
          },
          "xaxis": {
           "automargin": true,
           "gridcolor": "white",
           "linecolor": "white",
           "ticks": "",
           "title": {
            "standoff": 15
           },
           "zerolinecolor": "white",
           "zerolinewidth": 2
          },
          "yaxis": {
           "automargin": true,
           "gridcolor": "white",
           "linecolor": "white",
           "ticks": "",
           "title": {
            "standoff": 15
           },
           "zerolinecolor": "white",
           "zerolinewidth": 2
          }
         }
        },
        "title": {
         "font": {
          "color": "#4D5663"
         }
        },
        "xaxis": {
         "gridcolor": "#E1E5ED",
         "showgrid": true,
         "tickfont": {
          "color": "#4D5663"
         },
         "title": {
          "font": {
           "color": "#4D5663"
          },
          "text": ""
         },
         "zerolinecolor": "#E1E5ED"
        },
        "yaxis": {
         "gridcolor": "#E1E5ED",
         "showgrid": true,
         "tickfont": {
          "color": "#4D5663"
         },
         "title": {
          "font": {
           "color": "#4D5663"
          },
          "text": ""
         },
         "zerolinecolor": "#E1E5ED"
        }
       }
      },
      "text/html": [
       "<div>                            <div id=\"d2f6d53f-01b6-48cd-a3c7-9d0167a0f3a6\" class=\"plotly-graph-div\" style=\"height:525px; width:100%;\"></div>            <script type=\"text/javascript\">                require([\"plotly\"], function(Plotly) {                    window.PLOTLYENV=window.PLOTLYENV || {};\n",
       "                    window.PLOTLYENV.BASE_URL='https://plot.ly';                                    if (document.getElementById(\"d2f6d53f-01b6-48cd-a3c7-9d0167a0f3a6\")) {                    Plotly.newPlot(                        \"d2f6d53f-01b6-48cd-a3c7-9d0167a0f3a6\",                        [{\"boxpoints\":false,\"line\":{\"width\":1.3},\"marker\":{\"color\":\"rgba(255, 153, 51, 1.0)\"},\"name\":\"A\",\"orientation\":\"v\",\"y\":[1.4156358936695956,-0.7486088378843425,0.4955050996849973,0.0875785017678611,-0.826218807836546,-0.47780865783597365,0.6371806083430593,-0.7862798967147497,2.1114851603190483,-1.2324994349183411,0.1691566162217476,-0.6301298927330321,0.49786627088299,0.49011146626932406,-0.2723726811039073,-1.2224214956031332,-0.020378126111556896,1.665415912074953,-1.8969961234292025,-0.42966872521473776,0.05764098447428437,0.7590117363436478,-1.3286958126006447,-1.1606123221990714,0.13921065376826422,1.0854844964786545,-1.104309169567345,0.6994799631154538,0.8742108609821494,0.2257180731978571,-1.5171414152618152,-0.25644652475948193,0.18749692837930554,-0.6801926984548232,-0.18303574689457183,0.03718946653466111,-1.073457770498543,-0.15671529263355505,0.44549454959724333,-0.3510063000141201,-2.149535432281797,1.1408309726951107,-0.4106121412032327,-0.9711252878091771,-0.7144961357779486,2.128623477880922,-1.2805192296083925,0.5017711749949958,1.5889495288058462,2.301798936419069,-0.4038058997708527,2.083876183434349,-1.6919099735875882,-0.4604950389910235,0.44468667813470586,0.3837181925082112,-2.7186889584621365,1.6946586670767712,-1.5908409061921487,0.9916203882779985,-0.373584193784145,-0.37853000119167124,-0.03949696766638036,0.6116075103301817,0.7066339437665027,-0.18362101057989413,-0.19126910937529207,-0.5942646384168769,-0.9939326859755566,-0.21782966355238653,-2.1427933202436424,1.1820416482811897,-0.1832952178723742,1.303974123810601,0.16854111860298743,0.07689777318716676,-1.3606153114019126,-0.40256301529248495,0.3522047698292674,1.3874784565490599,0.5644646020721652,0.25993646056156505,0.727304145289929,1.1188690480615626,-0.5326278977863839,0.5649152222277095,1.8842363452638666,-0.3148006308495593,0.16962586904042973,-0.7724391372975189,1.1812131708118059,1.8094910892179872,1.339874266589562,0.0808352432941568,-0.9666664192169856,-1.1982532515293602,-0.24590540357908927,1.2863581521970273,-1.1458829130853836,-0.41864958520433504],\"type\":\"box\"},{\"boxpoints\":false,\"line\":{\"width\":1.3},\"marker\":{\"color\":\"rgba(55, 128, 191, 1.0)\"},\"name\":\"B\",\"orientation\":\"v\",\"y\":[0.7062581476995701,-1.1710913339176028,1.7403465938914462,-0.278669933207016,0.5289837227499957,-0.5204208476320185,0.820349091795676,-2.5721814068096687,-0.1622269597246676,0.24048767125338333,-0.07666820067898973,1.6967460410727122,-0.06991286363178612,1.3581372047706672,-0.7307973344214783,1.5138821342258184,-0.621027024043218,1.3088421656914941,-1.4817004302025731,-1.105579049921459,1.808244351365949,1.7814240534761128,-1.2849968926336421,0.7235419170090094,1.058536572130399,-1.1048671870589075,0.5266596654819395,-0.8769589435617031,-0.30534849033916944,-1.352162767596701,0.16922062850592987,0.7628457417150688,1.5445728618409094,-0.6867771252144196,1.6962340533283917,-0.06598647451729873,-0.3439382299071361,-1.2794338468476885,1.519574703411229,0.9133174061492851,1.6125385717433276,0.43280634762158154,-0.9039640060890394,0.7359377797913865,-1.3326526464564628,-1.4966814512041033,0.8404794247435162,0.2075619795873575,0.31146161039254616,-0.6819626630511477,0.48568395389333435,0.07611136799710402,-0.14418157848227106,0.9843015427342142,-0.7544519367543739,-2.1915351810117656,0.7472183071202954,0.07654779306342142,0.03717360203194623,0.011294036564791296,-0.7911437191385242,0.21319662109144594,2.6641889764107707,-0.1062777249978354,-0.13731998485911284,-0.4162558199342141,-1.5498377968411983,0.7335258612076875,1.0417190913106185,-0.028494621882404477,2.020747748419635,-1.088687317098657,-1.0520940799094736,-0.9301608812535455,0.3756738820184492,-1.0850500239522738,-1.7067802558636007,-0.44014575633396863,0.5246300696972056,-1.259468621738041,-0.3071423443341209,-1.118902094299359,-2.8256467329121366,-0.8868220385029365,0.10427311227907055,-0.11837011857590833,-0.14146329337330818,0.8647897922587614,-0.4726942358018606,0.6772634832759559,-0.09297918886954187,0.2872666418985008,-0.5702877461493379,-0.4626469928567091,0.32094161556974915,-0.05514093237471859,-0.6304223605436565,-0.10290863068832364,0.8161740895582345,1.6797723943033382],\"type\":\"box\"},{\"boxpoints\":false,\"line\":{\"width\":1.3},\"marker\":{\"color\":\"rgba(50, 171, 96, 1.0)\"},\"name\":\"C\",\"orientation\":\"v\",\"y\":[1.5499007333526247,-0.426196296811759,0.37495612585605337,-0.1336889363052779,1.124770842851406,1.4803699233545966,-0.6913548860620014,0.4530846133240014,0.29625556671890596,2.1392925123134354,0.24267259322727006,-0.5912929335678633,1.076613747733806,-1.156428688302867,-1.361704854446854,-1.5901515424577273,-0.8052314305134672,1.0339252683482132,-1.1343511158123745,-0.43036028633421336,0.5963820862936385,-1.0310122434153828,-0.6874335453969067,-1.621650128651768,0.6073315143194891,1.0070892732439969,1.6077219588646128,-0.17734895812291784,-0.9469102539155999,-0.11564308399434055,-1.5771428692861236,0.38955482579939316,0.3487278769428918,-1.8249887232803101,-0.4444523588309359,1.0238853246466337,0.6667274197816324,-0.592098717424933,-0.046679766440859,0.38322700481864364,0.9879496031684146,0.5023797159654563,-0.05931628734162812,-0.3829196092787056,2.5088960126271633,-0.14933906983556622,0.7064774753092996,-0.07197208057269007,1.3225685292105969,-0.5750408230285969,-0.6091743639150502,0.7085474851277107,0.8975997945112504,1.9084417878905442,-0.521338021933896,-1.4485492999011722,0.16299417795293486,-0.1866718510800261,-1.3317720125027332,1.2878803953991451,0.04170166057725168,-0.7677567980366121,-0.16550003663731286,-1.2521323815543866,-0.8913585151318264,0.31563780106852624,0.2608034524962743,0.9056065015019831,-2.0452160103151678,-1.3091827440595243,-0.0012249881482702207,-1.1462646754780625,-2.0180115831993803,0.690117417760465,1.4661048584907461,-0.044809359760745446,0.6711649827345268,-0.8998777560052286,0.1195515193916954,-0.1601594377668466,-0.05950824566685734,-0.1717728420019799,1.5209540077798478,-0.5132722332286485,-0.9212387828904061,1.1414634700954014,0.9936694880655823,-1.358791600204876,-0.07179118478643616,-0.41436449362850447,-1.5239282783018193,0.4906643802015708,-1.1856787969293885,2.776526862058707,0.2870067040464905,1.3707149588138539,-0.5215968825329502,-1.047051604087512,1.6233558034971234,-1.4415356137188111],\"type\":\"box\"},{\"boxpoints\":false,\"line\":{\"width\":1.3},\"marker\":{\"color\":\"rgba(128, 0, 128, 1.0)\"},\"name\":\"D\",\"orientation\":\"v\",\"y\":[0.12955630777878926,0.7604145971356845,-1.2045784380447713,1.917675966562483,0.29463895926258893,-0.9464359788243719,-1.9743923185423387,-1.090200508419864,-0.6537860886418702,-1.6900748835323505,0.9560642590841237,-1.6882799084757145,0.7375744100532009,1.1195528650686848,-0.37128350416116823,0.023969551457540293,-0.5431314927858206,-1.1023820841410457,-0.40007890308387023,-0.934323378972884,1.9351962764042818,0.9151583018418837,0.646138654596641,-0.4151190527899096,-2.4369509639947116,-0.7621464858688528,-1.235104713665192,0.801505849211162,0.20021371182195458,-0.761116838192273,-1.386288670481089,-1.105065235430969,-3.290269773602219,-1.6648733726990381,1.865557211015783,-0.7273444064480094,-1.1477942586726233,-0.13057957481201085,-0.3682283221653446,0.31287956215888735,-0.7117466624851111,-1.1999906025160019,0.6634672518360509,0.17669380568498563,-0.26738868384158143,-0.796271992339394,-0.7626665373747872,-0.5016363832753867,-1.130751686427838,0.10773715683904422,0.7455490999237923,-0.23876288418707056,-2.6257576586398717,1.3772743435575447,1.3046039520601658,-1.0213326591903462,0.2778963785150497,1.6729475614611091,1.1910742826813256,0.10024631032737884,0.4025160865685234,0.8833463783062594,-0.5201448026334445,0.6608035653686412,-0.7299610652938594,0.8320928519979393,0.32834247832769176,-1.0915799970579458,0.45742096190071907,-0.4610177452478262,-0.23888484265146886,-0.07629868213180137,0.051750630643244526,0.9576730290121173,-2.196006681226583,1.2969432038162436,0.18047325353238816,0.5922433132055498,0.05885073989012512,-0.28449684210233467,-1.9072287405115684,-0.45255772109622,0.1787901922735105,-1.493085001346657,-0.6652674271205405,1.6157483678382576,0.7937464687746136,-0.8371647361154547,-1.3172757840253866,-1.0167299675735864,0.9870695561696492,-0.6855480740995116,1.0219213557275488,0.8091890008260322,1.119587923068023,-0.6140243726310259,2.975157466010432,0.25089008886979375,-0.9101205664114322,-1.5014026804688845],\"type\":\"box\"},{\"boxpoints\":false,\"line\":{\"width\":1.3},\"marker\":{\"color\":\"rgba(219, 64, 82, 1.0)\"},\"name\":\"E\",\"orientation\":\"v\",\"y\":[0.6019315115579517,0.7757097712782659,-0.09269061328673495,0.07362399949468768,-1.6490500950133706,-0.3673196474548039,-0.8136397678967872,-1.7629786295322996,0.36445985357316774,2.253346516631644,0.48151797390507356,0.4384838418002106,-0.7553537245928833,0.05634775556725741,0.38024599030903733,-0.07642558857726198,1.569730122662999,-1.0656999485565524,-1.0942623346288112,-0.5833328752367328,-0.39026358011348045,-0.033645367785843996,-0.8288070160035422,-0.224842733722281,-0.7938770400897642,-0.601013637613153,-0.07383813819140272,0.027432359120694822,0.6804699489000555,1.730941839989778,0.5590944673549689,0.18170904956827238,0.6280229122015368,0.48939130932799,-0.357683562990978,1.0912319012928966,-0.6935954882830229,-0.6134865876246812,-1.17800243573494,-0.5945321367267138,0.7552495359669781,-0.6977715891470061,1.2369469802288617,2.1857028631511137,-1.4682810321475195,-0.48142756273156345,1.9569745370170109,0.8601369810450683,1.8543988418277013,-1.1461369672463904,0.35771878161032633,-0.4256943864570583,-0.13591528515801526,0.5934803609837643,-0.7597378802970451,0.17844815269397957,-1.2575572670619646,0.8711279151014655,0.38882904087411113,0.37329684071352565,-0.19667160931324254,0.4855395374174117,0.4630447730351342,1.3570337203935345,-0.09523453846013402,0.5443003499943089,-0.06982203992232405,-0.5121216464590715,-0.27189995573917913,0.006623541867965086,-0.4552987608630462,0.1814273021264075,0.2167050769382245,0.7636650872857829,1.2364431692438171,1.6031361007181466,0.46845385782853227,0.6900190038562005,-1.1666245315120376,-0.5659139214525217,0.40785698840184115,-1.5415852973049644,0.793548323760602,0.6946420126758375,0.7400577327458684,0.4336538124099455,0.8556283748721737,-0.7121498780599496,-1.6920628446134767,-0.6532050341614064,1.591924604897572,-0.646440599385416,-0.23200193495923746,-1.2599302333037088,-0.5272194320133379,-0.2551713907648001,-0.427599138730128,-0.36254347695641126,-1.5506859127688113,0.9619778026612145],\"type\":\"box\"}],                        {\"legend\":{\"bgcolor\":\"#F5F6F9\",\"font\":{\"color\":\"#4D5663\"}},\"paper_bgcolor\":\"#F5F6F9\",\"plot_bgcolor\":\"#F5F6F9\",\"template\":{\"data\":{\"barpolar\":[{\"marker\":{\"line\":{\"color\":\"#E5ECF6\",\"width\":0.5},\"pattern\":{\"fillmode\":\"overlay\",\"size\":10,\"solidity\":0.2}},\"type\":\"barpolar\"}],\"bar\":[{\"error_x\":{\"color\":\"#2a3f5f\"},\"error_y\":{\"color\":\"#2a3f5f\"},\"marker\":{\"line\":{\"color\":\"#E5ECF6\",\"width\":0.5},\"pattern\":{\"fillmode\":\"overlay\",\"size\":10,\"solidity\":0.2}},\"type\":\"bar\"}],\"carpet\":[{\"aaxis\":{\"endlinecolor\":\"#2a3f5f\",\"gridcolor\":\"white\",\"linecolor\":\"white\",\"minorgridcolor\":\"white\",\"startlinecolor\":\"#2a3f5f\"},\"baxis\":{\"endlinecolor\":\"#2a3f5f\",\"gridcolor\":\"white\",\"linecolor\":\"white\",\"minorgridcolor\":\"white\",\"startlinecolor\":\"#2a3f5f\"},\"type\":\"carpet\"}],\"choropleth\":[{\"colorbar\":{\"outlinewidth\":0,\"ticks\":\"\"},\"type\":\"choropleth\"}],\"contourcarpet\":[{\"colorbar\":{\"outlinewidth\":0,\"ticks\":\"\"},\"type\":\"contourcarpet\"}],\"contour\":[{\"colorbar\":{\"outlinewidth\":0,\"ticks\":\"\"},\"colorscale\":[[0.0,\"#0d0887\"],[0.1111111111111111,\"#46039f\"],[0.2222222222222222,\"#7201a8\"],[0.3333333333333333,\"#9c179e\"],[0.4444444444444444,\"#bd3786\"],[0.5555555555555556,\"#d8576b\"],[0.6666666666666666,\"#ed7953\"],[0.7777777777777778,\"#fb9f3a\"],[0.8888888888888888,\"#fdca26\"],[1.0,\"#f0f921\"]],\"type\":\"contour\"}],\"heatmapgl\":[{\"colorbar\":{\"outlinewidth\":0,\"ticks\":\"\"},\"colorscale\":[[0.0,\"#0d0887\"],[0.1111111111111111,\"#46039f\"],[0.2222222222222222,\"#7201a8\"],[0.3333333333333333,\"#9c179e\"],[0.4444444444444444,\"#bd3786\"],[0.5555555555555556,\"#d8576b\"],[0.6666666666666666,\"#ed7953\"],[0.7777777777777778,\"#fb9f3a\"],[0.8888888888888888,\"#fdca26\"],[1.0,\"#f0f921\"]],\"type\":\"heatmapgl\"}],\"heatmap\":[{\"colorbar\":{\"outlinewidth\":0,\"ticks\":\"\"},\"colorscale\":[[0.0,\"#0d0887\"],[0.1111111111111111,\"#46039f\"],[0.2222222222222222,\"#7201a8\"],[0.3333333333333333,\"#9c179e\"],[0.4444444444444444,\"#bd3786\"],[0.5555555555555556,\"#d8576b\"],[0.6666666666666666,\"#ed7953\"],[0.7777777777777778,\"#fb9f3a\"],[0.8888888888888888,\"#fdca26\"],[1.0,\"#f0f921\"]],\"type\":\"heatmap\"}],\"histogram2dcontour\":[{\"colorbar\":{\"outlinewidth\":0,\"ticks\":\"\"},\"colorscale\":[[0.0,\"#0d0887\"],[0.1111111111111111,\"#46039f\"],[0.2222222222222222,\"#7201a8\"],[0.3333333333333333,\"#9c179e\"],[0.4444444444444444,\"#bd3786\"],[0.5555555555555556,\"#d8576b\"],[0.6666666666666666,\"#ed7953\"],[0.7777777777777778,\"#fb9f3a\"],[0.8888888888888888,\"#fdca26\"],[1.0,\"#f0f921\"]],\"type\":\"histogram2dcontour\"}],\"histogram2d\":[{\"colorbar\":{\"outlinewidth\":0,\"ticks\":\"\"},\"colorscale\":[[0.0,\"#0d0887\"],[0.1111111111111111,\"#46039f\"],[0.2222222222222222,\"#7201a8\"],[0.3333333333333333,\"#9c179e\"],[0.4444444444444444,\"#bd3786\"],[0.5555555555555556,\"#d8576b\"],[0.6666666666666666,\"#ed7953\"],[0.7777777777777778,\"#fb9f3a\"],[0.8888888888888888,\"#fdca26\"],[1.0,\"#f0f921\"]],\"type\":\"histogram2d\"}],\"histogram\":[{\"marker\":{\"pattern\":{\"fillmode\":\"overlay\",\"size\":10,\"solidity\":0.2}},\"type\":\"histogram\"}],\"mesh3d\":[{\"colorbar\":{\"outlinewidth\":0,\"ticks\":\"\"},\"type\":\"mesh3d\"}],\"parcoords\":[{\"line\":{\"colorbar\":{\"outlinewidth\":0,\"ticks\":\"\"}},\"type\":\"parcoords\"}],\"pie\":[{\"automargin\":true,\"type\":\"pie\"}],\"scatter3d\":[{\"line\":{\"colorbar\":{\"outlinewidth\":0,\"ticks\":\"\"}},\"marker\":{\"colorbar\":{\"outlinewidth\":0,\"ticks\":\"\"}},\"type\":\"scatter3d\"}],\"scattercarpet\":[{\"marker\":{\"colorbar\":{\"outlinewidth\":0,\"ticks\":\"\"}},\"type\":\"scattercarpet\"}],\"scattergeo\":[{\"marker\":{\"colorbar\":{\"outlinewidth\":0,\"ticks\":\"\"}},\"type\":\"scattergeo\"}],\"scattergl\":[{\"marker\":{\"colorbar\":{\"outlinewidth\":0,\"ticks\":\"\"}},\"type\":\"scattergl\"}],\"scattermapbox\":[{\"marker\":{\"colorbar\":{\"outlinewidth\":0,\"ticks\":\"\"}},\"type\":\"scattermapbox\"}],\"scatterpolargl\":[{\"marker\":{\"colorbar\":{\"outlinewidth\":0,\"ticks\":\"\"}},\"type\":\"scatterpolargl\"}],\"scatterpolar\":[{\"marker\":{\"colorbar\":{\"outlinewidth\":0,\"ticks\":\"\"}},\"type\":\"scatterpolar\"}],\"scatter\":[{\"marker\":{\"colorbar\":{\"outlinewidth\":0,\"ticks\":\"\"}},\"type\":\"scatter\"}],\"scatterternary\":[{\"marker\":{\"colorbar\":{\"outlinewidth\":0,\"ticks\":\"\"}},\"type\":\"scatterternary\"}],\"surface\":[{\"colorbar\":{\"outlinewidth\":0,\"ticks\":\"\"},\"colorscale\":[[0.0,\"#0d0887\"],[0.1111111111111111,\"#46039f\"],[0.2222222222222222,\"#7201a8\"],[0.3333333333333333,\"#9c179e\"],[0.4444444444444444,\"#bd3786\"],[0.5555555555555556,\"#d8576b\"],[0.6666666666666666,\"#ed7953\"],[0.7777777777777778,\"#fb9f3a\"],[0.8888888888888888,\"#fdca26\"],[1.0,\"#f0f921\"]],\"type\":\"surface\"}],\"table\":[{\"cells\":{\"fill\":{\"color\":\"#EBF0F8\"},\"line\":{\"color\":\"white\"}},\"header\":{\"fill\":{\"color\":\"#C8D4E3\"},\"line\":{\"color\":\"white\"}},\"type\":\"table\"}]},\"layout\":{\"annotationdefaults\":{\"arrowcolor\":\"#2a3f5f\",\"arrowhead\":0,\"arrowwidth\":1},\"autotypenumbers\":\"strict\",\"coloraxis\":{\"colorbar\":{\"outlinewidth\":0,\"ticks\":\"\"}},\"colorscale\":{\"diverging\":[[0,\"#8e0152\"],[0.1,\"#c51b7d\"],[0.2,\"#de77ae\"],[0.3,\"#f1b6da\"],[0.4,\"#fde0ef\"],[0.5,\"#f7f7f7\"],[0.6,\"#e6f5d0\"],[0.7,\"#b8e186\"],[0.8,\"#7fbc41\"],[0.9,\"#4d9221\"],[1,\"#276419\"]],\"sequential\":[[0.0,\"#0d0887\"],[0.1111111111111111,\"#46039f\"],[0.2222222222222222,\"#7201a8\"],[0.3333333333333333,\"#9c179e\"],[0.4444444444444444,\"#bd3786\"],[0.5555555555555556,\"#d8576b\"],[0.6666666666666666,\"#ed7953\"],[0.7777777777777778,\"#fb9f3a\"],[0.8888888888888888,\"#fdca26\"],[1.0,\"#f0f921\"]],\"sequentialminus\":[[0.0,\"#0d0887\"],[0.1111111111111111,\"#46039f\"],[0.2222222222222222,\"#7201a8\"],[0.3333333333333333,\"#9c179e\"],[0.4444444444444444,\"#bd3786\"],[0.5555555555555556,\"#d8576b\"],[0.6666666666666666,\"#ed7953\"],[0.7777777777777778,\"#fb9f3a\"],[0.8888888888888888,\"#fdca26\"],[1.0,\"#f0f921\"]]},\"colorway\":[\"#636efa\",\"#EF553B\",\"#00cc96\",\"#ab63fa\",\"#FFA15A\",\"#19d3f3\",\"#FF6692\",\"#B6E880\",\"#FF97FF\",\"#FECB52\"],\"font\":{\"color\":\"#2a3f5f\"},\"geo\":{\"bgcolor\":\"white\",\"lakecolor\":\"white\",\"landcolor\":\"#E5ECF6\",\"showlakes\":true,\"showland\":true,\"subunitcolor\":\"white\"},\"hoverlabel\":{\"align\":\"left\"},\"hovermode\":\"closest\",\"mapbox\":{\"style\":\"light\"},\"paper_bgcolor\":\"white\",\"plot_bgcolor\":\"#E5ECF6\",\"polar\":{\"angularaxis\":{\"gridcolor\":\"white\",\"linecolor\":\"white\",\"ticks\":\"\"},\"bgcolor\":\"#E5ECF6\",\"radialaxis\":{\"gridcolor\":\"white\",\"linecolor\":\"white\",\"ticks\":\"\"}},\"scene\":{\"xaxis\":{\"backgroundcolor\":\"#E5ECF6\",\"gridcolor\":\"white\",\"gridwidth\":2,\"linecolor\":\"white\",\"showbackground\":true,\"ticks\":\"\",\"zerolinecolor\":\"white\"},\"yaxis\":{\"backgroundcolor\":\"#E5ECF6\",\"gridcolor\":\"white\",\"gridwidth\":2,\"linecolor\":\"white\",\"showbackground\":true,\"ticks\":\"\",\"zerolinecolor\":\"white\"},\"zaxis\":{\"backgroundcolor\":\"#E5ECF6\",\"gridcolor\":\"white\",\"gridwidth\":2,\"linecolor\":\"white\",\"showbackground\":true,\"ticks\":\"\",\"zerolinecolor\":\"white\"}},\"shapedefaults\":{\"line\":{\"color\":\"#2a3f5f\"}},\"ternary\":{\"aaxis\":{\"gridcolor\":\"white\",\"linecolor\":\"white\",\"ticks\":\"\"},\"baxis\":{\"gridcolor\":\"white\",\"linecolor\":\"white\",\"ticks\":\"\"},\"bgcolor\":\"#E5ECF6\",\"caxis\":{\"gridcolor\":\"white\",\"linecolor\":\"white\",\"ticks\":\"\"}},\"title\":{\"x\":0.05},\"xaxis\":{\"automargin\":true,\"gridcolor\":\"white\",\"linecolor\":\"white\",\"ticks\":\"\",\"title\":{\"standoff\":15},\"zerolinecolor\":\"white\",\"zerolinewidth\":2},\"yaxis\":{\"automargin\":true,\"gridcolor\":\"white\",\"linecolor\":\"white\",\"ticks\":\"\",\"title\":{\"standoff\":15},\"zerolinecolor\":\"white\",\"zerolinewidth\":2}}},\"title\":{\"font\":{\"color\":\"#4D5663\"}},\"xaxis\":{\"gridcolor\":\"#E1E5ED\",\"showgrid\":true,\"tickfont\":{\"color\":\"#4D5663\"},\"title\":{\"font\":{\"color\":\"#4D5663\"},\"text\":\"\"},\"zerolinecolor\":\"#E1E5ED\"},\"yaxis\":{\"gridcolor\":\"#E1E5ED\",\"showgrid\":true,\"tickfont\":{\"color\":\"#4D5663\"},\"title\":{\"font\":{\"color\":\"#4D5663\"},\"text\":\"\"},\"zerolinecolor\":\"#E1E5ED\"}},                        {\"showLink\": true, \"linkText\": \"Export to plot.ly\", \"plotlyServerURL\": \"https://plot.ly\", \"responsive\": true}                    ).then(function(){\n",
       "                            \n",
       "var gd = document.getElementById('d2f6d53f-01b6-48cd-a3c7-9d0167a0f3a6');\n",
       "var x = new MutationObserver(function (mutations, observer) {{\n",
       "        var display = window.getComputedStyle(gd).display;\n",
       "        if (!display || display === 'none') {{\n",
       "            console.log([gd, 'removed!']);\n",
       "            Plotly.purge(gd);\n",
       "            observer.disconnect();\n",
       "        }}\n",
       "}});\n",
       "\n",
       "// Listen for the removal of the full notebook cells\n",
       "var notebookContainer = gd.closest('#notebook-container');\n",
       "if (notebookContainer) {{\n",
       "    x.observe(notebookContainer, {childList: true});\n",
       "}}\n",
       "\n",
       "// Listen for the clearing of the current output cell\n",
       "var outputEl = gd.closest('.output');\n",
       "if (outputEl) {{\n",
       "    x.observe(outputEl, {childList: true});\n",
       "}}\n",
       "\n",
       "                        })                };                });            </script>        </div>"
      ]
     },
     "metadata": {},
     "output_type": "display_data"
    }
   ],
   "source": [
    "df.iplot(kind = \"box\")"
   ]
  },
  {
   "cell_type": "code",
   "execution_count": 27,
   "id": "e7bd07c1",
   "metadata": {},
   "outputs": [
    {
     "data": {
      "text/html": [
       "<div>\n",
       "<style scoped>\n",
       "    .dataframe tbody tr th:only-of-type {\n",
       "        vertical-align: middle;\n",
       "    }\n",
       "\n",
       "    .dataframe tbody tr th {\n",
       "        vertical-align: top;\n",
       "    }\n",
       "\n",
       "    .dataframe thead th {\n",
       "        text-align: right;\n",
       "    }\n",
       "</style>\n",
       "<table border=\"1\" class=\"dataframe\">\n",
       "  <thead>\n",
       "    <tr style=\"text-align: right;\">\n",
       "      <th></th>\n",
       "      <th>A</th>\n",
       "      <th>B</th>\n",
       "      <th>C</th>\n",
       "    </tr>\n",
       "  </thead>\n",
       "  <tbody>\n",
       "    <tr>\n",
       "      <th>0</th>\n",
       "      <td>1.415636</td>\n",
       "      <td>0.706258</td>\n",
       "      <td>1.549901</td>\n",
       "    </tr>\n",
       "    <tr>\n",
       "      <th>1</th>\n",
       "      <td>-0.748609</td>\n",
       "      <td>-1.171091</td>\n",
       "      <td>-0.426196</td>\n",
       "    </tr>\n",
       "    <tr>\n",
       "      <th>2</th>\n",
       "      <td>0.495505</td>\n",
       "      <td>1.740347</td>\n",
       "      <td>0.374956</td>\n",
       "    </tr>\n",
       "    <tr>\n",
       "      <th>3</th>\n",
       "      <td>0.087579</td>\n",
       "      <td>-0.278670</td>\n",
       "      <td>-0.133689</td>\n",
       "    </tr>\n",
       "    <tr>\n",
       "      <th>4</th>\n",
       "      <td>-0.826219</td>\n",
       "      <td>0.528984</td>\n",
       "      <td>1.124771</td>\n",
       "    </tr>\n",
       "    <tr>\n",
       "      <th>...</th>\n",
       "      <td>...</td>\n",
       "      <td>...</td>\n",
       "      <td>...</td>\n",
       "    </tr>\n",
       "    <tr>\n",
       "      <th>95</th>\n",
       "      <td>-1.198253</td>\n",
       "      <td>-0.055141</td>\n",
       "      <td>1.370715</td>\n",
       "    </tr>\n",
       "    <tr>\n",
       "      <th>96</th>\n",
       "      <td>-0.245905</td>\n",
       "      <td>-0.630422</td>\n",
       "      <td>-0.521597</td>\n",
       "    </tr>\n",
       "    <tr>\n",
       "      <th>97</th>\n",
       "      <td>1.286358</td>\n",
       "      <td>-0.102909</td>\n",
       "      <td>-1.047052</td>\n",
       "    </tr>\n",
       "    <tr>\n",
       "      <th>98</th>\n",
       "      <td>-1.145883</td>\n",
       "      <td>0.816174</td>\n",
       "      <td>1.623356</td>\n",
       "    </tr>\n",
       "    <tr>\n",
       "      <th>99</th>\n",
       "      <td>-0.418650</td>\n",
       "      <td>1.679772</td>\n",
       "      <td>-1.441536</td>\n",
       "    </tr>\n",
       "  </tbody>\n",
       "</table>\n",
       "<p>100 rows × 3 columns</p>\n",
       "</div>"
      ],
      "text/plain": [
       "           A         B         C\n",
       "0   1.415636  0.706258  1.549901\n",
       "1  -0.748609 -1.171091 -0.426196\n",
       "2   0.495505  1.740347  0.374956\n",
       "3   0.087579 -0.278670 -0.133689\n",
       "4  -0.826219  0.528984  1.124771\n",
       "..       ...       ...       ...\n",
       "95 -1.198253 -0.055141  1.370715\n",
       "96 -0.245905 -0.630422 -0.521597\n",
       "97  1.286358 -0.102909 -1.047052\n",
       "98 -1.145883  0.816174  1.623356\n",
       "99 -0.418650  1.679772 -1.441536\n",
       "\n",
       "[100 rows x 3 columns]"
      ]
     },
     "execution_count": 27,
     "metadata": {},
     "output_type": "execute_result"
    }
   ],
   "source": [
    "df"
   ]
  },
  {
   "cell_type": "code",
   "execution_count": 29,
   "id": "5591c5a8",
   "metadata": {},
   "outputs": [
    {
     "data": {
      "application/vnd.plotly.v1+json": {
       "config": {
        "linkText": "Export to plot.ly",
        "plotlyServerURL": "https://plot.ly",
        "showLink": true
       },
       "data": [
        {
         "colorscale": [
          [
           0,
           "rgb(255, 153, 51)"
          ],
          [
           0.1111111111111111,
           "rgb(55, 128, 191)"
          ],
          [
           0.2222222222222222,
           "rgb(50, 171, 96)"
          ],
          [
           0.3333333333333333,
           "rgb(128, 0, 128)"
          ],
          [
           0.4444444444444444,
           "rgb(219, 64, 82)"
          ],
          [
           0.5555555555555556,
           "rgb(0, 128, 128)"
          ],
          [
           0.6666666666666666,
           "rgb(255, 255, 51)"
          ],
          [
           0.7777777777777778,
           "rgb(128, 128, 0)"
          ],
          [
           0.8888888888888888,
           "rgb(251, 128, 114)"
          ],
          [
           1,
           "rgb(128, 177, 211)"
          ]
         ],
         "type": "surface",
         "x": [
          0,
          1,
          2,
          3,
          4
         ],
         "y": [
          "A",
          "B",
          "C"
         ],
         "z": [
          [
           1.4156358936695956,
           -0.7486088378843425,
           0.4955050996849973,
           0.0875785017678611,
           -0.826218807836546
          ],
          [
           0.7062581476995701,
           -1.1710913339176028,
           1.7403465938914462,
           -0.278669933207016,
           0.5289837227499957
          ],
          [
           1.5499007333526247,
           -0.426196296811759,
           0.37495612585605337,
           -0.1336889363052779,
           1.124770842851406
          ]
         ]
        }
       ],
       "layout": {
        "legend": {
         "bgcolor": "#F5F6F9",
         "font": {
          "color": "#4D5663"
         }
        },
        "paper_bgcolor": "#F5F6F9",
        "plot_bgcolor": "#F5F6F9",
        "template": {
         "data": {
          "bar": [
           {
            "error_x": {
             "color": "#2a3f5f"
            },
            "error_y": {
             "color": "#2a3f5f"
            },
            "marker": {
             "line": {
              "color": "#E5ECF6",
              "width": 0.5
             },
             "pattern": {
              "fillmode": "overlay",
              "size": 10,
              "solidity": 0.2
             }
            },
            "type": "bar"
           }
          ],
          "barpolar": [
           {
            "marker": {
             "line": {
              "color": "#E5ECF6",
              "width": 0.5
             },
             "pattern": {
              "fillmode": "overlay",
              "size": 10,
              "solidity": 0.2
             }
            },
            "type": "barpolar"
           }
          ],
          "carpet": [
           {
            "aaxis": {
             "endlinecolor": "#2a3f5f",
             "gridcolor": "white",
             "linecolor": "white",
             "minorgridcolor": "white",
             "startlinecolor": "#2a3f5f"
            },
            "baxis": {
             "endlinecolor": "#2a3f5f",
             "gridcolor": "white",
             "linecolor": "white",
             "minorgridcolor": "white",
             "startlinecolor": "#2a3f5f"
            },
            "type": "carpet"
           }
          ],
          "choropleth": [
           {
            "colorbar": {
             "outlinewidth": 0,
             "ticks": ""
            },
            "type": "choropleth"
           }
          ],
          "contour": [
           {
            "colorbar": {
             "outlinewidth": 0,
             "ticks": ""
            },
            "colorscale": [
             [
              0,
              "#0d0887"
             ],
             [
              0.1111111111111111,
              "#46039f"
             ],
             [
              0.2222222222222222,
              "#7201a8"
             ],
             [
              0.3333333333333333,
              "#9c179e"
             ],
             [
              0.4444444444444444,
              "#bd3786"
             ],
             [
              0.5555555555555556,
              "#d8576b"
             ],
             [
              0.6666666666666666,
              "#ed7953"
             ],
             [
              0.7777777777777778,
              "#fb9f3a"
             ],
             [
              0.8888888888888888,
              "#fdca26"
             ],
             [
              1,
              "#f0f921"
             ]
            ],
            "type": "contour"
           }
          ],
          "contourcarpet": [
           {
            "colorbar": {
             "outlinewidth": 0,
             "ticks": ""
            },
            "type": "contourcarpet"
           }
          ],
          "heatmap": [
           {
            "colorbar": {
             "outlinewidth": 0,
             "ticks": ""
            },
            "colorscale": [
             [
              0,
              "#0d0887"
             ],
             [
              0.1111111111111111,
              "#46039f"
             ],
             [
              0.2222222222222222,
              "#7201a8"
             ],
             [
              0.3333333333333333,
              "#9c179e"
             ],
             [
              0.4444444444444444,
              "#bd3786"
             ],
             [
              0.5555555555555556,
              "#d8576b"
             ],
             [
              0.6666666666666666,
              "#ed7953"
             ],
             [
              0.7777777777777778,
              "#fb9f3a"
             ],
             [
              0.8888888888888888,
              "#fdca26"
             ],
             [
              1,
              "#f0f921"
             ]
            ],
            "type": "heatmap"
           }
          ],
          "heatmapgl": [
           {
            "colorbar": {
             "outlinewidth": 0,
             "ticks": ""
            },
            "colorscale": [
             [
              0,
              "#0d0887"
             ],
             [
              0.1111111111111111,
              "#46039f"
             ],
             [
              0.2222222222222222,
              "#7201a8"
             ],
             [
              0.3333333333333333,
              "#9c179e"
             ],
             [
              0.4444444444444444,
              "#bd3786"
             ],
             [
              0.5555555555555556,
              "#d8576b"
             ],
             [
              0.6666666666666666,
              "#ed7953"
             ],
             [
              0.7777777777777778,
              "#fb9f3a"
             ],
             [
              0.8888888888888888,
              "#fdca26"
             ],
             [
              1,
              "#f0f921"
             ]
            ],
            "type": "heatmapgl"
           }
          ],
          "histogram": [
           {
            "marker": {
             "pattern": {
              "fillmode": "overlay",
              "size": 10,
              "solidity": 0.2
             }
            },
            "type": "histogram"
           }
          ],
          "histogram2d": [
           {
            "colorbar": {
             "outlinewidth": 0,
             "ticks": ""
            },
            "colorscale": [
             [
              0,
              "#0d0887"
             ],
             [
              0.1111111111111111,
              "#46039f"
             ],
             [
              0.2222222222222222,
              "#7201a8"
             ],
             [
              0.3333333333333333,
              "#9c179e"
             ],
             [
              0.4444444444444444,
              "#bd3786"
             ],
             [
              0.5555555555555556,
              "#d8576b"
             ],
             [
              0.6666666666666666,
              "#ed7953"
             ],
             [
              0.7777777777777778,
              "#fb9f3a"
             ],
             [
              0.8888888888888888,
              "#fdca26"
             ],
             [
              1,
              "#f0f921"
             ]
            ],
            "type": "histogram2d"
           }
          ],
          "histogram2dcontour": [
           {
            "colorbar": {
             "outlinewidth": 0,
             "ticks": ""
            },
            "colorscale": [
             [
              0,
              "#0d0887"
             ],
             [
              0.1111111111111111,
              "#46039f"
             ],
             [
              0.2222222222222222,
              "#7201a8"
             ],
             [
              0.3333333333333333,
              "#9c179e"
             ],
             [
              0.4444444444444444,
              "#bd3786"
             ],
             [
              0.5555555555555556,
              "#d8576b"
             ],
             [
              0.6666666666666666,
              "#ed7953"
             ],
             [
              0.7777777777777778,
              "#fb9f3a"
             ],
             [
              0.8888888888888888,
              "#fdca26"
             ],
             [
              1,
              "#f0f921"
             ]
            ],
            "type": "histogram2dcontour"
           }
          ],
          "mesh3d": [
           {
            "colorbar": {
             "outlinewidth": 0,
             "ticks": ""
            },
            "type": "mesh3d"
           }
          ],
          "parcoords": [
           {
            "line": {
             "colorbar": {
              "outlinewidth": 0,
              "ticks": ""
             }
            },
            "type": "parcoords"
           }
          ],
          "pie": [
           {
            "automargin": true,
            "type": "pie"
           }
          ],
          "scatter": [
           {
            "marker": {
             "colorbar": {
              "outlinewidth": 0,
              "ticks": ""
             }
            },
            "type": "scatter"
           }
          ],
          "scatter3d": [
           {
            "line": {
             "colorbar": {
              "outlinewidth": 0,
              "ticks": ""
             }
            },
            "marker": {
             "colorbar": {
              "outlinewidth": 0,
              "ticks": ""
             }
            },
            "type": "scatter3d"
           }
          ],
          "scattercarpet": [
           {
            "marker": {
             "colorbar": {
              "outlinewidth": 0,
              "ticks": ""
             }
            },
            "type": "scattercarpet"
           }
          ],
          "scattergeo": [
           {
            "marker": {
             "colorbar": {
              "outlinewidth": 0,
              "ticks": ""
             }
            },
            "type": "scattergeo"
           }
          ],
          "scattergl": [
           {
            "marker": {
             "colorbar": {
              "outlinewidth": 0,
              "ticks": ""
             }
            },
            "type": "scattergl"
           }
          ],
          "scattermapbox": [
           {
            "marker": {
             "colorbar": {
              "outlinewidth": 0,
              "ticks": ""
             }
            },
            "type": "scattermapbox"
           }
          ],
          "scatterpolar": [
           {
            "marker": {
             "colorbar": {
              "outlinewidth": 0,
              "ticks": ""
             }
            },
            "type": "scatterpolar"
           }
          ],
          "scatterpolargl": [
           {
            "marker": {
             "colorbar": {
              "outlinewidth": 0,
              "ticks": ""
             }
            },
            "type": "scatterpolargl"
           }
          ],
          "scatterternary": [
           {
            "marker": {
             "colorbar": {
              "outlinewidth": 0,
              "ticks": ""
             }
            },
            "type": "scatterternary"
           }
          ],
          "surface": [
           {
            "colorbar": {
             "outlinewidth": 0,
             "ticks": ""
            },
            "colorscale": [
             [
              0,
              "#0d0887"
             ],
             [
              0.1111111111111111,
              "#46039f"
             ],
             [
              0.2222222222222222,
              "#7201a8"
             ],
             [
              0.3333333333333333,
              "#9c179e"
             ],
             [
              0.4444444444444444,
              "#bd3786"
             ],
             [
              0.5555555555555556,
              "#d8576b"
             ],
             [
              0.6666666666666666,
              "#ed7953"
             ],
             [
              0.7777777777777778,
              "#fb9f3a"
             ],
             [
              0.8888888888888888,
              "#fdca26"
             ],
             [
              1,
              "#f0f921"
             ]
            ],
            "type": "surface"
           }
          ],
          "table": [
           {
            "cells": {
             "fill": {
              "color": "#EBF0F8"
             },
             "line": {
              "color": "white"
             }
            },
            "header": {
             "fill": {
              "color": "#C8D4E3"
             },
             "line": {
              "color": "white"
             }
            },
            "type": "table"
           }
          ]
         },
         "layout": {
          "annotationdefaults": {
           "arrowcolor": "#2a3f5f",
           "arrowhead": 0,
           "arrowwidth": 1
          },
          "autotypenumbers": "strict",
          "coloraxis": {
           "colorbar": {
            "outlinewidth": 0,
            "ticks": ""
           }
          },
          "colorscale": {
           "diverging": [
            [
             0,
             "#8e0152"
            ],
            [
             0.1,
             "#c51b7d"
            ],
            [
             0.2,
             "#de77ae"
            ],
            [
             0.3,
             "#f1b6da"
            ],
            [
             0.4,
             "#fde0ef"
            ],
            [
             0.5,
             "#f7f7f7"
            ],
            [
             0.6,
             "#e6f5d0"
            ],
            [
             0.7,
             "#b8e186"
            ],
            [
             0.8,
             "#7fbc41"
            ],
            [
             0.9,
             "#4d9221"
            ],
            [
             1,
             "#276419"
            ]
           ],
           "sequential": [
            [
             0,
             "#0d0887"
            ],
            [
             0.1111111111111111,
             "#46039f"
            ],
            [
             0.2222222222222222,
             "#7201a8"
            ],
            [
             0.3333333333333333,
             "#9c179e"
            ],
            [
             0.4444444444444444,
             "#bd3786"
            ],
            [
             0.5555555555555556,
             "#d8576b"
            ],
            [
             0.6666666666666666,
             "#ed7953"
            ],
            [
             0.7777777777777778,
             "#fb9f3a"
            ],
            [
             0.8888888888888888,
             "#fdca26"
            ],
            [
             1,
             "#f0f921"
            ]
           ],
           "sequentialminus": [
            [
             0,
             "#0d0887"
            ],
            [
             0.1111111111111111,
             "#46039f"
            ],
            [
             0.2222222222222222,
             "#7201a8"
            ],
            [
             0.3333333333333333,
             "#9c179e"
            ],
            [
             0.4444444444444444,
             "#bd3786"
            ],
            [
             0.5555555555555556,
             "#d8576b"
            ],
            [
             0.6666666666666666,
             "#ed7953"
            ],
            [
             0.7777777777777778,
             "#fb9f3a"
            ],
            [
             0.8888888888888888,
             "#fdca26"
            ],
            [
             1,
             "#f0f921"
            ]
           ]
          },
          "colorway": [
           "#636efa",
           "#EF553B",
           "#00cc96",
           "#ab63fa",
           "#FFA15A",
           "#19d3f3",
           "#FF6692",
           "#B6E880",
           "#FF97FF",
           "#FECB52"
          ],
          "font": {
           "color": "#2a3f5f"
          },
          "geo": {
           "bgcolor": "white",
           "lakecolor": "white",
           "landcolor": "#E5ECF6",
           "showlakes": true,
           "showland": true,
           "subunitcolor": "white"
          },
          "hoverlabel": {
           "align": "left"
          },
          "hovermode": "closest",
          "mapbox": {
           "style": "light"
          },
          "paper_bgcolor": "white",
          "plot_bgcolor": "#E5ECF6",
          "polar": {
           "angularaxis": {
            "gridcolor": "white",
            "linecolor": "white",
            "ticks": ""
           },
           "bgcolor": "#E5ECF6",
           "radialaxis": {
            "gridcolor": "white",
            "linecolor": "white",
            "ticks": ""
           }
          },
          "scene": {
           "xaxis": {
            "backgroundcolor": "#E5ECF6",
            "gridcolor": "white",
            "gridwidth": 2,
            "linecolor": "white",
            "showbackground": true,
            "ticks": "",
            "zerolinecolor": "white"
           },
           "yaxis": {
            "backgroundcolor": "#E5ECF6",
            "gridcolor": "white",
            "gridwidth": 2,
            "linecolor": "white",
            "showbackground": true,
            "ticks": "",
            "zerolinecolor": "white"
           },
           "zaxis": {
            "backgroundcolor": "#E5ECF6",
            "gridcolor": "white",
            "gridwidth": 2,
            "linecolor": "white",
            "showbackground": true,
            "ticks": "",
            "zerolinecolor": "white"
           }
          },
          "shapedefaults": {
           "line": {
            "color": "#2a3f5f"
           }
          },
          "ternary": {
           "aaxis": {
            "gridcolor": "white",
            "linecolor": "white",
            "ticks": ""
           },
           "baxis": {
            "gridcolor": "white",
            "linecolor": "white",
            "ticks": ""
           },
           "bgcolor": "#E5ECF6",
           "caxis": {
            "gridcolor": "white",
            "linecolor": "white",
            "ticks": ""
           }
          },
          "title": {
           "x": 0.05
          },
          "xaxis": {
           "automargin": true,
           "gridcolor": "white",
           "linecolor": "white",
           "ticks": "",
           "title": {
            "standoff": 15
           },
           "zerolinecolor": "white",
           "zerolinewidth": 2
          },
          "yaxis": {
           "automargin": true,
           "gridcolor": "white",
           "linecolor": "white",
           "ticks": "",
           "title": {
            "standoff": 15
           },
           "zerolinecolor": "white",
           "zerolinewidth": 2
          }
         }
        },
        "title": {
         "font": {
          "color": "#4D5663"
         }
        },
        "xaxis": {
         "gridcolor": "#E1E5ED",
         "showgrid": true,
         "tickfont": {
          "color": "#4D5663"
         },
         "title": {
          "font": {
           "color": "#4D5663"
          },
          "text": ""
         },
         "zerolinecolor": "#E1E5ED"
        },
        "yaxis": {
         "gridcolor": "#E1E5ED",
         "showgrid": true,
         "tickfont": {
          "color": "#4D5663"
         },
         "title": {
          "font": {
           "color": "#4D5663"
          },
          "text": ""
         },
         "zerolinecolor": "#E1E5ED"
        }
       }
      },
      "text/html": [
       "<div>                            <div id=\"5bf9a136-7b96-487d-9344-2d03f0d603f0\" class=\"plotly-graph-div\" style=\"height:525px; width:100%;\"></div>            <script type=\"text/javascript\">                require([\"plotly\"], function(Plotly) {                    window.PLOTLYENV=window.PLOTLYENV || {};\n",
       "                    window.PLOTLYENV.BASE_URL='https://plot.ly';                                    if (document.getElementById(\"5bf9a136-7b96-487d-9344-2d03f0d603f0\")) {                    Plotly.newPlot(                        \"5bf9a136-7b96-487d-9344-2d03f0d603f0\",                        [{\"colorscale\":[[0.0,\"rgb(255, 153, 51)\"],[0.1111111111111111,\"rgb(55, 128, 191)\"],[0.2222222222222222,\"rgb(50, 171, 96)\"],[0.3333333333333333,\"rgb(128, 0, 128)\"],[0.4444444444444444,\"rgb(219, 64, 82)\"],[0.5555555555555556,\"rgb(0, 128, 128)\"],[0.6666666666666666,\"rgb(255, 255, 51)\"],[0.7777777777777778,\"rgb(128, 128, 0)\"],[0.8888888888888888,\"rgb(251, 128, 114)\"],[1.0,\"rgb(128, 177, 211)\"]],\"x\":[0,1,2,3,4],\"y\":[\"A\",\"B\",\"C\"],\"z\":[[1.4156358936695956,-0.7486088378843425,0.4955050996849973,0.0875785017678611,-0.826218807836546],[0.7062581476995701,-1.1710913339176028,1.7403465938914462,-0.278669933207016,0.5289837227499957],[1.5499007333526247,-0.426196296811759,0.37495612585605337,-0.1336889363052779,1.124770842851406]],\"type\":\"surface\"}],                        {\"legend\":{\"bgcolor\":\"#F5F6F9\",\"font\":{\"color\":\"#4D5663\"}},\"paper_bgcolor\":\"#F5F6F9\",\"plot_bgcolor\":\"#F5F6F9\",\"template\":{\"data\":{\"barpolar\":[{\"marker\":{\"line\":{\"color\":\"#E5ECF6\",\"width\":0.5},\"pattern\":{\"fillmode\":\"overlay\",\"size\":10,\"solidity\":0.2}},\"type\":\"barpolar\"}],\"bar\":[{\"error_x\":{\"color\":\"#2a3f5f\"},\"error_y\":{\"color\":\"#2a3f5f\"},\"marker\":{\"line\":{\"color\":\"#E5ECF6\",\"width\":0.5},\"pattern\":{\"fillmode\":\"overlay\",\"size\":10,\"solidity\":0.2}},\"type\":\"bar\"}],\"carpet\":[{\"aaxis\":{\"endlinecolor\":\"#2a3f5f\",\"gridcolor\":\"white\",\"linecolor\":\"white\",\"minorgridcolor\":\"white\",\"startlinecolor\":\"#2a3f5f\"},\"baxis\":{\"endlinecolor\":\"#2a3f5f\",\"gridcolor\":\"white\",\"linecolor\":\"white\",\"minorgridcolor\":\"white\",\"startlinecolor\":\"#2a3f5f\"},\"type\":\"carpet\"}],\"choropleth\":[{\"colorbar\":{\"outlinewidth\":0,\"ticks\":\"\"},\"type\":\"choropleth\"}],\"contourcarpet\":[{\"colorbar\":{\"outlinewidth\":0,\"ticks\":\"\"},\"type\":\"contourcarpet\"}],\"contour\":[{\"colorbar\":{\"outlinewidth\":0,\"ticks\":\"\"},\"colorscale\":[[0.0,\"#0d0887\"],[0.1111111111111111,\"#46039f\"],[0.2222222222222222,\"#7201a8\"],[0.3333333333333333,\"#9c179e\"],[0.4444444444444444,\"#bd3786\"],[0.5555555555555556,\"#d8576b\"],[0.6666666666666666,\"#ed7953\"],[0.7777777777777778,\"#fb9f3a\"],[0.8888888888888888,\"#fdca26\"],[1.0,\"#f0f921\"]],\"type\":\"contour\"}],\"heatmapgl\":[{\"colorbar\":{\"outlinewidth\":0,\"ticks\":\"\"},\"colorscale\":[[0.0,\"#0d0887\"],[0.1111111111111111,\"#46039f\"],[0.2222222222222222,\"#7201a8\"],[0.3333333333333333,\"#9c179e\"],[0.4444444444444444,\"#bd3786\"],[0.5555555555555556,\"#d8576b\"],[0.6666666666666666,\"#ed7953\"],[0.7777777777777778,\"#fb9f3a\"],[0.8888888888888888,\"#fdca26\"],[1.0,\"#f0f921\"]],\"type\":\"heatmapgl\"}],\"heatmap\":[{\"colorbar\":{\"outlinewidth\":0,\"ticks\":\"\"},\"colorscale\":[[0.0,\"#0d0887\"],[0.1111111111111111,\"#46039f\"],[0.2222222222222222,\"#7201a8\"],[0.3333333333333333,\"#9c179e\"],[0.4444444444444444,\"#bd3786\"],[0.5555555555555556,\"#d8576b\"],[0.6666666666666666,\"#ed7953\"],[0.7777777777777778,\"#fb9f3a\"],[0.8888888888888888,\"#fdca26\"],[1.0,\"#f0f921\"]],\"type\":\"heatmap\"}],\"histogram2dcontour\":[{\"colorbar\":{\"outlinewidth\":0,\"ticks\":\"\"},\"colorscale\":[[0.0,\"#0d0887\"],[0.1111111111111111,\"#46039f\"],[0.2222222222222222,\"#7201a8\"],[0.3333333333333333,\"#9c179e\"],[0.4444444444444444,\"#bd3786\"],[0.5555555555555556,\"#d8576b\"],[0.6666666666666666,\"#ed7953\"],[0.7777777777777778,\"#fb9f3a\"],[0.8888888888888888,\"#fdca26\"],[1.0,\"#f0f921\"]],\"type\":\"histogram2dcontour\"}],\"histogram2d\":[{\"colorbar\":{\"outlinewidth\":0,\"ticks\":\"\"},\"colorscale\":[[0.0,\"#0d0887\"],[0.1111111111111111,\"#46039f\"],[0.2222222222222222,\"#7201a8\"],[0.3333333333333333,\"#9c179e\"],[0.4444444444444444,\"#bd3786\"],[0.5555555555555556,\"#d8576b\"],[0.6666666666666666,\"#ed7953\"],[0.7777777777777778,\"#fb9f3a\"],[0.8888888888888888,\"#fdca26\"],[1.0,\"#f0f921\"]],\"type\":\"histogram2d\"}],\"histogram\":[{\"marker\":{\"pattern\":{\"fillmode\":\"overlay\",\"size\":10,\"solidity\":0.2}},\"type\":\"histogram\"}],\"mesh3d\":[{\"colorbar\":{\"outlinewidth\":0,\"ticks\":\"\"},\"type\":\"mesh3d\"}],\"parcoords\":[{\"line\":{\"colorbar\":{\"outlinewidth\":0,\"ticks\":\"\"}},\"type\":\"parcoords\"}],\"pie\":[{\"automargin\":true,\"type\":\"pie\"}],\"scatter3d\":[{\"line\":{\"colorbar\":{\"outlinewidth\":0,\"ticks\":\"\"}},\"marker\":{\"colorbar\":{\"outlinewidth\":0,\"ticks\":\"\"}},\"type\":\"scatter3d\"}],\"scattercarpet\":[{\"marker\":{\"colorbar\":{\"outlinewidth\":0,\"ticks\":\"\"}},\"type\":\"scattercarpet\"}],\"scattergeo\":[{\"marker\":{\"colorbar\":{\"outlinewidth\":0,\"ticks\":\"\"}},\"type\":\"scattergeo\"}],\"scattergl\":[{\"marker\":{\"colorbar\":{\"outlinewidth\":0,\"ticks\":\"\"}},\"type\":\"scattergl\"}],\"scattermapbox\":[{\"marker\":{\"colorbar\":{\"outlinewidth\":0,\"ticks\":\"\"}},\"type\":\"scattermapbox\"}],\"scatterpolargl\":[{\"marker\":{\"colorbar\":{\"outlinewidth\":0,\"ticks\":\"\"}},\"type\":\"scatterpolargl\"}],\"scatterpolar\":[{\"marker\":{\"colorbar\":{\"outlinewidth\":0,\"ticks\":\"\"}},\"type\":\"scatterpolar\"}],\"scatter\":[{\"marker\":{\"colorbar\":{\"outlinewidth\":0,\"ticks\":\"\"}},\"type\":\"scatter\"}],\"scatterternary\":[{\"marker\":{\"colorbar\":{\"outlinewidth\":0,\"ticks\":\"\"}},\"type\":\"scatterternary\"}],\"surface\":[{\"colorbar\":{\"outlinewidth\":0,\"ticks\":\"\"},\"colorscale\":[[0.0,\"#0d0887\"],[0.1111111111111111,\"#46039f\"],[0.2222222222222222,\"#7201a8\"],[0.3333333333333333,\"#9c179e\"],[0.4444444444444444,\"#bd3786\"],[0.5555555555555556,\"#d8576b\"],[0.6666666666666666,\"#ed7953\"],[0.7777777777777778,\"#fb9f3a\"],[0.8888888888888888,\"#fdca26\"],[1.0,\"#f0f921\"]],\"type\":\"surface\"}],\"table\":[{\"cells\":{\"fill\":{\"color\":\"#EBF0F8\"},\"line\":{\"color\":\"white\"}},\"header\":{\"fill\":{\"color\":\"#C8D4E3\"},\"line\":{\"color\":\"white\"}},\"type\":\"table\"}]},\"layout\":{\"annotationdefaults\":{\"arrowcolor\":\"#2a3f5f\",\"arrowhead\":0,\"arrowwidth\":1},\"autotypenumbers\":\"strict\",\"coloraxis\":{\"colorbar\":{\"outlinewidth\":0,\"ticks\":\"\"}},\"colorscale\":{\"diverging\":[[0,\"#8e0152\"],[0.1,\"#c51b7d\"],[0.2,\"#de77ae\"],[0.3,\"#f1b6da\"],[0.4,\"#fde0ef\"],[0.5,\"#f7f7f7\"],[0.6,\"#e6f5d0\"],[0.7,\"#b8e186\"],[0.8,\"#7fbc41\"],[0.9,\"#4d9221\"],[1,\"#276419\"]],\"sequential\":[[0.0,\"#0d0887\"],[0.1111111111111111,\"#46039f\"],[0.2222222222222222,\"#7201a8\"],[0.3333333333333333,\"#9c179e\"],[0.4444444444444444,\"#bd3786\"],[0.5555555555555556,\"#d8576b\"],[0.6666666666666666,\"#ed7953\"],[0.7777777777777778,\"#fb9f3a\"],[0.8888888888888888,\"#fdca26\"],[1.0,\"#f0f921\"]],\"sequentialminus\":[[0.0,\"#0d0887\"],[0.1111111111111111,\"#46039f\"],[0.2222222222222222,\"#7201a8\"],[0.3333333333333333,\"#9c179e\"],[0.4444444444444444,\"#bd3786\"],[0.5555555555555556,\"#d8576b\"],[0.6666666666666666,\"#ed7953\"],[0.7777777777777778,\"#fb9f3a\"],[0.8888888888888888,\"#fdca26\"],[1.0,\"#f0f921\"]]},\"colorway\":[\"#636efa\",\"#EF553B\",\"#00cc96\",\"#ab63fa\",\"#FFA15A\",\"#19d3f3\",\"#FF6692\",\"#B6E880\",\"#FF97FF\",\"#FECB52\"],\"font\":{\"color\":\"#2a3f5f\"},\"geo\":{\"bgcolor\":\"white\",\"lakecolor\":\"white\",\"landcolor\":\"#E5ECF6\",\"showlakes\":true,\"showland\":true,\"subunitcolor\":\"white\"},\"hoverlabel\":{\"align\":\"left\"},\"hovermode\":\"closest\",\"mapbox\":{\"style\":\"light\"},\"paper_bgcolor\":\"white\",\"plot_bgcolor\":\"#E5ECF6\",\"polar\":{\"angularaxis\":{\"gridcolor\":\"white\",\"linecolor\":\"white\",\"ticks\":\"\"},\"bgcolor\":\"#E5ECF6\",\"radialaxis\":{\"gridcolor\":\"white\",\"linecolor\":\"white\",\"ticks\":\"\"}},\"scene\":{\"xaxis\":{\"backgroundcolor\":\"#E5ECF6\",\"gridcolor\":\"white\",\"gridwidth\":2,\"linecolor\":\"white\",\"showbackground\":true,\"ticks\":\"\",\"zerolinecolor\":\"white\"},\"yaxis\":{\"backgroundcolor\":\"#E5ECF6\",\"gridcolor\":\"white\",\"gridwidth\":2,\"linecolor\":\"white\",\"showbackground\":true,\"ticks\":\"\",\"zerolinecolor\":\"white\"},\"zaxis\":{\"backgroundcolor\":\"#E5ECF6\",\"gridcolor\":\"white\",\"gridwidth\":2,\"linecolor\":\"white\",\"showbackground\":true,\"ticks\":\"\",\"zerolinecolor\":\"white\"}},\"shapedefaults\":{\"line\":{\"color\":\"#2a3f5f\"}},\"ternary\":{\"aaxis\":{\"gridcolor\":\"white\",\"linecolor\":\"white\",\"ticks\":\"\"},\"baxis\":{\"gridcolor\":\"white\",\"linecolor\":\"white\",\"ticks\":\"\"},\"bgcolor\":\"#E5ECF6\",\"caxis\":{\"gridcolor\":\"white\",\"linecolor\":\"white\",\"ticks\":\"\"}},\"title\":{\"x\":0.05},\"xaxis\":{\"automargin\":true,\"gridcolor\":\"white\",\"linecolor\":\"white\",\"ticks\":\"\",\"title\":{\"standoff\":15},\"zerolinecolor\":\"white\",\"zerolinewidth\":2},\"yaxis\":{\"automargin\":true,\"gridcolor\":\"white\",\"linecolor\":\"white\",\"ticks\":\"\",\"title\":{\"standoff\":15},\"zerolinecolor\":\"white\",\"zerolinewidth\":2}}},\"title\":{\"font\":{\"color\":\"#4D5663\"}},\"xaxis\":{\"gridcolor\":\"#E1E5ED\",\"showgrid\":true,\"tickfont\":{\"color\":\"#4D5663\"},\"title\":{\"font\":{\"color\":\"#4D5663\"},\"text\":\"\"},\"zerolinecolor\":\"#E1E5ED\"},\"yaxis\":{\"gridcolor\":\"#E1E5ED\",\"showgrid\":true,\"tickfont\":{\"color\":\"#4D5663\"},\"title\":{\"font\":{\"color\":\"#4D5663\"},\"text\":\"\"},\"zerolinecolor\":\"#E1E5ED\"}},                        {\"showLink\": true, \"linkText\": \"Export to plot.ly\", \"plotlyServerURL\": \"https://plot.ly\", \"responsive\": true}                    ).then(function(){\n",
       "                            \n",
       "var gd = document.getElementById('5bf9a136-7b96-487d-9344-2d03f0d603f0');\n",
       "var x = new MutationObserver(function (mutations, observer) {{\n",
       "        var display = window.getComputedStyle(gd).display;\n",
       "        if (!display || display === 'none') {{\n",
       "            console.log([gd, 'removed!']);\n",
       "            Plotly.purge(gd);\n",
       "            observer.disconnect();\n",
       "        }}\n",
       "}});\n",
       "\n",
       "// Listen for the removal of the full notebook cells\n",
       "var notebookContainer = gd.closest('#notebook-container');\n",
       "if (notebookContainer) {{\n",
       "    x.observe(notebookContainer, {childList: true});\n",
       "}}\n",
       "\n",
       "// Listen for the clearing of the current output cell\n",
       "var outputEl = gd.closest('.output');\n",
       "if (outputEl) {{\n",
       "    x.observe(outputEl, {childList: true});\n",
       "}}\n",
       "\n",
       "                        })                };                });            </script>        </div>"
      ]
     },
     "metadata": {},
     "output_type": "display_data"
    }
   ],
   "source": [
    "df.head().iplot(kind = \"surface\")"
   ]
  },
  {
   "cell_type": "code",
   "execution_count": 30,
   "id": "79ef54ed",
   "metadata": {},
   "outputs": [
    {
     "data": {
      "application/vnd.plotly.v1+json": {
       "config": {
        "linkText": "Export to plot.ly",
        "plotlyServerURL": "https://plot.ly",
        "showLink": true
       },
       "data": [
        {
         "marker": {
          "color": [
           "rgb(255, 153, 51)",
           "rgb(55, 128, 191)",
           "rgb(50, 171, 96)",
           "rgb(128, 0, 128)",
           "rgb(219, 64, 82)",
           "rgb(0, 128, 128)",
           "rgb(255, 255, 51)",
           "rgb(128, 128, 0)",
           "rgb(251, 128, 114)",
           "rgb(128, 177, 211)"
          ],
          "line": {
           "width": 1.3
          },
          "size": [
           86,
           45,
           62,
           51,
           77,
           85,
           40,
           63,
           60,
           98,
           59,
           42,
           76,
           30,
           26,
           21,
           37,
           75,
           30,
           45,
           66,
           33,
           40,
           20,
           67,
           75,
           87,
           50,
           34,
           52,
           21,
           62,
           61,
           16,
           45,
           75,
           68,
           42,
           53,
           62,
           74,
           64,
           53,
           46,
           106,
           51,
           69,
           52,
           81,
           42,
           41,
           69,
           73,
           93,
           43,
           24,
           57,
           50,
           26,
           81,
           55,
           38,
           50,
           28,
           35,
           60,
           59,
           73,
           12,
           27,
           54,
           30,
           12,
           68,
           84,
           53,
           68,
           35,
           56,
           51,
           53,
           50,
           85,
           43,
           35,
           78,
           75,
           26,
           52,
           45,
           22,
           64,
           29,
           112,
           60,
           82,
           43,
           32,
           88,
           24
          ],
          "symbol": "circle"
         },
         "mode": "markers",
         "text": "",
         "type": "scatter",
         "x": [
          1.4156358936695956,
          -0.7486088378843425,
          0.4955050996849973,
          0.0875785017678611,
          -0.826218807836546,
          -0.47780865783597365,
          0.6371806083430593,
          -0.7862798967147497,
          2.1114851603190483,
          -1.2324994349183411,
          0.1691566162217476,
          -0.6301298927330321,
          0.49786627088299,
          0.49011146626932406,
          -0.2723726811039073,
          -1.2224214956031332,
          -0.020378126111556896,
          1.665415912074953,
          -1.8969961234292025,
          -0.42966872521473776,
          0.05764098447428437,
          0.7590117363436478,
          -1.3286958126006447,
          -1.1606123221990714,
          0.13921065376826422,
          1.0854844964786545,
          -1.104309169567345,
          0.6994799631154538,
          0.8742108609821494,
          0.2257180731978571,
          -1.5171414152618152,
          -0.25644652475948193,
          0.18749692837930554,
          -0.6801926984548232,
          -0.18303574689457183,
          0.03718946653466111,
          -1.073457770498543,
          -0.15671529263355505,
          0.44549454959724333,
          -0.3510063000141201,
          -2.149535432281797,
          1.1408309726951107,
          -0.4106121412032327,
          -0.9711252878091771,
          -0.7144961357779486,
          2.128623477880922,
          -1.2805192296083925,
          0.5017711749949958,
          1.5889495288058462,
          2.301798936419069,
          -0.4038058997708527,
          2.083876183434349,
          -1.6919099735875882,
          -0.4604950389910235,
          0.44468667813470586,
          0.3837181925082112,
          -2.7186889584621365,
          1.6946586670767712,
          -1.5908409061921487,
          0.9916203882779985,
          -0.373584193784145,
          -0.37853000119167124,
          -0.03949696766638036,
          0.6116075103301817,
          0.7066339437665027,
          -0.18362101057989413,
          -0.19126910937529207,
          -0.5942646384168769,
          -0.9939326859755566,
          -0.21782966355238653,
          -2.1427933202436424,
          1.1820416482811897,
          -0.1832952178723742,
          1.303974123810601,
          0.16854111860298743,
          0.07689777318716676,
          -1.3606153114019126,
          -0.40256301529248495,
          0.3522047698292674,
          1.3874784565490599,
          0.5644646020721652,
          0.25993646056156505,
          0.727304145289929,
          1.1188690480615626,
          -0.5326278977863839,
          0.5649152222277095,
          1.8842363452638666,
          -0.3148006308495593,
          0.16962586904042973,
          -0.7724391372975189,
          1.1812131708118059,
          1.8094910892179872,
          1.339874266589562,
          0.0808352432941568,
          -0.9666664192169856,
          -1.1982532515293602,
          -0.24590540357908927,
          1.2863581521970273,
          -1.1458829130853836,
          -0.41864958520433504
         ],
         "y": [
          0.7062581476995701,
          -1.1710913339176028,
          1.7403465938914462,
          -0.278669933207016,
          0.5289837227499957,
          -0.5204208476320185,
          0.820349091795676,
          -2.5721814068096687,
          -0.1622269597246676,
          0.24048767125338333,
          -0.07666820067898973,
          1.6967460410727122,
          -0.06991286363178612,
          1.3581372047706672,
          -0.7307973344214783,
          1.5138821342258184,
          -0.621027024043218,
          1.3088421656914941,
          -1.4817004302025731,
          -1.105579049921459,
          1.808244351365949,
          1.7814240534761128,
          -1.2849968926336421,
          0.7235419170090094,
          1.058536572130399,
          -1.1048671870589075,
          0.5266596654819395,
          -0.8769589435617031,
          -0.30534849033916944,
          -1.352162767596701,
          0.16922062850592987,
          0.7628457417150688,
          1.5445728618409094,
          -0.6867771252144196,
          1.6962340533283917,
          -0.06598647451729873,
          -0.3439382299071361,
          -1.2794338468476885,
          1.519574703411229,
          0.9133174061492851,
          1.6125385717433276,
          0.43280634762158154,
          -0.9039640060890394,
          0.7359377797913865,
          -1.3326526464564628,
          -1.4966814512041033,
          0.8404794247435162,
          0.2075619795873575,
          0.31146161039254616,
          -0.6819626630511477,
          0.48568395389333435,
          0.07611136799710402,
          -0.14418157848227106,
          0.9843015427342142,
          -0.7544519367543739,
          -2.1915351810117656,
          0.7472183071202954,
          0.07654779306342142,
          0.03717360203194623,
          0.011294036564791296,
          -0.7911437191385242,
          0.21319662109144594,
          2.6641889764107707,
          -0.1062777249978354,
          -0.13731998485911284,
          -0.4162558199342141,
          -1.5498377968411983,
          0.7335258612076875,
          1.0417190913106185,
          -0.028494621882404477,
          2.020747748419635,
          -1.088687317098657,
          -1.0520940799094736,
          -0.9301608812535455,
          0.3756738820184492,
          -1.0850500239522738,
          -1.7067802558636007,
          -0.44014575633396863,
          0.5246300696972056,
          -1.259468621738041,
          -0.3071423443341209,
          -1.118902094299359,
          -2.8256467329121366,
          -0.8868220385029365,
          0.10427311227907055,
          -0.11837011857590833,
          -0.14146329337330818,
          0.8647897922587614,
          -0.4726942358018606,
          0.6772634832759559,
          -0.09297918886954187,
          0.2872666418985008,
          -0.5702877461493379,
          -0.4626469928567091,
          0.32094161556974915,
          -0.05514093237471859,
          -0.6304223605436565,
          -0.10290863068832364,
          0.8161740895582345,
          1.6797723943033382
         ]
        }
       ],
       "layout": {
        "legend": {
         "bgcolor": "#F5F6F9",
         "font": {
          "color": "#4D5663"
         }
        },
        "paper_bgcolor": "#F5F6F9",
        "plot_bgcolor": "#F5F6F9",
        "template": {
         "data": {
          "bar": [
           {
            "error_x": {
             "color": "#2a3f5f"
            },
            "error_y": {
             "color": "#2a3f5f"
            },
            "marker": {
             "line": {
              "color": "#E5ECF6",
              "width": 0.5
             },
             "pattern": {
              "fillmode": "overlay",
              "size": 10,
              "solidity": 0.2
             }
            },
            "type": "bar"
           }
          ],
          "barpolar": [
           {
            "marker": {
             "line": {
              "color": "#E5ECF6",
              "width": 0.5
             },
             "pattern": {
              "fillmode": "overlay",
              "size": 10,
              "solidity": 0.2
             }
            },
            "type": "barpolar"
           }
          ],
          "carpet": [
           {
            "aaxis": {
             "endlinecolor": "#2a3f5f",
             "gridcolor": "white",
             "linecolor": "white",
             "minorgridcolor": "white",
             "startlinecolor": "#2a3f5f"
            },
            "baxis": {
             "endlinecolor": "#2a3f5f",
             "gridcolor": "white",
             "linecolor": "white",
             "minorgridcolor": "white",
             "startlinecolor": "#2a3f5f"
            },
            "type": "carpet"
           }
          ],
          "choropleth": [
           {
            "colorbar": {
             "outlinewidth": 0,
             "ticks": ""
            },
            "type": "choropleth"
           }
          ],
          "contour": [
           {
            "colorbar": {
             "outlinewidth": 0,
             "ticks": ""
            },
            "colorscale": [
             [
              0,
              "#0d0887"
             ],
             [
              0.1111111111111111,
              "#46039f"
             ],
             [
              0.2222222222222222,
              "#7201a8"
             ],
             [
              0.3333333333333333,
              "#9c179e"
             ],
             [
              0.4444444444444444,
              "#bd3786"
             ],
             [
              0.5555555555555556,
              "#d8576b"
             ],
             [
              0.6666666666666666,
              "#ed7953"
             ],
             [
              0.7777777777777778,
              "#fb9f3a"
             ],
             [
              0.8888888888888888,
              "#fdca26"
             ],
             [
              1,
              "#f0f921"
             ]
            ],
            "type": "contour"
           }
          ],
          "contourcarpet": [
           {
            "colorbar": {
             "outlinewidth": 0,
             "ticks": ""
            },
            "type": "contourcarpet"
           }
          ],
          "heatmap": [
           {
            "colorbar": {
             "outlinewidth": 0,
             "ticks": ""
            },
            "colorscale": [
             [
              0,
              "#0d0887"
             ],
             [
              0.1111111111111111,
              "#46039f"
             ],
             [
              0.2222222222222222,
              "#7201a8"
             ],
             [
              0.3333333333333333,
              "#9c179e"
             ],
             [
              0.4444444444444444,
              "#bd3786"
             ],
             [
              0.5555555555555556,
              "#d8576b"
             ],
             [
              0.6666666666666666,
              "#ed7953"
             ],
             [
              0.7777777777777778,
              "#fb9f3a"
             ],
             [
              0.8888888888888888,
              "#fdca26"
             ],
             [
              1,
              "#f0f921"
             ]
            ],
            "type": "heatmap"
           }
          ],
          "heatmapgl": [
           {
            "colorbar": {
             "outlinewidth": 0,
             "ticks": ""
            },
            "colorscale": [
             [
              0,
              "#0d0887"
             ],
             [
              0.1111111111111111,
              "#46039f"
             ],
             [
              0.2222222222222222,
              "#7201a8"
             ],
             [
              0.3333333333333333,
              "#9c179e"
             ],
             [
              0.4444444444444444,
              "#bd3786"
             ],
             [
              0.5555555555555556,
              "#d8576b"
             ],
             [
              0.6666666666666666,
              "#ed7953"
             ],
             [
              0.7777777777777778,
              "#fb9f3a"
             ],
             [
              0.8888888888888888,
              "#fdca26"
             ],
             [
              1,
              "#f0f921"
             ]
            ],
            "type": "heatmapgl"
           }
          ],
          "histogram": [
           {
            "marker": {
             "pattern": {
              "fillmode": "overlay",
              "size": 10,
              "solidity": 0.2
             }
            },
            "type": "histogram"
           }
          ],
          "histogram2d": [
           {
            "colorbar": {
             "outlinewidth": 0,
             "ticks": ""
            },
            "colorscale": [
             [
              0,
              "#0d0887"
             ],
             [
              0.1111111111111111,
              "#46039f"
             ],
             [
              0.2222222222222222,
              "#7201a8"
             ],
             [
              0.3333333333333333,
              "#9c179e"
             ],
             [
              0.4444444444444444,
              "#bd3786"
             ],
             [
              0.5555555555555556,
              "#d8576b"
             ],
             [
              0.6666666666666666,
              "#ed7953"
             ],
             [
              0.7777777777777778,
              "#fb9f3a"
             ],
             [
              0.8888888888888888,
              "#fdca26"
             ],
             [
              1,
              "#f0f921"
             ]
            ],
            "type": "histogram2d"
           }
          ],
          "histogram2dcontour": [
           {
            "colorbar": {
             "outlinewidth": 0,
             "ticks": ""
            },
            "colorscale": [
             [
              0,
              "#0d0887"
             ],
             [
              0.1111111111111111,
              "#46039f"
             ],
             [
              0.2222222222222222,
              "#7201a8"
             ],
             [
              0.3333333333333333,
              "#9c179e"
             ],
             [
              0.4444444444444444,
              "#bd3786"
             ],
             [
              0.5555555555555556,
              "#d8576b"
             ],
             [
              0.6666666666666666,
              "#ed7953"
             ],
             [
              0.7777777777777778,
              "#fb9f3a"
             ],
             [
              0.8888888888888888,
              "#fdca26"
             ],
             [
              1,
              "#f0f921"
             ]
            ],
            "type": "histogram2dcontour"
           }
          ],
          "mesh3d": [
           {
            "colorbar": {
             "outlinewidth": 0,
             "ticks": ""
            },
            "type": "mesh3d"
           }
          ],
          "parcoords": [
           {
            "line": {
             "colorbar": {
              "outlinewidth": 0,
              "ticks": ""
             }
            },
            "type": "parcoords"
           }
          ],
          "pie": [
           {
            "automargin": true,
            "type": "pie"
           }
          ],
          "scatter": [
           {
            "marker": {
             "colorbar": {
              "outlinewidth": 0,
              "ticks": ""
             }
            },
            "type": "scatter"
           }
          ],
          "scatter3d": [
           {
            "line": {
             "colorbar": {
              "outlinewidth": 0,
              "ticks": ""
             }
            },
            "marker": {
             "colorbar": {
              "outlinewidth": 0,
              "ticks": ""
             }
            },
            "type": "scatter3d"
           }
          ],
          "scattercarpet": [
           {
            "marker": {
             "colorbar": {
              "outlinewidth": 0,
              "ticks": ""
             }
            },
            "type": "scattercarpet"
           }
          ],
          "scattergeo": [
           {
            "marker": {
             "colorbar": {
              "outlinewidth": 0,
              "ticks": ""
             }
            },
            "type": "scattergeo"
           }
          ],
          "scattergl": [
           {
            "marker": {
             "colorbar": {
              "outlinewidth": 0,
              "ticks": ""
             }
            },
            "type": "scattergl"
           }
          ],
          "scattermapbox": [
           {
            "marker": {
             "colorbar": {
              "outlinewidth": 0,
              "ticks": ""
             }
            },
            "type": "scattermapbox"
           }
          ],
          "scatterpolar": [
           {
            "marker": {
             "colorbar": {
              "outlinewidth": 0,
              "ticks": ""
             }
            },
            "type": "scatterpolar"
           }
          ],
          "scatterpolargl": [
           {
            "marker": {
             "colorbar": {
              "outlinewidth": 0,
              "ticks": ""
             }
            },
            "type": "scatterpolargl"
           }
          ],
          "scatterternary": [
           {
            "marker": {
             "colorbar": {
              "outlinewidth": 0,
              "ticks": ""
             }
            },
            "type": "scatterternary"
           }
          ],
          "surface": [
           {
            "colorbar": {
             "outlinewidth": 0,
             "ticks": ""
            },
            "colorscale": [
             [
              0,
              "#0d0887"
             ],
             [
              0.1111111111111111,
              "#46039f"
             ],
             [
              0.2222222222222222,
              "#7201a8"
             ],
             [
              0.3333333333333333,
              "#9c179e"
             ],
             [
              0.4444444444444444,
              "#bd3786"
             ],
             [
              0.5555555555555556,
              "#d8576b"
             ],
             [
              0.6666666666666666,
              "#ed7953"
             ],
             [
              0.7777777777777778,
              "#fb9f3a"
             ],
             [
              0.8888888888888888,
              "#fdca26"
             ],
             [
              1,
              "#f0f921"
             ]
            ],
            "type": "surface"
           }
          ],
          "table": [
           {
            "cells": {
             "fill": {
              "color": "#EBF0F8"
             },
             "line": {
              "color": "white"
             }
            },
            "header": {
             "fill": {
              "color": "#C8D4E3"
             },
             "line": {
              "color": "white"
             }
            },
            "type": "table"
           }
          ]
         },
         "layout": {
          "annotationdefaults": {
           "arrowcolor": "#2a3f5f",
           "arrowhead": 0,
           "arrowwidth": 1
          },
          "autotypenumbers": "strict",
          "coloraxis": {
           "colorbar": {
            "outlinewidth": 0,
            "ticks": ""
           }
          },
          "colorscale": {
           "diverging": [
            [
             0,
             "#8e0152"
            ],
            [
             0.1,
             "#c51b7d"
            ],
            [
             0.2,
             "#de77ae"
            ],
            [
             0.3,
             "#f1b6da"
            ],
            [
             0.4,
             "#fde0ef"
            ],
            [
             0.5,
             "#f7f7f7"
            ],
            [
             0.6,
             "#e6f5d0"
            ],
            [
             0.7,
             "#b8e186"
            ],
            [
             0.8,
             "#7fbc41"
            ],
            [
             0.9,
             "#4d9221"
            ],
            [
             1,
             "#276419"
            ]
           ],
           "sequential": [
            [
             0,
             "#0d0887"
            ],
            [
             0.1111111111111111,
             "#46039f"
            ],
            [
             0.2222222222222222,
             "#7201a8"
            ],
            [
             0.3333333333333333,
             "#9c179e"
            ],
            [
             0.4444444444444444,
             "#bd3786"
            ],
            [
             0.5555555555555556,
             "#d8576b"
            ],
            [
             0.6666666666666666,
             "#ed7953"
            ],
            [
             0.7777777777777778,
             "#fb9f3a"
            ],
            [
             0.8888888888888888,
             "#fdca26"
            ],
            [
             1,
             "#f0f921"
            ]
           ],
           "sequentialminus": [
            [
             0,
             "#0d0887"
            ],
            [
             0.1111111111111111,
             "#46039f"
            ],
            [
             0.2222222222222222,
             "#7201a8"
            ],
            [
             0.3333333333333333,
             "#9c179e"
            ],
            [
             0.4444444444444444,
             "#bd3786"
            ],
            [
             0.5555555555555556,
             "#d8576b"
            ],
            [
             0.6666666666666666,
             "#ed7953"
            ],
            [
             0.7777777777777778,
             "#fb9f3a"
            ],
            [
             0.8888888888888888,
             "#fdca26"
            ],
            [
             1,
             "#f0f921"
            ]
           ]
          },
          "colorway": [
           "#636efa",
           "#EF553B",
           "#00cc96",
           "#ab63fa",
           "#FFA15A",
           "#19d3f3",
           "#FF6692",
           "#B6E880",
           "#FF97FF",
           "#FECB52"
          ],
          "font": {
           "color": "#2a3f5f"
          },
          "geo": {
           "bgcolor": "white",
           "lakecolor": "white",
           "landcolor": "#E5ECF6",
           "showlakes": true,
           "showland": true,
           "subunitcolor": "white"
          },
          "hoverlabel": {
           "align": "left"
          },
          "hovermode": "closest",
          "mapbox": {
           "style": "light"
          },
          "paper_bgcolor": "white",
          "plot_bgcolor": "#E5ECF6",
          "polar": {
           "angularaxis": {
            "gridcolor": "white",
            "linecolor": "white",
            "ticks": ""
           },
           "bgcolor": "#E5ECF6",
           "radialaxis": {
            "gridcolor": "white",
            "linecolor": "white",
            "ticks": ""
           }
          },
          "scene": {
           "xaxis": {
            "backgroundcolor": "#E5ECF6",
            "gridcolor": "white",
            "gridwidth": 2,
            "linecolor": "white",
            "showbackground": true,
            "ticks": "",
            "zerolinecolor": "white"
           },
           "yaxis": {
            "backgroundcolor": "#E5ECF6",
            "gridcolor": "white",
            "gridwidth": 2,
            "linecolor": "white",
            "showbackground": true,
            "ticks": "",
            "zerolinecolor": "white"
           },
           "zaxis": {
            "backgroundcolor": "#E5ECF6",
            "gridcolor": "white",
            "gridwidth": 2,
            "linecolor": "white",
            "showbackground": true,
            "ticks": "",
            "zerolinecolor": "white"
           }
          },
          "shapedefaults": {
           "line": {
            "color": "#2a3f5f"
           }
          },
          "ternary": {
           "aaxis": {
            "gridcolor": "white",
            "linecolor": "white",
            "ticks": ""
           },
           "baxis": {
            "gridcolor": "white",
            "linecolor": "white",
            "ticks": ""
           },
           "bgcolor": "#E5ECF6",
           "caxis": {
            "gridcolor": "white",
            "linecolor": "white",
            "ticks": ""
           }
          },
          "title": {
           "x": 0.05
          },
          "xaxis": {
           "automargin": true,
           "gridcolor": "white",
           "linecolor": "white",
           "ticks": "",
           "title": {
            "standoff": 15
           },
           "zerolinecolor": "white",
           "zerolinewidth": 2
          },
          "yaxis": {
           "automargin": true,
           "gridcolor": "white",
           "linecolor": "white",
           "ticks": "",
           "title": {
            "standoff": 15
           },
           "zerolinecolor": "white",
           "zerolinewidth": 2
          }
         }
        },
        "title": {
         "font": {
          "color": "#4D5663"
         }
        },
        "xaxis": {
         "gridcolor": "#E1E5ED",
         "showgrid": true,
         "tickfont": {
          "color": "#4D5663"
         },
         "title": {
          "font": {
           "color": "#4D5663"
          },
          "text": ""
         },
         "zerolinecolor": "#E1E5ED"
        },
        "yaxis": {
         "gridcolor": "#E1E5ED",
         "showgrid": true,
         "tickfont": {
          "color": "#4D5663"
         },
         "title": {
          "font": {
           "color": "#4D5663"
          },
          "text": ""
         },
         "zerolinecolor": "#E1E5ED"
        }
       }
      },
      "text/html": [
       "<div>                            <div id=\"7eceab00-432c-4e43-8ff7-80867d1d67d4\" class=\"plotly-graph-div\" style=\"height:525px; width:100%;\"></div>            <script type=\"text/javascript\">                require([\"plotly\"], function(Plotly) {                    window.PLOTLYENV=window.PLOTLYENV || {};\n",
       "                    window.PLOTLYENV.BASE_URL='https://plot.ly';                                    if (document.getElementById(\"7eceab00-432c-4e43-8ff7-80867d1d67d4\")) {                    Plotly.newPlot(                        \"7eceab00-432c-4e43-8ff7-80867d1d67d4\",                        [{\"marker\":{\"color\":[\"rgb(255, 153, 51)\",\"rgb(55, 128, 191)\",\"rgb(50, 171, 96)\",\"rgb(128, 0, 128)\",\"rgb(219, 64, 82)\",\"rgb(0, 128, 128)\",\"rgb(255, 255, 51)\",\"rgb(128, 128, 0)\",\"rgb(251, 128, 114)\",\"rgb(128, 177, 211)\"],\"line\":{\"width\":1.3},\"size\":[86,45,62,51,77,85,40,63,60,98,59,42,76,30,26,21,37,75,30,45,66,33,40,20,67,75,87,50,34,52,21,62,61,16,45,75,68,42,53,62,74,64,53,46,106,51,69,52,81,42,41,69,73,93,43,24,57,50,26,81,55,38,50,28,35,60,59,73,12,27,54,30,12,68,84,53,68,35,56,51,53,50,85,43,35,78,75,26,52,45,22,64,29,112,60,82,43,32,88,24],\"symbol\":\"circle\"},\"mode\":\"markers\",\"text\":\"\",\"x\":[1.4156358936695956,-0.7486088378843425,0.4955050996849973,0.0875785017678611,-0.826218807836546,-0.47780865783597365,0.6371806083430593,-0.7862798967147497,2.1114851603190483,-1.2324994349183411,0.1691566162217476,-0.6301298927330321,0.49786627088299,0.49011146626932406,-0.2723726811039073,-1.2224214956031332,-0.020378126111556896,1.665415912074953,-1.8969961234292025,-0.42966872521473776,0.05764098447428437,0.7590117363436478,-1.3286958126006447,-1.1606123221990714,0.13921065376826422,1.0854844964786545,-1.104309169567345,0.6994799631154538,0.8742108609821494,0.2257180731978571,-1.5171414152618152,-0.25644652475948193,0.18749692837930554,-0.6801926984548232,-0.18303574689457183,0.03718946653466111,-1.073457770498543,-0.15671529263355505,0.44549454959724333,-0.3510063000141201,-2.149535432281797,1.1408309726951107,-0.4106121412032327,-0.9711252878091771,-0.7144961357779486,2.128623477880922,-1.2805192296083925,0.5017711749949958,1.5889495288058462,2.301798936419069,-0.4038058997708527,2.083876183434349,-1.6919099735875882,-0.4604950389910235,0.44468667813470586,0.3837181925082112,-2.7186889584621365,1.6946586670767712,-1.5908409061921487,0.9916203882779985,-0.373584193784145,-0.37853000119167124,-0.03949696766638036,0.6116075103301817,0.7066339437665027,-0.18362101057989413,-0.19126910937529207,-0.5942646384168769,-0.9939326859755566,-0.21782966355238653,-2.1427933202436424,1.1820416482811897,-0.1832952178723742,1.303974123810601,0.16854111860298743,0.07689777318716676,-1.3606153114019126,-0.40256301529248495,0.3522047698292674,1.3874784565490599,0.5644646020721652,0.25993646056156505,0.727304145289929,1.1188690480615626,-0.5326278977863839,0.5649152222277095,1.8842363452638666,-0.3148006308495593,0.16962586904042973,-0.7724391372975189,1.1812131708118059,1.8094910892179872,1.339874266589562,0.0808352432941568,-0.9666664192169856,-1.1982532515293602,-0.24590540357908927,1.2863581521970273,-1.1458829130853836,-0.41864958520433504],\"y\":[0.7062581476995701,-1.1710913339176028,1.7403465938914462,-0.278669933207016,0.5289837227499957,-0.5204208476320185,0.820349091795676,-2.5721814068096687,-0.1622269597246676,0.24048767125338333,-0.07666820067898973,1.6967460410727122,-0.06991286363178612,1.3581372047706672,-0.7307973344214783,1.5138821342258184,-0.621027024043218,1.3088421656914941,-1.4817004302025731,-1.105579049921459,1.808244351365949,1.7814240534761128,-1.2849968926336421,0.7235419170090094,1.058536572130399,-1.1048671870589075,0.5266596654819395,-0.8769589435617031,-0.30534849033916944,-1.352162767596701,0.16922062850592987,0.7628457417150688,1.5445728618409094,-0.6867771252144196,1.6962340533283917,-0.06598647451729873,-0.3439382299071361,-1.2794338468476885,1.519574703411229,0.9133174061492851,1.6125385717433276,0.43280634762158154,-0.9039640060890394,0.7359377797913865,-1.3326526464564628,-1.4966814512041033,0.8404794247435162,0.2075619795873575,0.31146161039254616,-0.6819626630511477,0.48568395389333435,0.07611136799710402,-0.14418157848227106,0.9843015427342142,-0.7544519367543739,-2.1915351810117656,0.7472183071202954,0.07654779306342142,0.03717360203194623,0.011294036564791296,-0.7911437191385242,0.21319662109144594,2.6641889764107707,-0.1062777249978354,-0.13731998485911284,-0.4162558199342141,-1.5498377968411983,0.7335258612076875,1.0417190913106185,-0.028494621882404477,2.020747748419635,-1.088687317098657,-1.0520940799094736,-0.9301608812535455,0.3756738820184492,-1.0850500239522738,-1.7067802558636007,-0.44014575633396863,0.5246300696972056,-1.259468621738041,-0.3071423443341209,-1.118902094299359,-2.8256467329121366,-0.8868220385029365,0.10427311227907055,-0.11837011857590833,-0.14146329337330818,0.8647897922587614,-0.4726942358018606,0.6772634832759559,-0.09297918886954187,0.2872666418985008,-0.5702877461493379,-0.4626469928567091,0.32094161556974915,-0.05514093237471859,-0.6304223605436565,-0.10290863068832364,0.8161740895582345,1.6797723943033382],\"type\":\"scatter\"}],                        {\"legend\":{\"bgcolor\":\"#F5F6F9\",\"font\":{\"color\":\"#4D5663\"}},\"paper_bgcolor\":\"#F5F6F9\",\"plot_bgcolor\":\"#F5F6F9\",\"template\":{\"data\":{\"barpolar\":[{\"marker\":{\"line\":{\"color\":\"#E5ECF6\",\"width\":0.5},\"pattern\":{\"fillmode\":\"overlay\",\"size\":10,\"solidity\":0.2}},\"type\":\"barpolar\"}],\"bar\":[{\"error_x\":{\"color\":\"#2a3f5f\"},\"error_y\":{\"color\":\"#2a3f5f\"},\"marker\":{\"line\":{\"color\":\"#E5ECF6\",\"width\":0.5},\"pattern\":{\"fillmode\":\"overlay\",\"size\":10,\"solidity\":0.2}},\"type\":\"bar\"}],\"carpet\":[{\"aaxis\":{\"endlinecolor\":\"#2a3f5f\",\"gridcolor\":\"white\",\"linecolor\":\"white\",\"minorgridcolor\":\"white\",\"startlinecolor\":\"#2a3f5f\"},\"baxis\":{\"endlinecolor\":\"#2a3f5f\",\"gridcolor\":\"white\",\"linecolor\":\"white\",\"minorgridcolor\":\"white\",\"startlinecolor\":\"#2a3f5f\"},\"type\":\"carpet\"}],\"choropleth\":[{\"colorbar\":{\"outlinewidth\":0,\"ticks\":\"\"},\"type\":\"choropleth\"}],\"contourcarpet\":[{\"colorbar\":{\"outlinewidth\":0,\"ticks\":\"\"},\"type\":\"contourcarpet\"}],\"contour\":[{\"colorbar\":{\"outlinewidth\":0,\"ticks\":\"\"},\"colorscale\":[[0.0,\"#0d0887\"],[0.1111111111111111,\"#46039f\"],[0.2222222222222222,\"#7201a8\"],[0.3333333333333333,\"#9c179e\"],[0.4444444444444444,\"#bd3786\"],[0.5555555555555556,\"#d8576b\"],[0.6666666666666666,\"#ed7953\"],[0.7777777777777778,\"#fb9f3a\"],[0.8888888888888888,\"#fdca26\"],[1.0,\"#f0f921\"]],\"type\":\"contour\"}],\"heatmapgl\":[{\"colorbar\":{\"outlinewidth\":0,\"ticks\":\"\"},\"colorscale\":[[0.0,\"#0d0887\"],[0.1111111111111111,\"#46039f\"],[0.2222222222222222,\"#7201a8\"],[0.3333333333333333,\"#9c179e\"],[0.4444444444444444,\"#bd3786\"],[0.5555555555555556,\"#d8576b\"],[0.6666666666666666,\"#ed7953\"],[0.7777777777777778,\"#fb9f3a\"],[0.8888888888888888,\"#fdca26\"],[1.0,\"#f0f921\"]],\"type\":\"heatmapgl\"}],\"heatmap\":[{\"colorbar\":{\"outlinewidth\":0,\"ticks\":\"\"},\"colorscale\":[[0.0,\"#0d0887\"],[0.1111111111111111,\"#46039f\"],[0.2222222222222222,\"#7201a8\"],[0.3333333333333333,\"#9c179e\"],[0.4444444444444444,\"#bd3786\"],[0.5555555555555556,\"#d8576b\"],[0.6666666666666666,\"#ed7953\"],[0.7777777777777778,\"#fb9f3a\"],[0.8888888888888888,\"#fdca26\"],[1.0,\"#f0f921\"]],\"type\":\"heatmap\"}],\"histogram2dcontour\":[{\"colorbar\":{\"outlinewidth\":0,\"ticks\":\"\"},\"colorscale\":[[0.0,\"#0d0887\"],[0.1111111111111111,\"#46039f\"],[0.2222222222222222,\"#7201a8\"],[0.3333333333333333,\"#9c179e\"],[0.4444444444444444,\"#bd3786\"],[0.5555555555555556,\"#d8576b\"],[0.6666666666666666,\"#ed7953\"],[0.7777777777777778,\"#fb9f3a\"],[0.8888888888888888,\"#fdca26\"],[1.0,\"#f0f921\"]],\"type\":\"histogram2dcontour\"}],\"histogram2d\":[{\"colorbar\":{\"outlinewidth\":0,\"ticks\":\"\"},\"colorscale\":[[0.0,\"#0d0887\"],[0.1111111111111111,\"#46039f\"],[0.2222222222222222,\"#7201a8\"],[0.3333333333333333,\"#9c179e\"],[0.4444444444444444,\"#bd3786\"],[0.5555555555555556,\"#d8576b\"],[0.6666666666666666,\"#ed7953\"],[0.7777777777777778,\"#fb9f3a\"],[0.8888888888888888,\"#fdca26\"],[1.0,\"#f0f921\"]],\"type\":\"histogram2d\"}],\"histogram\":[{\"marker\":{\"pattern\":{\"fillmode\":\"overlay\",\"size\":10,\"solidity\":0.2}},\"type\":\"histogram\"}],\"mesh3d\":[{\"colorbar\":{\"outlinewidth\":0,\"ticks\":\"\"},\"type\":\"mesh3d\"}],\"parcoords\":[{\"line\":{\"colorbar\":{\"outlinewidth\":0,\"ticks\":\"\"}},\"type\":\"parcoords\"}],\"pie\":[{\"automargin\":true,\"type\":\"pie\"}],\"scatter3d\":[{\"line\":{\"colorbar\":{\"outlinewidth\":0,\"ticks\":\"\"}},\"marker\":{\"colorbar\":{\"outlinewidth\":0,\"ticks\":\"\"}},\"type\":\"scatter3d\"}],\"scattercarpet\":[{\"marker\":{\"colorbar\":{\"outlinewidth\":0,\"ticks\":\"\"}},\"type\":\"scattercarpet\"}],\"scattergeo\":[{\"marker\":{\"colorbar\":{\"outlinewidth\":0,\"ticks\":\"\"}},\"type\":\"scattergeo\"}],\"scattergl\":[{\"marker\":{\"colorbar\":{\"outlinewidth\":0,\"ticks\":\"\"}},\"type\":\"scattergl\"}],\"scattermapbox\":[{\"marker\":{\"colorbar\":{\"outlinewidth\":0,\"ticks\":\"\"}},\"type\":\"scattermapbox\"}],\"scatterpolargl\":[{\"marker\":{\"colorbar\":{\"outlinewidth\":0,\"ticks\":\"\"}},\"type\":\"scatterpolargl\"}],\"scatterpolar\":[{\"marker\":{\"colorbar\":{\"outlinewidth\":0,\"ticks\":\"\"}},\"type\":\"scatterpolar\"}],\"scatter\":[{\"marker\":{\"colorbar\":{\"outlinewidth\":0,\"ticks\":\"\"}},\"type\":\"scatter\"}],\"scatterternary\":[{\"marker\":{\"colorbar\":{\"outlinewidth\":0,\"ticks\":\"\"}},\"type\":\"scatterternary\"}],\"surface\":[{\"colorbar\":{\"outlinewidth\":0,\"ticks\":\"\"},\"colorscale\":[[0.0,\"#0d0887\"],[0.1111111111111111,\"#46039f\"],[0.2222222222222222,\"#7201a8\"],[0.3333333333333333,\"#9c179e\"],[0.4444444444444444,\"#bd3786\"],[0.5555555555555556,\"#d8576b\"],[0.6666666666666666,\"#ed7953\"],[0.7777777777777778,\"#fb9f3a\"],[0.8888888888888888,\"#fdca26\"],[1.0,\"#f0f921\"]],\"type\":\"surface\"}],\"table\":[{\"cells\":{\"fill\":{\"color\":\"#EBF0F8\"},\"line\":{\"color\":\"white\"}},\"header\":{\"fill\":{\"color\":\"#C8D4E3\"},\"line\":{\"color\":\"white\"}},\"type\":\"table\"}]},\"layout\":{\"annotationdefaults\":{\"arrowcolor\":\"#2a3f5f\",\"arrowhead\":0,\"arrowwidth\":1},\"autotypenumbers\":\"strict\",\"coloraxis\":{\"colorbar\":{\"outlinewidth\":0,\"ticks\":\"\"}},\"colorscale\":{\"diverging\":[[0,\"#8e0152\"],[0.1,\"#c51b7d\"],[0.2,\"#de77ae\"],[0.3,\"#f1b6da\"],[0.4,\"#fde0ef\"],[0.5,\"#f7f7f7\"],[0.6,\"#e6f5d0\"],[0.7,\"#b8e186\"],[0.8,\"#7fbc41\"],[0.9,\"#4d9221\"],[1,\"#276419\"]],\"sequential\":[[0.0,\"#0d0887\"],[0.1111111111111111,\"#46039f\"],[0.2222222222222222,\"#7201a8\"],[0.3333333333333333,\"#9c179e\"],[0.4444444444444444,\"#bd3786\"],[0.5555555555555556,\"#d8576b\"],[0.6666666666666666,\"#ed7953\"],[0.7777777777777778,\"#fb9f3a\"],[0.8888888888888888,\"#fdca26\"],[1.0,\"#f0f921\"]],\"sequentialminus\":[[0.0,\"#0d0887\"],[0.1111111111111111,\"#46039f\"],[0.2222222222222222,\"#7201a8\"],[0.3333333333333333,\"#9c179e\"],[0.4444444444444444,\"#bd3786\"],[0.5555555555555556,\"#d8576b\"],[0.6666666666666666,\"#ed7953\"],[0.7777777777777778,\"#fb9f3a\"],[0.8888888888888888,\"#fdca26\"],[1.0,\"#f0f921\"]]},\"colorway\":[\"#636efa\",\"#EF553B\",\"#00cc96\",\"#ab63fa\",\"#FFA15A\",\"#19d3f3\",\"#FF6692\",\"#B6E880\",\"#FF97FF\",\"#FECB52\"],\"font\":{\"color\":\"#2a3f5f\"},\"geo\":{\"bgcolor\":\"white\",\"lakecolor\":\"white\",\"landcolor\":\"#E5ECF6\",\"showlakes\":true,\"showland\":true,\"subunitcolor\":\"white\"},\"hoverlabel\":{\"align\":\"left\"},\"hovermode\":\"closest\",\"mapbox\":{\"style\":\"light\"},\"paper_bgcolor\":\"white\",\"plot_bgcolor\":\"#E5ECF6\",\"polar\":{\"angularaxis\":{\"gridcolor\":\"white\",\"linecolor\":\"white\",\"ticks\":\"\"},\"bgcolor\":\"#E5ECF6\",\"radialaxis\":{\"gridcolor\":\"white\",\"linecolor\":\"white\",\"ticks\":\"\"}},\"scene\":{\"xaxis\":{\"backgroundcolor\":\"#E5ECF6\",\"gridcolor\":\"white\",\"gridwidth\":2,\"linecolor\":\"white\",\"showbackground\":true,\"ticks\":\"\",\"zerolinecolor\":\"white\"},\"yaxis\":{\"backgroundcolor\":\"#E5ECF6\",\"gridcolor\":\"white\",\"gridwidth\":2,\"linecolor\":\"white\",\"showbackground\":true,\"ticks\":\"\",\"zerolinecolor\":\"white\"},\"zaxis\":{\"backgroundcolor\":\"#E5ECF6\",\"gridcolor\":\"white\",\"gridwidth\":2,\"linecolor\":\"white\",\"showbackground\":true,\"ticks\":\"\",\"zerolinecolor\":\"white\"}},\"shapedefaults\":{\"line\":{\"color\":\"#2a3f5f\"}},\"ternary\":{\"aaxis\":{\"gridcolor\":\"white\",\"linecolor\":\"white\",\"ticks\":\"\"},\"baxis\":{\"gridcolor\":\"white\",\"linecolor\":\"white\",\"ticks\":\"\"},\"bgcolor\":\"#E5ECF6\",\"caxis\":{\"gridcolor\":\"white\",\"linecolor\":\"white\",\"ticks\":\"\"}},\"title\":{\"x\":0.05},\"xaxis\":{\"automargin\":true,\"gridcolor\":\"white\",\"linecolor\":\"white\",\"ticks\":\"\",\"title\":{\"standoff\":15},\"zerolinecolor\":\"white\",\"zerolinewidth\":2},\"yaxis\":{\"automargin\":true,\"gridcolor\":\"white\",\"linecolor\":\"white\",\"ticks\":\"\",\"title\":{\"standoff\":15},\"zerolinecolor\":\"white\",\"zerolinewidth\":2}}},\"title\":{\"font\":{\"color\":\"#4D5663\"}},\"xaxis\":{\"gridcolor\":\"#E1E5ED\",\"showgrid\":true,\"tickfont\":{\"color\":\"#4D5663\"},\"title\":{\"font\":{\"color\":\"#4D5663\"},\"text\":\"\"},\"zerolinecolor\":\"#E1E5ED\"},\"yaxis\":{\"gridcolor\":\"#E1E5ED\",\"showgrid\":true,\"tickfont\":{\"color\":\"#4D5663\"},\"title\":{\"font\":{\"color\":\"#4D5663\"},\"text\":\"\"},\"zerolinecolor\":\"#E1E5ED\"}},                        {\"showLink\": true, \"linkText\": \"Export to plot.ly\", \"plotlyServerURL\": \"https://plot.ly\", \"responsive\": true}                    ).then(function(){\n",
       "                            \n",
       "var gd = document.getElementById('7eceab00-432c-4e43-8ff7-80867d1d67d4');\n",
       "var x = new MutationObserver(function (mutations, observer) {{\n",
       "        var display = window.getComputedStyle(gd).display;\n",
       "        if (!display || display === 'none') {{\n",
       "            console.log([gd, 'removed!']);\n",
       "            Plotly.purge(gd);\n",
       "            observer.disconnect();\n",
       "        }}\n",
       "}});\n",
       "\n",
       "// Listen for the removal of the full notebook cells\n",
       "var notebookContainer = gd.closest('#notebook-container');\n",
       "if (notebookContainer) {{\n",
       "    x.observe(notebookContainer, {childList: true});\n",
       "}}\n",
       "\n",
       "// Listen for the clearing of the current output cell\n",
       "var outputEl = gd.closest('.output');\n",
       "if (outputEl) {{\n",
       "    x.observe(outputEl, {childList: true});\n",
       "}}\n",
       "\n",
       "                        })                };                });            </script>        </div>"
      ]
     },
     "metadata": {},
     "output_type": "display_data"
    }
   ],
   "source": [
    "df.iplot(kind = \"bubble\" , x = \"A\", y =\"B\", size = \"C\")"
   ]
  },
  {
   "cell_type": "code",
   "execution_count": 33,
   "id": "08e85814",
   "metadata": {},
   "outputs": [
    {
     "data": {
      "application/vnd.plotly.v1+json": {
       "config": {
        "linkText": "Export to plot.ly",
        "plotlyServerURL": "https://plot.ly",
        "showLink": true
       },
       "data": [
        {
         "histfunc": "count",
         "histnorm": "",
         "marker": {
          "color": "rgba(255, 153, 51, 1.0)",
          "line": {
           "color": "#4D5663",
           "width": 1.3
          }
         },
         "name": "A",
         "nbinsx": 10,
         "opacity": 0.8,
         "orientation": "v",
         "type": "histogram",
         "x": [
          1.4156358936695956,
          -0.7486088378843425,
          0.4955050996849973,
          0.0875785017678611,
          -0.826218807836546,
          -0.47780865783597365,
          0.6371806083430593,
          -0.7862798967147497,
          2.1114851603190483,
          -1.2324994349183411,
          0.1691566162217476,
          -0.6301298927330321,
          0.49786627088299,
          0.49011146626932406,
          -0.2723726811039073,
          -1.2224214956031332,
          -0.020378126111556896,
          1.665415912074953,
          -1.8969961234292025,
          -0.42966872521473776,
          0.05764098447428437,
          0.7590117363436478,
          -1.3286958126006447,
          -1.1606123221990714,
          0.13921065376826422,
          1.0854844964786545,
          -1.104309169567345,
          0.6994799631154538,
          0.8742108609821494,
          0.2257180731978571,
          -1.5171414152618152,
          -0.25644652475948193,
          0.18749692837930554,
          -0.6801926984548232,
          -0.18303574689457183,
          0.03718946653466111,
          -1.073457770498543,
          -0.15671529263355505,
          0.44549454959724333,
          -0.3510063000141201,
          -2.149535432281797,
          1.1408309726951107,
          -0.4106121412032327,
          -0.9711252878091771,
          -0.7144961357779486,
          2.128623477880922,
          -1.2805192296083925,
          0.5017711749949958,
          1.5889495288058462,
          2.301798936419069,
          -0.4038058997708527,
          2.083876183434349,
          -1.6919099735875882,
          -0.4604950389910235,
          0.44468667813470586,
          0.3837181925082112,
          -2.7186889584621365,
          1.6946586670767712,
          -1.5908409061921487,
          0.9916203882779985,
          -0.373584193784145,
          -0.37853000119167124,
          -0.03949696766638036,
          0.6116075103301817,
          0.7066339437665027,
          -0.18362101057989413,
          -0.19126910937529207,
          -0.5942646384168769,
          -0.9939326859755566,
          -0.21782966355238653,
          -2.1427933202436424,
          1.1820416482811897,
          -0.1832952178723742,
          1.303974123810601,
          0.16854111860298743,
          0.07689777318716676,
          -1.3606153114019126,
          -0.40256301529248495,
          0.3522047698292674,
          1.3874784565490599,
          0.5644646020721652,
          0.25993646056156505,
          0.727304145289929,
          1.1188690480615626,
          -0.5326278977863839,
          0.5649152222277095,
          1.8842363452638666,
          -0.3148006308495593,
          0.16962586904042973,
          -0.7724391372975189,
          1.1812131708118059,
          1.8094910892179872,
          1.339874266589562,
          0.0808352432941568,
          -0.9666664192169856,
          -1.1982532515293602,
          -0.24590540357908927,
          1.2863581521970273,
          -1.1458829130853836,
          -0.41864958520433504
         ],
         "xaxis": "x",
         "yaxis": "y"
        },
        {
         "line": {
          "color": "rgba(128, 128, 128, 1.0)",
          "dash": "solid",
          "shape": "linear",
          "width": 1.3
         },
         "marker": {
          "size": 2,
          "symbol": "circle"
         },
         "mode": "markers",
         "name": "A",
         "text": "",
         "type": "scatter",
         "x": [
          0.7062581476995701,
          -1.1710913339176028,
          1.7403465938914462,
          -0.278669933207016,
          0.5289837227499957,
          -0.5204208476320185,
          0.820349091795676,
          -2.5721814068096687,
          -0.1622269597246676,
          0.24048767125338333,
          -0.07666820067898973,
          1.6967460410727122,
          -0.06991286363178612,
          1.3581372047706672,
          -0.7307973344214783,
          1.5138821342258184,
          -0.621027024043218,
          1.3088421656914941,
          -1.4817004302025731,
          -1.105579049921459,
          1.808244351365949,
          1.7814240534761128,
          -1.2849968926336421,
          0.7235419170090094,
          1.058536572130399,
          -1.1048671870589075,
          0.5266596654819395,
          -0.8769589435617031,
          -0.30534849033916944,
          -1.352162767596701,
          0.16922062850592987,
          0.7628457417150688,
          1.5445728618409094,
          -0.6867771252144196,
          1.6962340533283917,
          -0.06598647451729873,
          -0.3439382299071361,
          -1.2794338468476885,
          1.519574703411229,
          0.9133174061492851,
          1.6125385717433276,
          0.43280634762158154,
          -0.9039640060890394,
          0.7359377797913865,
          -1.3326526464564628,
          -1.4966814512041033,
          0.8404794247435162,
          0.2075619795873575,
          0.31146161039254616,
          -0.6819626630511477,
          0.48568395389333435,
          0.07611136799710402,
          -0.14418157848227106,
          0.9843015427342142,
          -0.7544519367543739,
          -2.1915351810117656,
          0.7472183071202954,
          0.07654779306342142,
          0.03717360203194623,
          0.011294036564791296,
          -0.7911437191385242,
          0.21319662109144594,
          2.6641889764107707,
          -0.1062777249978354,
          -0.13731998485911284,
          -0.4162558199342141,
          -1.5498377968411983,
          0.7335258612076875,
          1.0417190913106185,
          -0.028494621882404477,
          2.020747748419635,
          -1.088687317098657,
          -1.0520940799094736,
          -0.9301608812535455,
          0.3756738820184492,
          -1.0850500239522738,
          -1.7067802558636007,
          -0.44014575633396863,
          0.5246300696972056,
          -1.259468621738041,
          -0.3071423443341209,
          -1.118902094299359,
          -2.8256467329121366,
          -0.8868220385029365,
          0.10427311227907055,
          -0.11837011857590833,
          -0.14146329337330818,
          0.8647897922587614,
          -0.4726942358018606,
          0.6772634832759559,
          -0.09297918886954187,
          0.2872666418985008,
          -0.5702877461493379,
          -0.4626469928567091,
          0.32094161556974915,
          -0.05514093237471859,
          -0.6304223605436565,
          -0.10290863068832364,
          0.8161740895582345,
          1.6797723943033382
         ],
         "xaxis": "x2",
         "y": [
          1.4156358936695956,
          -0.7486088378843425,
          0.4955050996849973,
          0.0875785017678611,
          -0.826218807836546,
          -0.47780865783597365,
          0.6371806083430593,
          -0.7862798967147497,
          2.1114851603190483,
          -1.2324994349183411,
          0.1691566162217476,
          -0.6301298927330321,
          0.49786627088299,
          0.49011146626932406,
          -0.2723726811039073,
          -1.2224214956031332,
          -0.020378126111556896,
          1.665415912074953,
          -1.8969961234292025,
          -0.42966872521473776,
          0.05764098447428437,
          0.7590117363436478,
          -1.3286958126006447,
          -1.1606123221990714,
          0.13921065376826422,
          1.0854844964786545,
          -1.104309169567345,
          0.6994799631154538,
          0.8742108609821494,
          0.2257180731978571,
          -1.5171414152618152,
          -0.25644652475948193,
          0.18749692837930554,
          -0.6801926984548232,
          -0.18303574689457183,
          0.03718946653466111,
          -1.073457770498543,
          -0.15671529263355505,
          0.44549454959724333,
          -0.3510063000141201,
          -2.149535432281797,
          1.1408309726951107,
          -0.4106121412032327,
          -0.9711252878091771,
          -0.7144961357779486,
          2.128623477880922,
          -1.2805192296083925,
          0.5017711749949958,
          1.5889495288058462,
          2.301798936419069,
          -0.4038058997708527,
          2.083876183434349,
          -1.6919099735875882,
          -0.4604950389910235,
          0.44468667813470586,
          0.3837181925082112,
          -2.7186889584621365,
          1.6946586670767712,
          -1.5908409061921487,
          0.9916203882779985,
          -0.373584193784145,
          -0.37853000119167124,
          -0.03949696766638036,
          0.6116075103301817,
          0.7066339437665027,
          -0.18362101057989413,
          -0.19126910937529207,
          -0.5942646384168769,
          -0.9939326859755566,
          -0.21782966355238653,
          -2.1427933202436424,
          1.1820416482811897,
          -0.1832952178723742,
          1.303974123810601,
          0.16854111860298743,
          0.07689777318716676,
          -1.3606153114019126,
          -0.40256301529248495,
          0.3522047698292674,
          1.3874784565490599,
          0.5644646020721652,
          0.25993646056156505,
          0.727304145289929,
          1.1188690480615626,
          -0.5326278977863839,
          0.5649152222277095,
          1.8842363452638666,
          -0.3148006308495593,
          0.16962586904042973,
          -0.7724391372975189,
          1.1812131708118059,
          1.8094910892179872,
          1.339874266589562,
          0.0808352432941568,
          -0.9666664192169856,
          -1.1982532515293602,
          -0.24590540357908927,
          1.2863581521970273,
          -1.1458829130853836,
          -0.41864958520433504
         ],
         "yaxis": "y2"
        },
        {
         "line": {
          "color": "rgba(128, 128, 128, 1.0)",
          "dash": "solid",
          "shape": "linear",
          "width": 1.3
         },
         "marker": {
          "size": 2,
          "symbol": "circle"
         },
         "mode": "markers",
         "name": "A",
         "text": "",
         "type": "scatter",
         "x": [
          1.5499007333526247,
          -0.426196296811759,
          0.37495612585605337,
          -0.1336889363052779,
          1.124770842851406,
          1.4803699233545966,
          -0.6913548860620014,
          0.4530846133240014,
          0.29625556671890596,
          2.1392925123134354,
          0.24267259322727006,
          -0.5912929335678633,
          1.076613747733806,
          -1.156428688302867,
          -1.361704854446854,
          -1.5901515424577273,
          -0.8052314305134672,
          1.0339252683482132,
          -1.1343511158123745,
          -0.43036028633421336,
          0.5963820862936385,
          -1.0310122434153828,
          -0.6874335453969067,
          -1.621650128651768,
          0.6073315143194891,
          1.0070892732439969,
          1.6077219588646128,
          -0.17734895812291784,
          -0.9469102539155999,
          -0.11564308399434055,
          -1.5771428692861236,
          0.38955482579939316,
          0.3487278769428918,
          -1.8249887232803101,
          -0.4444523588309359,
          1.0238853246466337,
          0.6667274197816324,
          -0.592098717424933,
          -0.046679766440859,
          0.38322700481864364,
          0.9879496031684146,
          0.5023797159654563,
          -0.05931628734162812,
          -0.3829196092787056,
          2.5088960126271633,
          -0.14933906983556622,
          0.7064774753092996,
          -0.07197208057269007,
          1.3225685292105969,
          -0.5750408230285969,
          -0.6091743639150502,
          0.7085474851277107,
          0.8975997945112504,
          1.9084417878905442,
          -0.521338021933896,
          -1.4485492999011722,
          0.16299417795293486,
          -0.1866718510800261,
          -1.3317720125027332,
          1.2878803953991451,
          0.04170166057725168,
          -0.7677567980366121,
          -0.16550003663731286,
          -1.2521323815543866,
          -0.8913585151318264,
          0.31563780106852624,
          0.2608034524962743,
          0.9056065015019831,
          -2.0452160103151678,
          -1.3091827440595243,
          -0.0012249881482702207,
          -1.1462646754780625,
          -2.0180115831993803,
          0.690117417760465,
          1.4661048584907461,
          -0.044809359760745446,
          0.6711649827345268,
          -0.8998777560052286,
          0.1195515193916954,
          -0.1601594377668466,
          -0.05950824566685734,
          -0.1717728420019799,
          1.5209540077798478,
          -0.5132722332286485,
          -0.9212387828904061,
          1.1414634700954014,
          0.9936694880655823,
          -1.358791600204876,
          -0.07179118478643616,
          -0.41436449362850447,
          -1.5239282783018193,
          0.4906643802015708,
          -1.1856787969293885,
          2.776526862058707,
          0.2870067040464905,
          1.3707149588138539,
          -0.5215968825329502,
          -1.047051604087512,
          1.6233558034971234,
          -1.4415356137188111
         ],
         "xaxis": "x3",
         "y": [
          1.4156358936695956,
          -0.7486088378843425,
          0.4955050996849973,
          0.0875785017678611,
          -0.826218807836546,
          -0.47780865783597365,
          0.6371806083430593,
          -0.7862798967147497,
          2.1114851603190483,
          -1.2324994349183411,
          0.1691566162217476,
          -0.6301298927330321,
          0.49786627088299,
          0.49011146626932406,
          -0.2723726811039073,
          -1.2224214956031332,
          -0.020378126111556896,
          1.665415912074953,
          -1.8969961234292025,
          -0.42966872521473776,
          0.05764098447428437,
          0.7590117363436478,
          -1.3286958126006447,
          -1.1606123221990714,
          0.13921065376826422,
          1.0854844964786545,
          -1.104309169567345,
          0.6994799631154538,
          0.8742108609821494,
          0.2257180731978571,
          -1.5171414152618152,
          -0.25644652475948193,
          0.18749692837930554,
          -0.6801926984548232,
          -0.18303574689457183,
          0.03718946653466111,
          -1.073457770498543,
          -0.15671529263355505,
          0.44549454959724333,
          -0.3510063000141201,
          -2.149535432281797,
          1.1408309726951107,
          -0.4106121412032327,
          -0.9711252878091771,
          -0.7144961357779486,
          2.128623477880922,
          -1.2805192296083925,
          0.5017711749949958,
          1.5889495288058462,
          2.301798936419069,
          -0.4038058997708527,
          2.083876183434349,
          -1.6919099735875882,
          -0.4604950389910235,
          0.44468667813470586,
          0.3837181925082112,
          -2.7186889584621365,
          1.6946586670767712,
          -1.5908409061921487,
          0.9916203882779985,
          -0.373584193784145,
          -0.37853000119167124,
          -0.03949696766638036,
          0.6116075103301817,
          0.7066339437665027,
          -0.18362101057989413,
          -0.19126910937529207,
          -0.5942646384168769,
          -0.9939326859755566,
          -0.21782966355238653,
          -2.1427933202436424,
          1.1820416482811897,
          -0.1832952178723742,
          1.303974123810601,
          0.16854111860298743,
          0.07689777318716676,
          -1.3606153114019126,
          -0.40256301529248495,
          0.3522047698292674,
          1.3874784565490599,
          0.5644646020721652,
          0.25993646056156505,
          0.727304145289929,
          1.1188690480615626,
          -0.5326278977863839,
          0.5649152222277095,
          1.8842363452638666,
          -0.3148006308495593,
          0.16962586904042973,
          -0.7724391372975189,
          1.1812131708118059,
          1.8094910892179872,
          1.339874266589562,
          0.0808352432941568,
          -0.9666664192169856,
          -1.1982532515293602,
          -0.24590540357908927,
          1.2863581521970273,
          -1.1458829130853836,
          -0.41864958520433504
         ],
         "yaxis": "y3"
        },
        {
         "line": {
          "color": "rgba(128, 128, 128, 1.0)",
          "dash": "solid",
          "shape": "linear",
          "width": 1.3
         },
         "marker": {
          "size": 2,
          "symbol": "circle"
         },
         "mode": "markers",
         "name": "B",
         "text": "",
         "type": "scatter",
         "x": [
          1.4156358936695956,
          -0.7486088378843425,
          0.4955050996849973,
          0.0875785017678611,
          -0.826218807836546,
          -0.47780865783597365,
          0.6371806083430593,
          -0.7862798967147497,
          2.1114851603190483,
          -1.2324994349183411,
          0.1691566162217476,
          -0.6301298927330321,
          0.49786627088299,
          0.49011146626932406,
          -0.2723726811039073,
          -1.2224214956031332,
          -0.020378126111556896,
          1.665415912074953,
          -1.8969961234292025,
          -0.42966872521473776,
          0.05764098447428437,
          0.7590117363436478,
          -1.3286958126006447,
          -1.1606123221990714,
          0.13921065376826422,
          1.0854844964786545,
          -1.104309169567345,
          0.6994799631154538,
          0.8742108609821494,
          0.2257180731978571,
          -1.5171414152618152,
          -0.25644652475948193,
          0.18749692837930554,
          -0.6801926984548232,
          -0.18303574689457183,
          0.03718946653466111,
          -1.073457770498543,
          -0.15671529263355505,
          0.44549454959724333,
          -0.3510063000141201,
          -2.149535432281797,
          1.1408309726951107,
          -0.4106121412032327,
          -0.9711252878091771,
          -0.7144961357779486,
          2.128623477880922,
          -1.2805192296083925,
          0.5017711749949958,
          1.5889495288058462,
          2.301798936419069,
          -0.4038058997708527,
          2.083876183434349,
          -1.6919099735875882,
          -0.4604950389910235,
          0.44468667813470586,
          0.3837181925082112,
          -2.7186889584621365,
          1.6946586670767712,
          -1.5908409061921487,
          0.9916203882779985,
          -0.373584193784145,
          -0.37853000119167124,
          -0.03949696766638036,
          0.6116075103301817,
          0.7066339437665027,
          -0.18362101057989413,
          -0.19126910937529207,
          -0.5942646384168769,
          -0.9939326859755566,
          -0.21782966355238653,
          -2.1427933202436424,
          1.1820416482811897,
          -0.1832952178723742,
          1.303974123810601,
          0.16854111860298743,
          0.07689777318716676,
          -1.3606153114019126,
          -0.40256301529248495,
          0.3522047698292674,
          1.3874784565490599,
          0.5644646020721652,
          0.25993646056156505,
          0.727304145289929,
          1.1188690480615626,
          -0.5326278977863839,
          0.5649152222277095,
          1.8842363452638666,
          -0.3148006308495593,
          0.16962586904042973,
          -0.7724391372975189,
          1.1812131708118059,
          1.8094910892179872,
          1.339874266589562,
          0.0808352432941568,
          -0.9666664192169856,
          -1.1982532515293602,
          -0.24590540357908927,
          1.2863581521970273,
          -1.1458829130853836,
          -0.41864958520433504
         ],
         "xaxis": "x4",
         "y": [
          0.7062581476995701,
          -1.1710913339176028,
          1.7403465938914462,
          -0.278669933207016,
          0.5289837227499957,
          -0.5204208476320185,
          0.820349091795676,
          -2.5721814068096687,
          -0.1622269597246676,
          0.24048767125338333,
          -0.07666820067898973,
          1.6967460410727122,
          -0.06991286363178612,
          1.3581372047706672,
          -0.7307973344214783,
          1.5138821342258184,
          -0.621027024043218,
          1.3088421656914941,
          -1.4817004302025731,
          -1.105579049921459,
          1.808244351365949,
          1.7814240534761128,
          -1.2849968926336421,
          0.7235419170090094,
          1.058536572130399,
          -1.1048671870589075,
          0.5266596654819395,
          -0.8769589435617031,
          -0.30534849033916944,
          -1.352162767596701,
          0.16922062850592987,
          0.7628457417150688,
          1.5445728618409094,
          -0.6867771252144196,
          1.6962340533283917,
          -0.06598647451729873,
          -0.3439382299071361,
          -1.2794338468476885,
          1.519574703411229,
          0.9133174061492851,
          1.6125385717433276,
          0.43280634762158154,
          -0.9039640060890394,
          0.7359377797913865,
          -1.3326526464564628,
          -1.4966814512041033,
          0.8404794247435162,
          0.2075619795873575,
          0.31146161039254616,
          -0.6819626630511477,
          0.48568395389333435,
          0.07611136799710402,
          -0.14418157848227106,
          0.9843015427342142,
          -0.7544519367543739,
          -2.1915351810117656,
          0.7472183071202954,
          0.07654779306342142,
          0.03717360203194623,
          0.011294036564791296,
          -0.7911437191385242,
          0.21319662109144594,
          2.6641889764107707,
          -0.1062777249978354,
          -0.13731998485911284,
          -0.4162558199342141,
          -1.5498377968411983,
          0.7335258612076875,
          1.0417190913106185,
          -0.028494621882404477,
          2.020747748419635,
          -1.088687317098657,
          -1.0520940799094736,
          -0.9301608812535455,
          0.3756738820184492,
          -1.0850500239522738,
          -1.7067802558636007,
          -0.44014575633396863,
          0.5246300696972056,
          -1.259468621738041,
          -0.3071423443341209,
          -1.118902094299359,
          -2.8256467329121366,
          -0.8868220385029365,
          0.10427311227907055,
          -0.11837011857590833,
          -0.14146329337330818,
          0.8647897922587614,
          -0.4726942358018606,
          0.6772634832759559,
          -0.09297918886954187,
          0.2872666418985008,
          -0.5702877461493379,
          -0.4626469928567091,
          0.32094161556974915,
          -0.05514093237471859,
          -0.6304223605436565,
          -0.10290863068832364,
          0.8161740895582345,
          1.6797723943033382
         ],
         "yaxis": "y4"
        },
        {
         "histfunc": "count",
         "histnorm": "",
         "marker": {
          "color": "rgba(55, 128, 191, 1.0)",
          "line": {
           "color": "#4D5663",
           "width": 1.3
          }
         },
         "name": "B",
         "nbinsx": 10,
         "opacity": 0.8,
         "orientation": "v",
         "type": "histogram",
         "x": [
          0.7062581476995701,
          -1.1710913339176028,
          1.7403465938914462,
          -0.278669933207016,
          0.5289837227499957,
          -0.5204208476320185,
          0.820349091795676,
          -2.5721814068096687,
          -0.1622269597246676,
          0.24048767125338333,
          -0.07666820067898973,
          1.6967460410727122,
          -0.06991286363178612,
          1.3581372047706672,
          -0.7307973344214783,
          1.5138821342258184,
          -0.621027024043218,
          1.3088421656914941,
          -1.4817004302025731,
          -1.105579049921459,
          1.808244351365949,
          1.7814240534761128,
          -1.2849968926336421,
          0.7235419170090094,
          1.058536572130399,
          -1.1048671870589075,
          0.5266596654819395,
          -0.8769589435617031,
          -0.30534849033916944,
          -1.352162767596701,
          0.16922062850592987,
          0.7628457417150688,
          1.5445728618409094,
          -0.6867771252144196,
          1.6962340533283917,
          -0.06598647451729873,
          -0.3439382299071361,
          -1.2794338468476885,
          1.519574703411229,
          0.9133174061492851,
          1.6125385717433276,
          0.43280634762158154,
          -0.9039640060890394,
          0.7359377797913865,
          -1.3326526464564628,
          -1.4966814512041033,
          0.8404794247435162,
          0.2075619795873575,
          0.31146161039254616,
          -0.6819626630511477,
          0.48568395389333435,
          0.07611136799710402,
          -0.14418157848227106,
          0.9843015427342142,
          -0.7544519367543739,
          -2.1915351810117656,
          0.7472183071202954,
          0.07654779306342142,
          0.03717360203194623,
          0.011294036564791296,
          -0.7911437191385242,
          0.21319662109144594,
          2.6641889764107707,
          -0.1062777249978354,
          -0.13731998485911284,
          -0.4162558199342141,
          -1.5498377968411983,
          0.7335258612076875,
          1.0417190913106185,
          -0.028494621882404477,
          2.020747748419635,
          -1.088687317098657,
          -1.0520940799094736,
          -0.9301608812535455,
          0.3756738820184492,
          -1.0850500239522738,
          -1.7067802558636007,
          -0.44014575633396863,
          0.5246300696972056,
          -1.259468621738041,
          -0.3071423443341209,
          -1.118902094299359,
          -2.8256467329121366,
          -0.8868220385029365,
          0.10427311227907055,
          -0.11837011857590833,
          -0.14146329337330818,
          0.8647897922587614,
          -0.4726942358018606,
          0.6772634832759559,
          -0.09297918886954187,
          0.2872666418985008,
          -0.5702877461493379,
          -0.4626469928567091,
          0.32094161556974915,
          -0.05514093237471859,
          -0.6304223605436565,
          -0.10290863068832364,
          0.8161740895582345,
          1.6797723943033382
         ],
         "xaxis": "x5",
         "yaxis": "y5"
        },
        {
         "line": {
          "color": "rgba(128, 128, 128, 1.0)",
          "dash": "solid",
          "shape": "linear",
          "width": 1.3
         },
         "marker": {
          "size": 2,
          "symbol": "circle"
         },
         "mode": "markers",
         "name": "B",
         "text": "",
         "type": "scatter",
         "x": [
          1.5499007333526247,
          -0.426196296811759,
          0.37495612585605337,
          -0.1336889363052779,
          1.124770842851406,
          1.4803699233545966,
          -0.6913548860620014,
          0.4530846133240014,
          0.29625556671890596,
          2.1392925123134354,
          0.24267259322727006,
          -0.5912929335678633,
          1.076613747733806,
          -1.156428688302867,
          -1.361704854446854,
          -1.5901515424577273,
          -0.8052314305134672,
          1.0339252683482132,
          -1.1343511158123745,
          -0.43036028633421336,
          0.5963820862936385,
          -1.0310122434153828,
          -0.6874335453969067,
          -1.621650128651768,
          0.6073315143194891,
          1.0070892732439969,
          1.6077219588646128,
          -0.17734895812291784,
          -0.9469102539155999,
          -0.11564308399434055,
          -1.5771428692861236,
          0.38955482579939316,
          0.3487278769428918,
          -1.8249887232803101,
          -0.4444523588309359,
          1.0238853246466337,
          0.6667274197816324,
          -0.592098717424933,
          -0.046679766440859,
          0.38322700481864364,
          0.9879496031684146,
          0.5023797159654563,
          -0.05931628734162812,
          -0.3829196092787056,
          2.5088960126271633,
          -0.14933906983556622,
          0.7064774753092996,
          -0.07197208057269007,
          1.3225685292105969,
          -0.5750408230285969,
          -0.6091743639150502,
          0.7085474851277107,
          0.8975997945112504,
          1.9084417878905442,
          -0.521338021933896,
          -1.4485492999011722,
          0.16299417795293486,
          -0.1866718510800261,
          -1.3317720125027332,
          1.2878803953991451,
          0.04170166057725168,
          -0.7677567980366121,
          -0.16550003663731286,
          -1.2521323815543866,
          -0.8913585151318264,
          0.31563780106852624,
          0.2608034524962743,
          0.9056065015019831,
          -2.0452160103151678,
          -1.3091827440595243,
          -0.0012249881482702207,
          -1.1462646754780625,
          -2.0180115831993803,
          0.690117417760465,
          1.4661048584907461,
          -0.044809359760745446,
          0.6711649827345268,
          -0.8998777560052286,
          0.1195515193916954,
          -0.1601594377668466,
          -0.05950824566685734,
          -0.1717728420019799,
          1.5209540077798478,
          -0.5132722332286485,
          -0.9212387828904061,
          1.1414634700954014,
          0.9936694880655823,
          -1.358791600204876,
          -0.07179118478643616,
          -0.41436449362850447,
          -1.5239282783018193,
          0.4906643802015708,
          -1.1856787969293885,
          2.776526862058707,
          0.2870067040464905,
          1.3707149588138539,
          -0.5215968825329502,
          -1.047051604087512,
          1.6233558034971234,
          -1.4415356137188111
         ],
         "xaxis": "x6",
         "y": [
          0.7062581476995701,
          -1.1710913339176028,
          1.7403465938914462,
          -0.278669933207016,
          0.5289837227499957,
          -0.5204208476320185,
          0.820349091795676,
          -2.5721814068096687,
          -0.1622269597246676,
          0.24048767125338333,
          -0.07666820067898973,
          1.6967460410727122,
          -0.06991286363178612,
          1.3581372047706672,
          -0.7307973344214783,
          1.5138821342258184,
          -0.621027024043218,
          1.3088421656914941,
          -1.4817004302025731,
          -1.105579049921459,
          1.808244351365949,
          1.7814240534761128,
          -1.2849968926336421,
          0.7235419170090094,
          1.058536572130399,
          -1.1048671870589075,
          0.5266596654819395,
          -0.8769589435617031,
          -0.30534849033916944,
          -1.352162767596701,
          0.16922062850592987,
          0.7628457417150688,
          1.5445728618409094,
          -0.6867771252144196,
          1.6962340533283917,
          -0.06598647451729873,
          -0.3439382299071361,
          -1.2794338468476885,
          1.519574703411229,
          0.9133174061492851,
          1.6125385717433276,
          0.43280634762158154,
          -0.9039640060890394,
          0.7359377797913865,
          -1.3326526464564628,
          -1.4966814512041033,
          0.8404794247435162,
          0.2075619795873575,
          0.31146161039254616,
          -0.6819626630511477,
          0.48568395389333435,
          0.07611136799710402,
          -0.14418157848227106,
          0.9843015427342142,
          -0.7544519367543739,
          -2.1915351810117656,
          0.7472183071202954,
          0.07654779306342142,
          0.03717360203194623,
          0.011294036564791296,
          -0.7911437191385242,
          0.21319662109144594,
          2.6641889764107707,
          -0.1062777249978354,
          -0.13731998485911284,
          -0.4162558199342141,
          -1.5498377968411983,
          0.7335258612076875,
          1.0417190913106185,
          -0.028494621882404477,
          2.020747748419635,
          -1.088687317098657,
          -1.0520940799094736,
          -0.9301608812535455,
          0.3756738820184492,
          -1.0850500239522738,
          -1.7067802558636007,
          -0.44014575633396863,
          0.5246300696972056,
          -1.259468621738041,
          -0.3071423443341209,
          -1.118902094299359,
          -2.8256467329121366,
          -0.8868220385029365,
          0.10427311227907055,
          -0.11837011857590833,
          -0.14146329337330818,
          0.8647897922587614,
          -0.4726942358018606,
          0.6772634832759559,
          -0.09297918886954187,
          0.2872666418985008,
          -0.5702877461493379,
          -0.4626469928567091,
          0.32094161556974915,
          -0.05514093237471859,
          -0.6304223605436565,
          -0.10290863068832364,
          0.8161740895582345,
          1.6797723943033382
         ],
         "yaxis": "y6"
        },
        {
         "line": {
          "color": "rgba(128, 128, 128, 1.0)",
          "dash": "solid",
          "shape": "linear",
          "width": 1.3
         },
         "marker": {
          "size": 2,
          "symbol": "circle"
         },
         "mode": "markers",
         "name": "C",
         "text": "",
         "type": "scatter",
         "x": [
          1.4156358936695956,
          -0.7486088378843425,
          0.4955050996849973,
          0.0875785017678611,
          -0.826218807836546,
          -0.47780865783597365,
          0.6371806083430593,
          -0.7862798967147497,
          2.1114851603190483,
          -1.2324994349183411,
          0.1691566162217476,
          -0.6301298927330321,
          0.49786627088299,
          0.49011146626932406,
          -0.2723726811039073,
          -1.2224214956031332,
          -0.020378126111556896,
          1.665415912074953,
          -1.8969961234292025,
          -0.42966872521473776,
          0.05764098447428437,
          0.7590117363436478,
          -1.3286958126006447,
          -1.1606123221990714,
          0.13921065376826422,
          1.0854844964786545,
          -1.104309169567345,
          0.6994799631154538,
          0.8742108609821494,
          0.2257180731978571,
          -1.5171414152618152,
          -0.25644652475948193,
          0.18749692837930554,
          -0.6801926984548232,
          -0.18303574689457183,
          0.03718946653466111,
          -1.073457770498543,
          -0.15671529263355505,
          0.44549454959724333,
          -0.3510063000141201,
          -2.149535432281797,
          1.1408309726951107,
          -0.4106121412032327,
          -0.9711252878091771,
          -0.7144961357779486,
          2.128623477880922,
          -1.2805192296083925,
          0.5017711749949958,
          1.5889495288058462,
          2.301798936419069,
          -0.4038058997708527,
          2.083876183434349,
          -1.6919099735875882,
          -0.4604950389910235,
          0.44468667813470586,
          0.3837181925082112,
          -2.7186889584621365,
          1.6946586670767712,
          -1.5908409061921487,
          0.9916203882779985,
          -0.373584193784145,
          -0.37853000119167124,
          -0.03949696766638036,
          0.6116075103301817,
          0.7066339437665027,
          -0.18362101057989413,
          -0.19126910937529207,
          -0.5942646384168769,
          -0.9939326859755566,
          -0.21782966355238653,
          -2.1427933202436424,
          1.1820416482811897,
          -0.1832952178723742,
          1.303974123810601,
          0.16854111860298743,
          0.07689777318716676,
          -1.3606153114019126,
          -0.40256301529248495,
          0.3522047698292674,
          1.3874784565490599,
          0.5644646020721652,
          0.25993646056156505,
          0.727304145289929,
          1.1188690480615626,
          -0.5326278977863839,
          0.5649152222277095,
          1.8842363452638666,
          -0.3148006308495593,
          0.16962586904042973,
          -0.7724391372975189,
          1.1812131708118059,
          1.8094910892179872,
          1.339874266589562,
          0.0808352432941568,
          -0.9666664192169856,
          -1.1982532515293602,
          -0.24590540357908927,
          1.2863581521970273,
          -1.1458829130853836,
          -0.41864958520433504
         ],
         "xaxis": "x7",
         "y": [
          1.5499007333526247,
          -0.426196296811759,
          0.37495612585605337,
          -0.1336889363052779,
          1.124770842851406,
          1.4803699233545966,
          -0.6913548860620014,
          0.4530846133240014,
          0.29625556671890596,
          2.1392925123134354,
          0.24267259322727006,
          -0.5912929335678633,
          1.076613747733806,
          -1.156428688302867,
          -1.361704854446854,
          -1.5901515424577273,
          -0.8052314305134672,
          1.0339252683482132,
          -1.1343511158123745,
          -0.43036028633421336,
          0.5963820862936385,
          -1.0310122434153828,
          -0.6874335453969067,
          -1.621650128651768,
          0.6073315143194891,
          1.0070892732439969,
          1.6077219588646128,
          -0.17734895812291784,
          -0.9469102539155999,
          -0.11564308399434055,
          -1.5771428692861236,
          0.38955482579939316,
          0.3487278769428918,
          -1.8249887232803101,
          -0.4444523588309359,
          1.0238853246466337,
          0.6667274197816324,
          -0.592098717424933,
          -0.046679766440859,
          0.38322700481864364,
          0.9879496031684146,
          0.5023797159654563,
          -0.05931628734162812,
          -0.3829196092787056,
          2.5088960126271633,
          -0.14933906983556622,
          0.7064774753092996,
          -0.07197208057269007,
          1.3225685292105969,
          -0.5750408230285969,
          -0.6091743639150502,
          0.7085474851277107,
          0.8975997945112504,
          1.9084417878905442,
          -0.521338021933896,
          -1.4485492999011722,
          0.16299417795293486,
          -0.1866718510800261,
          -1.3317720125027332,
          1.2878803953991451,
          0.04170166057725168,
          -0.7677567980366121,
          -0.16550003663731286,
          -1.2521323815543866,
          -0.8913585151318264,
          0.31563780106852624,
          0.2608034524962743,
          0.9056065015019831,
          -2.0452160103151678,
          -1.3091827440595243,
          -0.0012249881482702207,
          -1.1462646754780625,
          -2.0180115831993803,
          0.690117417760465,
          1.4661048584907461,
          -0.044809359760745446,
          0.6711649827345268,
          -0.8998777560052286,
          0.1195515193916954,
          -0.1601594377668466,
          -0.05950824566685734,
          -0.1717728420019799,
          1.5209540077798478,
          -0.5132722332286485,
          -0.9212387828904061,
          1.1414634700954014,
          0.9936694880655823,
          -1.358791600204876,
          -0.07179118478643616,
          -0.41436449362850447,
          -1.5239282783018193,
          0.4906643802015708,
          -1.1856787969293885,
          2.776526862058707,
          0.2870067040464905,
          1.3707149588138539,
          -0.5215968825329502,
          -1.047051604087512,
          1.6233558034971234,
          -1.4415356137188111
         ],
         "yaxis": "y7"
        },
        {
         "line": {
          "color": "rgba(128, 128, 128, 1.0)",
          "dash": "solid",
          "shape": "linear",
          "width": 1.3
         },
         "marker": {
          "size": 2,
          "symbol": "circle"
         },
         "mode": "markers",
         "name": "C",
         "text": "",
         "type": "scatter",
         "x": [
          0.7062581476995701,
          -1.1710913339176028,
          1.7403465938914462,
          -0.278669933207016,
          0.5289837227499957,
          -0.5204208476320185,
          0.820349091795676,
          -2.5721814068096687,
          -0.1622269597246676,
          0.24048767125338333,
          -0.07666820067898973,
          1.6967460410727122,
          -0.06991286363178612,
          1.3581372047706672,
          -0.7307973344214783,
          1.5138821342258184,
          -0.621027024043218,
          1.3088421656914941,
          -1.4817004302025731,
          -1.105579049921459,
          1.808244351365949,
          1.7814240534761128,
          -1.2849968926336421,
          0.7235419170090094,
          1.058536572130399,
          -1.1048671870589075,
          0.5266596654819395,
          -0.8769589435617031,
          -0.30534849033916944,
          -1.352162767596701,
          0.16922062850592987,
          0.7628457417150688,
          1.5445728618409094,
          -0.6867771252144196,
          1.6962340533283917,
          -0.06598647451729873,
          -0.3439382299071361,
          -1.2794338468476885,
          1.519574703411229,
          0.9133174061492851,
          1.6125385717433276,
          0.43280634762158154,
          -0.9039640060890394,
          0.7359377797913865,
          -1.3326526464564628,
          -1.4966814512041033,
          0.8404794247435162,
          0.2075619795873575,
          0.31146161039254616,
          -0.6819626630511477,
          0.48568395389333435,
          0.07611136799710402,
          -0.14418157848227106,
          0.9843015427342142,
          -0.7544519367543739,
          -2.1915351810117656,
          0.7472183071202954,
          0.07654779306342142,
          0.03717360203194623,
          0.011294036564791296,
          -0.7911437191385242,
          0.21319662109144594,
          2.6641889764107707,
          -0.1062777249978354,
          -0.13731998485911284,
          -0.4162558199342141,
          -1.5498377968411983,
          0.7335258612076875,
          1.0417190913106185,
          -0.028494621882404477,
          2.020747748419635,
          -1.088687317098657,
          -1.0520940799094736,
          -0.9301608812535455,
          0.3756738820184492,
          -1.0850500239522738,
          -1.7067802558636007,
          -0.44014575633396863,
          0.5246300696972056,
          -1.259468621738041,
          -0.3071423443341209,
          -1.118902094299359,
          -2.8256467329121366,
          -0.8868220385029365,
          0.10427311227907055,
          -0.11837011857590833,
          -0.14146329337330818,
          0.8647897922587614,
          -0.4726942358018606,
          0.6772634832759559,
          -0.09297918886954187,
          0.2872666418985008,
          -0.5702877461493379,
          -0.4626469928567091,
          0.32094161556974915,
          -0.05514093237471859,
          -0.6304223605436565,
          -0.10290863068832364,
          0.8161740895582345,
          1.6797723943033382
         ],
         "xaxis": "x8",
         "y": [
          1.5499007333526247,
          -0.426196296811759,
          0.37495612585605337,
          -0.1336889363052779,
          1.124770842851406,
          1.4803699233545966,
          -0.6913548860620014,
          0.4530846133240014,
          0.29625556671890596,
          2.1392925123134354,
          0.24267259322727006,
          -0.5912929335678633,
          1.076613747733806,
          -1.156428688302867,
          -1.361704854446854,
          -1.5901515424577273,
          -0.8052314305134672,
          1.0339252683482132,
          -1.1343511158123745,
          -0.43036028633421336,
          0.5963820862936385,
          -1.0310122434153828,
          -0.6874335453969067,
          -1.621650128651768,
          0.6073315143194891,
          1.0070892732439969,
          1.6077219588646128,
          -0.17734895812291784,
          -0.9469102539155999,
          -0.11564308399434055,
          -1.5771428692861236,
          0.38955482579939316,
          0.3487278769428918,
          -1.8249887232803101,
          -0.4444523588309359,
          1.0238853246466337,
          0.6667274197816324,
          -0.592098717424933,
          -0.046679766440859,
          0.38322700481864364,
          0.9879496031684146,
          0.5023797159654563,
          -0.05931628734162812,
          -0.3829196092787056,
          2.5088960126271633,
          -0.14933906983556622,
          0.7064774753092996,
          -0.07197208057269007,
          1.3225685292105969,
          -0.5750408230285969,
          -0.6091743639150502,
          0.7085474851277107,
          0.8975997945112504,
          1.9084417878905442,
          -0.521338021933896,
          -1.4485492999011722,
          0.16299417795293486,
          -0.1866718510800261,
          -1.3317720125027332,
          1.2878803953991451,
          0.04170166057725168,
          -0.7677567980366121,
          -0.16550003663731286,
          -1.2521323815543866,
          -0.8913585151318264,
          0.31563780106852624,
          0.2608034524962743,
          0.9056065015019831,
          -2.0452160103151678,
          -1.3091827440595243,
          -0.0012249881482702207,
          -1.1462646754780625,
          -2.0180115831993803,
          0.690117417760465,
          1.4661048584907461,
          -0.044809359760745446,
          0.6711649827345268,
          -0.8998777560052286,
          0.1195515193916954,
          -0.1601594377668466,
          -0.05950824566685734,
          -0.1717728420019799,
          1.5209540077798478,
          -0.5132722332286485,
          -0.9212387828904061,
          1.1414634700954014,
          0.9936694880655823,
          -1.358791600204876,
          -0.07179118478643616,
          -0.41436449362850447,
          -1.5239282783018193,
          0.4906643802015708,
          -1.1856787969293885,
          2.776526862058707,
          0.2870067040464905,
          1.3707149588138539,
          -0.5215968825329502,
          -1.047051604087512,
          1.6233558034971234,
          -1.4415356137188111
         ],
         "yaxis": "y8"
        },
        {
         "histfunc": "count",
         "histnorm": "",
         "marker": {
          "color": "rgba(50, 171, 96, 1.0)",
          "line": {
           "color": "#4D5663",
           "width": 1.3
          }
         },
         "name": "C",
         "nbinsx": 10,
         "opacity": 0.8,
         "orientation": "v",
         "type": "histogram",
         "x": [
          1.5499007333526247,
          -0.426196296811759,
          0.37495612585605337,
          -0.1336889363052779,
          1.124770842851406,
          1.4803699233545966,
          -0.6913548860620014,
          0.4530846133240014,
          0.29625556671890596,
          2.1392925123134354,
          0.24267259322727006,
          -0.5912929335678633,
          1.076613747733806,
          -1.156428688302867,
          -1.361704854446854,
          -1.5901515424577273,
          -0.8052314305134672,
          1.0339252683482132,
          -1.1343511158123745,
          -0.43036028633421336,
          0.5963820862936385,
          -1.0310122434153828,
          -0.6874335453969067,
          -1.621650128651768,
          0.6073315143194891,
          1.0070892732439969,
          1.6077219588646128,
          -0.17734895812291784,
          -0.9469102539155999,
          -0.11564308399434055,
          -1.5771428692861236,
          0.38955482579939316,
          0.3487278769428918,
          -1.8249887232803101,
          -0.4444523588309359,
          1.0238853246466337,
          0.6667274197816324,
          -0.592098717424933,
          -0.046679766440859,
          0.38322700481864364,
          0.9879496031684146,
          0.5023797159654563,
          -0.05931628734162812,
          -0.3829196092787056,
          2.5088960126271633,
          -0.14933906983556622,
          0.7064774753092996,
          -0.07197208057269007,
          1.3225685292105969,
          -0.5750408230285969,
          -0.6091743639150502,
          0.7085474851277107,
          0.8975997945112504,
          1.9084417878905442,
          -0.521338021933896,
          -1.4485492999011722,
          0.16299417795293486,
          -0.1866718510800261,
          -1.3317720125027332,
          1.2878803953991451,
          0.04170166057725168,
          -0.7677567980366121,
          -0.16550003663731286,
          -1.2521323815543866,
          -0.8913585151318264,
          0.31563780106852624,
          0.2608034524962743,
          0.9056065015019831,
          -2.0452160103151678,
          -1.3091827440595243,
          -0.0012249881482702207,
          -1.1462646754780625,
          -2.0180115831993803,
          0.690117417760465,
          1.4661048584907461,
          -0.044809359760745446,
          0.6711649827345268,
          -0.8998777560052286,
          0.1195515193916954,
          -0.1601594377668466,
          -0.05950824566685734,
          -0.1717728420019799,
          1.5209540077798478,
          -0.5132722332286485,
          -0.9212387828904061,
          1.1414634700954014,
          0.9936694880655823,
          -1.358791600204876,
          -0.07179118478643616,
          -0.41436449362850447,
          -1.5239282783018193,
          0.4906643802015708,
          -1.1856787969293885,
          2.776526862058707,
          0.2870067040464905,
          1.3707149588138539,
          -0.5215968825329502,
          -1.047051604087512,
          1.6233558034971234,
          -1.4415356137188111
         ],
         "xaxis": "x9",
         "yaxis": "y9"
        }
       ],
       "layout": {
        "bargap": 0.02,
        "legend": {
         "bgcolor": "#F5F6F9",
         "font": {
          "color": "#4D5663"
         }
        },
        "paper_bgcolor": "#F5F6F9",
        "plot_bgcolor": "#F5F6F9",
        "showlegend": false,
        "template": {
         "data": {
          "bar": [
           {
            "error_x": {
             "color": "#2a3f5f"
            },
            "error_y": {
             "color": "#2a3f5f"
            },
            "marker": {
             "line": {
              "color": "#E5ECF6",
              "width": 0.5
             },
             "pattern": {
              "fillmode": "overlay",
              "size": 10,
              "solidity": 0.2
             }
            },
            "type": "bar"
           }
          ],
          "barpolar": [
           {
            "marker": {
             "line": {
              "color": "#E5ECF6",
              "width": 0.5
             },
             "pattern": {
              "fillmode": "overlay",
              "size": 10,
              "solidity": 0.2
             }
            },
            "type": "barpolar"
           }
          ],
          "carpet": [
           {
            "aaxis": {
             "endlinecolor": "#2a3f5f",
             "gridcolor": "white",
             "linecolor": "white",
             "minorgridcolor": "white",
             "startlinecolor": "#2a3f5f"
            },
            "baxis": {
             "endlinecolor": "#2a3f5f",
             "gridcolor": "white",
             "linecolor": "white",
             "minorgridcolor": "white",
             "startlinecolor": "#2a3f5f"
            },
            "type": "carpet"
           }
          ],
          "choropleth": [
           {
            "colorbar": {
             "outlinewidth": 0,
             "ticks": ""
            },
            "type": "choropleth"
           }
          ],
          "contour": [
           {
            "colorbar": {
             "outlinewidth": 0,
             "ticks": ""
            },
            "colorscale": [
             [
              0,
              "#0d0887"
             ],
             [
              0.1111111111111111,
              "#46039f"
             ],
             [
              0.2222222222222222,
              "#7201a8"
             ],
             [
              0.3333333333333333,
              "#9c179e"
             ],
             [
              0.4444444444444444,
              "#bd3786"
             ],
             [
              0.5555555555555556,
              "#d8576b"
             ],
             [
              0.6666666666666666,
              "#ed7953"
             ],
             [
              0.7777777777777778,
              "#fb9f3a"
             ],
             [
              0.8888888888888888,
              "#fdca26"
             ],
             [
              1,
              "#f0f921"
             ]
            ],
            "type": "contour"
           }
          ],
          "contourcarpet": [
           {
            "colorbar": {
             "outlinewidth": 0,
             "ticks": ""
            },
            "type": "contourcarpet"
           }
          ],
          "heatmap": [
           {
            "colorbar": {
             "outlinewidth": 0,
             "ticks": ""
            },
            "colorscale": [
             [
              0,
              "#0d0887"
             ],
             [
              0.1111111111111111,
              "#46039f"
             ],
             [
              0.2222222222222222,
              "#7201a8"
             ],
             [
              0.3333333333333333,
              "#9c179e"
             ],
             [
              0.4444444444444444,
              "#bd3786"
             ],
             [
              0.5555555555555556,
              "#d8576b"
             ],
             [
              0.6666666666666666,
              "#ed7953"
             ],
             [
              0.7777777777777778,
              "#fb9f3a"
             ],
             [
              0.8888888888888888,
              "#fdca26"
             ],
             [
              1,
              "#f0f921"
             ]
            ],
            "type": "heatmap"
           }
          ],
          "heatmapgl": [
           {
            "colorbar": {
             "outlinewidth": 0,
             "ticks": ""
            },
            "colorscale": [
             [
              0,
              "#0d0887"
             ],
             [
              0.1111111111111111,
              "#46039f"
             ],
             [
              0.2222222222222222,
              "#7201a8"
             ],
             [
              0.3333333333333333,
              "#9c179e"
             ],
             [
              0.4444444444444444,
              "#bd3786"
             ],
             [
              0.5555555555555556,
              "#d8576b"
             ],
             [
              0.6666666666666666,
              "#ed7953"
             ],
             [
              0.7777777777777778,
              "#fb9f3a"
             ],
             [
              0.8888888888888888,
              "#fdca26"
             ],
             [
              1,
              "#f0f921"
             ]
            ],
            "type": "heatmapgl"
           }
          ],
          "histogram": [
           {
            "marker": {
             "pattern": {
              "fillmode": "overlay",
              "size": 10,
              "solidity": 0.2
             }
            },
            "type": "histogram"
           }
          ],
          "histogram2d": [
           {
            "colorbar": {
             "outlinewidth": 0,
             "ticks": ""
            },
            "colorscale": [
             [
              0,
              "#0d0887"
             ],
             [
              0.1111111111111111,
              "#46039f"
             ],
             [
              0.2222222222222222,
              "#7201a8"
             ],
             [
              0.3333333333333333,
              "#9c179e"
             ],
             [
              0.4444444444444444,
              "#bd3786"
             ],
             [
              0.5555555555555556,
              "#d8576b"
             ],
             [
              0.6666666666666666,
              "#ed7953"
             ],
             [
              0.7777777777777778,
              "#fb9f3a"
             ],
             [
              0.8888888888888888,
              "#fdca26"
             ],
             [
              1,
              "#f0f921"
             ]
            ],
            "type": "histogram2d"
           }
          ],
          "histogram2dcontour": [
           {
            "colorbar": {
             "outlinewidth": 0,
             "ticks": ""
            },
            "colorscale": [
             [
              0,
              "#0d0887"
             ],
             [
              0.1111111111111111,
              "#46039f"
             ],
             [
              0.2222222222222222,
              "#7201a8"
             ],
             [
              0.3333333333333333,
              "#9c179e"
             ],
             [
              0.4444444444444444,
              "#bd3786"
             ],
             [
              0.5555555555555556,
              "#d8576b"
             ],
             [
              0.6666666666666666,
              "#ed7953"
             ],
             [
              0.7777777777777778,
              "#fb9f3a"
             ],
             [
              0.8888888888888888,
              "#fdca26"
             ],
             [
              1,
              "#f0f921"
             ]
            ],
            "type": "histogram2dcontour"
           }
          ],
          "mesh3d": [
           {
            "colorbar": {
             "outlinewidth": 0,
             "ticks": ""
            },
            "type": "mesh3d"
           }
          ],
          "parcoords": [
           {
            "line": {
             "colorbar": {
              "outlinewidth": 0,
              "ticks": ""
             }
            },
            "type": "parcoords"
           }
          ],
          "pie": [
           {
            "automargin": true,
            "type": "pie"
           }
          ],
          "scatter": [
           {
            "marker": {
             "colorbar": {
              "outlinewidth": 0,
              "ticks": ""
             }
            },
            "type": "scatter"
           }
          ],
          "scatter3d": [
           {
            "line": {
             "colorbar": {
              "outlinewidth": 0,
              "ticks": ""
             }
            },
            "marker": {
             "colorbar": {
              "outlinewidth": 0,
              "ticks": ""
             }
            },
            "type": "scatter3d"
           }
          ],
          "scattercarpet": [
           {
            "marker": {
             "colorbar": {
              "outlinewidth": 0,
              "ticks": ""
             }
            },
            "type": "scattercarpet"
           }
          ],
          "scattergeo": [
           {
            "marker": {
             "colorbar": {
              "outlinewidth": 0,
              "ticks": ""
             }
            },
            "type": "scattergeo"
           }
          ],
          "scattergl": [
           {
            "marker": {
             "colorbar": {
              "outlinewidth": 0,
              "ticks": ""
             }
            },
            "type": "scattergl"
           }
          ],
          "scattermapbox": [
           {
            "marker": {
             "colorbar": {
              "outlinewidth": 0,
              "ticks": ""
             }
            },
            "type": "scattermapbox"
           }
          ],
          "scatterpolar": [
           {
            "marker": {
             "colorbar": {
              "outlinewidth": 0,
              "ticks": ""
             }
            },
            "type": "scatterpolar"
           }
          ],
          "scatterpolargl": [
           {
            "marker": {
             "colorbar": {
              "outlinewidth": 0,
              "ticks": ""
             }
            },
            "type": "scatterpolargl"
           }
          ],
          "scatterternary": [
           {
            "marker": {
             "colorbar": {
              "outlinewidth": 0,
              "ticks": ""
             }
            },
            "type": "scatterternary"
           }
          ],
          "surface": [
           {
            "colorbar": {
             "outlinewidth": 0,
             "ticks": ""
            },
            "colorscale": [
             [
              0,
              "#0d0887"
             ],
             [
              0.1111111111111111,
              "#46039f"
             ],
             [
              0.2222222222222222,
              "#7201a8"
             ],
             [
              0.3333333333333333,
              "#9c179e"
             ],
             [
              0.4444444444444444,
              "#bd3786"
             ],
             [
              0.5555555555555556,
              "#d8576b"
             ],
             [
              0.6666666666666666,
              "#ed7953"
             ],
             [
              0.7777777777777778,
              "#fb9f3a"
             ],
             [
              0.8888888888888888,
              "#fdca26"
             ],
             [
              1,
              "#f0f921"
             ]
            ],
            "type": "surface"
           }
          ],
          "table": [
           {
            "cells": {
             "fill": {
              "color": "#EBF0F8"
             },
             "line": {
              "color": "white"
             }
            },
            "header": {
             "fill": {
              "color": "#C8D4E3"
             },
             "line": {
              "color": "white"
             }
            },
            "type": "table"
           }
          ]
         },
         "layout": {
          "annotationdefaults": {
           "arrowcolor": "#2a3f5f",
           "arrowhead": 0,
           "arrowwidth": 1
          },
          "autotypenumbers": "strict",
          "coloraxis": {
           "colorbar": {
            "outlinewidth": 0,
            "ticks": ""
           }
          },
          "colorscale": {
           "diverging": [
            [
             0,
             "#8e0152"
            ],
            [
             0.1,
             "#c51b7d"
            ],
            [
             0.2,
             "#de77ae"
            ],
            [
             0.3,
             "#f1b6da"
            ],
            [
             0.4,
             "#fde0ef"
            ],
            [
             0.5,
             "#f7f7f7"
            ],
            [
             0.6,
             "#e6f5d0"
            ],
            [
             0.7,
             "#b8e186"
            ],
            [
             0.8,
             "#7fbc41"
            ],
            [
             0.9,
             "#4d9221"
            ],
            [
             1,
             "#276419"
            ]
           ],
           "sequential": [
            [
             0,
             "#0d0887"
            ],
            [
             0.1111111111111111,
             "#46039f"
            ],
            [
             0.2222222222222222,
             "#7201a8"
            ],
            [
             0.3333333333333333,
             "#9c179e"
            ],
            [
             0.4444444444444444,
             "#bd3786"
            ],
            [
             0.5555555555555556,
             "#d8576b"
            ],
            [
             0.6666666666666666,
             "#ed7953"
            ],
            [
             0.7777777777777778,
             "#fb9f3a"
            ],
            [
             0.8888888888888888,
             "#fdca26"
            ],
            [
             1,
             "#f0f921"
            ]
           ],
           "sequentialminus": [
            [
             0,
             "#0d0887"
            ],
            [
             0.1111111111111111,
             "#46039f"
            ],
            [
             0.2222222222222222,
             "#7201a8"
            ],
            [
             0.3333333333333333,
             "#9c179e"
            ],
            [
             0.4444444444444444,
             "#bd3786"
            ],
            [
             0.5555555555555556,
             "#d8576b"
            ],
            [
             0.6666666666666666,
             "#ed7953"
            ],
            [
             0.7777777777777778,
             "#fb9f3a"
            ],
            [
             0.8888888888888888,
             "#fdca26"
            ],
            [
             1,
             "#f0f921"
            ]
           ]
          },
          "colorway": [
           "#636efa",
           "#EF553B",
           "#00cc96",
           "#ab63fa",
           "#FFA15A",
           "#19d3f3",
           "#FF6692",
           "#B6E880",
           "#FF97FF",
           "#FECB52"
          ],
          "font": {
           "color": "#2a3f5f"
          },
          "geo": {
           "bgcolor": "white",
           "lakecolor": "white",
           "landcolor": "#E5ECF6",
           "showlakes": true,
           "showland": true,
           "subunitcolor": "white"
          },
          "hoverlabel": {
           "align": "left"
          },
          "hovermode": "closest",
          "mapbox": {
           "style": "light"
          },
          "paper_bgcolor": "white",
          "plot_bgcolor": "#E5ECF6",
          "polar": {
           "angularaxis": {
            "gridcolor": "white",
            "linecolor": "white",
            "ticks": ""
           },
           "bgcolor": "#E5ECF6",
           "radialaxis": {
            "gridcolor": "white",
            "linecolor": "white",
            "ticks": ""
           }
          },
          "scene": {
           "xaxis": {
            "backgroundcolor": "#E5ECF6",
            "gridcolor": "white",
            "gridwidth": 2,
            "linecolor": "white",
            "showbackground": true,
            "ticks": "",
            "zerolinecolor": "white"
           },
           "yaxis": {
            "backgroundcolor": "#E5ECF6",
            "gridcolor": "white",
            "gridwidth": 2,
            "linecolor": "white",
            "showbackground": true,
            "ticks": "",
            "zerolinecolor": "white"
           },
           "zaxis": {
            "backgroundcolor": "#E5ECF6",
            "gridcolor": "white",
            "gridwidth": 2,
            "linecolor": "white",
            "showbackground": true,
            "ticks": "",
            "zerolinecolor": "white"
           }
          },
          "shapedefaults": {
           "line": {
            "color": "#2a3f5f"
           }
          },
          "ternary": {
           "aaxis": {
            "gridcolor": "white",
            "linecolor": "white",
            "ticks": ""
           },
           "baxis": {
            "gridcolor": "white",
            "linecolor": "white",
            "ticks": ""
           },
           "bgcolor": "#E5ECF6",
           "caxis": {
            "gridcolor": "white",
            "linecolor": "white",
            "ticks": ""
           }
          },
          "title": {
           "x": 0.05
          },
          "xaxis": {
           "automargin": true,
           "gridcolor": "white",
           "linecolor": "white",
           "ticks": "",
           "title": {
            "standoff": 15
           },
           "zerolinecolor": "white",
           "zerolinewidth": 2
          },
          "yaxis": {
           "automargin": true,
           "gridcolor": "white",
           "linecolor": "white",
           "ticks": "",
           "title": {
            "standoff": 15
           },
           "zerolinecolor": "white",
           "zerolinewidth": 2
          }
         }
        },
        "title": {
         "font": {
          "color": "#4D5663"
         }
        },
        "xaxis": {
         "anchor": "y",
         "domain": [
          0,
          0.3
         ],
         "gridcolor": "#E1E5ED",
         "showgrid": false,
         "tickfont": {
          "color": "#4D5663"
         },
         "title": {
          "font": {
           "color": "#4D5663"
          },
          "text": ""
         },
         "zerolinecolor": "#E1E5ED"
        },
        "xaxis2": {
         "anchor": "y2",
         "domain": [
          0.35,
          0.6499999999999999
         ],
         "gridcolor": "#E1E5ED",
         "showgrid": false,
         "tickfont": {
          "color": "#4D5663"
         },
         "title": {
          "font": {
           "color": "#4D5663"
          },
          "text": ""
         },
         "zerolinecolor": "#E1E5ED"
        },
        "xaxis3": {
         "anchor": "y3",
         "domain": [
          0.7,
          1
         ],
         "gridcolor": "#E1E5ED",
         "showgrid": false,
         "tickfont": {
          "color": "#4D5663"
         },
         "title": {
          "font": {
           "color": "#4D5663"
          },
          "text": ""
         },
         "zerolinecolor": "#E1E5ED"
        },
        "xaxis4": {
         "anchor": "y4",
         "domain": [
          0,
          0.3
         ],
         "gridcolor": "#E1E5ED",
         "showgrid": false,
         "tickfont": {
          "color": "#4D5663"
         },
         "title": {
          "font": {
           "color": "#4D5663"
          },
          "text": ""
         },
         "zerolinecolor": "#E1E5ED"
        },
        "xaxis5": {
         "anchor": "y5",
         "domain": [
          0.35,
          0.6499999999999999
         ],
         "gridcolor": "#E1E5ED",
         "showgrid": false,
         "tickfont": {
          "color": "#4D5663"
         },
         "title": {
          "font": {
           "color": "#4D5663"
          },
          "text": ""
         },
         "zerolinecolor": "#E1E5ED"
        },
        "xaxis6": {
         "anchor": "y6",
         "domain": [
          0.7,
          1
         ],
         "gridcolor": "#E1E5ED",
         "showgrid": false,
         "tickfont": {
          "color": "#4D5663"
         },
         "title": {
          "font": {
           "color": "#4D5663"
          },
          "text": ""
         },
         "zerolinecolor": "#E1E5ED"
        },
        "xaxis7": {
         "anchor": "y7",
         "domain": [
          0,
          0.3
         ],
         "gridcolor": "#E1E5ED",
         "showgrid": false,
         "tickfont": {
          "color": "#4D5663"
         },
         "title": {
          "font": {
           "color": "#4D5663"
          },
          "text": ""
         },
         "zerolinecolor": "#E1E5ED"
        },
        "xaxis8": {
         "anchor": "y8",
         "domain": [
          0.35,
          0.6499999999999999
         ],
         "gridcolor": "#E1E5ED",
         "showgrid": false,
         "tickfont": {
          "color": "#4D5663"
         },
         "title": {
          "font": {
           "color": "#4D5663"
          },
          "text": ""
         },
         "zerolinecolor": "#E1E5ED"
        },
        "xaxis9": {
         "anchor": "y9",
         "domain": [
          0.7,
          1
         ],
         "gridcolor": "#E1E5ED",
         "showgrid": false,
         "tickfont": {
          "color": "#4D5663"
         },
         "title": {
          "font": {
           "color": "#4D5663"
          },
          "text": ""
         },
         "zerolinecolor": "#E1E5ED"
        },
        "yaxis": {
         "anchor": "x",
         "domain": [
          0.7133333333333334,
          1
         ],
         "gridcolor": "#E1E5ED",
         "showgrid": false,
         "tickfont": {
          "color": "#4D5663"
         },
         "title": {
          "font": {
           "color": "#4D5663"
          },
          "text": ""
         },
         "zerolinecolor": "#E1E5ED"
        },
        "yaxis2": {
         "anchor": "x2",
         "domain": [
          0.7133333333333334,
          1
         ],
         "gridcolor": "#E1E5ED",
         "showgrid": false,
         "tickfont": {
          "color": "#4D5663"
         },
         "title": {
          "font": {
           "color": "#4D5663"
          },
          "text": ""
         },
         "zerolinecolor": "#E1E5ED"
        },
        "yaxis3": {
         "anchor": "x3",
         "domain": [
          0.7133333333333334,
          1
         ],
         "gridcolor": "#E1E5ED",
         "showgrid": false,
         "tickfont": {
          "color": "#4D5663"
         },
         "title": {
          "font": {
           "color": "#4D5663"
          },
          "text": ""
         },
         "zerolinecolor": "#E1E5ED"
        },
        "yaxis4": {
         "anchor": "x4",
         "domain": [
          0.3566666666666667,
          0.6433333333333333
         ],
         "gridcolor": "#E1E5ED",
         "showgrid": false,
         "tickfont": {
          "color": "#4D5663"
         },
         "title": {
          "font": {
           "color": "#4D5663"
          },
          "text": ""
         },
         "zerolinecolor": "#E1E5ED"
        },
        "yaxis5": {
         "anchor": "x5",
         "domain": [
          0.3566666666666667,
          0.6433333333333333
         ],
         "gridcolor": "#E1E5ED",
         "showgrid": false,
         "tickfont": {
          "color": "#4D5663"
         },
         "title": {
          "font": {
           "color": "#4D5663"
          },
          "text": ""
         },
         "zerolinecolor": "#E1E5ED"
        },
        "yaxis6": {
         "anchor": "x6",
         "domain": [
          0.3566666666666667,
          0.6433333333333333
         ],
         "gridcolor": "#E1E5ED",
         "showgrid": false,
         "tickfont": {
          "color": "#4D5663"
         },
         "title": {
          "font": {
           "color": "#4D5663"
          },
          "text": ""
         },
         "zerolinecolor": "#E1E5ED"
        },
        "yaxis7": {
         "anchor": "x7",
         "domain": [
          0,
          0.2866666666666667
         ],
         "gridcolor": "#E1E5ED",
         "showgrid": false,
         "tickfont": {
          "color": "#4D5663"
         },
         "title": {
          "font": {
           "color": "#4D5663"
          },
          "text": ""
         },
         "zerolinecolor": "#E1E5ED"
        },
        "yaxis8": {
         "anchor": "x8",
         "domain": [
          0,
          0.2866666666666667
         ],
         "gridcolor": "#E1E5ED",
         "showgrid": false,
         "tickfont": {
          "color": "#4D5663"
         },
         "title": {
          "font": {
           "color": "#4D5663"
          },
          "text": ""
         },
         "zerolinecolor": "#E1E5ED"
        },
        "yaxis9": {
         "anchor": "x9",
         "domain": [
          0,
          0.2866666666666667
         ],
         "gridcolor": "#E1E5ED",
         "showgrid": false,
         "tickfont": {
          "color": "#4D5663"
         },
         "title": {
          "font": {
           "color": "#4D5663"
          },
          "text": ""
         },
         "zerolinecolor": "#E1E5ED"
        }
       }
      },
      "text/html": [
       "<div>                            <div id=\"47d67691-8070-4b28-96d3-fb00b02c8b12\" class=\"plotly-graph-div\" style=\"height:525px; width:100%;\"></div>            <script type=\"text/javascript\">                require([\"plotly\"], function(Plotly) {                    window.PLOTLYENV=window.PLOTLYENV || {};\n",
       "                    window.PLOTLYENV.BASE_URL='https://plot.ly';                                    if (document.getElementById(\"47d67691-8070-4b28-96d3-fb00b02c8b12\")) {                    Plotly.newPlot(                        \"47d67691-8070-4b28-96d3-fb00b02c8b12\",                        [{\"histfunc\":\"count\",\"histnorm\":\"\",\"marker\":{\"color\":\"rgba(255, 153, 51, 1.0)\",\"line\":{\"color\":\"#4D5663\",\"width\":1.3}},\"name\":\"A\",\"nbinsx\":10,\"opacity\":0.8,\"orientation\":\"v\",\"x\":[1.4156358936695956,-0.7486088378843425,0.4955050996849973,0.0875785017678611,-0.826218807836546,-0.47780865783597365,0.6371806083430593,-0.7862798967147497,2.1114851603190483,-1.2324994349183411,0.1691566162217476,-0.6301298927330321,0.49786627088299,0.49011146626932406,-0.2723726811039073,-1.2224214956031332,-0.020378126111556896,1.665415912074953,-1.8969961234292025,-0.42966872521473776,0.05764098447428437,0.7590117363436478,-1.3286958126006447,-1.1606123221990714,0.13921065376826422,1.0854844964786545,-1.104309169567345,0.6994799631154538,0.8742108609821494,0.2257180731978571,-1.5171414152618152,-0.25644652475948193,0.18749692837930554,-0.6801926984548232,-0.18303574689457183,0.03718946653466111,-1.073457770498543,-0.15671529263355505,0.44549454959724333,-0.3510063000141201,-2.149535432281797,1.1408309726951107,-0.4106121412032327,-0.9711252878091771,-0.7144961357779486,2.128623477880922,-1.2805192296083925,0.5017711749949958,1.5889495288058462,2.301798936419069,-0.4038058997708527,2.083876183434349,-1.6919099735875882,-0.4604950389910235,0.44468667813470586,0.3837181925082112,-2.7186889584621365,1.6946586670767712,-1.5908409061921487,0.9916203882779985,-0.373584193784145,-0.37853000119167124,-0.03949696766638036,0.6116075103301817,0.7066339437665027,-0.18362101057989413,-0.19126910937529207,-0.5942646384168769,-0.9939326859755566,-0.21782966355238653,-2.1427933202436424,1.1820416482811897,-0.1832952178723742,1.303974123810601,0.16854111860298743,0.07689777318716676,-1.3606153114019126,-0.40256301529248495,0.3522047698292674,1.3874784565490599,0.5644646020721652,0.25993646056156505,0.727304145289929,1.1188690480615626,-0.5326278977863839,0.5649152222277095,1.8842363452638666,-0.3148006308495593,0.16962586904042973,-0.7724391372975189,1.1812131708118059,1.8094910892179872,1.339874266589562,0.0808352432941568,-0.9666664192169856,-1.1982532515293602,-0.24590540357908927,1.2863581521970273,-1.1458829130853836,-0.41864958520433504],\"xaxis\":\"x\",\"yaxis\":\"y\",\"type\":\"histogram\"},{\"line\":{\"color\":\"rgba(128, 128, 128, 1.0)\",\"dash\":\"solid\",\"shape\":\"linear\",\"width\":1.3},\"marker\":{\"size\":2,\"symbol\":\"circle\"},\"mode\":\"markers\",\"name\":\"A\",\"text\":\"\",\"x\":[0.7062581476995701,-1.1710913339176028,1.7403465938914462,-0.278669933207016,0.5289837227499957,-0.5204208476320185,0.820349091795676,-2.5721814068096687,-0.1622269597246676,0.24048767125338333,-0.07666820067898973,1.6967460410727122,-0.06991286363178612,1.3581372047706672,-0.7307973344214783,1.5138821342258184,-0.621027024043218,1.3088421656914941,-1.4817004302025731,-1.105579049921459,1.808244351365949,1.7814240534761128,-1.2849968926336421,0.7235419170090094,1.058536572130399,-1.1048671870589075,0.5266596654819395,-0.8769589435617031,-0.30534849033916944,-1.352162767596701,0.16922062850592987,0.7628457417150688,1.5445728618409094,-0.6867771252144196,1.6962340533283917,-0.06598647451729873,-0.3439382299071361,-1.2794338468476885,1.519574703411229,0.9133174061492851,1.6125385717433276,0.43280634762158154,-0.9039640060890394,0.7359377797913865,-1.3326526464564628,-1.4966814512041033,0.8404794247435162,0.2075619795873575,0.31146161039254616,-0.6819626630511477,0.48568395389333435,0.07611136799710402,-0.14418157848227106,0.9843015427342142,-0.7544519367543739,-2.1915351810117656,0.7472183071202954,0.07654779306342142,0.03717360203194623,0.011294036564791296,-0.7911437191385242,0.21319662109144594,2.6641889764107707,-0.1062777249978354,-0.13731998485911284,-0.4162558199342141,-1.5498377968411983,0.7335258612076875,1.0417190913106185,-0.028494621882404477,2.020747748419635,-1.088687317098657,-1.0520940799094736,-0.9301608812535455,0.3756738820184492,-1.0850500239522738,-1.7067802558636007,-0.44014575633396863,0.5246300696972056,-1.259468621738041,-0.3071423443341209,-1.118902094299359,-2.8256467329121366,-0.8868220385029365,0.10427311227907055,-0.11837011857590833,-0.14146329337330818,0.8647897922587614,-0.4726942358018606,0.6772634832759559,-0.09297918886954187,0.2872666418985008,-0.5702877461493379,-0.4626469928567091,0.32094161556974915,-0.05514093237471859,-0.6304223605436565,-0.10290863068832364,0.8161740895582345,1.6797723943033382],\"xaxis\":\"x2\",\"y\":[1.4156358936695956,-0.7486088378843425,0.4955050996849973,0.0875785017678611,-0.826218807836546,-0.47780865783597365,0.6371806083430593,-0.7862798967147497,2.1114851603190483,-1.2324994349183411,0.1691566162217476,-0.6301298927330321,0.49786627088299,0.49011146626932406,-0.2723726811039073,-1.2224214956031332,-0.020378126111556896,1.665415912074953,-1.8969961234292025,-0.42966872521473776,0.05764098447428437,0.7590117363436478,-1.3286958126006447,-1.1606123221990714,0.13921065376826422,1.0854844964786545,-1.104309169567345,0.6994799631154538,0.8742108609821494,0.2257180731978571,-1.5171414152618152,-0.25644652475948193,0.18749692837930554,-0.6801926984548232,-0.18303574689457183,0.03718946653466111,-1.073457770498543,-0.15671529263355505,0.44549454959724333,-0.3510063000141201,-2.149535432281797,1.1408309726951107,-0.4106121412032327,-0.9711252878091771,-0.7144961357779486,2.128623477880922,-1.2805192296083925,0.5017711749949958,1.5889495288058462,2.301798936419069,-0.4038058997708527,2.083876183434349,-1.6919099735875882,-0.4604950389910235,0.44468667813470586,0.3837181925082112,-2.7186889584621365,1.6946586670767712,-1.5908409061921487,0.9916203882779985,-0.373584193784145,-0.37853000119167124,-0.03949696766638036,0.6116075103301817,0.7066339437665027,-0.18362101057989413,-0.19126910937529207,-0.5942646384168769,-0.9939326859755566,-0.21782966355238653,-2.1427933202436424,1.1820416482811897,-0.1832952178723742,1.303974123810601,0.16854111860298743,0.07689777318716676,-1.3606153114019126,-0.40256301529248495,0.3522047698292674,1.3874784565490599,0.5644646020721652,0.25993646056156505,0.727304145289929,1.1188690480615626,-0.5326278977863839,0.5649152222277095,1.8842363452638666,-0.3148006308495593,0.16962586904042973,-0.7724391372975189,1.1812131708118059,1.8094910892179872,1.339874266589562,0.0808352432941568,-0.9666664192169856,-1.1982532515293602,-0.24590540357908927,1.2863581521970273,-1.1458829130853836,-0.41864958520433504],\"yaxis\":\"y2\",\"type\":\"scatter\"},{\"line\":{\"color\":\"rgba(128, 128, 128, 1.0)\",\"dash\":\"solid\",\"shape\":\"linear\",\"width\":1.3},\"marker\":{\"size\":2,\"symbol\":\"circle\"},\"mode\":\"markers\",\"name\":\"A\",\"text\":\"\",\"x\":[1.5499007333526247,-0.426196296811759,0.37495612585605337,-0.1336889363052779,1.124770842851406,1.4803699233545966,-0.6913548860620014,0.4530846133240014,0.29625556671890596,2.1392925123134354,0.24267259322727006,-0.5912929335678633,1.076613747733806,-1.156428688302867,-1.361704854446854,-1.5901515424577273,-0.8052314305134672,1.0339252683482132,-1.1343511158123745,-0.43036028633421336,0.5963820862936385,-1.0310122434153828,-0.6874335453969067,-1.621650128651768,0.6073315143194891,1.0070892732439969,1.6077219588646128,-0.17734895812291784,-0.9469102539155999,-0.11564308399434055,-1.5771428692861236,0.38955482579939316,0.3487278769428918,-1.8249887232803101,-0.4444523588309359,1.0238853246466337,0.6667274197816324,-0.592098717424933,-0.046679766440859,0.38322700481864364,0.9879496031684146,0.5023797159654563,-0.05931628734162812,-0.3829196092787056,2.5088960126271633,-0.14933906983556622,0.7064774753092996,-0.07197208057269007,1.3225685292105969,-0.5750408230285969,-0.6091743639150502,0.7085474851277107,0.8975997945112504,1.9084417878905442,-0.521338021933896,-1.4485492999011722,0.16299417795293486,-0.1866718510800261,-1.3317720125027332,1.2878803953991451,0.04170166057725168,-0.7677567980366121,-0.16550003663731286,-1.2521323815543866,-0.8913585151318264,0.31563780106852624,0.2608034524962743,0.9056065015019831,-2.0452160103151678,-1.3091827440595243,-0.0012249881482702207,-1.1462646754780625,-2.0180115831993803,0.690117417760465,1.4661048584907461,-0.044809359760745446,0.6711649827345268,-0.8998777560052286,0.1195515193916954,-0.1601594377668466,-0.05950824566685734,-0.1717728420019799,1.5209540077798478,-0.5132722332286485,-0.9212387828904061,1.1414634700954014,0.9936694880655823,-1.358791600204876,-0.07179118478643616,-0.41436449362850447,-1.5239282783018193,0.4906643802015708,-1.1856787969293885,2.776526862058707,0.2870067040464905,1.3707149588138539,-0.5215968825329502,-1.047051604087512,1.6233558034971234,-1.4415356137188111],\"xaxis\":\"x3\",\"y\":[1.4156358936695956,-0.7486088378843425,0.4955050996849973,0.0875785017678611,-0.826218807836546,-0.47780865783597365,0.6371806083430593,-0.7862798967147497,2.1114851603190483,-1.2324994349183411,0.1691566162217476,-0.6301298927330321,0.49786627088299,0.49011146626932406,-0.2723726811039073,-1.2224214956031332,-0.020378126111556896,1.665415912074953,-1.8969961234292025,-0.42966872521473776,0.05764098447428437,0.7590117363436478,-1.3286958126006447,-1.1606123221990714,0.13921065376826422,1.0854844964786545,-1.104309169567345,0.6994799631154538,0.8742108609821494,0.2257180731978571,-1.5171414152618152,-0.25644652475948193,0.18749692837930554,-0.6801926984548232,-0.18303574689457183,0.03718946653466111,-1.073457770498543,-0.15671529263355505,0.44549454959724333,-0.3510063000141201,-2.149535432281797,1.1408309726951107,-0.4106121412032327,-0.9711252878091771,-0.7144961357779486,2.128623477880922,-1.2805192296083925,0.5017711749949958,1.5889495288058462,2.301798936419069,-0.4038058997708527,2.083876183434349,-1.6919099735875882,-0.4604950389910235,0.44468667813470586,0.3837181925082112,-2.7186889584621365,1.6946586670767712,-1.5908409061921487,0.9916203882779985,-0.373584193784145,-0.37853000119167124,-0.03949696766638036,0.6116075103301817,0.7066339437665027,-0.18362101057989413,-0.19126910937529207,-0.5942646384168769,-0.9939326859755566,-0.21782966355238653,-2.1427933202436424,1.1820416482811897,-0.1832952178723742,1.303974123810601,0.16854111860298743,0.07689777318716676,-1.3606153114019126,-0.40256301529248495,0.3522047698292674,1.3874784565490599,0.5644646020721652,0.25993646056156505,0.727304145289929,1.1188690480615626,-0.5326278977863839,0.5649152222277095,1.8842363452638666,-0.3148006308495593,0.16962586904042973,-0.7724391372975189,1.1812131708118059,1.8094910892179872,1.339874266589562,0.0808352432941568,-0.9666664192169856,-1.1982532515293602,-0.24590540357908927,1.2863581521970273,-1.1458829130853836,-0.41864958520433504],\"yaxis\":\"y3\",\"type\":\"scatter\"},{\"line\":{\"color\":\"rgba(128, 128, 128, 1.0)\",\"dash\":\"solid\",\"shape\":\"linear\",\"width\":1.3},\"marker\":{\"size\":2,\"symbol\":\"circle\"},\"mode\":\"markers\",\"name\":\"B\",\"text\":\"\",\"x\":[1.4156358936695956,-0.7486088378843425,0.4955050996849973,0.0875785017678611,-0.826218807836546,-0.47780865783597365,0.6371806083430593,-0.7862798967147497,2.1114851603190483,-1.2324994349183411,0.1691566162217476,-0.6301298927330321,0.49786627088299,0.49011146626932406,-0.2723726811039073,-1.2224214956031332,-0.020378126111556896,1.665415912074953,-1.8969961234292025,-0.42966872521473776,0.05764098447428437,0.7590117363436478,-1.3286958126006447,-1.1606123221990714,0.13921065376826422,1.0854844964786545,-1.104309169567345,0.6994799631154538,0.8742108609821494,0.2257180731978571,-1.5171414152618152,-0.25644652475948193,0.18749692837930554,-0.6801926984548232,-0.18303574689457183,0.03718946653466111,-1.073457770498543,-0.15671529263355505,0.44549454959724333,-0.3510063000141201,-2.149535432281797,1.1408309726951107,-0.4106121412032327,-0.9711252878091771,-0.7144961357779486,2.128623477880922,-1.2805192296083925,0.5017711749949958,1.5889495288058462,2.301798936419069,-0.4038058997708527,2.083876183434349,-1.6919099735875882,-0.4604950389910235,0.44468667813470586,0.3837181925082112,-2.7186889584621365,1.6946586670767712,-1.5908409061921487,0.9916203882779985,-0.373584193784145,-0.37853000119167124,-0.03949696766638036,0.6116075103301817,0.7066339437665027,-0.18362101057989413,-0.19126910937529207,-0.5942646384168769,-0.9939326859755566,-0.21782966355238653,-2.1427933202436424,1.1820416482811897,-0.1832952178723742,1.303974123810601,0.16854111860298743,0.07689777318716676,-1.3606153114019126,-0.40256301529248495,0.3522047698292674,1.3874784565490599,0.5644646020721652,0.25993646056156505,0.727304145289929,1.1188690480615626,-0.5326278977863839,0.5649152222277095,1.8842363452638666,-0.3148006308495593,0.16962586904042973,-0.7724391372975189,1.1812131708118059,1.8094910892179872,1.339874266589562,0.0808352432941568,-0.9666664192169856,-1.1982532515293602,-0.24590540357908927,1.2863581521970273,-1.1458829130853836,-0.41864958520433504],\"xaxis\":\"x4\",\"y\":[0.7062581476995701,-1.1710913339176028,1.7403465938914462,-0.278669933207016,0.5289837227499957,-0.5204208476320185,0.820349091795676,-2.5721814068096687,-0.1622269597246676,0.24048767125338333,-0.07666820067898973,1.6967460410727122,-0.06991286363178612,1.3581372047706672,-0.7307973344214783,1.5138821342258184,-0.621027024043218,1.3088421656914941,-1.4817004302025731,-1.105579049921459,1.808244351365949,1.7814240534761128,-1.2849968926336421,0.7235419170090094,1.058536572130399,-1.1048671870589075,0.5266596654819395,-0.8769589435617031,-0.30534849033916944,-1.352162767596701,0.16922062850592987,0.7628457417150688,1.5445728618409094,-0.6867771252144196,1.6962340533283917,-0.06598647451729873,-0.3439382299071361,-1.2794338468476885,1.519574703411229,0.9133174061492851,1.6125385717433276,0.43280634762158154,-0.9039640060890394,0.7359377797913865,-1.3326526464564628,-1.4966814512041033,0.8404794247435162,0.2075619795873575,0.31146161039254616,-0.6819626630511477,0.48568395389333435,0.07611136799710402,-0.14418157848227106,0.9843015427342142,-0.7544519367543739,-2.1915351810117656,0.7472183071202954,0.07654779306342142,0.03717360203194623,0.011294036564791296,-0.7911437191385242,0.21319662109144594,2.6641889764107707,-0.1062777249978354,-0.13731998485911284,-0.4162558199342141,-1.5498377968411983,0.7335258612076875,1.0417190913106185,-0.028494621882404477,2.020747748419635,-1.088687317098657,-1.0520940799094736,-0.9301608812535455,0.3756738820184492,-1.0850500239522738,-1.7067802558636007,-0.44014575633396863,0.5246300696972056,-1.259468621738041,-0.3071423443341209,-1.118902094299359,-2.8256467329121366,-0.8868220385029365,0.10427311227907055,-0.11837011857590833,-0.14146329337330818,0.8647897922587614,-0.4726942358018606,0.6772634832759559,-0.09297918886954187,0.2872666418985008,-0.5702877461493379,-0.4626469928567091,0.32094161556974915,-0.05514093237471859,-0.6304223605436565,-0.10290863068832364,0.8161740895582345,1.6797723943033382],\"yaxis\":\"y4\",\"type\":\"scatter\"},{\"histfunc\":\"count\",\"histnorm\":\"\",\"marker\":{\"color\":\"rgba(55, 128, 191, 1.0)\",\"line\":{\"color\":\"#4D5663\",\"width\":1.3}},\"name\":\"B\",\"nbinsx\":10,\"opacity\":0.8,\"orientation\":\"v\",\"x\":[0.7062581476995701,-1.1710913339176028,1.7403465938914462,-0.278669933207016,0.5289837227499957,-0.5204208476320185,0.820349091795676,-2.5721814068096687,-0.1622269597246676,0.24048767125338333,-0.07666820067898973,1.6967460410727122,-0.06991286363178612,1.3581372047706672,-0.7307973344214783,1.5138821342258184,-0.621027024043218,1.3088421656914941,-1.4817004302025731,-1.105579049921459,1.808244351365949,1.7814240534761128,-1.2849968926336421,0.7235419170090094,1.058536572130399,-1.1048671870589075,0.5266596654819395,-0.8769589435617031,-0.30534849033916944,-1.352162767596701,0.16922062850592987,0.7628457417150688,1.5445728618409094,-0.6867771252144196,1.6962340533283917,-0.06598647451729873,-0.3439382299071361,-1.2794338468476885,1.519574703411229,0.9133174061492851,1.6125385717433276,0.43280634762158154,-0.9039640060890394,0.7359377797913865,-1.3326526464564628,-1.4966814512041033,0.8404794247435162,0.2075619795873575,0.31146161039254616,-0.6819626630511477,0.48568395389333435,0.07611136799710402,-0.14418157848227106,0.9843015427342142,-0.7544519367543739,-2.1915351810117656,0.7472183071202954,0.07654779306342142,0.03717360203194623,0.011294036564791296,-0.7911437191385242,0.21319662109144594,2.6641889764107707,-0.1062777249978354,-0.13731998485911284,-0.4162558199342141,-1.5498377968411983,0.7335258612076875,1.0417190913106185,-0.028494621882404477,2.020747748419635,-1.088687317098657,-1.0520940799094736,-0.9301608812535455,0.3756738820184492,-1.0850500239522738,-1.7067802558636007,-0.44014575633396863,0.5246300696972056,-1.259468621738041,-0.3071423443341209,-1.118902094299359,-2.8256467329121366,-0.8868220385029365,0.10427311227907055,-0.11837011857590833,-0.14146329337330818,0.8647897922587614,-0.4726942358018606,0.6772634832759559,-0.09297918886954187,0.2872666418985008,-0.5702877461493379,-0.4626469928567091,0.32094161556974915,-0.05514093237471859,-0.6304223605436565,-0.10290863068832364,0.8161740895582345,1.6797723943033382],\"xaxis\":\"x5\",\"yaxis\":\"y5\",\"type\":\"histogram\"},{\"line\":{\"color\":\"rgba(128, 128, 128, 1.0)\",\"dash\":\"solid\",\"shape\":\"linear\",\"width\":1.3},\"marker\":{\"size\":2,\"symbol\":\"circle\"},\"mode\":\"markers\",\"name\":\"B\",\"text\":\"\",\"x\":[1.5499007333526247,-0.426196296811759,0.37495612585605337,-0.1336889363052779,1.124770842851406,1.4803699233545966,-0.6913548860620014,0.4530846133240014,0.29625556671890596,2.1392925123134354,0.24267259322727006,-0.5912929335678633,1.076613747733806,-1.156428688302867,-1.361704854446854,-1.5901515424577273,-0.8052314305134672,1.0339252683482132,-1.1343511158123745,-0.43036028633421336,0.5963820862936385,-1.0310122434153828,-0.6874335453969067,-1.621650128651768,0.6073315143194891,1.0070892732439969,1.6077219588646128,-0.17734895812291784,-0.9469102539155999,-0.11564308399434055,-1.5771428692861236,0.38955482579939316,0.3487278769428918,-1.8249887232803101,-0.4444523588309359,1.0238853246466337,0.6667274197816324,-0.592098717424933,-0.046679766440859,0.38322700481864364,0.9879496031684146,0.5023797159654563,-0.05931628734162812,-0.3829196092787056,2.5088960126271633,-0.14933906983556622,0.7064774753092996,-0.07197208057269007,1.3225685292105969,-0.5750408230285969,-0.6091743639150502,0.7085474851277107,0.8975997945112504,1.9084417878905442,-0.521338021933896,-1.4485492999011722,0.16299417795293486,-0.1866718510800261,-1.3317720125027332,1.2878803953991451,0.04170166057725168,-0.7677567980366121,-0.16550003663731286,-1.2521323815543866,-0.8913585151318264,0.31563780106852624,0.2608034524962743,0.9056065015019831,-2.0452160103151678,-1.3091827440595243,-0.0012249881482702207,-1.1462646754780625,-2.0180115831993803,0.690117417760465,1.4661048584907461,-0.044809359760745446,0.6711649827345268,-0.8998777560052286,0.1195515193916954,-0.1601594377668466,-0.05950824566685734,-0.1717728420019799,1.5209540077798478,-0.5132722332286485,-0.9212387828904061,1.1414634700954014,0.9936694880655823,-1.358791600204876,-0.07179118478643616,-0.41436449362850447,-1.5239282783018193,0.4906643802015708,-1.1856787969293885,2.776526862058707,0.2870067040464905,1.3707149588138539,-0.5215968825329502,-1.047051604087512,1.6233558034971234,-1.4415356137188111],\"xaxis\":\"x6\",\"y\":[0.7062581476995701,-1.1710913339176028,1.7403465938914462,-0.278669933207016,0.5289837227499957,-0.5204208476320185,0.820349091795676,-2.5721814068096687,-0.1622269597246676,0.24048767125338333,-0.07666820067898973,1.6967460410727122,-0.06991286363178612,1.3581372047706672,-0.7307973344214783,1.5138821342258184,-0.621027024043218,1.3088421656914941,-1.4817004302025731,-1.105579049921459,1.808244351365949,1.7814240534761128,-1.2849968926336421,0.7235419170090094,1.058536572130399,-1.1048671870589075,0.5266596654819395,-0.8769589435617031,-0.30534849033916944,-1.352162767596701,0.16922062850592987,0.7628457417150688,1.5445728618409094,-0.6867771252144196,1.6962340533283917,-0.06598647451729873,-0.3439382299071361,-1.2794338468476885,1.519574703411229,0.9133174061492851,1.6125385717433276,0.43280634762158154,-0.9039640060890394,0.7359377797913865,-1.3326526464564628,-1.4966814512041033,0.8404794247435162,0.2075619795873575,0.31146161039254616,-0.6819626630511477,0.48568395389333435,0.07611136799710402,-0.14418157848227106,0.9843015427342142,-0.7544519367543739,-2.1915351810117656,0.7472183071202954,0.07654779306342142,0.03717360203194623,0.011294036564791296,-0.7911437191385242,0.21319662109144594,2.6641889764107707,-0.1062777249978354,-0.13731998485911284,-0.4162558199342141,-1.5498377968411983,0.7335258612076875,1.0417190913106185,-0.028494621882404477,2.020747748419635,-1.088687317098657,-1.0520940799094736,-0.9301608812535455,0.3756738820184492,-1.0850500239522738,-1.7067802558636007,-0.44014575633396863,0.5246300696972056,-1.259468621738041,-0.3071423443341209,-1.118902094299359,-2.8256467329121366,-0.8868220385029365,0.10427311227907055,-0.11837011857590833,-0.14146329337330818,0.8647897922587614,-0.4726942358018606,0.6772634832759559,-0.09297918886954187,0.2872666418985008,-0.5702877461493379,-0.4626469928567091,0.32094161556974915,-0.05514093237471859,-0.6304223605436565,-0.10290863068832364,0.8161740895582345,1.6797723943033382],\"yaxis\":\"y6\",\"type\":\"scatter\"},{\"line\":{\"color\":\"rgba(128, 128, 128, 1.0)\",\"dash\":\"solid\",\"shape\":\"linear\",\"width\":1.3},\"marker\":{\"size\":2,\"symbol\":\"circle\"},\"mode\":\"markers\",\"name\":\"C\",\"text\":\"\",\"x\":[1.4156358936695956,-0.7486088378843425,0.4955050996849973,0.0875785017678611,-0.826218807836546,-0.47780865783597365,0.6371806083430593,-0.7862798967147497,2.1114851603190483,-1.2324994349183411,0.1691566162217476,-0.6301298927330321,0.49786627088299,0.49011146626932406,-0.2723726811039073,-1.2224214956031332,-0.020378126111556896,1.665415912074953,-1.8969961234292025,-0.42966872521473776,0.05764098447428437,0.7590117363436478,-1.3286958126006447,-1.1606123221990714,0.13921065376826422,1.0854844964786545,-1.104309169567345,0.6994799631154538,0.8742108609821494,0.2257180731978571,-1.5171414152618152,-0.25644652475948193,0.18749692837930554,-0.6801926984548232,-0.18303574689457183,0.03718946653466111,-1.073457770498543,-0.15671529263355505,0.44549454959724333,-0.3510063000141201,-2.149535432281797,1.1408309726951107,-0.4106121412032327,-0.9711252878091771,-0.7144961357779486,2.128623477880922,-1.2805192296083925,0.5017711749949958,1.5889495288058462,2.301798936419069,-0.4038058997708527,2.083876183434349,-1.6919099735875882,-0.4604950389910235,0.44468667813470586,0.3837181925082112,-2.7186889584621365,1.6946586670767712,-1.5908409061921487,0.9916203882779985,-0.373584193784145,-0.37853000119167124,-0.03949696766638036,0.6116075103301817,0.7066339437665027,-0.18362101057989413,-0.19126910937529207,-0.5942646384168769,-0.9939326859755566,-0.21782966355238653,-2.1427933202436424,1.1820416482811897,-0.1832952178723742,1.303974123810601,0.16854111860298743,0.07689777318716676,-1.3606153114019126,-0.40256301529248495,0.3522047698292674,1.3874784565490599,0.5644646020721652,0.25993646056156505,0.727304145289929,1.1188690480615626,-0.5326278977863839,0.5649152222277095,1.8842363452638666,-0.3148006308495593,0.16962586904042973,-0.7724391372975189,1.1812131708118059,1.8094910892179872,1.339874266589562,0.0808352432941568,-0.9666664192169856,-1.1982532515293602,-0.24590540357908927,1.2863581521970273,-1.1458829130853836,-0.41864958520433504],\"xaxis\":\"x7\",\"y\":[1.5499007333526247,-0.426196296811759,0.37495612585605337,-0.1336889363052779,1.124770842851406,1.4803699233545966,-0.6913548860620014,0.4530846133240014,0.29625556671890596,2.1392925123134354,0.24267259322727006,-0.5912929335678633,1.076613747733806,-1.156428688302867,-1.361704854446854,-1.5901515424577273,-0.8052314305134672,1.0339252683482132,-1.1343511158123745,-0.43036028633421336,0.5963820862936385,-1.0310122434153828,-0.6874335453969067,-1.621650128651768,0.6073315143194891,1.0070892732439969,1.6077219588646128,-0.17734895812291784,-0.9469102539155999,-0.11564308399434055,-1.5771428692861236,0.38955482579939316,0.3487278769428918,-1.8249887232803101,-0.4444523588309359,1.0238853246466337,0.6667274197816324,-0.592098717424933,-0.046679766440859,0.38322700481864364,0.9879496031684146,0.5023797159654563,-0.05931628734162812,-0.3829196092787056,2.5088960126271633,-0.14933906983556622,0.7064774753092996,-0.07197208057269007,1.3225685292105969,-0.5750408230285969,-0.6091743639150502,0.7085474851277107,0.8975997945112504,1.9084417878905442,-0.521338021933896,-1.4485492999011722,0.16299417795293486,-0.1866718510800261,-1.3317720125027332,1.2878803953991451,0.04170166057725168,-0.7677567980366121,-0.16550003663731286,-1.2521323815543866,-0.8913585151318264,0.31563780106852624,0.2608034524962743,0.9056065015019831,-2.0452160103151678,-1.3091827440595243,-0.0012249881482702207,-1.1462646754780625,-2.0180115831993803,0.690117417760465,1.4661048584907461,-0.044809359760745446,0.6711649827345268,-0.8998777560052286,0.1195515193916954,-0.1601594377668466,-0.05950824566685734,-0.1717728420019799,1.5209540077798478,-0.5132722332286485,-0.9212387828904061,1.1414634700954014,0.9936694880655823,-1.358791600204876,-0.07179118478643616,-0.41436449362850447,-1.5239282783018193,0.4906643802015708,-1.1856787969293885,2.776526862058707,0.2870067040464905,1.3707149588138539,-0.5215968825329502,-1.047051604087512,1.6233558034971234,-1.4415356137188111],\"yaxis\":\"y7\",\"type\":\"scatter\"},{\"line\":{\"color\":\"rgba(128, 128, 128, 1.0)\",\"dash\":\"solid\",\"shape\":\"linear\",\"width\":1.3},\"marker\":{\"size\":2,\"symbol\":\"circle\"},\"mode\":\"markers\",\"name\":\"C\",\"text\":\"\",\"x\":[0.7062581476995701,-1.1710913339176028,1.7403465938914462,-0.278669933207016,0.5289837227499957,-0.5204208476320185,0.820349091795676,-2.5721814068096687,-0.1622269597246676,0.24048767125338333,-0.07666820067898973,1.6967460410727122,-0.06991286363178612,1.3581372047706672,-0.7307973344214783,1.5138821342258184,-0.621027024043218,1.3088421656914941,-1.4817004302025731,-1.105579049921459,1.808244351365949,1.7814240534761128,-1.2849968926336421,0.7235419170090094,1.058536572130399,-1.1048671870589075,0.5266596654819395,-0.8769589435617031,-0.30534849033916944,-1.352162767596701,0.16922062850592987,0.7628457417150688,1.5445728618409094,-0.6867771252144196,1.6962340533283917,-0.06598647451729873,-0.3439382299071361,-1.2794338468476885,1.519574703411229,0.9133174061492851,1.6125385717433276,0.43280634762158154,-0.9039640060890394,0.7359377797913865,-1.3326526464564628,-1.4966814512041033,0.8404794247435162,0.2075619795873575,0.31146161039254616,-0.6819626630511477,0.48568395389333435,0.07611136799710402,-0.14418157848227106,0.9843015427342142,-0.7544519367543739,-2.1915351810117656,0.7472183071202954,0.07654779306342142,0.03717360203194623,0.011294036564791296,-0.7911437191385242,0.21319662109144594,2.6641889764107707,-0.1062777249978354,-0.13731998485911284,-0.4162558199342141,-1.5498377968411983,0.7335258612076875,1.0417190913106185,-0.028494621882404477,2.020747748419635,-1.088687317098657,-1.0520940799094736,-0.9301608812535455,0.3756738820184492,-1.0850500239522738,-1.7067802558636007,-0.44014575633396863,0.5246300696972056,-1.259468621738041,-0.3071423443341209,-1.118902094299359,-2.8256467329121366,-0.8868220385029365,0.10427311227907055,-0.11837011857590833,-0.14146329337330818,0.8647897922587614,-0.4726942358018606,0.6772634832759559,-0.09297918886954187,0.2872666418985008,-0.5702877461493379,-0.4626469928567091,0.32094161556974915,-0.05514093237471859,-0.6304223605436565,-0.10290863068832364,0.8161740895582345,1.6797723943033382],\"xaxis\":\"x8\",\"y\":[1.5499007333526247,-0.426196296811759,0.37495612585605337,-0.1336889363052779,1.124770842851406,1.4803699233545966,-0.6913548860620014,0.4530846133240014,0.29625556671890596,2.1392925123134354,0.24267259322727006,-0.5912929335678633,1.076613747733806,-1.156428688302867,-1.361704854446854,-1.5901515424577273,-0.8052314305134672,1.0339252683482132,-1.1343511158123745,-0.43036028633421336,0.5963820862936385,-1.0310122434153828,-0.6874335453969067,-1.621650128651768,0.6073315143194891,1.0070892732439969,1.6077219588646128,-0.17734895812291784,-0.9469102539155999,-0.11564308399434055,-1.5771428692861236,0.38955482579939316,0.3487278769428918,-1.8249887232803101,-0.4444523588309359,1.0238853246466337,0.6667274197816324,-0.592098717424933,-0.046679766440859,0.38322700481864364,0.9879496031684146,0.5023797159654563,-0.05931628734162812,-0.3829196092787056,2.5088960126271633,-0.14933906983556622,0.7064774753092996,-0.07197208057269007,1.3225685292105969,-0.5750408230285969,-0.6091743639150502,0.7085474851277107,0.8975997945112504,1.9084417878905442,-0.521338021933896,-1.4485492999011722,0.16299417795293486,-0.1866718510800261,-1.3317720125027332,1.2878803953991451,0.04170166057725168,-0.7677567980366121,-0.16550003663731286,-1.2521323815543866,-0.8913585151318264,0.31563780106852624,0.2608034524962743,0.9056065015019831,-2.0452160103151678,-1.3091827440595243,-0.0012249881482702207,-1.1462646754780625,-2.0180115831993803,0.690117417760465,1.4661048584907461,-0.044809359760745446,0.6711649827345268,-0.8998777560052286,0.1195515193916954,-0.1601594377668466,-0.05950824566685734,-0.1717728420019799,1.5209540077798478,-0.5132722332286485,-0.9212387828904061,1.1414634700954014,0.9936694880655823,-1.358791600204876,-0.07179118478643616,-0.41436449362850447,-1.5239282783018193,0.4906643802015708,-1.1856787969293885,2.776526862058707,0.2870067040464905,1.3707149588138539,-0.5215968825329502,-1.047051604087512,1.6233558034971234,-1.4415356137188111],\"yaxis\":\"y8\",\"type\":\"scatter\"},{\"histfunc\":\"count\",\"histnorm\":\"\",\"marker\":{\"color\":\"rgba(50, 171, 96, 1.0)\",\"line\":{\"color\":\"#4D5663\",\"width\":1.3}},\"name\":\"C\",\"nbinsx\":10,\"opacity\":0.8,\"orientation\":\"v\",\"x\":[1.5499007333526247,-0.426196296811759,0.37495612585605337,-0.1336889363052779,1.124770842851406,1.4803699233545966,-0.6913548860620014,0.4530846133240014,0.29625556671890596,2.1392925123134354,0.24267259322727006,-0.5912929335678633,1.076613747733806,-1.156428688302867,-1.361704854446854,-1.5901515424577273,-0.8052314305134672,1.0339252683482132,-1.1343511158123745,-0.43036028633421336,0.5963820862936385,-1.0310122434153828,-0.6874335453969067,-1.621650128651768,0.6073315143194891,1.0070892732439969,1.6077219588646128,-0.17734895812291784,-0.9469102539155999,-0.11564308399434055,-1.5771428692861236,0.38955482579939316,0.3487278769428918,-1.8249887232803101,-0.4444523588309359,1.0238853246466337,0.6667274197816324,-0.592098717424933,-0.046679766440859,0.38322700481864364,0.9879496031684146,0.5023797159654563,-0.05931628734162812,-0.3829196092787056,2.5088960126271633,-0.14933906983556622,0.7064774753092996,-0.07197208057269007,1.3225685292105969,-0.5750408230285969,-0.6091743639150502,0.7085474851277107,0.8975997945112504,1.9084417878905442,-0.521338021933896,-1.4485492999011722,0.16299417795293486,-0.1866718510800261,-1.3317720125027332,1.2878803953991451,0.04170166057725168,-0.7677567980366121,-0.16550003663731286,-1.2521323815543866,-0.8913585151318264,0.31563780106852624,0.2608034524962743,0.9056065015019831,-2.0452160103151678,-1.3091827440595243,-0.0012249881482702207,-1.1462646754780625,-2.0180115831993803,0.690117417760465,1.4661048584907461,-0.044809359760745446,0.6711649827345268,-0.8998777560052286,0.1195515193916954,-0.1601594377668466,-0.05950824566685734,-0.1717728420019799,1.5209540077798478,-0.5132722332286485,-0.9212387828904061,1.1414634700954014,0.9936694880655823,-1.358791600204876,-0.07179118478643616,-0.41436449362850447,-1.5239282783018193,0.4906643802015708,-1.1856787969293885,2.776526862058707,0.2870067040464905,1.3707149588138539,-0.5215968825329502,-1.047051604087512,1.6233558034971234,-1.4415356137188111],\"xaxis\":\"x9\",\"yaxis\":\"y9\",\"type\":\"histogram\"}],                        {\"bargap\":0.02,\"legend\":{\"bgcolor\":\"#F5F6F9\",\"font\":{\"color\":\"#4D5663\"}},\"paper_bgcolor\":\"#F5F6F9\",\"plot_bgcolor\":\"#F5F6F9\",\"showlegend\":false,\"template\":{\"data\":{\"barpolar\":[{\"marker\":{\"line\":{\"color\":\"#E5ECF6\",\"width\":0.5},\"pattern\":{\"fillmode\":\"overlay\",\"size\":10,\"solidity\":0.2}},\"type\":\"barpolar\"}],\"bar\":[{\"error_x\":{\"color\":\"#2a3f5f\"},\"error_y\":{\"color\":\"#2a3f5f\"},\"marker\":{\"line\":{\"color\":\"#E5ECF6\",\"width\":0.5},\"pattern\":{\"fillmode\":\"overlay\",\"size\":10,\"solidity\":0.2}},\"type\":\"bar\"}],\"carpet\":[{\"aaxis\":{\"endlinecolor\":\"#2a3f5f\",\"gridcolor\":\"white\",\"linecolor\":\"white\",\"minorgridcolor\":\"white\",\"startlinecolor\":\"#2a3f5f\"},\"baxis\":{\"endlinecolor\":\"#2a3f5f\",\"gridcolor\":\"white\",\"linecolor\":\"white\",\"minorgridcolor\":\"white\",\"startlinecolor\":\"#2a3f5f\"},\"type\":\"carpet\"}],\"choropleth\":[{\"colorbar\":{\"outlinewidth\":0,\"ticks\":\"\"},\"type\":\"choropleth\"}],\"contourcarpet\":[{\"colorbar\":{\"outlinewidth\":0,\"ticks\":\"\"},\"type\":\"contourcarpet\"}],\"contour\":[{\"colorbar\":{\"outlinewidth\":0,\"ticks\":\"\"},\"colorscale\":[[0.0,\"#0d0887\"],[0.1111111111111111,\"#46039f\"],[0.2222222222222222,\"#7201a8\"],[0.3333333333333333,\"#9c179e\"],[0.4444444444444444,\"#bd3786\"],[0.5555555555555556,\"#d8576b\"],[0.6666666666666666,\"#ed7953\"],[0.7777777777777778,\"#fb9f3a\"],[0.8888888888888888,\"#fdca26\"],[1.0,\"#f0f921\"]],\"type\":\"contour\"}],\"heatmapgl\":[{\"colorbar\":{\"outlinewidth\":0,\"ticks\":\"\"},\"colorscale\":[[0.0,\"#0d0887\"],[0.1111111111111111,\"#46039f\"],[0.2222222222222222,\"#7201a8\"],[0.3333333333333333,\"#9c179e\"],[0.4444444444444444,\"#bd3786\"],[0.5555555555555556,\"#d8576b\"],[0.6666666666666666,\"#ed7953\"],[0.7777777777777778,\"#fb9f3a\"],[0.8888888888888888,\"#fdca26\"],[1.0,\"#f0f921\"]],\"type\":\"heatmapgl\"}],\"heatmap\":[{\"colorbar\":{\"outlinewidth\":0,\"ticks\":\"\"},\"colorscale\":[[0.0,\"#0d0887\"],[0.1111111111111111,\"#46039f\"],[0.2222222222222222,\"#7201a8\"],[0.3333333333333333,\"#9c179e\"],[0.4444444444444444,\"#bd3786\"],[0.5555555555555556,\"#d8576b\"],[0.6666666666666666,\"#ed7953\"],[0.7777777777777778,\"#fb9f3a\"],[0.8888888888888888,\"#fdca26\"],[1.0,\"#f0f921\"]],\"type\":\"heatmap\"}],\"histogram2dcontour\":[{\"colorbar\":{\"outlinewidth\":0,\"ticks\":\"\"},\"colorscale\":[[0.0,\"#0d0887\"],[0.1111111111111111,\"#46039f\"],[0.2222222222222222,\"#7201a8\"],[0.3333333333333333,\"#9c179e\"],[0.4444444444444444,\"#bd3786\"],[0.5555555555555556,\"#d8576b\"],[0.6666666666666666,\"#ed7953\"],[0.7777777777777778,\"#fb9f3a\"],[0.8888888888888888,\"#fdca26\"],[1.0,\"#f0f921\"]],\"type\":\"histogram2dcontour\"}],\"histogram2d\":[{\"colorbar\":{\"outlinewidth\":0,\"ticks\":\"\"},\"colorscale\":[[0.0,\"#0d0887\"],[0.1111111111111111,\"#46039f\"],[0.2222222222222222,\"#7201a8\"],[0.3333333333333333,\"#9c179e\"],[0.4444444444444444,\"#bd3786\"],[0.5555555555555556,\"#d8576b\"],[0.6666666666666666,\"#ed7953\"],[0.7777777777777778,\"#fb9f3a\"],[0.8888888888888888,\"#fdca26\"],[1.0,\"#f0f921\"]],\"type\":\"histogram2d\"}],\"histogram\":[{\"marker\":{\"pattern\":{\"fillmode\":\"overlay\",\"size\":10,\"solidity\":0.2}},\"type\":\"histogram\"}],\"mesh3d\":[{\"colorbar\":{\"outlinewidth\":0,\"ticks\":\"\"},\"type\":\"mesh3d\"}],\"parcoords\":[{\"line\":{\"colorbar\":{\"outlinewidth\":0,\"ticks\":\"\"}},\"type\":\"parcoords\"}],\"pie\":[{\"automargin\":true,\"type\":\"pie\"}],\"scatter3d\":[{\"line\":{\"colorbar\":{\"outlinewidth\":0,\"ticks\":\"\"}},\"marker\":{\"colorbar\":{\"outlinewidth\":0,\"ticks\":\"\"}},\"type\":\"scatter3d\"}],\"scattercarpet\":[{\"marker\":{\"colorbar\":{\"outlinewidth\":0,\"ticks\":\"\"}},\"type\":\"scattercarpet\"}],\"scattergeo\":[{\"marker\":{\"colorbar\":{\"outlinewidth\":0,\"ticks\":\"\"}},\"type\":\"scattergeo\"}],\"scattergl\":[{\"marker\":{\"colorbar\":{\"outlinewidth\":0,\"ticks\":\"\"}},\"type\":\"scattergl\"}],\"scattermapbox\":[{\"marker\":{\"colorbar\":{\"outlinewidth\":0,\"ticks\":\"\"}},\"type\":\"scattermapbox\"}],\"scatterpolargl\":[{\"marker\":{\"colorbar\":{\"outlinewidth\":0,\"ticks\":\"\"}},\"type\":\"scatterpolargl\"}],\"scatterpolar\":[{\"marker\":{\"colorbar\":{\"outlinewidth\":0,\"ticks\":\"\"}},\"type\":\"scatterpolar\"}],\"scatter\":[{\"marker\":{\"colorbar\":{\"outlinewidth\":0,\"ticks\":\"\"}},\"type\":\"scatter\"}],\"scatterternary\":[{\"marker\":{\"colorbar\":{\"outlinewidth\":0,\"ticks\":\"\"}},\"type\":\"scatterternary\"}],\"surface\":[{\"colorbar\":{\"outlinewidth\":0,\"ticks\":\"\"},\"colorscale\":[[0.0,\"#0d0887\"],[0.1111111111111111,\"#46039f\"],[0.2222222222222222,\"#7201a8\"],[0.3333333333333333,\"#9c179e\"],[0.4444444444444444,\"#bd3786\"],[0.5555555555555556,\"#d8576b\"],[0.6666666666666666,\"#ed7953\"],[0.7777777777777778,\"#fb9f3a\"],[0.8888888888888888,\"#fdca26\"],[1.0,\"#f0f921\"]],\"type\":\"surface\"}],\"table\":[{\"cells\":{\"fill\":{\"color\":\"#EBF0F8\"},\"line\":{\"color\":\"white\"}},\"header\":{\"fill\":{\"color\":\"#C8D4E3\"},\"line\":{\"color\":\"white\"}},\"type\":\"table\"}]},\"layout\":{\"annotationdefaults\":{\"arrowcolor\":\"#2a3f5f\",\"arrowhead\":0,\"arrowwidth\":1},\"autotypenumbers\":\"strict\",\"coloraxis\":{\"colorbar\":{\"outlinewidth\":0,\"ticks\":\"\"}},\"colorscale\":{\"diverging\":[[0,\"#8e0152\"],[0.1,\"#c51b7d\"],[0.2,\"#de77ae\"],[0.3,\"#f1b6da\"],[0.4,\"#fde0ef\"],[0.5,\"#f7f7f7\"],[0.6,\"#e6f5d0\"],[0.7,\"#b8e186\"],[0.8,\"#7fbc41\"],[0.9,\"#4d9221\"],[1,\"#276419\"]],\"sequential\":[[0.0,\"#0d0887\"],[0.1111111111111111,\"#46039f\"],[0.2222222222222222,\"#7201a8\"],[0.3333333333333333,\"#9c179e\"],[0.4444444444444444,\"#bd3786\"],[0.5555555555555556,\"#d8576b\"],[0.6666666666666666,\"#ed7953\"],[0.7777777777777778,\"#fb9f3a\"],[0.8888888888888888,\"#fdca26\"],[1.0,\"#f0f921\"]],\"sequentialminus\":[[0.0,\"#0d0887\"],[0.1111111111111111,\"#46039f\"],[0.2222222222222222,\"#7201a8\"],[0.3333333333333333,\"#9c179e\"],[0.4444444444444444,\"#bd3786\"],[0.5555555555555556,\"#d8576b\"],[0.6666666666666666,\"#ed7953\"],[0.7777777777777778,\"#fb9f3a\"],[0.8888888888888888,\"#fdca26\"],[1.0,\"#f0f921\"]]},\"colorway\":[\"#636efa\",\"#EF553B\",\"#00cc96\",\"#ab63fa\",\"#FFA15A\",\"#19d3f3\",\"#FF6692\",\"#B6E880\",\"#FF97FF\",\"#FECB52\"],\"font\":{\"color\":\"#2a3f5f\"},\"geo\":{\"bgcolor\":\"white\",\"lakecolor\":\"white\",\"landcolor\":\"#E5ECF6\",\"showlakes\":true,\"showland\":true,\"subunitcolor\":\"white\"},\"hoverlabel\":{\"align\":\"left\"},\"hovermode\":\"closest\",\"mapbox\":{\"style\":\"light\"},\"paper_bgcolor\":\"white\",\"plot_bgcolor\":\"#E5ECF6\",\"polar\":{\"angularaxis\":{\"gridcolor\":\"white\",\"linecolor\":\"white\",\"ticks\":\"\"},\"bgcolor\":\"#E5ECF6\",\"radialaxis\":{\"gridcolor\":\"white\",\"linecolor\":\"white\",\"ticks\":\"\"}},\"scene\":{\"xaxis\":{\"backgroundcolor\":\"#E5ECF6\",\"gridcolor\":\"white\",\"gridwidth\":2,\"linecolor\":\"white\",\"showbackground\":true,\"ticks\":\"\",\"zerolinecolor\":\"white\"},\"yaxis\":{\"backgroundcolor\":\"#E5ECF6\",\"gridcolor\":\"white\",\"gridwidth\":2,\"linecolor\":\"white\",\"showbackground\":true,\"ticks\":\"\",\"zerolinecolor\":\"white\"},\"zaxis\":{\"backgroundcolor\":\"#E5ECF6\",\"gridcolor\":\"white\",\"gridwidth\":2,\"linecolor\":\"white\",\"showbackground\":true,\"ticks\":\"\",\"zerolinecolor\":\"white\"}},\"shapedefaults\":{\"line\":{\"color\":\"#2a3f5f\"}},\"ternary\":{\"aaxis\":{\"gridcolor\":\"white\",\"linecolor\":\"white\",\"ticks\":\"\"},\"baxis\":{\"gridcolor\":\"white\",\"linecolor\":\"white\",\"ticks\":\"\"},\"bgcolor\":\"#E5ECF6\",\"caxis\":{\"gridcolor\":\"white\",\"linecolor\":\"white\",\"ticks\":\"\"}},\"title\":{\"x\":0.05},\"xaxis\":{\"automargin\":true,\"gridcolor\":\"white\",\"linecolor\":\"white\",\"ticks\":\"\",\"title\":{\"standoff\":15},\"zerolinecolor\":\"white\",\"zerolinewidth\":2},\"yaxis\":{\"automargin\":true,\"gridcolor\":\"white\",\"linecolor\":\"white\",\"ticks\":\"\",\"title\":{\"standoff\":15},\"zerolinecolor\":\"white\",\"zerolinewidth\":2}}},\"title\":{\"font\":{\"color\":\"#4D5663\"}},\"xaxis\":{\"anchor\":\"y\",\"domain\":[0.0,0.3],\"gridcolor\":\"#E1E5ED\",\"showgrid\":false,\"tickfont\":{\"color\":\"#4D5663\"},\"title\":{\"font\":{\"color\":\"#4D5663\"},\"text\":\"\"},\"zerolinecolor\":\"#E1E5ED\"},\"yaxis\":{\"anchor\":\"x\",\"domain\":[0.7133333333333334,1.0],\"gridcolor\":\"#E1E5ED\",\"showgrid\":false,\"tickfont\":{\"color\":\"#4D5663\"},\"title\":{\"font\":{\"color\":\"#4D5663\"},\"text\":\"\"},\"zerolinecolor\":\"#E1E5ED\"},\"xaxis2\":{\"anchor\":\"y2\",\"domain\":[0.35,0.6499999999999999],\"gridcolor\":\"#E1E5ED\",\"showgrid\":false,\"tickfont\":{\"color\":\"#4D5663\"},\"title\":{\"font\":{\"color\":\"#4D5663\"},\"text\":\"\"},\"zerolinecolor\":\"#E1E5ED\"},\"yaxis2\":{\"anchor\":\"x2\",\"domain\":[0.7133333333333334,1.0],\"gridcolor\":\"#E1E5ED\",\"showgrid\":false,\"tickfont\":{\"color\":\"#4D5663\"},\"title\":{\"font\":{\"color\":\"#4D5663\"},\"text\":\"\"},\"zerolinecolor\":\"#E1E5ED\"},\"xaxis3\":{\"anchor\":\"y3\",\"domain\":[0.7,1.0],\"gridcolor\":\"#E1E5ED\",\"showgrid\":false,\"tickfont\":{\"color\":\"#4D5663\"},\"title\":{\"font\":{\"color\":\"#4D5663\"},\"text\":\"\"},\"zerolinecolor\":\"#E1E5ED\"},\"yaxis3\":{\"anchor\":\"x3\",\"domain\":[0.7133333333333334,1.0],\"gridcolor\":\"#E1E5ED\",\"showgrid\":false,\"tickfont\":{\"color\":\"#4D5663\"},\"title\":{\"font\":{\"color\":\"#4D5663\"},\"text\":\"\"},\"zerolinecolor\":\"#E1E5ED\"},\"xaxis4\":{\"anchor\":\"y4\",\"domain\":[0.0,0.3],\"gridcolor\":\"#E1E5ED\",\"showgrid\":false,\"tickfont\":{\"color\":\"#4D5663\"},\"title\":{\"font\":{\"color\":\"#4D5663\"},\"text\":\"\"},\"zerolinecolor\":\"#E1E5ED\"},\"yaxis4\":{\"anchor\":\"x4\",\"domain\":[0.3566666666666667,0.6433333333333333],\"gridcolor\":\"#E1E5ED\",\"showgrid\":false,\"tickfont\":{\"color\":\"#4D5663\"},\"title\":{\"font\":{\"color\":\"#4D5663\"},\"text\":\"\"},\"zerolinecolor\":\"#E1E5ED\"},\"xaxis5\":{\"anchor\":\"y5\",\"domain\":[0.35,0.6499999999999999],\"gridcolor\":\"#E1E5ED\",\"showgrid\":false,\"tickfont\":{\"color\":\"#4D5663\"},\"title\":{\"font\":{\"color\":\"#4D5663\"},\"text\":\"\"},\"zerolinecolor\":\"#E1E5ED\"},\"yaxis5\":{\"anchor\":\"x5\",\"domain\":[0.3566666666666667,0.6433333333333333],\"gridcolor\":\"#E1E5ED\",\"showgrid\":false,\"tickfont\":{\"color\":\"#4D5663\"},\"title\":{\"font\":{\"color\":\"#4D5663\"},\"text\":\"\"},\"zerolinecolor\":\"#E1E5ED\"},\"xaxis6\":{\"anchor\":\"y6\",\"domain\":[0.7,1.0],\"gridcolor\":\"#E1E5ED\",\"showgrid\":false,\"tickfont\":{\"color\":\"#4D5663\"},\"title\":{\"font\":{\"color\":\"#4D5663\"},\"text\":\"\"},\"zerolinecolor\":\"#E1E5ED\"},\"yaxis6\":{\"anchor\":\"x6\",\"domain\":[0.3566666666666667,0.6433333333333333],\"gridcolor\":\"#E1E5ED\",\"showgrid\":false,\"tickfont\":{\"color\":\"#4D5663\"},\"title\":{\"font\":{\"color\":\"#4D5663\"},\"text\":\"\"},\"zerolinecolor\":\"#E1E5ED\"},\"xaxis7\":{\"anchor\":\"y7\",\"domain\":[0.0,0.3],\"gridcolor\":\"#E1E5ED\",\"showgrid\":false,\"tickfont\":{\"color\":\"#4D5663\"},\"title\":{\"font\":{\"color\":\"#4D5663\"},\"text\":\"\"},\"zerolinecolor\":\"#E1E5ED\"},\"yaxis7\":{\"anchor\":\"x7\",\"domain\":[0.0,0.2866666666666667],\"gridcolor\":\"#E1E5ED\",\"showgrid\":false,\"tickfont\":{\"color\":\"#4D5663\"},\"title\":{\"font\":{\"color\":\"#4D5663\"},\"text\":\"\"},\"zerolinecolor\":\"#E1E5ED\"},\"xaxis8\":{\"anchor\":\"y8\",\"domain\":[0.35,0.6499999999999999],\"gridcolor\":\"#E1E5ED\",\"showgrid\":false,\"tickfont\":{\"color\":\"#4D5663\"},\"title\":{\"font\":{\"color\":\"#4D5663\"},\"text\":\"\"},\"zerolinecolor\":\"#E1E5ED\"},\"yaxis8\":{\"anchor\":\"x8\",\"domain\":[0.0,0.2866666666666667],\"gridcolor\":\"#E1E5ED\",\"showgrid\":false,\"tickfont\":{\"color\":\"#4D5663\"},\"title\":{\"font\":{\"color\":\"#4D5663\"},\"text\":\"\"},\"zerolinecolor\":\"#E1E5ED\"},\"xaxis9\":{\"anchor\":\"y9\",\"domain\":[0.7,1.0],\"gridcolor\":\"#E1E5ED\",\"showgrid\":false,\"tickfont\":{\"color\":\"#4D5663\"},\"title\":{\"font\":{\"color\":\"#4D5663\"},\"text\":\"\"},\"zerolinecolor\":\"#E1E5ED\"},\"yaxis9\":{\"anchor\":\"x9\",\"domain\":[0.0,0.2866666666666667],\"gridcolor\":\"#E1E5ED\",\"showgrid\":false,\"tickfont\":{\"color\":\"#4D5663\"},\"title\":{\"font\":{\"color\":\"#4D5663\"},\"text\":\"\"},\"zerolinecolor\":\"#E1E5ED\"}},                        {\"showLink\": true, \"linkText\": \"Export to plot.ly\", \"plotlyServerURL\": \"https://plot.ly\", \"responsive\": true}                    ).then(function(){\n",
       "                            \n",
       "var gd = document.getElementById('47d67691-8070-4b28-96d3-fb00b02c8b12');\n",
       "var x = new MutationObserver(function (mutations, observer) {{\n",
       "        var display = window.getComputedStyle(gd).display;\n",
       "        if (!display || display === 'none') {{\n",
       "            console.log([gd, 'removed!']);\n",
       "            Plotly.purge(gd);\n",
       "            observer.disconnect();\n",
       "        }}\n",
       "}});\n",
       "\n",
       "// Listen for the removal of the full notebook cells\n",
       "var notebookContainer = gd.closest('#notebook-container');\n",
       "if (notebookContainer) {{\n",
       "    x.observe(notebookContainer, {childList: true});\n",
       "}}\n",
       "\n",
       "// Listen for the clearing of the current output cell\n",
       "var outputEl = gd.closest('.output');\n",
       "if (outputEl) {{\n",
       "    x.observe(outputEl, {childList: true});\n",
       "}}\n",
       "\n",
       "                        })                };                });            </script>        </div>"
      ]
     },
     "metadata": {},
     "output_type": "display_data"
    }
   ],
   "source": [
    "df.scatter_matrix()"
   ]
  },
  {
   "cell_type": "code",
   "execution_count": null,
   "id": "6057bf4a",
   "metadata": {},
   "outputs": [],
   "source": []
  }
 ],
 "metadata": {
  "kernelspec": {
   "display_name": "Python 3",
   "language": "python",
   "name": "python3"
  },
  "language_info": {
   "codemirror_mode": {
    "name": "ipython",
    "version": 3
   },
   "file_extension": ".py",
   "mimetype": "text/x-python",
   "name": "python",
   "nbconvert_exporter": "python",
   "pygments_lexer": "ipython3",
   "version": "3.8.8"
  }
 },
 "nbformat": 4,
 "nbformat_minor": 5
}
