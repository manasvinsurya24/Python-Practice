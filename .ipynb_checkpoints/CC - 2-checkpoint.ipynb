{
 "cells": [
  {
   "cell_type": "code",
   "execution_count": 4,
   "id": "59a0dd08",
   "metadata": {},
   "outputs": [
    {
     "name": "stdout",
     "output_type": "stream",
     "text": [
      "Even\n"
     ]
    }
   ],
   "source": [
    "n=10\n",
    "if n%2 == 0:\n",
    "    print(\"Even\")\n",
    "else:\n",
    "    print(\"Odd\")"
   ]
  },
  {
   "cell_type": "code",
   "execution_count": 9,
   "id": "a7dee854",
   "metadata": {},
   "outputs": [
    {
     "name": "stdout",
     "output_type": "stream",
     "text": [
      "Helloo\n",
      "Hellooo\n",
      "Helloooo\n",
      "Hellooooo\n",
      "Helloooooo\n",
      "Hellooooooo\n",
      "Helloooooooo\n",
      "Hellooooooooo\n",
      "Helloooooooooo\n"
     ]
    }
   ],
   "source": [
    "for i in range(1,10):\n",
    "    if i == 1:\n",
    "        print('Helloo')\n",
    "    else:\n",
    "        print(\"Hello\"+\"o\"*i)"
   ]
  },
  {
   "cell_type": "code",
   "execution_count": 43,
   "id": "5cdd5618",
   "metadata": {},
   "outputs": [],
   "source": [
    "l_c = [num*3 for num in range(1,20) if num%3 == 0]"
   ]
  },
  {
   "cell_type": "code",
   "execution_count": 44,
   "id": "0df6c834",
   "metadata": {},
   "outputs": [
    {
     "name": "stdout",
     "output_type": "stream",
     "text": [
      "[9, 18, 27, 36, 45, 54]\n"
     ]
    }
   ],
   "source": [
    "print(l_c)"
   ]
  },
  {
   "cell_type": "code",
   "execution_count": 45,
   "id": "304902a5",
   "metadata": {},
   "outputs": [],
   "source": [
    "def func(x):\n",
    "    y = [i**2 for i in range(1,x) if i%2 != 0]\n",
    "    return y"
   ]
  },
  {
   "cell_type": "code",
   "execution_count": 46,
   "id": "e7cd273b",
   "metadata": {},
   "outputs": [
    {
     "data": {
      "text/plain": [
       "[1, 9, 25, 49, 81, 121, 169, 225, 289, 361]"
      ]
     },
     "execution_count": 46,
     "metadata": {},
     "output_type": "execute_result"
    }
   ],
   "source": [
    "sq_of_odds = func(20)\n",
    "sq_of_odds"
   ]
  },
  {
   "cell_type": "code",
   "execution_count": 47,
   "id": "c7aa42df",
   "metadata": {},
   "outputs": [
    {
     "data": {
      "text/plain": [
       "[[1, 9, 25, 49],\n",
       " [1, 9, 25, 49, 81, 121, 169, 225, 289],\n",
       " [1, 9, 25, 49, 81, 121, 169, 225, 289, 361, 441, 529, 625],\n",
       " [1,\n",
       "  9,\n",
       "  25,\n",
       "  49,\n",
       "  81,\n",
       "  121,\n",
       "  169,\n",
       "  225,\n",
       "  289,\n",
       "  361,\n",
       "  441,\n",
       "  529,\n",
       "  625,\n",
       "  729,\n",
       "  841,\n",
       "  961,\n",
       "  1089,\n",
       "  1225],\n",
       " [1,\n",
       "  9,\n",
       "  25,\n",
       "  49,\n",
       "  81,\n",
       "  121,\n",
       "  169,\n",
       "  225,\n",
       "  289,\n",
       "  361,\n",
       "  441,\n",
       "  529,\n",
       "  625,\n",
       "  729,\n",
       "  841,\n",
       "  961,\n",
       "  1089,\n",
       "  1225,\n",
       "  1369,\n",
       "  1521,\n",
       "  1681,\n",
       "  1849],\n",
       " [1,\n",
       "  9,\n",
       "  25,\n",
       "  49,\n",
       "  81,\n",
       "  121,\n",
       "  169,\n",
       "  225,\n",
       "  289,\n",
       "  361,\n",
       "  441,\n",
       "  529,\n",
       "  625,\n",
       "  729,\n",
       "  841,\n",
       "  961,\n",
       "  1089,\n",
       "  1225,\n",
       "  1369,\n",
       "  1521,\n",
       "  1681,\n",
       "  1849,\n",
       "  2025,\n",
       "  2209,\n",
       "  2401,\n",
       "  2601,\n",
       "  2809]]"
      ]
     },
     "execution_count": 47,
     "metadata": {},
     "output_type": "execute_result"
    }
   ],
   "source": [
    "list(map(func,l_c))"
   ]
  },
  {
   "cell_type": "code",
   "execution_count": 48,
   "id": "10445bce",
   "metadata": {},
   "outputs": [],
   "source": [
    "sq = lambda i:i**2"
   ]
  },
  {
   "cell_type": "code",
   "execution_count": 49,
   "id": "837e2a57",
   "metadata": {},
   "outputs": [
    {
     "data": {
      "text/plain": [
       "100"
      ]
     },
     "execution_count": 49,
     "metadata": {},
     "output_type": "execute_result"
    }
   ],
   "source": [
    "sq(10)"
   ]
  },
  {
   "cell_type": "code",
   "execution_count": 50,
   "id": "7555292a",
   "metadata": {},
   "outputs": [
    {
     "data": {
      "text/plain": [
       "[9, 27, 45]"
      ]
     },
     "execution_count": 50,
     "metadata": {},
     "output_type": "execute_result"
    }
   ],
   "source": [
    "list(filter(lambda i: i%2 !=  0,l_c))"
   ]
  },
  {
   "cell_type": "code",
   "execution_count": null,
   "id": "6a15200d",
   "metadata": {},
   "outputs": [],
   "source": []
  }
 ],
 "metadata": {
  "kernelspec": {
   "display_name": "Python 3",
   "language": "python",
   "name": "python3"
  },
  "language_info": {
   "codemirror_mode": {
    "name": "ipython",
    "version": 3
   },
   "file_extension": ".py",
   "mimetype": "text/x-python",
   "name": "python",
   "nbconvert_exporter": "python",
   "pygments_lexer": "ipython3",
   "version": "3.8.8"
  }
 },
 "nbformat": 4,
 "nbformat_minor": 5
}
