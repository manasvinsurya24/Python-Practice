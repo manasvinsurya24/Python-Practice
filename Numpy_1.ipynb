{
 "cells": [
  {
   "cell_type": "code",
   "execution_count": 2,
   "id": "82271765",
   "metadata": {},
   "outputs": [],
   "source": [
    "import numpy as np"
   ]
  },
  {
   "cell_type": "code",
   "execution_count": 3,
   "id": "230ff34d",
   "metadata": {},
   "outputs": [
    {
     "data": {
      "text/plain": [
       "array([1, 2, 3, 4, 5])"
      ]
     },
     "execution_count": 3,
     "metadata": {},
     "output_type": "execute_result"
    }
   ],
   "source": [
    "list = [1,2,3,4,5]\n",
    "np.array(list)"
   ]
  },
  {
   "cell_type": "code",
   "execution_count": 4,
   "id": "372cedac",
   "metadata": {},
   "outputs": [],
   "source": [
    "two_d = [[1,2,3],[4,5,6],[7,8,9]]\n",
    "matrix = np.array(two_d)"
   ]
  },
  {
   "cell_type": "code",
   "execution_count": 5,
   "id": "b6e8d659",
   "metadata": {},
   "outputs": [
    {
     "data": {
      "text/plain": [
       "array([[1, 2, 3],\n",
       "       [4, 5, 6],\n",
       "       [7, 8, 9]])"
      ]
     },
     "execution_count": 5,
     "metadata": {},
     "output_type": "execute_result"
    }
   ],
   "source": [
    "matrix"
   ]
  },
  {
   "cell_type": "code",
   "execution_count": 6,
   "id": "d589f8bd",
   "metadata": {},
   "outputs": [
    {
     "data": {
      "text/plain": [
       "array([ 0,  3,  6,  9, 12, 15, 18, 21, 24, 27, 30])"
      ]
     },
     "execution_count": 6,
     "metadata": {},
     "output_type": "execute_result"
    }
   ],
   "source": [
    "np.arange(0,31,3)"
   ]
  },
  {
   "cell_type": "code",
   "execution_count": 7,
   "id": "4bb57332",
   "metadata": {},
   "outputs": [],
   "source": [
    "zero_mat = np.zeros((3,3))"
   ]
  },
  {
   "cell_type": "code",
   "execution_count": 8,
   "id": "387ec791",
   "metadata": {},
   "outputs": [
    {
     "data": {
      "text/plain": [
       "array([[0., 0., 0.],\n",
       "       [0., 0., 0.],\n",
       "       [0., 0., 0.]])"
      ]
     },
     "execution_count": 8,
     "metadata": {},
     "output_type": "execute_result"
    }
   ],
   "source": [
    "zero_mat"
   ]
  },
  {
   "cell_type": "code",
   "execution_count": 9,
   "id": "5a813587",
   "metadata": {},
   "outputs": [
    {
     "data": {
      "text/plain": [
       "array([[1., 1., 1.],\n",
       "       [1., 1., 1.],\n",
       "       [1., 1., 1.]])"
      ]
     },
     "execution_count": 9,
     "metadata": {},
     "output_type": "execute_result"
    }
   ],
   "source": [
    "ones_mat = np.ones((3,3))\n",
    "ones_mat"
   ]
  },
  {
   "cell_type": "code",
   "execution_count": 13,
   "id": "bbfb8525",
   "metadata": {},
   "outputs": [
    {
     "data": {
      "text/plain": [
       "array([[0.   , 0.125, 0.25 ],\n",
       "       [0.375, 0.5  , 0.625],\n",
       "       [0.75 , 0.875, 1.   ]])"
      ]
     },
     "execution_count": 13,
     "metadata": {},
     "output_type": "execute_result"
    }
   ],
   "source": [
    "np.linspace(0,1,9).reshape(3,3)"
   ]
  },
  {
   "cell_type": "code",
   "execution_count": 10,
   "id": "ba960b0f",
   "metadata": {},
   "outputs": [
    {
     "data": {
      "text/plain": [
       "array([[1., 0., 0.],\n",
       "       [0., 1., 0.],\n",
       "       [0., 0., 1.]])"
      ]
     },
     "execution_count": 10,
     "metadata": {},
     "output_type": "execute_result"
    }
   ],
   "source": [
    "np.eye(3)"
   ]
  },
  {
   "cell_type": "code",
   "execution_count": 11,
   "id": "92e3779d",
   "metadata": {},
   "outputs": [
    {
     "data": {
      "text/plain": [
       "array([[0.6499789 , 0.51870194, 0.90357087],\n",
       "       [0.38414715, 0.745043  , 0.93923592],\n",
       "       [0.53666727, 0.22184348, 0.58061443]])"
      ]
     },
     "execution_count": 11,
     "metadata": {},
     "output_type": "execute_result"
    }
   ],
   "source": [
    "np.random.rand(3,3)"
   ]
  },
  {
   "cell_type": "code",
   "execution_count": 12,
   "id": "89a47c26",
   "metadata": {},
   "outputs": [
    {
     "data": {
      "text/plain": [
       "array([[30, 72, 20],\n",
       "       [66, 99, 48],\n",
       "       [58, 29, 48]])"
      ]
     },
     "execution_count": 12,
     "metadata": {},
     "output_type": "execute_result"
    }
   ],
   "source": [
    "rand_mat = np.random.randint(1,100,(3,3))\n",
    "rand_mat"
   ]
  },
  {
   "cell_type": "code",
   "execution_count": 13,
   "id": "7856dded",
   "metadata": {},
   "outputs": [
    {
     "data": {
      "text/plain": [
       "array([30, 72, 20, 66, 99, 48, 58, 29, 48])"
      ]
     },
     "execution_count": 13,
     "metadata": {},
     "output_type": "execute_result"
    }
   ],
   "source": [
    "rand_mat.reshape(9)"
   ]
  },
  {
   "cell_type": "code",
   "execution_count": 14,
   "id": "57be7094",
   "metadata": {},
   "outputs": [
    {
     "data": {
      "text/plain": [
       "99"
      ]
     },
     "execution_count": 14,
     "metadata": {},
     "output_type": "execute_result"
    }
   ],
   "source": [
    "rand_mat.max()"
   ]
  },
  {
   "cell_type": "code",
   "execution_count": 15,
   "id": "f7fb8868",
   "metadata": {},
   "outputs": [
    {
     "data": {
      "text/plain": [
       "2"
      ]
     },
     "execution_count": 15,
     "metadata": {},
     "output_type": "execute_result"
    }
   ],
   "source": [
    "rand_mat.argmin()"
   ]
  },
  {
   "cell_type": "raw",
   "id": "272504eb",
   "metadata": {},
   "source": []
  },
  {
   "cell_type": "code",
   "execution_count": 16,
   "id": "b0387fe2",
   "metadata": {},
   "outputs": [],
   "source": [
    "matrix = matrix.reshape(9)"
   ]
  },
  {
   "cell_type": "code",
   "execution_count": 17,
   "id": "b0cf259e",
   "metadata": {},
   "outputs": [
    {
     "data": {
      "text/plain": [
       "(9,)"
      ]
     },
     "execution_count": 17,
     "metadata": {},
     "output_type": "execute_result"
    }
   ],
   "source": [
    "matrix.shape"
   ]
  },
  {
   "cell_type": "markdown",
   "id": "0b23539b",
   "metadata": {},
   "source": []
  },
  {
   "cell_type": "markdown",
   "id": "4b14d351",
   "metadata": {},
   "source": []
  },
  {
   "cell_type": "code",
   "execution_count": 23,
   "id": "b973cb25",
   "metadata": {},
   "outputs": [
    {
     "data": {
      "text/plain": [
       "array([33,  7,  7, 36, 47, 45, 39, 18, 42,  4, 46, 15, 29,  7, 48,  1, 26,\n",
       "       13, 38, 26])"
      ]
     },
     "execution_count": 23,
     "metadata": {},
     "output_type": "execute_result"
    }
   ],
   "source": [
    "arr = np.random.randint(0,50,20)\n",
    "arr"
   ]
  },
  {
   "cell_type": "code",
   "execution_count": 24,
   "id": "4fee72af",
   "metadata": {},
   "outputs": [
    {
     "data": {
      "text/plain": [
       "36"
      ]
     },
     "execution_count": 24,
     "metadata": {},
     "output_type": "execute_result"
    }
   ],
   "source": [
    "arr[3]"
   ]
  },
  {
   "cell_type": "code",
   "execution_count": 25,
   "id": "3babfbbd",
   "metadata": {},
   "outputs": [
    {
     "data": {
      "text/plain": [
       "array([ 7, 36, 47, 45, 39, 18, 42])"
      ]
     },
     "execution_count": 25,
     "metadata": {},
     "output_type": "execute_result"
    }
   ],
   "source": [
    "arr[2:9]"
   ]
  },
  {
   "cell_type": "code",
   "execution_count": 26,
   "id": "e99e82aa",
   "metadata": {},
   "outputs": [
    {
     "data": {
      "text/plain": [
       "array([39, 18, 42,  4, 46, 15, 29,  7, 48,  1, 26, 13, 38, 26])"
      ]
     },
     "execution_count": 26,
     "metadata": {},
     "output_type": "execute_result"
    }
   ],
   "source": [
    "arr[6:]"
   ]
  },
  {
   "cell_type": "code",
   "execution_count": 27,
   "id": "04820017",
   "metadata": {},
   "outputs": [
    {
     "data": {
      "text/plain": [
       "array([33,  7,  9,  9,  9,  9,  9, 18, 42,  4, 46, 15, 29,  7, 48,  1, 26,\n",
       "       13, 38, 26])"
      ]
     },
     "execution_count": 27,
     "metadata": {},
     "output_type": "execute_result"
    }
   ],
   "source": [
    "arr[2:7] = 9\n",
    "arr"
   ]
  },
  {
   "cell_type": "code",
   "execution_count": 31,
   "id": "a3e934ec",
   "metadata": {},
   "outputs": [],
   "source": [
    "slice_arr  = arr[8:10]"
   ]
  },
  {
   "cell_type": "code",
   "execution_count": 33,
   "id": "8d430374",
   "metadata": {},
   "outputs": [
    {
     "data": {
      "text/plain": [
       "array([90, 90])"
      ]
     },
     "execution_count": 33,
     "metadata": {},
     "output_type": "execute_result"
    }
   ],
   "source": [
    "slice_arr[:] = 90\n",
    "slice_arr"
   ]
  },
  {
   "cell_type": "code",
   "execution_count": 34,
   "id": "aca0ebbf",
   "metadata": {},
   "outputs": [
    {
     "data": {
      "text/plain": [
       "array([33,  7,  9,  9,  9,  9,  9, 18, 90, 90, 46, 15, 29,  7, 48,  1, 26,\n",
       "       13, 38, 26])"
      ]
     },
     "execution_count": 34,
     "metadata": {},
     "output_type": "execute_result"
    }
   ],
   "source": [
    "arr"
   ]
  },
  {
   "cell_type": "code",
   "execution_count": null,
   "id": "2198cac7",
   "metadata": {},
   "outputs": [],
   "source": []
  }
 ],
 "metadata": {
  "kernelspec": {
   "display_name": "Python 3",
   "language": "python",
   "name": "python3"
  },
  "language_info": {
   "codemirror_mode": {
    "name": "ipython",
    "version": 3
   },
   "file_extension": ".py",
   "mimetype": "text/x-python",
   "name": "python",
   "nbconvert_exporter": "python",
   "pygments_lexer": "ipython3",
   "version": "3.8.8"
  }
 },
 "nbformat": 4,
 "nbformat_minor": 5
}
