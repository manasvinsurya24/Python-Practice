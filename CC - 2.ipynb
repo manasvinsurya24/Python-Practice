{
 "cells": [
  {
   "cell_type": "code",
   "execution_count": 4,
   "id": "24d936b1",
   "metadata": {},
   "outputs": [
    {
     "name": "stdout",
     "output_type": "stream",
     "text": [
      "Even\n"
     ]
    }
   ],
   "source": [
    "n=10\n",
    "if n%2 == 0:\n",
    "    print(\"Even\")\n",
    "else:\n",
    "    print(\"Odd\")"
   ]
  },
  {
   "cell_type": "code",
   "execution_count": 9,
   "id": "d8bf0a43",
   "metadata": {},
   "outputs": [
    {
     "name": "stdout",
     "output_type": "stream",
     "text": [
      "Helloo\n",
      "Hellooo\n",
      "Helloooo\n",
      "Hellooooo\n",
      "Helloooooo\n",
      "Hellooooooo\n",
      "Helloooooooo\n",
      "Hellooooooooo\n",
      "Helloooooooooo\n"
     ]
    }
   ],
   "source": [
    "for i in range(1,10):\n",
    "    if i == 1:\n",
    "        print('Helloo')\n",
    "    else:\n",
    "        print(\"Hello\"+\"o\"*i)"
   ]
  },
  {
   "cell_type": "code",
   "execution_count": 43,
   "id": "4149c8b7",
   "metadata": {},
   "outputs": [],
   "source": [
    "l_c = [num*3 for num in range(1,20) if num%3 == 0]"
   ]
  },
  {
   "cell_type": "code",
   "execution_count": 44,
   "id": "78a07867",
   "metadata": {},
   "outputs": [
    {
     "name": "stdout",
     "output_type": "stream",
     "text": [
      "[9, 18, 27, 36, 45, 54]\n"
     ]
    }
   ],
   "source": [
    "print(l_c)"
   ]
  },
  {
   "cell_type": "code",
   "execution_count": 45,
   "id": "c03cc312",
   "metadata": {},
   "outputs": [],
   "source": [
    "def func(x):\n",
    "    y = [i**2 for i in range(1,x) if i%2 != 0]\n",
    "    return y"
   ]
  },
  {
   "cell_type": "code",
   "execution_count": 46,
   "id": "f47c68e3",
   "metadata": {},
   "outputs": [
    {
     "data": {
      "text/plain": [
       "[1, 9, 25, 49, 81, 121, 169, 225, 289, 361]"
      ]
     },
     "execution_count": 46,
     "metadata": {},
     "output_type": "execute_result"
    }
   ],
   "source": [
    "sq_of_odds = func(20)\n",
    "sq_of_odds"
   ]
  },
  {
   "cell_type": "code",
   "execution_count": 47,
   "id": "92958e10",
   "metadata": {},
   "outputs": [
    {
     "data": {
      "text/plain": [
       "[[1, 9, 25, 49],\n",
       " [1, 9, 25, 49, 81, 121, 169, 225, 289],\n",
       " [1, 9, 25, 49, 81, 121, 169, 225, 289, 361, 441, 529, 625],\n",
       " [1,\n",
       "  9,\n",
       "  25,\n",
       "  49,\n",
       "  81,\n",
       "  121,\n",
       "  169,\n",
       "  225,\n",
       "  289,\n",
       "  361,\n",
       "  441,\n",
       "  529,\n",
       "  625,\n",
       "  729,\n",
       "  841,\n",
       "  961,\n",
       "  1089,\n",
       "  1225],\n",
       " [1,\n",
       "  9,\n",
       "  25,\n",
       "  49,\n",
       "  81,\n",
       "  121,\n",
       "  169,\n",
       "  225,\n",
       "  289,\n",
       "  361,\n",
       "  441,\n",
       "  529,\n",
       "  625,\n",
       "  729,\n",
       "  841,\n",
       "  961,\n",
       "  1089,\n",
       "  1225,\n",
       "  1369,\n",
       "  1521,\n",
       "  1681,\n",
       "  1849],\n",
       " [1,\n",
       "  9,\n",
       "  25,\n",
       "  49,\n",
       "  81,\n",
       "  121,\n",
       "  169,\n",
       "  225,\n",
       "  289,\n",
       "  361,\n",
       "  441,\n",
       "  529,\n",
       "  625,\n",
       "  729,\n",
       "  841,\n",
       "  961,\n",
       "  1089,\n",
       "  1225,\n",
       "  1369,\n",
       "  1521,\n",
       "  1681,\n",
       "  1849,\n",
       "  2025,\n",
       "  2209,\n",
       "  2401,\n",
       "  2601,\n",
       "  2809]]"
      ]
     },
     "execution_count": 47,
     "metadata": {},
     "output_type": "execute_result"
    }
   ],
   "source": [
    "list(map(func,l_c))"
   ]
  },
  {
   "cell_type": "code",
   "execution_count": 48,
   "id": "fda9f4ab",
   "metadata": {},
   "outputs": [],
   "source": [
    "sq = lambda i:i**2"
   ]
  },
  {
   "cell_type": "code",
   "execution_count": 49,
   "id": "64f8bc87",
   "metadata": {},
   "outputs": [
    {
     "data": {
      "text/plain": [
       "100"
      ]
     },
     "execution_count": 49,
     "metadata": {},
     "output_type": "execute_result"
    }
   ],
   "source": [
    "sq(10)"
   ]
  },
  {
   "cell_type": "code",
   "execution_count": 50,
   "id": "bd6fd491",
   "metadata": {},
   "outputs": [
    {
     "data": {
      "text/plain": [
       "[9, 27, 45]"
      ]
     },
     "execution_count": 50,
     "metadata": {},
     "output_type": "execute_result"
    }
   ],
   "source": [
    "list(filter(lambda i: i%2 !=  0,l_c))"
   ]
  },
  {
   "cell_type": "code",
   "execution_count": 51,
   "id": "c4c7e5b4",
   "metadata": {},
   "outputs": [],
   "source": [
    "s = \"I like me better with myself\""
   ]
  },
  {
   "cell_type": "code",
   "execution_count": 52,
   "id": "df6d3419",
   "metadata": {},
   "outputs": [
    {
     "data": {
      "text/plain": [
       "False"
      ]
     },
     "execution_count": 52,
     "metadata": {},
     "output_type": "execute_result"
    }
   ],
   "source": [
    "s.isupper()"
   ]
  },
  {
   "cell_type": "code",
   "execution_count": 53,
   "id": "4953ddfc",
   "metadata": {},
   "outputs": [
    {
     "data": {
      "text/plain": [
       "'I LIKE ME BETTER WITH MYSELF'"
      ]
     },
     "execution_count": 53,
     "metadata": {},
     "output_type": "execute_result"
    }
   ],
   "source": [
    "s.upper()"
   ]
  },
  {
   "cell_type": "code",
   "execution_count": 58,
   "id": "0166f2cd",
   "metadata": {},
   "outputs": [],
   "source": [
    "list = s.split(\"e\")"
   ]
  },
  {
   "cell_type": "code",
   "execution_count": 59,
   "id": "e17a1ead",
   "metadata": {},
   "outputs": [
    {
     "data": {
      "text/plain": [
       "['I lik', ' m', ' b', 'tt', 'r with mys', 'lf']"
      ]
     },
     "execution_count": 59,
     "metadata": {},
     "output_type": "execute_result"
    }
   ],
   "source": [
    "list"
   ]
  },
  {
   "cell_type": "code",
   "execution_count": 60,
   "id": "b124dafc",
   "metadata": {},
   "outputs": [
    {
     "data": {
      "text/plain": [
       "['I lik', ' m', 'hello', 'tt', 'r with mys', 'lf']"
      ]
     },
     "execution_count": 60,
     "metadata": {},
     "output_type": "execute_result"
    }
   ],
   "source": [
    "list[2] = \"hello\"\n",
    "list"
   ]
  },
  {
   "cell_type": "code",
   "execution_count": 63,
   "id": "5bb0ef9f",
   "metadata": {},
   "outputs": [
    {
     "name": "stdout",
     "output_type": "stream",
     "text": [
      "I lik mhellottr with myslf\n"
     ]
    }
   ],
   "source": [
    "str = \"\"\n",
    "print(str.join(list))"
   ]
  },
  {
   "cell_type": "code",
   "execution_count": 65,
   "id": "73e5456e",
   "metadata": {},
   "outputs": [
    {
     "name": "stdout",
     "output_type": "stream",
     "text": [
      "3\n",
      "5\n",
      "7\n",
      "9\n"
     ]
    }
   ],
   "source": [
    "x = [(1,2),(2,3),(3,4),(4,5)]\n",
    "for (a,b) in x:\n",
    "    print(a+b)"
   ]
  },
  {
   "cell_type": "code",
   "execution_count": null,
   "id": "99869345",
   "metadata": {},
   "outputs": [],
   "source": []
  }
 ],
 "metadata": {
  "kernelspec": {
   "display_name": "Python 3",
   "language": "python",
   "name": "python3"
  },
  "language_info": {
   "codemirror_mode": {
    "name": "ipython",
    "version": 3
   },
   "file_extension": ".py",
   "mimetype": "text/x-python",
   "name": "python",
   "nbconvert_exporter": "python",
   "pygments_lexer": "ipython3",
   "version": "3.8.8"
  }
 },
 "nbformat": 4,
 "nbformat_minor": 5
}
